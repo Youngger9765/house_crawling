{
 "cells": [
  {
   "cell_type": "code",
   "execution_count": 113,
   "metadata": {},
   "outputs": [
    {
     "data": {
      "text/plain": [
       "'/Users/Young/projects/house_crawling'"
      ]
     },
     "execution_count": 113,
     "metadata": {},
     "output_type": "execute_result"
    }
   ],
   "source": [
    "import os\n",
    "os.getcwd()"
   ]
  },
  {
   "cell_type": "code",
   "execution_count": 114,
   "metadata": {},
   "outputs": [
    {
     "name": "stdout",
     "output_type": "stream",
     "text": [
      "Requirement already satisfied: bs4 in /Users/Young/virtualENV/py3env/lib/python3.8/site-packages (0.0.1)\n",
      "Requirement already satisfied: beautifulsoup4 in /Users/Young/virtualENV/py3env/lib/python3.8/site-packages (from bs4) (4.9.3)\n",
      "Requirement already satisfied: soupsieve>1.2 in /Users/Young/virtualENV/py3env/lib/python3.8/site-packages (from beautifulsoup4->bs4) (2.2.1)\n",
      "\u001b[33mWARNING: You are using pip version 21.0.1; however, version 22.0.4 is available.\n",
      "You should consider upgrading via the '/Users/Young/virtualENV/py3env/bin/python -m pip install --upgrade pip' command.\u001b[0m\n",
      "Requirement already satisfied: webdriver_manager in /Users/Young/virtualENV/py3env/lib/python3.8/site-packages (3.3.0)\n",
      "Requirement already satisfied: requests in /Users/Young/virtualENV/py3env/lib/python3.8/site-packages (from webdriver_manager) (2.25.1)\n",
      "Requirement already satisfied: crayons in /Users/Young/virtualENV/py3env/lib/python3.8/site-packages (from webdriver_manager) (0.4.0)\n",
      "Requirement already satisfied: configparser in /Users/Young/virtualENV/py3env/lib/python3.8/site-packages (from webdriver_manager) (5.0.2)\n",
      "Requirement already satisfied: colorama in /Users/Young/virtualENV/py3env/lib/python3.8/site-packages (from crayons->webdriver_manager) (0.4.3)\n",
      "Requirement already satisfied: urllib3<1.27,>=1.21.1 in /Users/Young/virtualENV/py3env/lib/python3.8/site-packages (from requests->webdriver_manager) (1.26.4)\n",
      "Requirement already satisfied: chardet<5,>=3.0.2 in /Users/Young/virtualENV/py3env/lib/python3.8/site-packages (from requests->webdriver_manager) (4.0.0)\n",
      "Requirement already satisfied: certifi>=2017.4.17 in /Users/Young/virtualENV/py3env/lib/python3.8/site-packages (from requests->webdriver_manager) (2020.12.5)\n",
      "Requirement already satisfied: idna<3,>=2.5 in /Users/Young/virtualENV/py3env/lib/python3.8/site-packages (from requests->webdriver_manager) (2.10)\n",
      "\u001b[33mWARNING: You are using pip version 21.0.1; however, version 22.0.4 is available.\n",
      "You should consider upgrading via the '/Users/Young/virtualENV/py3env/bin/python -m pip install --upgrade pip' command.\u001b[0m\n",
      "Requirement already satisfied: selenium in /Users/Young/virtualENV/py3env/lib/python3.8/site-packages (3.141.0)\n",
      "Requirement already satisfied: urllib3 in /Users/Young/virtualENV/py3env/lib/python3.8/site-packages (from selenium) (1.26.4)\n",
      "\u001b[33mWARNING: You are using pip version 21.0.1; however, version 22.0.4 is available.\n",
      "You should consider upgrading via the '/Users/Young/virtualENV/py3env/bin/python -m pip install --upgrade pip' command.\u001b[0m\n",
      "Requirement already satisfied: random_user_agent in /Users/Young/virtualENV/py3env/lib/python3.8/site-packages (1.0.1)\n",
      "\u001b[33mWARNING: You are using pip version 21.0.1; however, version 22.0.4 is available.\n",
      "You should consider upgrading via the '/Users/Young/virtualENV/py3env/bin/python -m pip install --upgrade pip' command.\u001b[0m\n"
     ]
    }
   ],
   "source": [
    "!pip install bs4\n",
    "!pip install webdriver_manager\n",
    "!pip install selenium\n",
    "!pip install random_user_agent"
   ]
  },
  {
   "cell_type": "code",
   "execution_count": 115,
   "metadata": {},
   "outputs": [],
   "source": [
    "from selenium import webdriver\n",
    "import selenium\n",
    "import random_user_agent\n",
    "\n",
    "from selenium.common.exceptions import TimeoutException, WebDriverException\n",
    "from selenium.webdriver.chrome.options import Options\n",
    "from selenium.webdriver.common.by import By\n",
    "from selenium.webdriver.support.ui import WebDriverWait\n",
    "from selenium.webdriver.support import expected_conditions as EC\n",
    "from selenium.webdriver.common.proxy import Proxy, ProxyType \n",
    "\n",
    "from random_user_agent.user_agent import UserAgent\n",
    "from random_user_agent.params import SoftwareName, OperatingSystem\n",
    "\n",
    "from time import sleep\n",
    "from bs4 import BeautifulSoup\n",
    "from webdriver_manager.chrome import ChromeDriverManager\n",
    "import json\n",
    "import re"
   ]
  },
  {
   "cell_type": "code",
   "execution_count": 116,
   "metadata": {},
   "outputs": [
    {
     "name": "stderr",
     "output_type": "stream",
     "text": [
      "[WDM] - ====== WebDriver manager ======\n"
     ]
    },
    {
     "name": "stdout",
     "output_type": "stream",
     "text": [
      "\n",
      "\n"
     ]
    },
    {
     "name": "stderr",
     "output_type": "stream",
     "text": [
      "[WDM] - Current google-chrome version is 99.0.4844\n",
      "[WDM] - Get LATEST driver version for 99.0.4844\n",
      "[WDM] - Driver [/Users/Young/.wdm/drivers/chromedriver/mac64/99.0.4844.51/chromedriver] found in cache\n"
     ]
    }
   ],
   "source": [
    "user_agent = 'Mozilla/5.0 (X11; Linux x86_64) AppleWebKit/537.36 (KHTML, like Gecko) Chrome/60.0.3112.50 Safari/537.36'\n",
    "\n",
    "chrome_options = Options()\n",
    "chrome_options.add_argument('--incognito')\n",
    "# chrome_options.add_argument('headless')\n",
    "chrome_options.add_argument('--no-sandbox')\n",
    "chrome_options.add_argument('--window-size=1420,1080')\n",
    "chrome_options.add_argument(\"--disable-gpu\")\n",
    "chrome_options.add_argument(' — disable-dev-shm-usage')\n",
    "\n",
    "from webdriver_manager.utils import ChromeType\n",
    "browser = webdriver.Chrome(ChromeDriverManager(chrome_type=ChromeType.GOOGLE).install(), options=chrome_options)\n"
   ]
  },
  {
   "cell_type": "code",
   "execution_count": 117,
   "metadata": {},
   "outputs": [],
   "source": [
    "# fetch_data\n",
    "url = \"https://www.facebook.com\"\n",
    "browser.get(url)\n",
    "\n",
    "# ------ 登入的帳號與密碼 ------\n",
    "username = 'young.tsai.9765@gmail.com'\n",
    "password = 'babamama2022'\n",
    "\n",
    "# ------ 輸入賬號密碼 ------\n",
    "WebDriverWait(browser, 30).until(EC.presence_of_element_located((By.XPATH, '//*[@id=\"email\"]')))\n",
    "elem = browser.find_element_by_id(\"email\")\n",
    "elem.send_keys(username)\n",
    "sleep(3)\n",
    "\n",
    "elem = browser.find_element_by_id(\"pass\")\n",
    "elem.send_keys(password)        \n",
    "sleep(3)\n",
    "\n",
    "\n",
    "elem = browser.find_element_by_xpath('//button[@name=\"login\"]')\n",
    "elem.click()\n",
    "sleep(5)\n",
    "\n"
   ]
  },
  {
   "cell_type": "code",
   "execution_count": null,
   "metadata": {},
   "outputs": [],
   "source": []
  },
  {
   "cell_type": "code",
   "execution_count": 146,
   "metadata": {},
   "outputs": [
    {
     "name": "stdout",
     "output_type": "stream",
     "text": [
      "===fetch:https://www.facebook.com/groups/282765775497282 done===\n"
     ]
    }
   ],
   "source": [
    "url = \"https://www.facebook.com/groups/282765775497282\"\n",
    "browser.get(url)\n",
    "sleep(10)\n",
    "\n",
    "# scroll down\n",
    "for i in range(2):\n",
    "    browser.execute_script(\"window.scrollTo(0, document.body.scrollHeight);\")\n",
    "    sleep(5)\n",
    "\n",
    "data_soup = BeautifulSoup(browser.page_source, 'html.parser')\n",
    "print(f\"===fetch:{url} done===\")"
   ]
  },
  {
   "cell_type": "code",
   "execution_count": 147,
   "metadata": {},
   "outputs": [
    {
     "name": "stdout",
     "output_type": "stream",
     "text": [
      "no title\n",
      "no title\n",
      "no title\n",
      "no title\n",
      "no title\n",
      "no title\n",
      "no title\n",
      "no title\n",
      "no title\n",
      "no title\n",
      "no title\n",
      "no title\n",
      "no title\n",
      "no title\n",
      "no title\n",
      "no title\n",
      "no title\n",
      "no title\n",
      "no title\n"
     ]
    },
    {
     "data": {
      "text/plain": [
       "[{'post_group_name': '童伴 - Playgroup 親子共學共玩',\n",
       "  'post_link': 'https://www.facebook.com/groups/playgrouptaiwan/posts/1407550033018845',\n",
       "  'post_time': '3月10日下午10:03',\n",
       "  'title': '105則留言',\n",
       "  'sub_title': '',\n",
       "  'content': ' 2-9Y/ 外師全美語校外教學/ 台北戶外課/ $750兩人同行每人折$100.3月＋4月校外教學主題，每個週末週週開團： 汪汪隊立大功-拯救古薇市長的咕咕雞 屁屁偵探-尋找消失的彩虹鑽石 木柵動物園-非洲動物區/兒童動物區/澳洲+沙漠動物區 波力POLI-小小警察救援出動！ 神奇寶貝尋寶-戶外探索 郵政博物館-我是小小郵差 恐龍博物館-尋找消失的恐龍 新店IKEA-認識居家空間.【汪汪隊立大功/ 全美語/ 救援任務/ 即刻出動】 天啊～古薇市長的咕咕雞不見了，誰可以幫忙尋找呢？沒有困難的工作，只有勇敢的狗狗！只要你遇上麻煩，就大聲呼救！阿奇、天天、灰灰趕快出動，冒險灣的安全由我們來守護！老師特別規劃了最新救援任務課程，一邊思考一邊玩遊戲，讓每個孩子都能成為最棒的汪汪隊員，一起立大功！.【屁屁偵探推理課/ 全美語/ 解謎推理/ 燒腦好玩】抱歉，容我失禮了！嗯哼一聲，噗噗二下，屁屁風潮席捲全球，老師特別規劃了最新解謎推理課程，一邊思考一邊玩遊戲，讓每個孩子都能成為最聰明的屁屁偵探，完美…… 顯示更多',\n",
       "  'img_link': 'https://static.xx.fbcdn.net/images/emoji.php/v9/t5e/1/16/1f63c.png'},\n",
       " {'post_group_name': '童伴 - Playgroup 親子共學共玩',\n",
       "  'post_link': 'https://www.facebook.com/groups/playgrouptaiwan/posts/1398977177209464',\n",
       "  'post_time': '2月24日下午10:16',\n",
       "  'title': '131則留言',\n",
       "  'sub_title': '',\n",
       "  'content': ' 2-7Y/ 外師全美語英文課/ 外師烘焙課/ 台北\\x08市/ 平日假日/ 正式$420起地點：大安教室/ 北車中山教室/ 中正紀念堂教室. 生活情境會話半日班 (3.5Y-6Y，獨立上課) 主題繪本遊戲班 (2-7Y無基礎可，分齡分班)…… 顯示更多',\n",
       "  'img_link': 'https://static.xx.fbcdn.net/images/emoji.php/v9/t2d/1/16/1f4cd.png'},\n",
       " {'post_group_name': '童伴 - Playgroup 親子共學共玩',\n",
       "  'post_link': 'https://www.facebook.com/groups/playgrouptaiwan/posts/1413298629110652',\n",
       "  'post_time': '3小時',\n",
       "  'title': '3則留言',\n",
       "  'sub_title': '',\n",
       "  'content': ' 歡迎試上雙北市幼兒棒球聯盟歡迎4-8歲小朋友來打球中和  永和 三重  新莊  都有球隊歡迎體驗#快樂打球顯示更多',\n",
       "  'img_link': 'https://scontent.ftpe12-1.fna.fbcdn.net/v/t39.30808-6/276009764_5250064655015525_6201295275115843388_n.jpg?stp=dst-jpg_p526x296&_nc_cat=108&ccb=1-5&_nc_sid=5cd70e&_nc_ohc=NINhExgsEyQAX9CKpvT&_nc_ht=scontent.ftpe12-1.fna&oh=00_AT-BS85sCyOaCXzYR-9yrfemTN0L7ZDuksTH0gUiuI2UHg&oe=623C3B1C'},\n",
       " {'post_group_name': '童伴 - Playgroup 親子共學共玩',\n",
       "  'post_link': 'https://www.facebook.com/groups/playgrouptaiwan/posts/1414446202329228',\n",
       "  'post_time': '3小時',\n",
       "  'title': '9則留言',\n",
       "  'sub_title': '',\n",
       "  'content': ' #1.5~2.5親子 #台北中山站 #週間 #成長五力發展 .奔放、富有自我主見的孩子，由於好奇心使然，常無意間挑戰課程的規範。這天，教室內主題是火車，教室內增加了車站與平交道的佈置。新鮮感使然，孩子不斷想越過平交道，在老師不放棄耐心地一次又一次的分享交通規則，孩子漸漸認同平交道放下，行人必須要停下腳步的邏輯。.「但是老師，我現在是火車，所以我可以動喔！」顯示更多',\n",
       "  'img_link': 'https://scontent.ftpe12-1.fna.fbcdn.net/v/t39.30808-6/275903724_10166038871370103_3887053476028479256_n.jpg?stp=dst-jpg_p526x395&_nc_cat=103&ccb=1-5&_nc_sid=5cd70e&_nc_ohc=zMx_uq4sUzgAX8Gk_yK&_nc_ht=scontent.ftpe12-1.fna&oh=00_AT-FLCUxQIsVVMYGRrLfSLJYm1Nj4EAzkuqTKYvGh_N0CQ&oe=623CC51E'},\n",
       " {'post_group_name': '童伴 - Playgroup 親子共學共玩',\n",
       "  'post_link': 'https://www.facebook.com/groups/playgrouptaiwan/posts/1409984519442063',\n",
       "  'post_time': '3月13日下午9:24',\n",
       "  'title': '147則留言',\n",
       "  'sub_title': '',\n",
       "  'content': ' #街舞 #積木#滑步車#感統課  #數學#台北新北 #平日假日 #2歲起 【常態課程】大家一起來上課LASY積木假日-體驗192-220…… 顯示更多',\n",
       "  'img_link': 'https://static.xx.fbcdn.net/images/emoji.php/v9/tb4/1/16/2b50.png'},\n",
       " {'post_group_name': '童伴 - Playgroup 親子共學共玩',\n",
       "  'post_link': 'https://www.facebook.com/groups/playgrouptaiwan/posts/1413024765804705',\n",
       "  'post_time': '3小時',\n",
       "  'title': '5則留言',\n",
       "  'sub_title': '',\n",
       "  'content': ' 曾經接住過孩子情緒的時刻、他都放在心底。「媽媽、妳要不要去釋放一下妳的情緒？雖然妳沒有大聲說話、但我感覺到妳很生氣。」「沒事、我們把這幾個字練習好就好。」…… 顯示更多',\n",
       "  'img_link': 'https://static.xx.fbcdn.net/images/emoji.php/v9/tc/1/16/1f466.png'},\n",
       " {'post_group_name': '童伴 - Playgroup 親子共學共玩',\n",
       "  'post_link': 'https://www.facebook.com/groups/playgrouptaiwan/posts/1403778510062664',\n",
       "  'post_time': '3月4日下午10:00',\n",
       "  'title': '45則留言',\n",
       "  'sub_title': '',\n",
       "  'content': ' #揪 #平日 #一歲半到4歲 #幼兒體操 #中和 #景安捷運站步行5分鐘 #動滋券可用讓小寶貝翻滾吧~!!!好玩又有趣的活力幼兒體操很受大家的喜愛~每週一 10:00-11:00顯示更多',\n",
       "  'img_link': 'https://static.xx.fbcdn.net/images/emoji.php/v9/t24/1/16/1f938_200d_2640.png'},\n",
       " {'post_group_name': '童伴 - Playgroup 親子共學共玩',\n",
       "  'post_link': 'https://www.facebook.com/groups/playgrouptaiwan/posts/1413138599126655',\n",
       "  'post_time': '3小時',\n",
       "  'title': '2則留言',\n",
       "  'sub_title': '',\n",
       "  'content': ' #揪 #3至9歲 #中永和 #秀朗橋捷運站 #親子情境繪本活動3、4、5月故事派對 好評再加開!!「忍者」 叮噹媽咪的故事花園…… 顯示更多',\n",
       "  'img_link': 'https://scontent.ftpe12-1.fna.fbcdn.net/v/t39.30808-6/275798273_5639307019416722_3676581689308662776_n.jpg?stp=dst-jpg_p600x600&_nc_cat=106&ccb=1-5&_nc_sid=5cd70e&_nc_ohc=hyLbKe0XEGQAX9Mm2Yf&_nc_ht=scontent.ftpe12-1.fna&oh=00_AT99kWZjsnUQrfsOr2uT8vsSCtr8KjZg6TpO21loX8Gt8Q&oe=623CF4A0'},\n",
       " {'post_group_name': '童伴 - Playgroup 親子共學共玩',\n",
       "  'post_link': 'https://www.facebook.com/groups/playgrouptaiwan/posts/1411754512598397',\n",
       "  'post_time': '4天',\n",
       "  'title': '13則留言',\n",
       "  'sub_title': '',\n",
       "  'content': ' #3Yup #3歲 #假日平日 #萬華區西門 #花草生活 #親子約會 #素養養成  《共享溫馨 (3 Yup)》⚘親子春暖花開花籃⚘ (參照 照片1,2)…… 顯示更多',\n",
       "  'img_link': 'https://static.xx.fbcdn.net/images/emoji.php/v9/tce/1/16/1f469_200d_1f467_200d_1f466.png'},\n",
       " {'post_group_name': '童伴 - Playgroup 親子共學共玩',\n",
       "  'post_link': 'https://www.facebook.com/groups/playgrouptaiwan/posts/1405660946541087',\n",
       "  'post_time': '3月7日下午9:57',\n",
       "  'title': '56則留言',\n",
       "  'sub_title': '',\n",
       "  'content': ' #專注力 #科學課 #作文課 #感統課 #有氧課 #步道課 #昆蟲課 #台北新北 #平日假日 #2歲起 【常態課程】預備起…終於疫情趨緩我們要來上課了…… 顯示更多',\n",
       "  'img_link': 'https://scontent.ftpe12-1.fna.fbcdn.net/v/t39.30808-6/275122054_10209313003297960_1704894484051188407_n.jpg?stp=dst-jpg_p600x600&_nc_cat=108&ccb=1-5&_nc_sid=5cd70e&_nc_ohc=TlnmAWooOEYAX8AyGsG&_nc_ht=scontent.ftpe12-1.fna&oh=00_AT_uGTq268LhslGhvUG6rnbCZL0-ByGga0GJtVUdem5sew&oe=623CB740'},\n",
       " {'post_group_name': '童伴 - Playgroup 親子共學共玩',\n",
       "  'post_link': 'https://www.facebook.com/groups/playgrouptaiwan/posts/1412090132564835',\n",
       "  'post_time': '4天',\n",
       "  'title': '47則留言',\n",
       "  'sub_title': '',\n",
       "  'content': ' 2Y以上/台北捷運可達/農場體驗/食農教育/親近自然的戶外課/北投士林天母課程名稱暖雞中的小蛋農活動地點：隨野家農場 (北投捷運站附近)顯示更多',\n",
       "  'img_link': 'https://static.xx.fbcdn.net/images/emoji.php/v9/tef/1/16/1f414.png'},\n",
       " {'post_group_name': '童伴 - Playgroup 親子共學共玩',\n",
       "  'post_link': 'https://www.facebook.com/groups/playgrouptaiwan/posts/541801906260333',\n",
       "  'post_time': '2018年9月7日',\n",
       "  'title': '2,717則留言',\n",
       "  'sub_title': '',\n",
       "  'content': ' (課程許願區)最近很多家長發想要找XX地方的XX課的文章....所以我設了這個課程許願區...…… 顯示更多',\n",
       "  'img_link': 'https://scontent.ftpe12-2.fna.fbcdn.net/v/t1.6435-9/41250524_10156691274636450_5624099136824410112_n.jpg?stp=dst-jpg_p526x296&_nc_cat=111&ccb=1-5&_nc_sid=825194&_nc_ohc=YpHJvZf-Pz8AX8pJiho&tn=MuaHsAjaQlvDtsCH&_nc_ht=scontent.ftpe12-2.fna&oh=00_AT_XFIkd3psmCxgWpjIQEP61o4C8as8w3076LhSCQmpUnQ&oe=625EABAD'},\n",
       " {'post_group_name': '童伴 - Playgroup 親子共學共玩',\n",
       "  'post_link': 'https://www.facebook.com/groups/playgrouptaiwan/posts/1408400999600415',\n",
       "  'post_time': '3月11日下午10:32',\n",
       "  'title': '27則留言',\n",
       "  'sub_title': '',\n",
       "  'content': ' #4Y以上 #親子共玩 #永和 #週六三個場次 孩子，你們從哪裡來的呢？「我從外太空咻過來」，「我在肚子裡過山洞」，「搭捷運來的」…母親節就要來了，除了好好感謝媽媽之外。孩子們，你們知道自己從哪裡來的嗎？大家知道不是石頭蹦出來的，是從媽媽肚子裡生出來的嗎？但是，怎麼生？從哪裡生？肚子又是怎麼變大的呢？讓我們來一起探索這個神奇的過程。顯示更多',\n",
       "  'img_link': 'https://static.xx.fbcdn.net/images/emoji.php/v9/t6c/1/16/2764.png'},\n",
       " {'post_group_name': '童伴 - Playgroup 親子共學共玩',\n",
       "  'post_link': 'https://www.facebook.com/groups/playgrouptaiwan/posts/1412623055844876',\n",
       "  'post_time': '3天',\n",
       "  'title': '70則留言',\n",
       "  'sub_title': '',\n",
       "  'content': ' 2-6y/單堂美學派對課/中正區/螢光塗鴉/主題課程/單堂報名費用800（一對親子）派對主題美術課程開課囉～飛向外太空（螢光星球大圖彩繪）再次準備出動…… 顯示更多',\n",
       "  'img_link': 'https://scontent.ftpe12-2.fna.fbcdn.net/v/t39.30808-6/275922192_10227466928514530_2526775028165515172_n.jpg?stp=dst-jpg_p180x540&_nc_cat=101&ccb=1-5&_nc_sid=5cd70e&_nc_ohc=LA4ueImlCBoAX923enX&_nc_ht=scontent.ftpe12-2.fna&oh=00_AT-NbioJHRrpU3SKnP-EEmcoZ9h3UZKELzAHrtpVxWubWQ&oe=623BA035'},\n",
       " {'post_group_name': '童伴 - Playgroup 親子共學共玩',\n",
       "  'post_link': 'https://www.facebook.com/groups/playgrouptaiwan/posts/738553826585139',\n",
       "  'post_time': '2019年8月28日',\n",
       "  'title': '(公告)發文規則請看這 私訊版主會去陌生訊息不會看喔!!!看完請簽到~',\n",
       "  'sub_title': '',\n",
       "  'content': ' (公告)發文規則請看這 私訊版主會去陌生訊息不會看喔!!!看完請簽到~實體活動及課程發文開頭請先把以下資訊寫好後再寫其他資訊 不然版主很難審年齡地點(地區)顯示更多',\n",
       "  'img_link': 'https://static.xx.fbcdn.net/images/emoji.php/v9/t74/1/20/2600.png'},\n",
       " {'post_group_name': '童伴 - Playgroup 親子共學共玩',\n",
       "  'post_link': 'https://www.facebook.com/groups/playgrouptaiwan/posts/1414730162300832',\n",
       "  'post_time': '3小時',\n",
       "  'title': '0則留言',\n",
       "  'sub_title': '',\n",
       "  'content': ' 【孩子閱讀的兩階段、三能力】我們都很希望孩子能經由閱讀接觸到很多知識，發展想像和創造力，但事實上，閱讀並不是一件「自然而然」就可以學會的事，更不是隨著年齡增長或只要有上學，就理所當然發展出來的能力。閱讀涉及非常多的能力與技巧，需要長期的努力學習才能達到精熟的境界。一般來說，孩子的閱讀可以分成兩個階段',\n",
       "  'img_link': 'https://external.ftpe12-1.fna.fbcdn.net/safe_image.php?d=AQEmryw6Yjq_bNEs&w=500&h=261&url=https%3A%2F%2Fcp.cw1.tw%2Ffiles%2Fmd5%2Ff0%2F96%2Ff096bf4553ce80eeee245fa4dcb807e0-206843.png&cfs=1&ext=jpg&_nc_oe=6fc65&_nc_sid=06c271&ccb=3-5&_nc_hash=AQH80I1b_DUk9DfP'},\n",
       " {'post_group_name': '童伴 - Playgroup 親子共學共玩',\n",
       "  'post_link': 'https://www.facebook.com/groups/playgrouptaiwan/posts/1414729552300893',\n",
       "  'post_time': '3小時',\n",
       "  'title': '0則留言',\n",
       "  'sub_title': '',\n",
       "  'content': ' 桃園親子公園》水之丘主題公園，三層樓溜滑梯、還有生態景觀池',\n",
       "  'img_link': 'https://external.ftpe12-1.fna.fbcdn.net/safe_image.php?d=AQEPtmQvIaX9oRMT&w=500&h=261&url=https%3A%2F%2Fpic.pimg.tw%2Fmay1215may%2F1647666712-2373397167-g_n.jpg&cfs=1&ext=jpg&_nc_oe=6fc65&_nc_sid=06c271&ccb=3-5&_nc_hash=AQE9dk9PUx1vpXbQ'},\n",
       " {'post_group_name': '童伴 - Playgroup 親子共學共玩',\n",
       "  'post_link': 'https://www.facebook.com/groups/playgrouptaiwan/posts/1414729058967609',\n",
       "  'post_time': '3小時',\n",
       "  'title': '最後結單!!!',\n",
       "  'sub_title': '',\n",
       "  'content': ' 最後結單!!!小小科學家系列 打造寶貝專屬居家實驗室 3-6歲親子共玩 小學以上自己玩一盒一個主題，圍繞該主題會有幾個相關的實驗，讓孩子一邊玩一邊加深對該主題的認識及瞭解，一次入手幾盒藏在家裡，當作生日禮物兒童節禮物各種交換禮物也很合適喔！人體的秘密隱形UV顯示更多',\n",
       "  'img_link': 'https://static.xx.fbcdn.net/images/emoji.php/v9/t3a/1/20/2705.png'},\n",
       " {'post_group_name': '童伴 - Playgroup 親子共學共玩',\n",
       "  'post_link': 'https://www.facebook.com/groups/playgrouptaiwan/posts/1326897674417415',\n",
       "  'post_time': '2021年11月3日',\n",
       "  'title': '10則留言',\n",
       "  'sub_title': '',\n",
       "  'content': ' 板橋車站 #環狀線 #板南線 1-6歲/多元潛能發展/專注力/小小科學家導師皆為專業幼保科系畢業,活動規劃皆為幼兒專家依據幼兒發展設計感覺統合大小肌肉發展專注力發展團體適應生活常規社交能力創意發展聆聽指令提升幼兒多元發展及能力..學齡前時期是關乎孩子未來的關鍵成長期...各項能力發展的奠基就在現在~…… 顯示更多',\n",
       "  'img_link': 'https://static.xx.fbcdn.net/images/emoji.php/v9/tb4/1/16/2b50.png'}]"
      ]
     },
     "execution_count": 147,
     "metadata": {},
     "output_type": "execute_result"
    }
   ],
   "source": [
    "# data_soup\n",
    "posts_group_class_name = \"h1 a\"\n",
    "post_class_name = \".du4w35lb.k4urcfbm.l9j0dhe7.sjgh65i0 .rq0escxv.rq0escxv.l9j0dhe7.du4w35lb.hybvsw6c.io0zqebd.m5lcvass.fbipl8qg.nwvqtn77.k4urcfbm.ni8dbmo4.stjgntxs.sbcfpzgs\"\n",
    "title_class_name = \"h3\"\n",
    "sub_title_class_name = \"h4\"\n",
    "\n",
    "content_class_name_1 = \".dati1w0a.ihqw7lf3.hv4rvrfc.ecm0bbzt\"\n",
    "content_class_name_2 = \".d2edcug0.hpfvmrgz.qv66sw1b.c1et5uql.oi732d6d.ik7dh3pa.ht8s03o8.a8c37x1j.fe6kdd0r.mau55g9w.c8b282yb.keod5gw0.nxhoafnm.aigsh9s9.d9wwppkn.iv3no6db.jq4qci2q.a3bd9o3v.b1v8xokw.oo9gr5id.hzawbc8m\"\n",
    "\n",
    "img_class_name = \"img\"\n",
    "post_a_class_name = \".oajrlxb2.g5ia77u1.qu0x051f.esr5mh6w.e9989ue4.r7d6kgcz.rq0escxv.nhd2j8a9.nc684nl6.p7hjln8o.kvgmc6g5.cxmmr5t8.oygrvhab.hcukyx3x.jb3vyjys.rz4wbd8a.qt6c0cv9.a8nywdso.i1ao9s8h.esuyzwwr.f1sip0of.lzcic4wl.gmql0nx0.gpro0wi8.b1v8xokw\"\n",
    "time_class_name = post_a_class_name + \" span\"\n",
    "\n",
    "post_group_name = data_soup.select_one(posts_group_class_name).text\n",
    "\n",
    "\n",
    "posts = data_soup.select(post_class_name)\n",
    "data_list = []\n",
    "for post in posts:\n",
    "\n",
    "    # post\n",
    "    post_link = post.select_one(post_a_class_name).get(\"href\").split('/?')[0]\n",
    "    post_time = post.select_one(post_a_class_name).get(\"aria-label\")\n",
    "\n",
    "    # title\n",
    "    title = \"\"\n",
    "    sub_title = \"\"\n",
    "    try:\n",
    "        title = post.select_one(title_class_name).text\n",
    "        sub_title = post.select_one(sub_title_class_name).text\n",
    "    except:\n",
    "        print(\"no title\")\n",
    "\n",
    "    # content\n",
    "    content_list = post.select(content_class_name_1)\n",
    "    content = \"\"\n",
    "    for c in content_list: content = content + \" \" + c.text \n",
    "        \n",
    "    if content.strip() == \"\":\n",
    "        content_list = post.select(content_class_name_2)\n",
    "        content = \"\"\n",
    "        for c in content_list: content = content + \" \" + c.text \n",
    "\n",
    "    # img\n",
    "    img_link = post.select_one(img_class_name).get(\"src\")\n",
    "\n",
    "    data = {\n",
    "        \"post_group_name\": post_group_name,\n",
    "        \"post_link\": post_link,\n",
    "        \"post_time\": post_time,\n",
    "        \"title\": title,\n",
    "        \"sub_title\": sub_title,\n",
    "        \"content\": content,\n",
    "        \"img_link\": img_link,\n",
    "    }\n",
    "\n",
    "    data_list.append(data)\n",
    "\n",
    "data_list\n",
    "    "
   ]
  },
  {
   "cell_type": "code",
   "execution_count": 138,
   "metadata": {},
   "outputs": [
    {
     "data": {
      "text/plain": [
       "[]"
      ]
     },
     "execution_count": 138,
     "metadata": {},
     "output_type": "execute_result"
    }
   ],
   "source": [
    "posts[3].select(content_class_name)"
   ]
  },
  {
   "cell_type": "code",
   "execution_count": 112,
   "metadata": {},
   "outputs": [],
   "source": [
    "browser.quit()\n"
   ]
  },
  {
   "cell_type": "code",
   "execution_count": 131,
   "metadata": {},
   "outputs": [
    {
     "data": {
      "text/plain": [
       "['https://buy.yungching.com.tw/house/4291354',\n",
       " 'https://buy.cthouse.com.tw/house/1637213.html',\n",
       " 'https://www.rakuya.com.tw/sell_item/info?ehid=04d3e213291778d',\n",
       " 'https://www.rakuya.com.tw/sell_item/info?ehid=04e216132918229',\n",
       " 'https://www.sinyi.com.tw/buy/house/70810B/?breadcrumb=list',\n",
       " 'https://sale.591.com.tw/home/house/detail/2/10794912.html',\n",
       " 'https://buy.yungching.com.tw/house/5195273',\n",
       " 'https://www.rakuya.com.tw/sell_item/info?ehid=0cd1fd10810319b']"
      ]
     },
     "execution_count": 131,
     "metadata": {},
     "output_type": "execute_result"
    }
   ],
   "source": [
    "ext_url_list"
   ]
  },
  {
   "cell_type": "code",
   "execution_count": 16,
   "metadata": {},
   "outputs": [],
   "source": [
    "browser.quit()\n"
   ]
  },
  {
   "cell_type": "code",
   "execution_count": null,
   "metadata": {},
   "outputs": [],
   "source": []
  },
  {
   "cell_type": "code",
   "execution_count": 49,
   "metadata": {},
   "outputs": [],
   "source": [
    "data = data_soup\n",
    "title = data.find('title').string\n",
    "title\n",
    "\n",
    "items = data.select('#sale-objects-wrap .border-grey-3')\n",
    "sale_items = []\n",
    "for item in items:\n",
    "    floor = item.select_one(\".text-16px\").text\n",
    "    title = item.select_one(\".title-width\").text.replace(\"\\n\",\"\").strip()\n",
    "    link = \"\"\n",
    "    price = item.select(\".items-baseline\")[0].select('span')[0].text.replace(\"\\n\",\"\").strip()\n",
    "    area = item.select(\".items-baseline\")[1].select('span')[0].text.replace(\"\\n\",\"\").strip()\n",
    "\n",
    "    data = {\n",
    "        'floor': floor,\n",
    "        'title': title,\n",
    "        'link': link,\n",
    "        'price': price,\n",
    "        'area': area,\n",
    "    }\n",
    "\n",
    "    sale_items.append(data)\n",
    "    \n",
    "# items"
   ]
  },
  {
   "cell_type": "code",
   "execution_count": 50,
   "metadata": {},
   "outputs": [
    {
     "data": {
      "text/plain": [
       "[{'floor': '9',\n",
       "  'title': '泊樂★稀有高樓面河景',\n",
       "  'link': '',\n",
       "  'price': '1980',\n",
       "  'area': '25.13'},\n",
       " {'floor': '7',\n",
       "  'title': '古亭泊樂崗石７樓',\n",
       "  'link': '',\n",
       "  'price': '1245',\n",
       "  'area': '13.87'},\n",
       " {'floor': '7',\n",
       "  'title': '泊樂7樓小資美宅',\n",
       "  'link': '',\n",
       "  'price': '2288',\n",
       "  'area': '25.45'},\n",
       " {'floor': '7',\n",
       "  'title': '泊樂7樓毛胚屋',\n",
       "  'link': '',\n",
       "  'price': '2588',\n",
       "  'area': '30.05'},\n",
       " {'floor': '4',\n",
       "  'title': '古亭挑高美兩房',\n",
       "  'link': '',\n",
       "  'price': '2118',\n",
       "  'area': '24.05'},\n",
       " {'floor': '3',\n",
       "  'title': '古亭捷運成家優選',\n",
       "  'link': '',\n",
       "  'price': '2488',\n",
       "  'area': '31.99'},\n",
       " {'floor': '1',\n",
       "  'title': '古亭廈門88金店',\n",
       "  'link': '',\n",
       "  'price': '3480',\n",
       "  'area': '31.66'},\n",
       " {'floor': '1',\n",
       "  'title': '中正店面收租首選',\n",
       "  'link': '',\n",
       "  'price': '3480',\n",
       "  'area': '31.66'}]"
      ]
     },
     "execution_count": 50,
     "metadata": {},
     "output_type": "execute_result"
    }
   ],
   "source": [
    "sale_items"
   ]
  },
  {
   "cell_type": "code",
   "execution_count": 50,
   "metadata": {},
   "outputs": [
    {
     "data": {
      "text/plain": [
       "'45.09'"
      ]
     },
     "execution_count": 50,
     "metadata": {},
     "output_type": "execute_result"
    }
   ],
   "source": [
    "items[0].select(\".transaction-info__card__table > div\")[0].select('div span')[0].text"
   ]
  },
  {
   "cell_type": "code",
   "execution_count": 12,
   "metadata": {},
   "outputs": [
    {
     "data": {
      "text/plain": [
       "[]"
      ]
     },
     "execution_count": 12,
     "metadata": {},
     "output_type": "execute_result"
    }
   ],
   "source": [
    "listInfo.findAll(\".vue-list-rent-item .item-style li\")"
   ]
  },
  {
   "cell_type": "code",
   "execution_count": 5,
   "metadata": {},
   "outputs": [
    {
     "ename": "NoSuchWindowException",
     "evalue": "Message: no such window: window was already closed\n  (Session info: chrome=90.0.4430.85)\n",
     "output_type": "error",
     "traceback": [
      "\u001b[0;31m---------------------------------------------------------------------------\u001b[0m",
      "\u001b[0;31mNoSuchWindowException\u001b[0m                     Traceback (most recent call last)",
      "\u001b[0;32m<ipython-input-5-ec286effcd49>\u001b[0m in \u001b[0;36m<module>\u001b[0;34m\u001b[0m\n\u001b[1;32m      2\u001b[0m \u001b[0;34m\u001b[0m\u001b[0m\n\u001b[1;32m      3\u001b[0m \u001b[0murl\u001b[0m \u001b[0;34m=\u001b[0m \u001b[0;34m\"https://rent.591.com.tw/?kind=0&region=1&rentprice=5&shape=2&other=lift,cartplace,cook\"\u001b[0m\u001b[0;34m\u001b[0m\u001b[0;34m\u001b[0m\u001b[0m\n\u001b[0;32m----> 4\u001b[0;31m \u001b[0mbrowser\u001b[0m\u001b[0;34m.\u001b[0m\u001b[0mget\u001b[0m\u001b[0;34m(\u001b[0m\u001b[0murl\u001b[0m\u001b[0;34m)\u001b[0m\u001b[0;34m\u001b[0m\u001b[0;34m\u001b[0m\u001b[0m\n\u001b[0m",
      "\u001b[0;32m~/virtualENV/py3env/lib/python3.8/site-packages/selenium/webdriver/remote/webdriver.py\u001b[0m in \u001b[0;36mget\u001b[0;34m(self, url)\u001b[0m\n\u001b[1;32m    331\u001b[0m         \u001b[0mLoads\u001b[0m \u001b[0ma\u001b[0m \u001b[0mweb\u001b[0m \u001b[0mpage\u001b[0m \u001b[0;32min\u001b[0m \u001b[0mthe\u001b[0m \u001b[0mcurrent\u001b[0m \u001b[0mbrowser\u001b[0m \u001b[0msession\u001b[0m\u001b[0;34m.\u001b[0m\u001b[0;34m\u001b[0m\u001b[0;34m\u001b[0m\u001b[0m\n\u001b[1;32m    332\u001b[0m         \"\"\"\n\u001b[0;32m--> 333\u001b[0;31m         \u001b[0mself\u001b[0m\u001b[0;34m.\u001b[0m\u001b[0mexecute\u001b[0m\u001b[0;34m(\u001b[0m\u001b[0mCommand\u001b[0m\u001b[0;34m.\u001b[0m\u001b[0mGET\u001b[0m\u001b[0;34m,\u001b[0m \u001b[0;34m{\u001b[0m\u001b[0;34m'url'\u001b[0m\u001b[0;34m:\u001b[0m \u001b[0murl\u001b[0m\u001b[0;34m}\u001b[0m\u001b[0;34m)\u001b[0m\u001b[0;34m\u001b[0m\u001b[0;34m\u001b[0m\u001b[0m\n\u001b[0m\u001b[1;32m    334\u001b[0m \u001b[0;34m\u001b[0m\u001b[0m\n\u001b[1;32m    335\u001b[0m     \u001b[0;34m@\u001b[0m\u001b[0mproperty\u001b[0m\u001b[0;34m\u001b[0m\u001b[0;34m\u001b[0m\u001b[0m\n",
      "\u001b[0;32m~/virtualENV/py3env/lib/python3.8/site-packages/selenium/webdriver/remote/webdriver.py\u001b[0m in \u001b[0;36mexecute\u001b[0;34m(self, driver_command, params)\u001b[0m\n\u001b[1;32m    319\u001b[0m         \u001b[0mresponse\u001b[0m \u001b[0;34m=\u001b[0m \u001b[0mself\u001b[0m\u001b[0;34m.\u001b[0m\u001b[0mcommand_executor\u001b[0m\u001b[0;34m.\u001b[0m\u001b[0mexecute\u001b[0m\u001b[0;34m(\u001b[0m\u001b[0mdriver_command\u001b[0m\u001b[0;34m,\u001b[0m \u001b[0mparams\u001b[0m\u001b[0;34m)\u001b[0m\u001b[0;34m\u001b[0m\u001b[0;34m\u001b[0m\u001b[0m\n\u001b[1;32m    320\u001b[0m         \u001b[0;32mif\u001b[0m \u001b[0mresponse\u001b[0m\u001b[0;34m:\u001b[0m\u001b[0;34m\u001b[0m\u001b[0;34m\u001b[0m\u001b[0m\n\u001b[0;32m--> 321\u001b[0;31m             \u001b[0mself\u001b[0m\u001b[0;34m.\u001b[0m\u001b[0merror_handler\u001b[0m\u001b[0;34m.\u001b[0m\u001b[0mcheck_response\u001b[0m\u001b[0;34m(\u001b[0m\u001b[0mresponse\u001b[0m\u001b[0;34m)\u001b[0m\u001b[0;34m\u001b[0m\u001b[0;34m\u001b[0m\u001b[0m\n\u001b[0m\u001b[1;32m    322\u001b[0m             response['value'] = self._unwrap_value(\n\u001b[1;32m    323\u001b[0m                 response.get('value', None))\n",
      "\u001b[0;32m~/virtualENV/py3env/lib/python3.8/site-packages/selenium/webdriver/remote/errorhandler.py\u001b[0m in \u001b[0;36mcheck_response\u001b[0;34m(self, response)\u001b[0m\n\u001b[1;32m    240\u001b[0m                 \u001b[0malert_text\u001b[0m \u001b[0;34m=\u001b[0m \u001b[0mvalue\u001b[0m\u001b[0;34m[\u001b[0m\u001b[0;34m'alert'\u001b[0m\u001b[0;34m]\u001b[0m\u001b[0;34m.\u001b[0m\u001b[0mget\u001b[0m\u001b[0;34m(\u001b[0m\u001b[0;34m'text'\u001b[0m\u001b[0;34m)\u001b[0m\u001b[0;34m\u001b[0m\u001b[0;34m\u001b[0m\u001b[0m\n\u001b[1;32m    241\u001b[0m             \u001b[0;32mraise\u001b[0m \u001b[0mexception_class\u001b[0m\u001b[0;34m(\u001b[0m\u001b[0mmessage\u001b[0m\u001b[0;34m,\u001b[0m \u001b[0mscreen\u001b[0m\u001b[0;34m,\u001b[0m \u001b[0mstacktrace\u001b[0m\u001b[0;34m,\u001b[0m \u001b[0malert_text\u001b[0m\u001b[0;34m)\u001b[0m\u001b[0;34m\u001b[0m\u001b[0;34m\u001b[0m\u001b[0m\n\u001b[0;32m--> 242\u001b[0;31m         \u001b[0;32mraise\u001b[0m \u001b[0mexception_class\u001b[0m\u001b[0;34m(\u001b[0m\u001b[0mmessage\u001b[0m\u001b[0;34m,\u001b[0m \u001b[0mscreen\u001b[0m\u001b[0;34m,\u001b[0m \u001b[0mstacktrace\u001b[0m\u001b[0;34m)\u001b[0m\u001b[0;34m\u001b[0m\u001b[0;34m\u001b[0m\u001b[0m\n\u001b[0m\u001b[1;32m    243\u001b[0m \u001b[0;34m\u001b[0m\u001b[0m\n\u001b[1;32m    244\u001b[0m     \u001b[0;32mdef\u001b[0m \u001b[0m_value_or_default\u001b[0m\u001b[0;34m(\u001b[0m\u001b[0mself\u001b[0m\u001b[0;34m,\u001b[0m \u001b[0mobj\u001b[0m\u001b[0;34m,\u001b[0m \u001b[0mkey\u001b[0m\u001b[0;34m,\u001b[0m \u001b[0mdefault\u001b[0m\u001b[0;34m)\u001b[0m\u001b[0;34m:\u001b[0m\u001b[0;34m\u001b[0m\u001b[0;34m\u001b[0m\u001b[0m\n",
      "\u001b[0;31mNoSuchWindowException\u001b[0m: Message: no such window: window was already closed\n  (Session info: chrome=90.0.4430.85)\n"
     ]
    }
   ],
   "source": [
    "# browser.add_cookie({\"name\": \"foo\", \"value\": \"bar\"})\n",
    "\n",
    "url = \"https://rent.591.com.tw/?kind=0&region=1&rentprice=5&shape=2&other=lift,cartplace,cook\"\n"
   ]
  },
  {
   "cell_type": "code",
   "execution_count": 10,
   "metadata": {},
   "outputs": [
    {
     "name": "stdout",
     "output_type": "stream",
     "text": [
      "===fetch:https://rent.591.com.tw/?kind=0&region=1&rentprice=5&shape=2&other=lift,cartplace,cook===\n",
      "region=1\n",
      "Page loaded\n",
      "Page loaded\n",
      "not the last page\n",
      "not the last page\n",
      "not the last page\n",
      "not the last page\n",
      "not the last page\n",
      "not the last page\n"
     ]
    },
    {
     "ename": "ElementClickInterceptedException",
     "evalue": "Message: element click intercepted: Element <a href=\"javascript:;\" data-first=\"180\" data-total=\"272\" class=\"pageNext\">...</a> is not clickable at point (833, 739). Other element would receive the click: <li class=\"pull-left infoContent\n\n        \n\n        \">...</li>\n  (Session info: chrome=89.0.4389.114)\n",
     "output_type": "error",
     "traceback": [
      "\u001b[0;31m---------------------------------------------------------------------------\u001b[0m",
      "\u001b[0;31mNoSuchElementException\u001b[0m                    Traceback (most recent call last)",
      "\u001b[0;32m<ipython-input-10-b32b219a636d>\u001b[0m in \u001b[0;36m<module>\u001b[0;34m\u001b[0m\n\u001b[1;32m     38\u001b[0m     \u001b[0;32mtry\u001b[0m\u001b[0;34m:\u001b[0m\u001b[0;34m\u001b[0m\u001b[0;34m\u001b[0m\u001b[0m\n\u001b[0;32m---> 39\u001b[0;31m         \u001b[0mbrowser\u001b[0m\u001b[0;34m.\u001b[0m\u001b[0mfind_element_by_css_selector\u001b[0m\u001b[0;34m(\u001b[0m\u001b[0;34m\".pageNext.last\"\u001b[0m\u001b[0;34m)\u001b[0m\u001b[0;34m\u001b[0m\u001b[0;34m\u001b[0m\u001b[0m\n\u001b[0m\u001b[1;32m     40\u001b[0m         \u001b[0mlast_page\u001b[0m \u001b[0;34m=\u001b[0m \u001b[0;32mTrue\u001b[0m\u001b[0;34m\u001b[0m\u001b[0;34m\u001b[0m\u001b[0m\n",
      "\u001b[0;32m~/virtualENV/py3env/lib/python3.8/site-packages/selenium/webdriver/remote/webdriver.py\u001b[0m in \u001b[0;36mfind_element_by_css_selector\u001b[0;34m(self, css_selector)\u001b[0m\n\u001b[1;32m    597\u001b[0m         \"\"\"\n\u001b[0;32m--> 598\u001b[0;31m         \u001b[0;32mreturn\u001b[0m \u001b[0mself\u001b[0m\u001b[0;34m.\u001b[0m\u001b[0mfind_element\u001b[0m\u001b[0;34m(\u001b[0m\u001b[0mby\u001b[0m\u001b[0;34m=\u001b[0m\u001b[0mBy\u001b[0m\u001b[0;34m.\u001b[0m\u001b[0mCSS_SELECTOR\u001b[0m\u001b[0;34m,\u001b[0m \u001b[0mvalue\u001b[0m\u001b[0;34m=\u001b[0m\u001b[0mcss_selector\u001b[0m\u001b[0;34m)\u001b[0m\u001b[0;34m\u001b[0m\u001b[0;34m\u001b[0m\u001b[0m\n\u001b[0m\u001b[1;32m    599\u001b[0m \u001b[0;34m\u001b[0m\u001b[0m\n",
      "\u001b[0;32m~/virtualENV/py3env/lib/python3.8/site-packages/selenium/webdriver/remote/webdriver.py\u001b[0m in \u001b[0;36mfind_element\u001b[0;34m(self, by, value)\u001b[0m\n\u001b[1;32m    975\u001b[0m                 \u001b[0mvalue\u001b[0m \u001b[0;34m=\u001b[0m \u001b[0;34m'[name=\"%s\"]'\u001b[0m \u001b[0;34m%\u001b[0m \u001b[0mvalue\u001b[0m\u001b[0;34m\u001b[0m\u001b[0;34m\u001b[0m\u001b[0m\n\u001b[0;32m--> 976\u001b[0;31m         return self.execute(Command.FIND_ELEMENT, {\n\u001b[0m\u001b[1;32m    977\u001b[0m             \u001b[0;34m'using'\u001b[0m\u001b[0;34m:\u001b[0m \u001b[0mby\u001b[0m\u001b[0;34m,\u001b[0m\u001b[0;34m\u001b[0m\u001b[0;34m\u001b[0m\u001b[0m\n",
      "\u001b[0;32m~/virtualENV/py3env/lib/python3.8/site-packages/selenium/webdriver/remote/webdriver.py\u001b[0m in \u001b[0;36mexecute\u001b[0;34m(self, driver_command, params)\u001b[0m\n\u001b[1;32m    320\u001b[0m         \u001b[0;32mif\u001b[0m \u001b[0mresponse\u001b[0m\u001b[0;34m:\u001b[0m\u001b[0;34m\u001b[0m\u001b[0;34m\u001b[0m\u001b[0m\n\u001b[0;32m--> 321\u001b[0;31m             \u001b[0mself\u001b[0m\u001b[0;34m.\u001b[0m\u001b[0merror_handler\u001b[0m\u001b[0;34m.\u001b[0m\u001b[0mcheck_response\u001b[0m\u001b[0;34m(\u001b[0m\u001b[0mresponse\u001b[0m\u001b[0;34m)\u001b[0m\u001b[0;34m\u001b[0m\u001b[0;34m\u001b[0m\u001b[0m\n\u001b[0m\u001b[1;32m    322\u001b[0m             response['value'] = self._unwrap_value(\n",
      "\u001b[0;32m~/virtualENV/py3env/lib/python3.8/site-packages/selenium/webdriver/remote/errorhandler.py\u001b[0m in \u001b[0;36mcheck_response\u001b[0;34m(self, response)\u001b[0m\n\u001b[1;32m    241\u001b[0m             \u001b[0;32mraise\u001b[0m \u001b[0mexception_class\u001b[0m\u001b[0;34m(\u001b[0m\u001b[0mmessage\u001b[0m\u001b[0;34m,\u001b[0m \u001b[0mscreen\u001b[0m\u001b[0;34m,\u001b[0m \u001b[0mstacktrace\u001b[0m\u001b[0;34m,\u001b[0m \u001b[0malert_text\u001b[0m\u001b[0;34m)\u001b[0m\u001b[0;34m\u001b[0m\u001b[0;34m\u001b[0m\u001b[0m\n\u001b[0;32m--> 242\u001b[0;31m         \u001b[0;32mraise\u001b[0m \u001b[0mexception_class\u001b[0m\u001b[0;34m(\u001b[0m\u001b[0mmessage\u001b[0m\u001b[0;34m,\u001b[0m \u001b[0mscreen\u001b[0m\u001b[0;34m,\u001b[0m \u001b[0mstacktrace\u001b[0m\u001b[0;34m)\u001b[0m\u001b[0;34m\u001b[0m\u001b[0;34m\u001b[0m\u001b[0m\n\u001b[0m\u001b[1;32m    243\u001b[0m \u001b[0;34m\u001b[0m\u001b[0m\n",
      "\u001b[0;31mNoSuchElementException\u001b[0m: Message: no such element: Unable to locate element: {\"method\":\"css selector\",\"selector\":\".pageNext.last\"}\n  (Session info: chrome=89.0.4389.114)\n",
      "\nDuring handling of the above exception, another exception occurred:\n",
      "\u001b[0;31mElementClickInterceptedException\u001b[0m          Traceback (most recent call last)",
      "\u001b[0;32m<ipython-input-10-b32b219a636d>\u001b[0m in \u001b[0;36m<module>\u001b[0;34m\u001b[0m\n\u001b[1;32m     42\u001b[0m     \u001b[0;32mexcept\u001b[0m\u001b[0;34m:\u001b[0m\u001b[0;34m\u001b[0m\u001b[0;34m\u001b[0m\u001b[0m\n\u001b[1;32m     43\u001b[0m         \u001b[0mprint\u001b[0m\u001b[0;34m(\u001b[0m\u001b[0;34m\"not the last page\"\u001b[0m\u001b[0;34m)\u001b[0m\u001b[0;34m\u001b[0m\u001b[0;34m\u001b[0m\u001b[0m\n\u001b[0;32m---> 44\u001b[0;31m         \u001b[0mbrowser\u001b[0m\u001b[0;34m.\u001b[0m\u001b[0mfind_element_by_css_selector\u001b[0m\u001b[0;34m(\u001b[0m\u001b[0;34m\".pageNext\"\u001b[0m\u001b[0;34m)\u001b[0m\u001b[0;34m.\u001b[0m\u001b[0mclick\u001b[0m\u001b[0;34m(\u001b[0m\u001b[0;34m)\u001b[0m\u001b[0;34m\u001b[0m\u001b[0;34m\u001b[0m\u001b[0m\n\u001b[0m\u001b[1;32m     45\u001b[0m         \u001b[0msleep\u001b[0m\u001b[0;34m(\u001b[0m\u001b[0;36m5\u001b[0m\u001b[0;34m)\u001b[0m\u001b[0;34m\u001b[0m\u001b[0;34m\u001b[0m\u001b[0m\n\u001b[1;32m     46\u001b[0m \u001b[0;34m\u001b[0m\u001b[0m\n",
      "\u001b[0;32m~/virtualENV/py3env/lib/python3.8/site-packages/selenium/webdriver/remote/webelement.py\u001b[0m in \u001b[0;36mclick\u001b[0;34m(self)\u001b[0m\n\u001b[1;32m     78\u001b[0m     \u001b[0;32mdef\u001b[0m \u001b[0mclick\u001b[0m\u001b[0;34m(\u001b[0m\u001b[0mself\u001b[0m\u001b[0;34m)\u001b[0m\u001b[0;34m:\u001b[0m\u001b[0;34m\u001b[0m\u001b[0;34m\u001b[0m\u001b[0m\n\u001b[1;32m     79\u001b[0m         \u001b[0;34m\"\"\"Clicks the element.\"\"\"\u001b[0m\u001b[0;34m\u001b[0m\u001b[0;34m\u001b[0m\u001b[0m\n\u001b[0;32m---> 80\u001b[0;31m         \u001b[0mself\u001b[0m\u001b[0;34m.\u001b[0m\u001b[0m_execute\u001b[0m\u001b[0;34m(\u001b[0m\u001b[0mCommand\u001b[0m\u001b[0;34m.\u001b[0m\u001b[0mCLICK_ELEMENT\u001b[0m\u001b[0;34m)\u001b[0m\u001b[0;34m\u001b[0m\u001b[0;34m\u001b[0m\u001b[0m\n\u001b[0m\u001b[1;32m     81\u001b[0m \u001b[0;34m\u001b[0m\u001b[0m\n\u001b[1;32m     82\u001b[0m     \u001b[0;32mdef\u001b[0m \u001b[0msubmit\u001b[0m\u001b[0;34m(\u001b[0m\u001b[0mself\u001b[0m\u001b[0;34m)\u001b[0m\u001b[0;34m:\u001b[0m\u001b[0;34m\u001b[0m\u001b[0;34m\u001b[0m\u001b[0m\n",
      "\u001b[0;32m~/virtualENV/py3env/lib/python3.8/site-packages/selenium/webdriver/remote/webelement.py\u001b[0m in \u001b[0;36m_execute\u001b[0;34m(self, command, params)\u001b[0m\n\u001b[1;32m    631\u001b[0m             \u001b[0mparams\u001b[0m \u001b[0;34m=\u001b[0m \u001b[0;34m{\u001b[0m\u001b[0;34m}\u001b[0m\u001b[0;34m\u001b[0m\u001b[0;34m\u001b[0m\u001b[0m\n\u001b[1;32m    632\u001b[0m         \u001b[0mparams\u001b[0m\u001b[0;34m[\u001b[0m\u001b[0;34m'id'\u001b[0m\u001b[0;34m]\u001b[0m \u001b[0;34m=\u001b[0m \u001b[0mself\u001b[0m\u001b[0;34m.\u001b[0m\u001b[0m_id\u001b[0m\u001b[0;34m\u001b[0m\u001b[0;34m\u001b[0m\u001b[0m\n\u001b[0;32m--> 633\u001b[0;31m         \u001b[0;32mreturn\u001b[0m \u001b[0mself\u001b[0m\u001b[0;34m.\u001b[0m\u001b[0m_parent\u001b[0m\u001b[0;34m.\u001b[0m\u001b[0mexecute\u001b[0m\u001b[0;34m(\u001b[0m\u001b[0mcommand\u001b[0m\u001b[0;34m,\u001b[0m \u001b[0mparams\u001b[0m\u001b[0;34m)\u001b[0m\u001b[0;34m\u001b[0m\u001b[0;34m\u001b[0m\u001b[0m\n\u001b[0m\u001b[1;32m    634\u001b[0m \u001b[0;34m\u001b[0m\u001b[0m\n\u001b[1;32m    635\u001b[0m     \u001b[0;32mdef\u001b[0m \u001b[0mfind_element\u001b[0m\u001b[0;34m(\u001b[0m\u001b[0mself\u001b[0m\u001b[0;34m,\u001b[0m \u001b[0mby\u001b[0m\u001b[0;34m=\u001b[0m\u001b[0mBy\u001b[0m\u001b[0;34m.\u001b[0m\u001b[0mID\u001b[0m\u001b[0;34m,\u001b[0m \u001b[0mvalue\u001b[0m\u001b[0;34m=\u001b[0m\u001b[0;32mNone\u001b[0m\u001b[0;34m)\u001b[0m\u001b[0;34m:\u001b[0m\u001b[0;34m\u001b[0m\u001b[0;34m\u001b[0m\u001b[0m\n",
      "\u001b[0;32m~/virtualENV/py3env/lib/python3.8/site-packages/selenium/webdriver/remote/webdriver.py\u001b[0m in \u001b[0;36mexecute\u001b[0;34m(self, driver_command, params)\u001b[0m\n\u001b[1;32m    319\u001b[0m         \u001b[0mresponse\u001b[0m \u001b[0;34m=\u001b[0m \u001b[0mself\u001b[0m\u001b[0;34m.\u001b[0m\u001b[0mcommand_executor\u001b[0m\u001b[0;34m.\u001b[0m\u001b[0mexecute\u001b[0m\u001b[0;34m(\u001b[0m\u001b[0mdriver_command\u001b[0m\u001b[0;34m,\u001b[0m \u001b[0mparams\u001b[0m\u001b[0;34m)\u001b[0m\u001b[0;34m\u001b[0m\u001b[0;34m\u001b[0m\u001b[0m\n\u001b[1;32m    320\u001b[0m         \u001b[0;32mif\u001b[0m \u001b[0mresponse\u001b[0m\u001b[0;34m:\u001b[0m\u001b[0;34m\u001b[0m\u001b[0;34m\u001b[0m\u001b[0m\n\u001b[0;32m--> 321\u001b[0;31m             \u001b[0mself\u001b[0m\u001b[0;34m.\u001b[0m\u001b[0merror_handler\u001b[0m\u001b[0;34m.\u001b[0m\u001b[0mcheck_response\u001b[0m\u001b[0;34m(\u001b[0m\u001b[0mresponse\u001b[0m\u001b[0;34m)\u001b[0m\u001b[0;34m\u001b[0m\u001b[0;34m\u001b[0m\u001b[0m\n\u001b[0m\u001b[1;32m    322\u001b[0m             response['value'] = self._unwrap_value(\n\u001b[1;32m    323\u001b[0m                 response.get('value', None))\n",
      "\u001b[0;32m~/virtualENV/py3env/lib/python3.8/site-packages/selenium/webdriver/remote/errorhandler.py\u001b[0m in \u001b[0;36mcheck_response\u001b[0;34m(self, response)\u001b[0m\n\u001b[1;32m    240\u001b[0m                 \u001b[0malert_text\u001b[0m \u001b[0;34m=\u001b[0m \u001b[0mvalue\u001b[0m\u001b[0;34m[\u001b[0m\u001b[0;34m'alert'\u001b[0m\u001b[0;34m]\u001b[0m\u001b[0;34m.\u001b[0m\u001b[0mget\u001b[0m\u001b[0;34m(\u001b[0m\u001b[0;34m'text'\u001b[0m\u001b[0;34m)\u001b[0m\u001b[0;34m\u001b[0m\u001b[0;34m\u001b[0m\u001b[0m\n\u001b[1;32m    241\u001b[0m             \u001b[0;32mraise\u001b[0m \u001b[0mexception_class\u001b[0m\u001b[0;34m(\u001b[0m\u001b[0mmessage\u001b[0m\u001b[0;34m,\u001b[0m \u001b[0mscreen\u001b[0m\u001b[0;34m,\u001b[0m \u001b[0mstacktrace\u001b[0m\u001b[0;34m,\u001b[0m \u001b[0malert_text\u001b[0m\u001b[0;34m)\u001b[0m\u001b[0;34m\u001b[0m\u001b[0;34m\u001b[0m\u001b[0m\n\u001b[0;32m--> 242\u001b[0;31m         \u001b[0;32mraise\u001b[0m \u001b[0mexception_class\u001b[0m\u001b[0;34m(\u001b[0m\u001b[0mmessage\u001b[0m\u001b[0;34m,\u001b[0m \u001b[0mscreen\u001b[0m\u001b[0;34m,\u001b[0m \u001b[0mstacktrace\u001b[0m\u001b[0;34m)\u001b[0m\u001b[0;34m\u001b[0m\u001b[0;34m\u001b[0m\u001b[0m\n\u001b[0m\u001b[1;32m    243\u001b[0m \u001b[0;34m\u001b[0m\u001b[0m\n\u001b[1;32m    244\u001b[0m     \u001b[0;32mdef\u001b[0m \u001b[0m_value_or_default\u001b[0m\u001b[0;34m(\u001b[0m\u001b[0mself\u001b[0m\u001b[0;34m,\u001b[0m \u001b[0mobj\u001b[0m\u001b[0;34m,\u001b[0m \u001b[0mkey\u001b[0m\u001b[0;34m,\u001b[0m \u001b[0mdefault\u001b[0m\u001b[0;34m)\u001b[0m\u001b[0;34m:\u001b[0m\u001b[0;34m\u001b[0m\u001b[0;34m\u001b[0m\u001b[0m\n",
      "\u001b[0;31mElementClickInterceptedException\u001b[0m: Message: element click intercepted: Element <a href=\"javascript:;\" data-first=\"180\" data-total=\"272\" class=\"pageNext\">...</a> is not clickable at point (833, 739). Other element would receive the click: <li class=\"pull-left infoContent\n\n        \n\n        \">...</li>\n  (Session info: chrome=89.0.4389.114)\n"
     ]
    }
   ],
   "source": [
    "print(f\"===fetch:{url}===\")\n",
    "\n",
    "pattern = r\".*&region=(\\d).*\"\n",
    "region = re.match(pattern, url).group(1)\n",
    "\n",
    "print(f\"region={region}\")\n",
    "\n",
    "# engine = selenium_engine()\n",
    "# browser = engine.browser\n",
    "browser.get(url)\n",
    "timeout = 3\n",
    "try:\n",
    "    element_present = EC.presence_of_element_located((By.ID, \"area-box-close\"))\n",
    "    WebDriverWait(browser, timeout).until(element_present)\n",
    "    browser.find_element_by_css_selector(f'[data-id=\"{region}\"]').click()\n",
    "except TimeoutException:\n",
    "    print(\"Timed out waiting for page to load\")\n",
    "finally:\n",
    "    print(\"Page loaded\")\n",
    "\n",
    "timeout = 10\n",
    "try:\n",
    "    element_present = EC.presence_of_element_located((By.CLASS_NAME, \"pageBar\"))\n",
    "    WebDriverWait(browser, timeout).until(element_present)\n",
    "except TimeoutException:\n",
    "    print(\"Timed out waiting for page to load\")\n",
    "finally:\n",
    "    print(\"Page loaded\")    \n",
    "\n",
    "sleep(5)    \n",
    "\n",
    "data_soup_list = []\n",
    "last_page = False\n",
    "while last_page is False:\n",
    "    data_soup = BeautifulSoup(browser.page_source, 'html.parser')\n",
    "    data_soup_list.append(data_soup)\n",
    "\n",
    "    try:\n",
    "        browser.find_element_by_css_selector(\".pageNext.last\")\n",
    "        last_page = True\n",
    "        print(\"last page\")\n",
    "    except:\n",
    "        print(\"not the last page\")\n",
    "        browser.find_element_by_css_selector(\".pageNext\").click()\n",
    "        sleep(5)\n",
    "\n",
    "\n",
    "browser.quit()\n",
    "print(f\"===fetch:{url} done===\")"
   ]
  },
  {
   "cell_type": "code",
   "execution_count": null,
   "metadata": {},
   "outputs": [],
   "source": []
  },
  {
   "cell_type": "code",
   "execution_count": 97,
   "metadata": {},
   "outputs": [],
   "source": [
    "class leju_crawler:\n",
    "    def __init__(self):\n",
    "#         software_names = [SoftwareName.CHROME.value]\n",
    "#         operating_systems = [OperatingSystem.WINDOWS.value, OperatingSystem.LINUX.value]\n",
    "#         user_agent_rotator = UserAgent(\n",
    "#             software_names = software_names,\n",
    "#             operating_systems = operating_systems,\n",
    "#             limit = 100\n",
    "#         )\n",
    "\n",
    "#         self.user_agent = user_agent_rotator.get_random_user_agent()\n",
    "#         print(user_agent)\n",
    "\n",
    "        self.user_agent = 'Mozilla/5.0 (X11; Linux x86_64) AppleWebKit/537.36 (KHTML, like Gecko) Chrome/60.0.3112.50 Safari/537.36'\n",
    "\n",
    "        chrome_options = Options()\n",
    "        chrome_options.add_argument('--incognito')\n",
    "        chrome_options.add_argument('headless')\n",
    "        chrome_options.add_argument('--no-sandbox')\n",
    "        chrome_options.add_argument('--window-size=1420,1080')\n",
    "        chrome_options.add_argument(\"--disable-gpu\")\n",
    "        # chrome_options.add_argument(f'user-agent={user_agent}')\n",
    "        # chrome_options.add_experimental_option(\"excludeSwitches\", ['enable-automation'])\n",
    "        # chrome_options.add_argument(\"--disable-blink-features\");\n",
    "        # chrome_options.add_argument(\"--disable-blink-features=AutomationControlled\");\n",
    "        # driver = webdriver.Chrome(options=chrome_options)\n",
    "        executable_path=os.getcwd()+'/chromedriver_6'\n",
    "#         print(executable_path)\n",
    "\n",
    "        self.browser = webdriver.Chrome(executable_path=executable_path, options=chrome_options)\n",
    "    \n",
    "    \n",
    "        \n",
    "    \n",
    "    def fetch_data(self, url):\n",
    "        browser = self.browser\n",
    "        browser.get(url)\n",
    "        sleep(10)\n",
    "        data_soup = BeautifulSoup(browser.page_source, 'html.parser')\n",
    "#         print(data_soup)\n",
    "        browser.quit()\n",
    "        \n",
    "        return data_soup\n",
    "        \n",
    "    def get_title(self, data):\n",
    "        title = data.find('title').string\n",
    "        \n",
    "        return title\n",
    "        \n",
    "    def get_price_info(self, data):\n",
    "        avg_price = data.find('div', class_='avg_house_price_val').text\n",
    "        max_price = data.find('div', class_='max_house_price_val').text\n",
    "        min_price = data.find('div', class_='min_house_price_val').text\n",
    "        this_year_avg_price = data.find('div', class_='avg_date_house_price_val').text\n",
    "        \n",
    "        info = {\n",
    "            'avg_price': avg_price,\n",
    "            'max_price': max_price, \n",
    "            'min_price': min_price,\n",
    "            'this_year_avg_price': this_year_avg_price\n",
    "        }\n",
    "        \n",
    "        return info\n",
    "    \n",
    "    def get_basic_info(self, data):\n",
    "        building_title = data.find('article', class_='building_title').text\n",
    "        households = data.find('article', class_='households').text\n",
    "        house_year = data.find('article', class_='house_year').text\n",
    "        ttotal_floor = data.find('article', class_='ttotal_floor').text\n",
    "        elementary = data.find('article', class_='elementary').text\n",
    "        junior = data.find('article', class_='junior').text\n",
    "        developer1 = data.find('article', class_='developer1').text\n",
    "        \n",
    "        basic_info = {\n",
    "            'building_title': building_title,\n",
    "            'households': households,\n",
    "            'house_year': house_year,\n",
    "            'ttotal_floor': ttotal_floor,\n",
    "            'elementary': elementary,\n",
    "            'junior': junior,\n",
    "            'developer1': developer1,\n",
    "        }\n",
    "        \n",
    "        return basic_info\n",
    "        \n",
    "        \n",
    "    def get_sale_items(self, data):\n",
    "        items = data.find_all('div', class_='sales-item-box')\n",
    "        sale_items = []\n",
    "        for item in items:\n",
    "            floor = item.find('span').text\n",
    "            title = item.find('a').text\n",
    "            link = item.find('a')['href']\n",
    "            price = item.find_all('li')[1].text\n",
    "            area = item.find_all('li')[0].text\n",
    "            \n",
    "            data = {\n",
    "                'floor': floor,\n",
    "                'title': title,\n",
    "                'link': link,\n",
    "                'price': price,\n",
    "                'area': area,\n",
    "            }\n",
    "            \n",
    "            sale_items.append(data)\n",
    "            \n",
    "        return sale_items\n",
    "            \n",
    "        \n",
    "            \n",
    "        \n",
    "    def get_data_json(self, data):\n",
    "        title = self.get_title(data)\n",
    "        price_info = self.get_price_info(data)\n",
    "        basic_info =self.get_basic_info(data)\n",
    "        sale_items = self.get_sale_items(data)\n",
    "        \n",
    "        data_json = {\n",
    "            \"title\": title,\n",
    "            'price_info': price_info,\n",
    "            'basic_info': basic_info,\n",
    "            'sale_items': sale_items\n",
    "        }\n",
    "        \n",
    "        return data_json\n",
    "        \n",
    "        \n",
    "        "
   ]
  },
  {
   "cell_type": "code",
   "execution_count": 106,
   "metadata": {},
   "outputs": [],
   "source": [
    "# import gspread\n",
    "# from oauth2client.service_account import ServiceAccountCredentials\n",
    "# import os\n",
    "\n",
    "\n",
    "# class sheet_worker:\n",
    "#     def get_hash_str(self,data):\n",
    "#         hash_str = abs(hash(data)) % (10 ** 8)\n",
    "#         return hash_str\n",
    "        \n",
    "#     def get_sheet(self, sheet_key):\n",
    "#         scopes = [\"https://spreadsheets.google.com/feeds\"]\n",
    "#         current_path = os.getcwd()\n",
    "#         credentials = ServiceAccountCredentials.from_json_keyfile_name(current_path+\"/cred.json\", scopes)\n",
    "#         gss_client = gspread.authorize(credentials)\n",
    "#         spreadsheet_key_path = sheet_key\n",
    "#         sheet = gss_client.open_by_key(spreadsheet_key_path)\n",
    "#         return sheet\n",
    "    \n",
    "#     def data_to_sheet_value_list(self, data):\n",
    "#         profile = json.loads(data)\n",
    "#         title = profile['title']\n",
    "#         price_info = profile['price_info']\n",
    "#         basic_info = profile['basic_info']\n",
    "\n",
    "#         sale_items = profile['sale_items']\n",
    "#         sheet_value_list = []\n",
    "#         for sale_item in sale_items:\n",
    "#             floor = sale_item['floor']\n",
    "#             sub_title = sale_item['title']\n",
    "#             link = sale_item['link']\n",
    "#             price = sale_item['price']\n",
    "#             area = sale_item['area']\n",
    "\n",
    "#             sheet_value = [\n",
    "#                 str(title),\n",
    "#                 str(price_info),\n",
    "#                 str(basic_info),\n",
    "#                 floor,\n",
    "#                 sub_title,\n",
    "#                 link,\n",
    "#                 price,\n",
    "#                 area\n",
    "#             ]\n",
    "\n",
    "#             sheet_value_str = \"\".join(sheet_value)\n",
    "#             hash_str = self.get_hash_str(sheet_value_str)\n",
    "#             sheet_value.append(hash_str)\n",
    "#             sheet_value_list.append(sheet_value)\n",
    "            \n",
    "#         return sheet_value_list\n",
    "        \n",
    "        \n",
    "#     def run(self, data):\n",
    "#         sheet_key = '15V1XD3p_mD8SSP_TQkY2PwYTM_FjOAXQXD1GuJcrpfI'\n",
    "#         sheet = self.get_sheet(sheet_key)\n",
    "#         sheet_bot = sheet.worksheet('bot')\n",
    "\n",
    "#         profile_list = data['profile']\n",
    "#         for profile in profile_list:\n",
    "#             sheet_value_list = self.data_to_sheet_value_list(profile)\n",
    "#             print(sheet_value_list)\n",
    "        \n",
    "#         sheet_row_cnt = 2\n",
    "#         for sheet_value in sheet_value_list:\n",
    "#             sheet_bot.insert_row(sheet_value, sheet_row_cnt)\n",
    "#             sheet_row_cnt +=1\n",
    "            \n",
    "            \n",
    "            \n",
    "from util.gsheet import gsheet_worker "
   ]
  },
  {
   "cell_type": "code",
   "execution_count": 99,
   "metadata": {},
   "outputs": [
    {
     "name": "stdout",
     "output_type": "stream",
     "text": [
      "{'profile': ['{\"title\": \"麗軒珍寶-7筆交易紀錄，實價登錄平均成交價為52.33萬/坪  \", \"price_info\": {\"avg_price\": \"52.33萬/坪\", \"max_price\": \"56.16萬/坪\", \"min_price\": \"48.96萬/坪\", \"this_year_avg_price\": \"--萬/坪\"}, \"basic_info\": {\"building_title\": \"大同街50巷26號\", \"households\": \"32戶\", \"house_year\": \"19年\", \"ttotal_floor\": \"8\", \"elementary\": \"文聖國小(雙語)\", \"junior\": \"光復國中、江翠國中\", \"developer1\": \"珍寶事業\"}, \"sale_items\": [{\"floor\": \"6樓\", \"title\": \"自售～麗軒珍寶景觀3...\", \"link\": \"https://sale.591.com.tw/home/house/detail/2/8756933.html\", \"price\": \"總價2680萬\", \"area\": \"坪數47坪\"}, {\"floor\": \"2樓\", \"title\": \"江翠捷運珍寶三房\", \"link\": \"https://buy.yungching.com.tw/house/4587875\", \"price\": \"總價2298萬\", \"area\": \"坪數35.61坪\"}]}']}\n"
     ]
    }
   ],
   "source": [
    "url_list = [\n",
    "    \"https://www.leju.com.tw/page_search_result?oid=L37611690f7027\",\n",
    "]\n",
    "body = {'profile':[]}\n",
    "for url in url_list:\n",
    "    crawler = leju_crawler()\n",
    "    data = crawler.fetch_data(url)\n",
    "    data_json = crawler.get_data_json(data)\n",
    "#         data_json = json.loads(data_json)\n",
    "#         data_json = json.dumps(data_json, indent=4, sort_keys=True, ensure_ascii=False).encode('utf8')\n",
    "    data_json = json.dumps(data_json, ensure_ascii=False).encode('utf8')\n",
    "#         print(data_json.decode())\n",
    "    body['profile'].append(data_json.decode())\n",
    "    \n",
    "print(body)"
   ]
  },
  {
   "cell_type": "code",
   "execution_count": 107,
   "metadata": {},
   "outputs": [
    {
     "name": "stdout",
     "output_type": "stream",
     "text": [
      "[['麗軒珍寶-7筆交易紀錄，實價登錄平均成交價為52.33萬/坪  ', \"{'avg_price': '52.33萬/坪', 'max_price': '56.16萬/坪', 'min_price': '48.96萬/坪', 'this_year_avg_price': '--萬/坪'}\", \"{'building_title': '大同街50巷26號', 'households': '32戶', 'house_year': '19年', 'ttotal_floor': '8', 'elementary': '文聖國小(雙語)', 'junior': '光復國中、江翠國中', 'developer1': '珍寶事業'}\", '6樓', '自售～麗軒珍寶景觀3...', 'https://sale.591.com.tw/home/house/detail/2/8756933.html', '總價2680萬', '坪數47坪', 35932627], ['麗軒珍寶-7筆交易紀錄，實價登錄平均成交價為52.33萬/坪  ', \"{'avg_price': '52.33萬/坪', 'max_price': '56.16萬/坪', 'min_price': '48.96萬/坪', 'this_year_avg_price': '--萬/坪'}\", \"{'building_title': '大同街50巷26號', 'households': '32戶', 'house_year': '19年', 'ttotal_floor': '8', 'elementary': '文聖國小(雙語)', 'junior': '光復國中、江翠國中', 'developer1': '珍寶事業'}\", '2樓', '江翠捷運珍寶三房', 'https://buy.yungching.com.tw/house/4587875', '總價2298萬', '坪數35.61坪', 55442021]]\n"
     ]
    }
   ],
   "source": [
    "\n",
    "sht_worker = gsheet_worker()\n",
    "sht_worker.run(body)\n"
   ]
  },
  {
   "cell_type": "code",
   "execution_count": 96,
   "metadata": {},
   "outputs": [],
   "source": [
    "# item = data.find_all('div', class_='sales-item-box')[1]\n",
    "# # print(item)\n",
    "# item.find_all('li')[0].text"
   ]
  },
  {
   "cell_type": "code",
   "execution_count": null,
   "metadata": {},
   "outputs": [],
   "source": []
  },
  {
   "cell_type": "code",
   "execution_count": null,
   "metadata": {},
   "outputs": [],
   "source": []
  }
 ],
 "metadata": {
  "kernelspec": {
   "display_name": "Python 3",
   "language": "python",
   "name": "python3"
  },
  "language_info": {
   "codemirror_mode": {
    "name": "ipython",
    "version": 3
   },
   "file_extension": ".py",
   "mimetype": "text/x-python",
   "name": "python",
   "nbconvert_exporter": "python",
   "pygments_lexer": "ipython3",
   "version": "3.8.2"
  }
 },
 "nbformat": 4,
 "nbformat_minor": 4
}
