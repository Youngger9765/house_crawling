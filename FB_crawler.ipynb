{
 "cells": [
  {
   "cell_type": "code",
   "execution_count": 2,
   "metadata": {},
   "outputs": [
    {
     "data": {
      "text/plain": [
       "'/Users/Young/projects/house_crawling'"
      ]
     },
     "execution_count": 2,
     "metadata": {},
     "output_type": "execute_result"
    }
   ],
   "source": [
    "import os\n",
    "os.getcwd()"
   ]
  },
  {
   "cell_type": "code",
   "execution_count": 3,
   "metadata": {},
   "outputs": [
    {
     "name": "stdout",
     "output_type": "stream",
     "text": [
      "Requirement already satisfied: bs4 in /Users/Young/virtualENV/py3env/lib/python3.8/site-packages (0.0.1)\n",
      "Requirement already satisfied: beautifulsoup4 in /Users/Young/virtualENV/py3env/lib/python3.8/site-packages (from bs4) (4.9.3)\n",
      "Requirement already satisfied: soupsieve>1.2 in /Users/Young/virtualENV/py3env/lib/python3.8/site-packages (from beautifulsoup4->bs4) (2.2.1)\n",
      "\u001b[33mWARNING: You are using pip version 21.0.1; however, version 22.0.4 is available.\n",
      "You should consider upgrading via the '/Users/Young/virtualENV/py3env/bin/python -m pip install --upgrade pip' command.\u001b[0m\n",
      "Requirement already satisfied: webdriver_manager in /Users/Young/virtualENV/py3env/lib/python3.8/site-packages (3.3.0)\n",
      "Requirement already satisfied: requests in /Users/Young/virtualENV/py3env/lib/python3.8/site-packages (from webdriver_manager) (2.25.1)\n",
      "Requirement already satisfied: crayons in /Users/Young/virtualENV/py3env/lib/python3.8/site-packages (from webdriver_manager) (0.4.0)\n",
      "Requirement already satisfied: configparser in /Users/Young/virtualENV/py3env/lib/python3.8/site-packages (from webdriver_manager) (5.0.2)\n",
      "Requirement already satisfied: colorama in /Users/Young/virtualENV/py3env/lib/python3.8/site-packages (from crayons->webdriver_manager) (0.4.3)\n",
      "Requirement already satisfied: chardet<5,>=3.0.2 in /Users/Young/virtualENV/py3env/lib/python3.8/site-packages (from requests->webdriver_manager) (4.0.0)\n",
      "Requirement already satisfied: urllib3<1.27,>=1.21.1 in /Users/Young/virtualENV/py3env/lib/python3.8/site-packages (from requests->webdriver_manager) (1.26.4)\n",
      "Requirement already satisfied: idna<3,>=2.5 in /Users/Young/virtualENV/py3env/lib/python3.8/site-packages (from requests->webdriver_manager) (2.10)\n",
      "Requirement already satisfied: certifi>=2017.4.17 in /Users/Young/virtualENV/py3env/lib/python3.8/site-packages (from requests->webdriver_manager) (2020.12.5)\n",
      "\u001b[33mWARNING: You are using pip version 21.0.1; however, version 22.0.4 is available.\n",
      "You should consider upgrading via the '/Users/Young/virtualENV/py3env/bin/python -m pip install --upgrade pip' command.\u001b[0m\n",
      "Requirement already satisfied: selenium in /Users/Young/virtualENV/py3env/lib/python3.8/site-packages (3.141.0)\n",
      "Requirement already satisfied: urllib3 in /Users/Young/virtualENV/py3env/lib/python3.8/site-packages (from selenium) (1.26.4)\n",
      "\u001b[33mWARNING: You are using pip version 21.0.1; however, version 22.0.4 is available.\n",
      "You should consider upgrading via the '/Users/Young/virtualENV/py3env/bin/python -m pip install --upgrade pip' command.\u001b[0m\n",
      "Requirement already satisfied: random_user_agent in /Users/Young/virtualENV/py3env/lib/python3.8/site-packages (1.0.1)\n",
      "\u001b[33mWARNING: You are using pip version 21.0.1; however, version 22.0.4 is available.\n",
      "You should consider upgrading via the '/Users/Young/virtualENV/py3env/bin/python -m pip install --upgrade pip' command.\u001b[0m\n"
     ]
    }
   ],
   "source": [
    "!pip install bs4\n",
    "!pip install webdriver_manager\n",
    "!pip install selenium\n",
    "!pip install random_user_agent"
   ]
  },
  {
   "cell_type": "code",
   "execution_count": 4,
   "metadata": {},
   "outputs": [],
   "source": [
    "from selenium import webdriver\n",
    "import selenium\n",
    "import random_user_agent\n",
    "\n",
    "from selenium.common.exceptions import TimeoutException, WebDriverException\n",
    "from selenium.webdriver.chrome.options import Options\n",
    "from selenium.webdriver.common.by import By\n",
    "from selenium.webdriver.support.ui import WebDriverWait\n",
    "from selenium.webdriver.support import expected_conditions as EC\n",
    "from selenium.webdriver.common.proxy import Proxy, ProxyType \n",
    "\n",
    "from random_user_agent.user_agent import UserAgent\n",
    "from random_user_agent.params import SoftwareName, OperatingSystem\n",
    "\n",
    "from time import sleep\n",
    "from bs4 import BeautifulSoup\n",
    "from webdriver_manager.chrome import ChromeDriverManager\n",
    "import json\n",
    "import re"
   ]
  },
  {
   "cell_type": "code",
   "execution_count": 110,
   "metadata": {},
   "outputs": [
    {
     "name": "stderr",
     "output_type": "stream",
     "text": [
      "[WDM] - ====== WebDriver manager ======\n"
     ]
    },
    {
     "name": "stdout",
     "output_type": "stream",
     "text": [
      "\n",
      "\n"
     ]
    },
    {
     "name": "stderr",
     "output_type": "stream",
     "text": [
      "[WDM] - Current google-chrome version is 99.0.4844\n",
      "[WDM] - Get LATEST driver version for 99.0.4844\n",
      "[WDM] - Driver [/Users/Young/.wdm/drivers/chromedriver/mac64/99.0.4844.51/chromedriver] found in cache\n"
     ]
    }
   ],
   "source": [
    "user_agent = 'Mozilla/5.0 (X11; Linux x86_64) AppleWebKit/537.36 (KHTML, like Gecko) Chrome/60.0.3112.50 Safari/537.36'\n",
    "\n",
    "chrome_options = Options()\n",
    "chrome_options.add_argument('--incognito')\n",
    "# chrome_options.add_argument('headless')\n",
    "chrome_options.add_argument('--no-sandbox')\n",
    "chrome_options.add_argument('--window-size=1420,1080')\n",
    "chrome_options.add_argument(\"--disable-gpu\")\n",
    "chrome_options.add_argument(' — disable-dev-shm-usage')\n",
    "\n",
    "from webdriver_manager.utils import ChromeType\n",
    "browser = webdriver.Chrome(ChromeDriverManager(chrome_type=ChromeType.GOOGLE).install(), options=chrome_options)\n"
   ]
  },
  {
   "cell_type": "code",
   "execution_count": 111,
   "metadata": {},
   "outputs": [],
   "source": [
    "# fetch_data\n",
    "# url = \"https://www.facebook.com\"\n",
    "# browser.get(url)\n",
    "\n",
    "# # ------ 登入的帳號與密碼 ------\n",
    "# username = 'young.tsai.9765@gmail.com'\n",
    "# password = 'babamama2022'\n",
    "\n",
    "# # ------ 輸入賬號密碼 ------\n",
    "# WebDriverWait(browser, 30).until(EC.presence_of_element_located((By.XPATH, '//*[@id=\"email\"]')))\n",
    "# elem = browser.find_element_by_id(\"email\")\n",
    "# elem.send_keys(username)\n",
    "# sleep(3)\n",
    "\n",
    "# elem = browser.find_element_by_id(\"pass\")\n",
    "# elem.send_keys(password)        \n",
    "# sleep(3)\n",
    "\n",
    "\n",
    "# elem = browser.find_element_by_xpath('//button[@name=\"login\"]')\n",
    "# elem.click()\n",
    "# sleep(5)\n",
    "\n",
    "url = \"https://www.facebook.com/groups/softthinking\"\n",
    "browser.get(url)\n",
    "sleep(10)"
   ]
  },
  {
   "cell_type": "code",
   "execution_count": 107,
   "metadata": {},
   "outputs": [
    {
     "name": "stdout",
     "output_type": "stream",
     "text": [
      "===fetch:https://www.facebook.com/groups/softthinking done===\n"
     ]
    }
   ],
   "source": [
    "# scroll down\n",
    "for i in range(5):\n",
    "    browser.execute_script(\"window.scrollTo(0, document.body.scrollHeight);\")\n",
    "    sleep(5)\n",
    "\n",
    "data_soup = BeautifulSoup(browser.page_source, 'html.parser')\n",
    "print(f\"===fetch:{url} done===\")"
   ]
  },
  {
   "cell_type": "code",
   "execution_count": 108,
   "metadata": {},
   "outputs": [
    {
     "name": "stdout",
     "output_type": "stream",
     "text": [
      "no title\n",
      "no title\n",
      "no title\n",
      "no title\n",
      "no title\n",
      "no title\n",
      "no title\n",
      "no title\n",
      "no title\n",
      "no title\n",
      "no title\n",
      "no title\n",
      "no title\n",
      "no title\n",
      "no title\n"
     ]
    },
    {
     "data": {
      "text/plain": [
       "[{'post_group_name': '軟體設計鮮思維社團',\n",
       "  'post_link': 'https://www.facebook.com/groups/softthinking/posts/1312808775591356/?__cft__[0]=AZWGy3WOO00oNu2qhutipFTBviDkersxO_ajFoka8uQ3_Y6-yp20qYxTIBYA71YHKbbxX0Gk61zZx1eAshhXJmivOO1x2U5HJY_xWQSAl9rcvLB7va9dxnLCHT9OemPWMLZsbOjpQsRZzNpwH__k0M4HuDGq4TjJ0Hk_dT91-9K0SQsdnOFru505OvDwfHEdHprFhDv9wt1BMD5XW_WUtaNq&__tn__=%2CO%2CP-R',\n",
       "  'post_time': '2020年4月21日',\n",
       "  'title': '3則留言',\n",
       "  'sub_title': 'What is Event-Driven Architecture Pattern ?',\n",
       "  'content': ' 課程名稱:     javascript由淺入深http://estucourse.com/tsprodshow.asp?ProdId=TS_5044是一個幫助您系統學習JavaScript編程語言的課程，該課由淺入深的介紹JavaScript的語言特性，結合實際例子解析常見誤區，啟發你的思考，幫助學習者從入門到掌握，提升您的 JavaScript 技能。 …… 顯示更多',\n",
       "  'img_link': 'https://scontent.ftpe11-1.fna.fbcdn.net/v/t1.6435-9/103601073_3139126089486861_1383990248531893957_n.jpg?_nc_cat=107&ccb=1-5&_nc_sid=825194&_nc_ohc=ODKw-_8M6mcAX_oMdYT&_nc_ht=scontent.ftpe11-1.fna&oh=00_AT9h9tIXOs2Q-5Y84625CmwKH2FU8RU7P7AdtPcyq6EhIA&oe=625C83C1'},\n",
       " {'post_group_name': '軟體設計鮮思維社團',\n",
       "  'post_link': 'https://www.facebook.com/groups/softthinking/posts/1817016225170606/?__cft__[0]=AZU1IXjYUUwyxLE6tn686zSoVvI6cXluwLQmhfS5R6SVOBxBm2QqyAbjTFTArcb9L9qIlm-XV0Y3aoejUtYU4VFo1Ao1o7RBO_J8i0X3pYnsZGiW_iSdO8VPo3eGXt6P8EE7hO9eVkpDlrgHtxuL7IsDwQrMzRnTCpv417kndmz-q59Ivb4NU_PwiMLd-n5kY8hF6oaO2ReutYtiIvgch9l06KEemuM3vtaV0WL-1toqE9-M89KJ0NcsxNr3Wt5Z0Hg&__tn__=%2CO%2CP-R',\n",
       "  'post_time': '3月17日下午3:01',\n",
       "  'title': '工研院產業學院 台北與新竹學習中心',\n",
       "  'sub_title': 'What is Event-Driven Architecture Pattern ?',\n",
       "  'content': ' 工研院課程：MongoDB資料庫技術實務上課時間：4/19-4/20，周二三，白天9:30~16:30，共12小時有興趣者歡迎報名參加 對資料庫或MongoDB有興趣的你注意了現在有一門課程報你知【數位同步】MongoDB資料庫技術實務【上課日期】2022-04-19~2022-04-20【課程簡介】…… 顯示更多',\n",
       "  'img_link': 'https://static.xx.fbcdn.net/images/emoji.php/v9/tba/1/16/1f4e3.png'},\n",
       " {'post_group_name': '軟體設計鮮思維社團',\n",
       "  'post_link': 'https://www.facebook.com/groups/softthinking/posts/1812839358921626/?__cft__[0]=AZX-4GERDkND0dMuUP9Po33J1NM_QY6ArO0YCqWLOQubg_pXa72tXKabzQz0f3nrWunLp0T_v9GeHm-8UcFRp5TLOtradyMOXGsbA_pqVcLG9UcDNUnYKc1F9BpQZB-cZa6UxEFyA6s1eutFHccVBiDwDsXSU2rgyqwcRHtCICCI8IuIi4xqczFlxZJPx_LLaA9kJIHTI2s8_01fEPicQzlt&__tn__=%2CO%2CP-R',\n",
       "  'post_time': '3月11日下午2:08',\n",
       "  'title': '架構模式 - Event Driven Pattern',\n",
       "  'sub_title': 'What is Event-Driven Architecture Pattern ?',\n",
       "  'content': ' 架構模式 - Event Driven PatternWhat is Event-Driven Architecture Pattern ?一個事件驅動的架構 (event-driven architecture, EDA) 提升並回應事件。事件生產者 (producer) 觸發事件，這些事件通過事件通道 (event channel) 作為訊息 (message) 到達感興趣的消費者 (consumer)。生產者與異步 (asynchronously) 處理訊息的事件接受者 (event recipients) 是寬鬆耦合 (loosely coupled) 的，或完全解耦合 (decoupled)。參考附圖，一個基本的事件驅動架構由產生事件流 (event stream) 的事件生產者、事件通道 (event channel)，也可稱之為「bus (匯流排)」或「broker (代理者)」和監聽 (listen) 事件的事件消費者所組成。顯示更多',\n",
       "  'img_link': 'https://scontent.ftpe11-1.fna.fbcdn.net/v/t39.30808-6/275390191_4925755044179624_4661909318420659393_n.jpg?stp=dst-jpg_p180x540&_nc_cat=109&ccb=1-5&_nc_sid=5cd70e&_nc_ohc=yrV8XN3O7rcAX9cONyU&_nc_ht=scontent.ftpe11-1.fna&oh=00_AT8pqQBJFmvBtfnXIumZNQ1H1yoH1WDtQw8Q70LR7qrAdg&oe=623AEB06'},\n",
       " {'post_group_name': '軟體設計鮮思維社團',\n",
       "  'post_link': 'https://www.facebook.com/groups/softthinking/posts/1811475949057967/?__cft__[0]=AZVNvXSUJyaKCbKK6QWnKEAxyzWoK8YREKxjt1iL4Cy6j0OQfrJ27yqDAPlIbMCC88hZZ9UA8mn19RH2CDe3YX0ZCZPA3zkV5MKNfOK-sdFU-n5lGGVCY8Zj2SiZyAbdQtLUnc5hRC0P9zHcsGE-azPto3mb_Xv6T2YSzqPM-l-wnC8xqmWgm5wdeV7sZIk6xgnPDGBl3nplLXxjXO4jxagM&__tn__=%2CO%2CP-R',\n",
       "  'post_time': '3月9日下午2:31',\n",
       "  'title': '架構模式 - CQRS Pattern',\n",
       "  'sub_title': 'What is Event-Driven Architecture Pattern ?',\n",
       "  'content': ' 架構模式 - CQRS Pattern「命令和查詢責任隔離 (CQRS, Command and Query Responsibility Segregation」是一種架構模式，它的主要重點是分離資料的讀取與寫入方式。這種模式使用兩個獨立的模型：查詢 (Query)：負責讀取資料。命令 (Command)：負責更新資料。顯示更多',\n",
       "  'img_link': 'https://scontent.ftpe11-2.fna.fbcdn.net/v/t39.30808-6/275530241_4920436164711512_4429014439575596293_n.jpg?stp=dst-jpg_p180x540&_nc_cat=108&ccb=1-5&_nc_sid=5cd70e&_nc_ohc=_ksheybAS3YAX_ZPxpg&_nc_ht=scontent.ftpe11-2.fna&oh=00_AT_RpfTiWosK4FbxUB-fY0IB8eSLKjqzTv1c22fB9lBwPQ&oe=623B336D'},\n",
       " {'post_group_name': '軟體設計鮮思維社團',\n",
       "  'post_link': 'https://www.facebook.com/groups/softthinking/posts/1808109939394568/?__cft__[0]=AZWRsz8Ln9g81TBdsrhvQCPeQ5tPZhFJ1op7b9IOU4ZVShV37e_-QlV8NBoJYUPOFv0ztk8Ucoup5miH-XOgLPMAz6NrSebvHkog-4xOvIijXppcXNF_fCkJ4PzKQq1miZJcSTaLGunzbNKtY6GMPO9UiLcB8SGjKeUV_LdINL08QSYDoeJuClgdvQT7KCTy8-7l1icgA_JBArnQLEFso0r5&__tn__=%2CO%2CP-R',\n",
       "  'post_time': '3月4日下午6:50',\n",
       "  'title': '架構模式 - Tier vs. Layer Pattern - Tier (2/2)',\n",
       "  'sub_title': '展示層 (Presentation tier)',\n",
       "  'content': ' 架構模式 - Tier vs. Layer Pattern - Tier (2/2)參考附圖，每一層 (Tier) 可以再探究更細部的內部組成元素。展示層 (Presentation tier)顯示更多',\n",
       "  'img_link': 'https://scontent.ftpe11-2.fna.fbcdn.net/v/t39.30808-6/275029102_4907553539333108_1840456881199195187_n.jpg?stp=dst-jpg_s960x960&_nc_cat=105&ccb=1-5&_nc_sid=5cd70e&_nc_ohc=7bGidwZH6eIAX-Ec2gd&_nc_ht=scontent.ftpe11-2.fna&oh=00_AT-8pBJtaskQjWdbAqzVlTRJDhrtf3RS-bX6M9SRRE9rFA&oe=6239E64B'},\n",
       " {'post_group_name': '軟體設計鮮思維社團',\n",
       "  'post_link': 'https://www.facebook.com/groups/softthinking/posts/1808079492730946/?__cft__[0]=AZXXGAiYGJctIcp49H-i7k8jgSBlsuiLrtIVzwTQYu4O2CdU-0qhRxqeZCjxdZ44V28hhsu0BaPD8-qXmWuQjgoxlxdlZ-0wEtJHhr3k7wDMP3I13-vYz5wj2YLydywucXIGGmFJ7pb_dXD1LfaH1bgZCQ0M64JFA7ZYjnk4wjLBHGZ1D7BBlXMcX-_1E-iydI5Gv3HffPHhXEiYkWX-DNAA&__tn__=%2CO%2CP-R',\n",
       "  'post_time': '3月4日下午5:31',\n",
       "  'title': '0則留言',\n",
       "  'sub_title': '展示層 (Presentation tier)',\n",
       "  'content': ' Visual FoxPro 程序設計http://estucourse.com/stprodshow.asp?ProdId=SR_7122 數據庫軟件Visual Foxpro的簡稱，又叫VFP。是數據庫管理系統，集成編程語言，是開發小型數據庫的前端工具。Visual FoxPro中的Visual的意思是「可視化」，該技術使得在Windows環境下設計的應用程序達到即看即得的效果。Visual FoxPro面向對象的開發環境使得無論是組織信息、運行、查詢、創建集成的關係型數據庫系統，還是編寫數據庫管理應用程序，都變得十分輕鬆。Visual FoxPro簡稱VFP，是Microsoft公司推出的數據庫開發軟件，用它來開發數據庫，既簡單又方便。Visual FoxPro源於美國Fox Software公司推出的數據庫產品FoxBase，在DOS上運行，與xBase系列相容。FoxPro原來是FoxBase的加強版，最高版本曾出過2.6。之後，Fox Software被微軟收購，加以發展， 使其可以在 Windows 上運行， 並且更名為 Vi…… 顯示更多',\n",
       "  'img_link': 'https://scontent.ftpe11-2.fna.fbcdn.net/v/t39.30808-6/275193568_5053435108055940_3409347611388510755_n.jpg?_nc_cat=105&ccb=1-5&_nc_sid=5cd70e&_nc_ohc=QG_CuiFzuwsAX-2iBLX&_nc_ht=scontent.ftpe11-2.fna&oh=00_AT9zAAhZOmU7RNR7NTRQFX_WXqnPFMK5w680lAk7w8pPUw&oe=623B2384'},\n",
       " {'post_group_name': '軟體設計鮮思維社團',\n",
       "  'post_link': 'https://www.facebook.com/groups/softthinking/posts/1800864203452475/?__cft__[0]=AZVlhvkmpLoxb2hwjq-SjdflCIwoq0uMeezj76SYb4Ajvz1fDLk0byERFEDlxn89vlnelU-hTWmUC0sGM716QJHsdEq3W6e8RWNLcgHdhMe7wh5fYLUz4MHXVPvcH1cS48NTyRJbGTvrW2prZbdID4EfPdzRshZBYwsSpVMH4nou-e7b-SZBSjsPtsYIHzb0wzsQ5NMHm861BEOFKWSqnfF7&__tn__=%2CO%2CP-R',\n",
       "  'post_time': '2月22日下午2:34',\n",
       "  'title': '架構模式 - Tier vs. Layer Pattern - Tier (1/2)',\n",
       "  'sub_title': '展示層 (Presentation tier)',\n",
       "  'content': ' 架構模式 - Tier vs. Layer Pattern - Tier (1/2)參考下圖，係從「Tier」水平的角度把主要分層結構當成元件 (component) 看待，以界定各元件主要的責任 (responsibility)。展示層 (Presentation tier)主要負責收集 (例如從表單) 資料與展現所處理後的資訊 (information)。展示層千萬不要擔任問題領域 (problem domain) 的控制邏輯 (control logic)，以及資料存取 (data access)/業務邏輯 (business logic) 的工作，那會是導致系統僵化難以維護的主因。顯示更多',\n",
       "  'img_link': 'https://scontent.ftpe11-1.fna.fbcdn.net/v/t39.30808-6/274303939_4878569495564846_3241357222281405011_n.jpg?stp=dst-jpg_p180x540&_nc_cat=109&ccb=1-5&_nc_sid=5cd70e&_nc_ohc=EKblaucoJy8AX-_bx8V&_nc_ht=scontent.ftpe11-1.fna&oh=00_AT-nBo9VwpfvIis4Dz0brwF8u77MJt-Ol6OIiHA2JHGtBw&oe=623B5BAA'},\n",
       " {'post_group_name': '軟體設計鮮思維社團',\n",
       "  'post_link': 'https://www.facebook.com/groups/softthinking/posts/1800042070201355/?__cft__[0]=AZVb9WDMAOu4srKVaNeRQpZmMwkT8EOv0hS2dM02jTo4MgJDB-PBnDfcB9CZPnNFKkkEorWNy3CvitlahfzC0xVxdWki58kCV3yu7cUKjIxIeoj9-kgkab_bKJhwATRmOKw9lRssHsv1MFyQnxV_ZYFg9Ws0q65SfBhD3CCbKus768s-jO022Hl9MNYtNe1tSEX4CL0eZY0BhPrh2AfE2naY&__tn__=%2CO%2CP-R',\n",
       "  'post_time': '2月21日上午8:58',\n",
       "  'title': '架構模式 - Tier vs. Layer Pattern - Layer',\n",
       "  'sub_title': '展示層 (Presentation tier)',\n",
       "  'content': ' 架構模式 - Tier vs. Layer Pattern - Layer「Layer」與「Tier」在中文翻譯均被譯為「分層」，這兩個用詞大都被視為是同義詞。不過在軟體架構設計中，可以從水平與垂直的角度來解釋系統的組成方式。「分層架構」可以說是最為被廣泛應用的架構設計模式，它可以協助開發團隊可以作有效的溝通，針對某一特定問題時，得以在廣度與深度中，找到適切的焦點。顯示更多',\n",
       "  'img_link': 'https://scontent.ftpe11-2.fna.fbcdn.net/v/t39.30808-6/273566191_4874856569269472_9082825009375600020_n.jpg?stp=dst-jpg_s640x640&_nc_cat=103&ccb=1-5&_nc_sid=5cd70e&_nc_ohc=8m0I6UrmMFQAX_gtIVH&_nc_ht=scontent.ftpe11-2.fna&oh=00_AT9TinZdSSj6pKeeE1Pwik94Ud5LxXIjJviDC0f6bb7mfQ&oe=623A4FB7'},\n",
       " {'post_group_name': '軟體設計鮮思維社團',\n",
       "  'post_link': 'https://www.facebook.com/groups/softthinking/posts/1381072298765003/?__cft__[0]=AZXF4f0ZWJH7vOoJ4BYXcCaSchx7wcpugIishSSkAocezxPECRvey1jcdh82JI-CIUTXOaBiLreD90IF9oJHBfG-ONtIT1MF-JjC6mYhZkhQ4P4ff0Rkbi5B1Esg2HjV4UFWNvv4gbUnl2-Wp_CS5kVRU99B_3N5KtF1xor0X0FCC29MsJrJz8PBVS9cHWXlmOTyHPdWPCp4TGQCY097zAqt&__tn__=%2CO%2CP-R',\n",
       "  'post_time': '2020年7月18日',\n",
       "  'title': '6則留言',\n",
       "  'sub_title': '展示層 (Presentation tier)',\n",
       "  'content': '  C語言從入門到達人完全攻略    (附教材課件_電子檔)http://estucourse.com/tsprodshow.asp?ProdId=TS_7101C 語言作為計算機編程基礎語言，長期以來是編程愛好者，本教程結合老師多年教學經驗體會，適合初學者，對概念講的比較透徹，講課風格也有點小幽默，由淺入深，選取精華入最佳的C語言入門課程,講解 C 語言的開發環境以及對 C 語言的剖析，引入大量的 C 語言程序案例，把算法和語法結合來，通過引導大家由淺入深地編寫 C 程序，讓大家掌握 C 語言。我們將從中學會 C 語言語法、數組、模塊化程序設計指針、文件的輸入與輸出.......等。C語言是現在應用最廣泛的編程語言之一，可以用來開發應用軟件、驅動、操作系統等，也是其它眾多高級語言的鼻祖語言。C語言是一種通用的高級程序語言，是一種能以簡易的方式編譯、處理低級存儲器、產生少量的機器碼以及不需要任何運行環境支持便能運行的編程語言。它有以下特點：1. 結構化，它層次清晰，便於按模塊化方式組織程序，易於調試和維護；2. 表現能力和處…… 顯示更多',\n",
       "  'img_link': 'https://scontent.ftpe11-2.fna.fbcdn.net/v/t1.6435-9/107871675_282262446535224_4525445985530483759_n.jpg?_nc_cat=105&ccb=1-5&_nc_sid=825194&_nc_ohc=vriZDm9xIY0AX-gh8jB&_nc_ht=scontent.ftpe11-2.fna&oh=00_AT-RDYlbsJj7BqkK7sL3XNlGG2qNe9UieY0hQVJWCSAv1w&oe=625CC216'},\n",
       " {'post_group_name': '軟體設計鮮思維社團',\n",
       "  'post_link': 'https://www.facebook.com/groups/softthinking/posts/1798204483718447/?__cft__[0]=AZXeaJ6ao0FY2LZ7k6YnpXVo5bQLeGGs4brp_B24t2l95EDDDJZpcceRwjEpXW_7uUVKrBaMT_BxiFwqiKcK0jny8Ow0ttHmmzfxIbIdxu4m1kZ_40kgzpvambenqegd9k48xkJztnTb1fBw8Yv-AWnrmtI08V26az7rerOtzlUNAk_TPNADh3FWzc1hJVCwLYJEK3YKuYu4RcQquwcH9zjr&__tn__=%2CO%2CP-R',\n",
       "  'post_time': '2月18日下午5:46',\n",
       "  'title': 'S.O.L.I.D 設計原則 - Dependency Inversion Principle',\n",
       "  'sub_title': '展示層 (Presentation tier)',\n",
       "  'content': ' S.O.L.I.D 設計原則 - Dependency Inversion Principle這一原則提供了一種解耦 (decouple) 軟體組成的方法。簡單地說，相依反轉原則意味著 Developer 應該「依賴抽象 (abstraction)，而不是依賴具體 (concrete) 事物。」Martin 進一步解釋了這一原則，他主張：「高層級 (high level) 的元件不應該依賴低層級的元件。兩者都應該依賴抽象」。此外，「抽象不應該依賴於細節 (details)，細節應該依賴於抽象。」顯示更多',\n",
       "  'img_link': 'https://scontent.ftpe11-1.fna.fbcdn.net/v/t39.30808-6/274209633_4866674576754338_8753978230385951571_n.jpg?stp=dst-jpg_p320x320&_nc_cat=107&ccb=1-5&_nc_sid=5cd70e&_nc_ohc=JvomlCC0T_MAX_jSuHt&_nc_ht=scontent.ftpe11-1.fna&oh=00_AT-DzFe_vWPSkIbyHonxW7tC-g726okRqk3sQX9qTO09Nw&oe=623AC96E'},\n",
       " {'post_group_name': '軟體設計鮮思維社團',\n",
       "  'post_link': 'https://www.facebook.com/groups/softthinking/posts/1797443290461233/?__cft__[0]=AZVkFJTiCnPpZhZIi30QWY5x0kzG5TlV55MZJ3HrPmq94pwW9BCslCPAU9xThza8F17MiBiPvva8Uc5MrQ78jUViNTcPf96tLK1QREkhot9d80vh8cTH2cKm-4h7RHQ19XS2BsJm784a1kImP_gfAjd5LMfv1-NdtdRxgZsOokyTeN5TikyFle0CC4VWTXeG9ZFLqUiGblaY-K1zKPV7W5IQ&__tn__=%2CO%2CP-R',\n",
       "  'post_time': '2月17日',\n",
       "  'title': 'S.O.L.I.D 設計原則 - Interface Segregation Principle',\n",
       "  'sub_title': '展示層 (Presentation tier)',\n",
       "  'content': ' S.O.L.I.D 設計原則 - Interface Segregation Principle介面隔離原則 (interface-segregation principles, ISP) 對其定義為：No client should be forced to depend on methods it does not use. (用戶端 (client) 不應被迫使用對其而言無用的方法或功能。)介面隔離原則的總體思路是：「有很多小的介面比有幾個大的介面要好」。Martin 在解釋這一原則時解釋：「製作細顆粒度 (find-grained) 的介面，這些介面是基於對用戶端的，不應該強迫用戶端實現它們不使用的介面。」顯示更多',\n",
       "  'img_link': 'https://scontent.ftpe11-2.fna.fbcdn.net/v/t39.30808-6/273985017_4862993157122480_8369759119311043684_n.jpg?stp=dst-jpg_s600x600&_nc_cat=103&ccb=1-5&_nc_sid=5cd70e&_nc_ohc=usYlBVZcnhQAX-NC0_v&_nc_ht=scontent.ftpe11-2.fna&oh=00_AT-ZyEEmm-lwLHOaBuxNCBuWWr1VhdBtOEc-AKNHYjOGwQ&oe=623A514B'},\n",
       " {'post_group_name': '軟體設計鮮思維社團',\n",
       "  'post_link': 'https://www.facebook.com/groups/softthinking/posts/1793380364200859/?__cft__[0]=AZU9NbrjdV8p6F8POIckt0f7iJ1plO5xjsxB3ZEs4-IqM0mJzF9z03jWMxgaYAYmaQZfEal-RDm0_5PqquL8KD6uS_8vG6UjcbGWq-Qt2BatZNiV-3z0N8Fdy6Z3uu1bgMnq3Rl3FdETE2WNk4InU-I75faL62rVZCvlMXX9APzziRyNr6aO4lrRf8GpnMt-u2A6riaXmI3239QRhh-qjS_K&__tn__=%2CO%2CP-R',\n",
       "  'post_time': '2月11日',\n",
       "  'title': 'S.O.L.I.D 設計原則 - Liskov Substitution Principle',\n",
       "  'sub_title': '展示層 (Presentation tier)',\n",
       "  'content': ' S.O.L.I.D 設計原則 - Liskov Substitution Principle這議題與稍微進階的軟體開發人員常會使用到的設計術語「繼承 (inheritance)」有關。也就是以為所謂的「子類別 (sub-class)」繼承「父類別 (parent-class)」的主要原因是為了「可重用 (reuse) 程式碼」。殊不知源自於 C++ 使用「繼承」這用語，誤導了軟體開發至今，從字義解讀，常會以為子類別係由父類別所衍生而來的，其實類別之間從來就沒有存在什麼基因或誕生等這些關係的。而後 Java/.NET 等主流 OOP 則改採為「extend (擴展)」這個關鍵字就合理多了。至於 UML 在設計層次對「繼承」的用語，則是採用「一般化－特殊化 (generalization - specialization)」那就更清楚了。Extend 主要有兩個目的：顯示更多',\n",
       "  'img_link': 'https://scontent.ftpe11-1.fna.fbcdn.net/v/t39.30808-6/273775767_4844760635612399_3042752949718873018_n.jpg?stp=dst-jpg_s960x960&_nc_cat=110&ccb=1-5&_nc_sid=5cd70e&_nc_ohc=frHMqjXsbc0AX-Mq5pE&_nc_ht=scontent.ftpe11-1.fna&oh=00_AT8H2XhfezDRfCVtivntTdXfHMAdbdqm4s0ZGef7M-ktaA&oe=623A75A5'},\n",
       " {'post_group_name': '軟體設計鮮思維社團',\n",
       "  'post_link': 'https://www.facebook.com/groups/softthinking/posts/1792591677613061/?__cft__[0]=AZVm8S4KZG7fnl5yvDLI0kvZIQFvvyg7Pbtu3j-wC02t48PGMXWfnJwVDQzi2o5Mm8ktKR-lvClVW_aGbPzuHcivUKqeCHyzE-zTxwv8ln_ZWnbRgbfnJBKG8d8yk_IkZK2gZVE2-Avvcuse-hBiuXwMzHtuYkonyJVRBzwYxCDS3mtZRo64z-MimrNudjQHosmWkQFzdr2VcIse5JU9RjNg&__tn__=%2CO%2CP-R',\n",
       "  'post_time': '2月10日',\n",
       "  'title': '檢視軟體架構的特徵 (Characteristics)',\n",
       "  'sub_title': '展示層 (Presentation tier)',\n",
       "  'content': ' 檢視軟體架構的特徵 (Characteristics)這裡引用「Wiki - Software Architecture」內文所揭露關於軟體架構的幾個特點，個人覺得整理得還不錯。https://en.wikipedia.org/wiki/Software_architecture......眾多的利益相關者 (Multitude of stakeholders)軟體系統需要迎合主要的利益相關者，如業務經理、所有者、用戶和操作員。這些利益相關者對系統都有自己的關注，平衡這些關注點並證明它們得到瞭解決是設計系統的一部分。這意味著架構涉及到處理各種各樣的關注點和利益相關者，涵蓋了具有多門學科的性質。關注點的分離 (Separation of concerns) <= 這才是要點！架構師減少複雜的既定方法是分離驅動設計的關注點。軟體架構文件 (SAD, Software Architecture Document) ，即旨在通過從與各種利益相關者所關注相關的單獨觀點，來進行塑模 (modeling) 和描述架構，所有…… 顯示更多',\n",
       "  'img_link': 'https://external.ftpe11-2.fna.fbcdn.net/safe_image.php?d=AQEdbrMe0XmriIzj&w=139&h=139&url=https%3A%2F%2Fupload.wikimedia.org%2Fwikipedia%2Fcommons%2Fd%2Fd8%2FSoftware_Architecture_Activities.jpg&cfs=1&ext=jpg&_nc_oe=6fc49&_nc_sid=06c271&ccb=3-5&_nc_hash=AQEwVgZHNJjmIYHF'},\n",
       " {'post_group_name': '軟體設計鮮思維社團',\n",
       "  'post_link': 'https://www.facebook.com/groups/softthinking/posts/1791443721061190/?__cft__[0]=AZX0qMTk662mhjZOe7GNdE5qF-454Q17eee1BznpZRYzclkFwMD_hhv-vAupoLb_KZZizHbl-Z4UD2fqJdd3YV-QwPFg3qbxmxZhL0C9Rnui2eIuI_E5KsRzS-7dDKWN1-i-vRM5w-zRkKL-zHjeyyGzkY6JHbIDoFVOou5ew6IgaO-05-iAFkw4LH39vwgXx6HuuKZdPgHF1l61K7rLmCUb&__tn__=%2CO%2CP-R',\n",
       "  'post_time': '2月8日',\n",
       "  'title': 'S.O.L.I.D 設計原則 - Open-Close 原則',\n",
       "  'sub_title': '展示層 (Presentation tier)',\n",
       "  'content': ' S.O.L.I.D 設計原則 - Open-Close 原則開放-封閉 (Open-Close) 原則的想法是，當需要添加一些東西時，現有的、經過測試的類別需要被修改，然而，改變類別可能會導致問題或 bug。與其改變類別，不如簡單地擴展它。考慮到這一目標，Martin 總結了這一原則：「你應該能夠擴展一個類的行為而不直接去修改它」。遵循這一原則對於編寫易於維護和修改的代碼至關重要。如果類別符合下述的原則：對擴展開放 (Open)，這意味著該類的行為可以被擴展；以及顯示更多',\n",
       "  'img_link': 'https://scontent.ftpe11-2.fna.fbcdn.net/v/t39.30808-6/273566202_4835410009880795_7435725821097700135_n.jpg?stp=dst-jpg_p843x403&_nc_cat=103&ccb=1-5&_nc_sid=5cd70e&_nc_ohc=1UPrrSpIxzUAX85DuPj&_nc_ht=scontent.ftpe11-2.fna&oh=00_AT-l6jUZCTq__TdR9eUy0s3KcQgDdmVYHwfBVOLjFSmgQg&oe=623B5ACB'},\n",
       " {'post_group_name': '軟體設計鮮思維社團',\n",
       "  'post_link': 'https://www.facebook.com/groups/softthinking/posts/1788637931341769/?__cft__[0]=AZX2D6ct5ESXeCJLiIh6As_H5TDx27dxoa58VntDrVZIH3vybU_w6Nib63ZhBWKMOixV_-hehVq_Xz9bkhpWtZl3zf5I8btCgYc1t2N6yEcpJ3tmZWB2fQ2IH_GJF5SRk1auxzDo1T9PfI6xcFSOKDCFaWS9LiNQjI8q5K97W9c6pGKF7YOi38-3yDY7qJwig77VLeAkUF1k3qAQGo7lk1d4&__tn__=%2CO%2CP-R',\n",
       "  'post_time': '2月4日',\n",
       "  'title': '0則留言',\n",
       "  'sub_title': '展示層 (Presentation tier)',\n",
       "  'content': ' 有時候需要把開發中的專案對外展示或測試一下，ngrok 可以很方便的幫我們架起臨時的對外網址與通道，這篇是 ngrok 的簡單使用介紹。',\n",
       "  'img_link': 'https://external.ftpe11-2.fna.fbcdn.net/safe_image.php?d=AQFHZczoGagwLe1C&w=139&h=139&url=https%3A%2F%2Feditor.leonh.space%2F2021%2Fngrok%2Fngrok-black.svg&cfs=1&ext=jpg&_nc_oe=6fc4a&_nc_sid=06c271&ccb=3-5&_nc_hash=AQHbnUuZeYSbn-L6'},\n",
       " {'post_group_name': '軟體設計鮮思維社團',\n",
       "  'post_link': 'https://www.facebook.com/groups/softthinking/posts/1784033011802261/?__cft__[0]=AZXdd5L_FvmKTtypUAV_RV2-7BHaLCHgy6QG_XiDaLgnecB5V_Lqqw6acLK5qEJ-1A7RUx1iq0ceCU9qFOn22tIGJWcembO5Z5-9tuoMX7gdxDa8C8zKV16rTEXZhq95ddf6gif3LDVqsCQey1ENp4_WtRbYUF5tJOyqUcFPTXbjEuBQKKQaBemJuUAtf4UdtRJXMjuAk8rYoyo3rJ2fU5O-&__tn__=%2CO%2CP-R',\n",
       "  'post_time': '1月28日',\n",
       "  'title': 'S.O.L.I.D 設計原則 - SRP 單一責任原則',\n",
       "  'sub_title': '展示層 (Presentation tier)',\n",
       "  'content': ' S.O.L.I.D 設計原則 - SRP 單一責任原則Robert Martin 很好地總結了這一原則，他規範了：「一個類 (class) 應該有一個，而且只有一個，改變的理由」。遵循這一原則意味著每個類只做一件事，每個類只對軟體功能的一個部分負責，更簡單地說，每個類應該只解決一個問題。單一責任原則是一個相對基本的原則，許多開發人員會依循該原則來構建程式碼。它可以應用於類 (class)、元件 (component) 和微服務 (micro services)。利用這一原則可以使程式碼更容易測試和維護，使功能更容易實現，並有助於避免未來變化帶來的意想不到的副作用。顯示更多',\n",
       "  'img_link': 'https://scontent.ftpe11-2.fna.fbcdn.net/v/t39.30808-6/272659496_4798315010256962_2356454993351612402_n.jpg?stp=dst-jpg_s600x600&_nc_cat=105&ccb=1-5&_nc_sid=5cd70e&_nc_ohc=CsQedahevOMAX-f9Qlk&_nc_ht=scontent.ftpe11-2.fna&oh=00_AT_DiJsIFkgI8ZIJK5DXyNkCKAAWBV4KVZ5SOxNFptfFJg&oe=623A0206'},\n",
       " {'post_group_name': '軟體設計鮮思維社團',\n",
       "  'post_link': 'https://www.facebook.com/groups/softthinking/posts/1781519748720254/?__cft__[0]=AZUfzhiM5cuXS8-pzIBvVcrULKg0z0Oh-jIQ3zOc46eQ7bgM_iSZXyXj1ZLkZxoms4eSNRMrzSub6Dt-k6YgL8WrqB32XK7QUAEnqtJnGBKxLIbkppaetlzB53A_nZ2DwQ9yLo3Dscdq5DbzdqacM0tCLJLzBLi4Rmf4XCs_Q-goj8uCU-pd3ooOYptjU9r2sa2ojvJWvAFQK9Sn5iBSnhs-&__tn__=%2CO%2CP-R',\n",
       "  'post_time': '1月24日',\n",
       "  'title': 'S.O.L.I.D 設計原則 - 介紹',\n",
       "  'sub_title': '展示層 (Presentation tier)',\n",
       "  'content': ' S.O.L.I.D 設計原則 - 介紹SOLID 是一套軟體開發設計實踐的準則 (principle)，這些原則建立了軟體開發的實踐，並考慮到隨著專案的發展，維護與延展。採用這些實踐也有助於避免程式碼的壞味道、程式碼重構 (refactoring)，以及敏捷性 (agile) 的軟體開發。SOLID 通常是應用在物件導向 (object oriented) 的開發風格。這對於如何解決軟體變動性議題，以及如何組織開發過程中相關的產出 (artifacts)，有著非常顯著的效果。顯示更多',\n",
       "  'img_link': \"data:image/svg+xml,%3csvg xmlns='http://www.w3.org/2000/svg' xmlns:xlink='http://www.w3.org/1999/xlink' viewBox='0 0 16 16'%3e%3cdefs%3e%3clinearGradient id='a' x1='50%25' x2='50%25' y1='0%25' y2='100%25'%3e%3cstop offset='0%25' stop-color='%2318AFFF'/%3e%3cstop offset='100%25' stop-color='%230062DF'/%3e%3c/linearGradient%3e%3cfilter id='c' width='118.8%25' height='118.8%25' x='-9.4%25' y='-9.4%25' filterUnits='objectBoundingBox'%3e%3cfeGaussianBlur in='SourceAlpha' result='shadowBlurInner1' stdDeviation='1'/%3e%3cfeOffset dy='-1' in='shadowBlurInner1' result='shadowOffsetInner1'/%3e%3cfeComposite in='shadowOffsetInner1' in2='SourceAlpha' k2='-1' k3='1' operator='arithmetic' result='shadowInnerInner1'/%3e%3cfeColorMatrix in='shadowInnerInner1' values='0 0 0 0 0 0 0 0 0 0.299356041 0 0 0 0 0.681187726 0 0 0 0.3495684 0'/%3e%3c/filter%3e%3cpath id='b' d='M8 0a8 8 0 00-8 8 8 8 0 1016 0 8 8 0 00-8-8z'/%3e%3c/defs%3e%3cg fill='none'%3e%3cuse fill='url(%23a)' xlink:href='%23b'/%3e%3cuse fill='black' filter='url(%23c)' xlink:href='%23b'/%3e%3cpath fill='white' d='M12.162 7.338c.176.123.338.245.338.674 0 .43-.229.604-.474.725a.73.73 0 01.089.546c-.077.344-.392.611-.672.69.121.194.159.385.015.62-.185.295-.346.407-1.058.407H7.5c-.988 0-1.5-.546-1.5-1V7.665c0-1.23 1.467-2.275 1.467-3.13L7.361 3.47c-.005-.065.008-.224.058-.27.08-.079.301-.2.635-.2.218 0 .363.041.534.123.581.277.732.978.732 1.542 0 .271-.414 1.083-.47 1.364 0 0 .867-.192 1.879-.199 1.061-.006 1.749.19 1.749.842 0 .261-.219.523-.316.666zM3.6 7h.8a.6.6 0 01.6.6v3.8a.6.6 0 01-.6.6h-.8a.6.6 0 01-.6-.6V7.6a.6.6 0 01.6-.6z'/%3e%3c/g%3e%3c/svg%3e\"},\n",
       " {'post_group_name': '軟體設計鮮思維社團',\n",
       "  'post_link': 'https://www.facebook.com/groups/softthinking/posts/1778557979016431/?__cft__[0]=AZUxS11zkdxUowpT4C6pX71V1xNcWHlbopvpXlG9jvDfMUfTo_DS16C_zMZ_an5LKoroEpQg0l1IgOVBOlOos9PeQ6Atibx0xUUvrbimWw9vOOsyUJFnWOPVTESVKPEMaYTdUZiXX3LXxm25SDClEHc8rfRb6nRBanFOUEGxf_pikn8YHhANleyuYOE0b75PtM6uHqjqkHySIA3z5xQbqjYy&__tn__=%2CO%2CP-R',\n",
       "  'post_time': '1月20日',\n",
       "  'title': 'O-R (Object-Relation) Mapping 的設計原則',\n",
       "  'sub_title': 'What is OR Mapping ?',\n",
       "  'content': ' O-R (Object-Relation) Mapping 的設計原則其實這是比較從 ORM 框架的角度來解釋；廣義來說，Developer 當然可以自行透過相對底層的資料庫存取技術，如 ADO.NET/JDBC 等，並自行維護 O-R 的轉換 (tranform)。What is OR Mapping ?OR Mapping (Object Relation Mapping) 是一種在關聯式資料庫內的表格 (Table)，對映至應用系統的實體類型 (entity class) 物件的轉換 (transform) 技術與工具。顯示更多',\n",
       "  'img_link': 'https://scontent.ftpe11-2.fna.fbcdn.net/v/t39.30808-6/271967494_4762474543841009_1804579019165128182_n.jpg?stp=dst-jpg_s600x600&_nc_cat=106&ccb=1-5&_nc_sid=b9115d&_nc_ohc=TZyoP8KVuCUAX8WMdr3&_nc_ht=scontent.ftpe11-2.fna&oh=00_AT_T_Bs4FtOl3r0uljLDhA9zBfm6WNl1p7UZHlZQ_1j68w&oe=623AF007'},\n",
       " {'post_group_name': '軟體設計鮮思維社團',\n",
       "  'post_link': 'https://www.facebook.com/groups/softthinking/posts/1365117873693779/?__cft__[0]=AZXA_V50mLp2W8_1uReuJu8G-yQbrtKWYfLxwgeaZS825nf3zy_7EdCSIA3_BDOhp5MGJLHVuEdZF44meEeMOHmpUEsOZ-ydxV95KQzrtK-MaQRoYx2P1Pc2EKM81AWZEerRZMG7U3aqhGW2tNa9CNCIll5RvYNeCI3i9yDTfrqVVfQuaZrUxcEt3yF5Vl4-oaG0DgO6zr_81ZSgYdKm6uFC&__tn__=%2CO%2CP-R',\n",
       "  'post_time': '2020年6月27日',\n",
       "  'title': '2則留言',\n",
       "  'sub_title': 'What is OR Mapping ?',\n",
       "  'content': ' JavaScript網站常用交互效果經典案例精講http://estucourse.com/tsprodshow.asp?ProdId=TS_5045本課程是計算機專業的一門基礎課，是一門理論與實踐緊密結合的課程。它為今後進一步學習網頁製作技術奠定基礎，因此本課程對於學生掌握網頁製作技術是十分重要的。…… 顯示更多',\n",
       "  'img_link': 'https://scontent.ftpe11-2.fna.fbcdn.net/v/t1.6435-9/105585723_267571388004330_1117114494366710513_n.jpg?_nc_cat=106&ccb=1-5&_nc_sid=825194&_nc_ohc=N5wOC-sfZ6IAX9K0L_p&_nc_ht=scontent.ftpe11-2.fna&oh=00_AT9zq0cy090T7YJSVZBWKka4Bn82XLRjxbyS9TE0hXYlbg&oe=625C509E'}]"
      ]
     },
     "execution_count": 108,
     "metadata": {},
     "output_type": "execute_result"
    }
   ],
   "source": [
    "# data_soup\n",
    "posts_group_class_name = \"h1 a\"\n",
    "post_class_name = \".du4w35lb.k4urcfbm.l9j0dhe7.sjgh65i0 .rq0escxv.rq0escxv.l9j0dhe7.du4w35lb.hybvsw6c.io0zqebd.m5lcvass.fbipl8qg.nwvqtn77.k4urcfbm.ni8dbmo4.stjgntxs.sbcfpzgs\"\n",
    "title_class_name = \"h3\"\n",
    "sub_title_class_name = \"h4\"\n",
    "content_class_name = \".dati1w0a.ihqw7lf3.hv4rvrfc.ecm0bbzt\"\n",
    "img_class_name = \"img\"\n",
    "post_a_class_name = \".oajrlxb2.g5ia77u1.qu0x051f.esr5mh6w.e9989ue4.r7d6kgcz.rq0escxv.nhd2j8a9.nc684nl6.p7hjln8o.kvgmc6g5.cxmmr5t8.oygrvhab.hcukyx3x.jb3vyjys.rz4wbd8a.qt6c0cv9.a8nywdso.i1ao9s8h.esuyzwwr.f1sip0of.lzcic4wl.gmql0nx0.gpro0wi8.b1v8xokw\"\n",
    "time_class_name = post_a_class_name + \" span\"\n",
    "\n",
    "post_group_name = data_soup.select_one(posts_group_class_name).text\n",
    "\n",
    "\n",
    "posts = data_soup.select(post_class_name)\n",
    "data_list = []\n",
    "for post in posts:\n",
    "\n",
    "    # post\n",
    "    post_link = post.select_one(post_a_class_name).get(\"href\")\n",
    "    post_time = post.select_one(post_a_class_name).get(\"aria-label\")\n",
    "\n",
    "    # title\n",
    "    try:\n",
    "        title = post.select_one(title_class_name).text\n",
    "        sub_title = post.select_one(sub_title_class_name).text\n",
    "    except:\n",
    "        print(\"no title\")\n",
    "\n",
    "    # content\n",
    "    content_list = post.select(content_class_name)\n",
    "    content = \"\"\n",
    "    for c in content_list: content = content + \" \" + c.text \n",
    "\n",
    "    # img\n",
    "    img_link = post.select_one(img_class_name).get(\"src\")\n",
    "\n",
    "    data = {\n",
    "        \"post_group_name\": post_group_name,\n",
    "        \"post_link\": post_link,\n",
    "        \"post_time\": post_time,\n",
    "        \"title\": title,\n",
    "        \"sub_title\": sub_title,\n",
    "        \"content\": content,\n",
    "        \"img_link\": img_link,\n",
    "    }\n",
    "\n",
    "    data_list.append(data)\n",
    "\n",
    "data_list\n",
    "    "
   ]
  },
  {
   "cell_type": "code",
   "execution_count": 31,
   "metadata": {},
   "outputs": [
    {
     "data": {
      "text/plain": [
       "<div class=\"rq0escxv l9j0dhe7 du4w35lb hybvsw6c io0zqebd m5lcvass fbipl8qg nwvqtn77 k4urcfbm ni8dbmo4 stjgntxs sbcfpzgs\" style=\"border-radius: max(0px, min(8px, ((100vw - 4px) - 100%) * 9999)) / 8px;\"><div><div></div><div><div><div class=\"\"></div><div><div class=\"ll8tlv6m j83agx80 btwxx1t3 n851cfcs hv4rvrfc dati1w0a pybr56ya\"><div class=\"oi9244e8 do00u71z j83agx80\"><span class=\"nc684nl6\"><a aria-hidden=\"true\" class=\"oajrlxb2 g5ia77u1 qu0x051f esr5mh6w e9989ue4 r7d6kgcz rq0escxv nhd2j8a9 nc684nl6 p7hjln8o kvgmc6g5 cxmmr5t8 oygrvhab hcukyx3x jb3vyjys rz4wbd8a qt6c0cv9 a8nywdso i1ao9s8h esuyzwwr f1sip0of lzcic4wl gpro0wi8 oo9gr5id\" href=\"https://www.facebook.com/gnimnek168?__cft__[0]=AZVoXp0SDGKlKlOHv2BeljZapdIhQA_Sxuf2PK29K7Z5oQ4WWCXB54F5H4U4JW_PELUK29tPvdj743o6KRp5AXvDqD34urNW-ykONqH5nd0xMPl84gf5M0hu0FiaG5eia5aPtPFnpAS8PpZ6FbswQKc1iHzzzwjJW-wtgmj_Z91knxBHMmW4OmjlwJOzY3zjnlXA-hEyS3h5R9JhQwckt050&amp;__tn__=%3C%2CP-R\" role=\"link\" tabindex=\"-1\"><div class=\"q676j6op qypqp5cg\"><object type=\"nested/pressable\"><a aria-label=\"Gnimnek Wang\" class=\"oajrlxb2 gs1a9yip g5ia77u1 mtkw9kbi tlpljxtp qensuy8j ppp5ayq2 goun2846 ccm00jje s44p3ltw mk2mc5f4 rt8b4zig n8ej3o3l agehan2d sk4xxmp2 rq0escxv nhd2j8a9 mg4g778l pfnyh3mw p7hjln8o kvgmc6g5 cxmmr5t8 oygrvhab hcukyx3x tgvbjcpo hpfvmrgz jb3vyjys rz4wbd8a qt6c0cv9 a8nywdso l9j0dhe7 i1ao9s8h esuyzwwr f1sip0of du4w35lb n00je7tq arfg74bv qs9ysxi8 k77z8yql btwxx1t3 abiwlrkh p8dawk7l lzcic4wl oo9gr5id q9uorilb\" href=\"https://www.facebook.com/gnimnek168?__cft__[0]=AZVoXp0SDGKlKlOHv2BeljZapdIhQA_Sxuf2PK29K7Z5oQ4WWCXB54F5H4U4JW_PELUK29tPvdj743o6KRp5AXvDqD34urNW-ykONqH5nd0xMPl84gf5M0hu0FiaG5eia5aPtPFnpAS8PpZ6FbswQKc1iHzzzwjJW-wtgmj_Z91knxBHMmW4OmjlwJOzY3zjnlXA-hEyS3h5R9JhQwckt050&amp;__tn__=%3C%3C%2CP-R\" role=\"link\" tabindex=\"0\"><div class=\"q9uorilb l9j0dhe7 pzggbiyp du4w35lb\"><svg aria-hidden=\"true\" class=\"pzggbiyp\" data-visualcompletion=\"ignore-dynamic\" role=\"none\" style=\"height: 40px; width: 40px;\"><mask id=\"jsc_c_12\"><circle cx=\"20\" cy=\"20\" fill=\"white\" r=\"20\"></circle></mask><g mask=\"url(#jsc_c_12)\"><image height=\"100%\" preserveaspectratio=\"xMidYMid slice\" style=\"height: 40px; width: 40px;\" width=\"100%\" x=\"0\" xlink:href=\"https://scontent.ftpe12-1.fna.fbcdn.net/v/t31.18172-1/12370719_919718594783309_4191783736747537141_o.jpg?stp=cp0_dst-jpg_p40x40&amp;_nc_cat=103&amp;ccb=1-5&amp;_nc_sid=7206a8&amp;_nc_ohc=1IbtLHuz2doAX9lGI-A&amp;_nc_ht=scontent.ftpe12-1.fna&amp;oh=00_AT97MHaS1Nx5_fHOzICb12pB-1HAXdyOSu0-3T7tOtfH8A&amp;oe=625A893A\" y=\"0\"/><circle class=\"mlqo0dh0 georvekb s6kb5r3f\" cx=\"20\" cy=\"20\" r=\"20\"></circle></g></svg><div class=\"i09qtzwb n7fi1qx3 b5wmifdl hzruof5a pmk7jnqg j9ispegn kr520xx4 c5ndavph art1omkt ot9fgl3s s45kfl79 emlxlaya bkmhp75w spb7xbtv\" data-visualcompletion=\"ignore\"></div></div></a></object></div></a></span></div><div class=\"buofh1pr\"><div class=\"j83agx80 cbu4d94t ew0dbk1b irj2b8pg\"><div class=\"qzhwtbm6 knvmm38d\"><span class=\"d2edcug0 hpfvmrgz qv66sw1b c1et5uql oi732d6d ik7dh3pa ht8s03o8 a8c37x1j fe6kdd0r mau55g9w c8b282yb keod5gw0 nxhoafnm aigsh9s9 d9wwppkn iv3no6db jq4qci2q a3bd9o3v b1v8xokw m9osqain hzawbc8m\" dir=\"auto\"><h2 class=\"gmql0nx0 l94mrbxd p1ri9a11 lzcic4wl aahdfvyu hzawbc8m\" id=\"jsc_c_w\"><span class=\"nc684nl6\"><a class=\"oajrlxb2 g5ia77u1 qu0x051f esr5mh6w e9989ue4 r7d6kgcz rq0escxv nhd2j8a9 nc684nl6 p7hjln8o kvgmc6g5 cxmmr5t8 oygrvhab hcukyx3x jb3vyjys rz4wbd8a qt6c0cv9 a8nywdso i1ao9s8h esuyzwwr f1sip0of lzcic4wl gpro0wi8 oo9gr5id lrazzd5p\" href=\"https://www.facebook.com/gnimnek168?__cft__[0]=AZVoXp0SDGKlKlOHv2BeljZapdIhQA_Sxuf2PK29K7Z5oQ4WWCXB54F5H4U4JW_PELUK29tPvdj743o6KRp5AXvDqD34urNW-ykONqH5nd0xMPl84gf5M0hu0FiaG5eia5aPtPFnpAS8PpZ6FbswQKc1iHzzzwjJW-wtgmj_Z91knxBHMmW4OmjlwJOzY3zjnlXA-hEyS3h5R9JhQwckt050&amp;__tn__=-UC%2CP-R\" role=\"link\" tabindex=\"0\"><strong><span>Gnimnek Wang</span></strong></a></span></h2></span></div><div class=\"qzhwtbm6 knvmm38d\"><span class=\"d2edcug0 hpfvmrgz qv66sw1b c1et5uql oi732d6d ik7dh3pa ht8s03o8 a8c37x1j fe6kdd0r mau55g9w c8b282yb keod5gw0 nxhoafnm aigsh9s9 d9wwppkn mdeji52x e9vueds3 j5wam9gi b1v8xokw m9osqain hzawbc8m\" dir=\"auto\"><span id=\"jsc_c_x\"><span class=\"jpp8pzdo\"><span><span class=\"rfua0xdk pmk7jnqg stjgntxs ni8dbmo4 ay7djpcl q45zohi1\"> </span><span aria-hidden=\"true\"> · </span></span></span><span><span class=\"tojvnm2t a6sixzi8 abs2jz4q a8s20v7p t1p8iaqh k5wvi7nf q3lfd5jv pk4s997a bipmatt0 cebpdrjk qowsmv63 owwhemhu dp1hu0rb dhp61c6y iyyx5f41\"><a aria-label=\"3月11日下午2:08\" class=\"oajrlxb2 g5ia77u1 qu0x051f esr5mh6w e9989ue4 r7d6kgcz rq0escxv nhd2j8a9 nc684nl6 p7hjln8o kvgmc6g5 cxmmr5t8 oygrvhab hcukyx3x jb3vyjys rz4wbd8a qt6c0cv9 a8nywdso i1ao9s8h esuyzwwr f1sip0of lzcic4wl gmql0nx0 gpro0wi8 b1v8xokw\" href=\"https://www.facebook.com/groups/softthinking/posts/1812839358921626/?__cft__[0]=AZVoXp0SDGKlKlOHv2BeljZapdIhQA_Sxuf2PK29K7Z5oQ4WWCXB54F5H4U4JW_PELUK29tPvdj743o6KRp5AXvDqD34urNW-ykONqH5nd0xMPl84gf5M0hu0FiaG5eia5aPtPFnpAS8PpZ6FbswQKc1iHzzzwjJW-wtgmj_Z91knxBHMmW4OmjlwJOzY3zjnlXA-hEyS3h5R9JhQwckt050&amp;__tn__=%2CO%2CP-R\" role=\"link\" tabindex=\"0\"><span>3月11日下午2:08</span></a></span></span><span class=\"jpp8pzdo\"><span><span class=\"rfua0xdk pmk7jnqg stjgntxs ni8dbmo4 ay7djpcl q45zohi1\"> </span><span aria-hidden=\"true\"> · </span></span></span><span class=\"g0qnabr5\"><span class=\"tojvnm2t a6sixzi8 abs2jz4q a8s20v7p t1p8iaqh k5wvi7nf q3lfd5jv pk4s997a bipmatt0 cebpdrjk qowsmv63 owwhemhu dp1hu0rb dhp61c6y iyyx5f41\"><span class=\"q9uorilb l9j0dhe7 bk00n993\"><svg class=\"a8c37x1j ms05siws hwsy1cff b7h9ocf4 py1f6qlh em6zcovv cyypbtt7 fwizqjfa\" height=\"1em\" title=\"分享對象：公開社團\" viewbox=\"0 0 16 16\" width=\"1em\"><title>分享對象：公開社團</title><g fill-rule=\"evenodd\" transform=\"translate(-448 -544)\"><g><path d=\"M109.5 408.5c0 3.23-2.04 5.983-4.903 7.036l.07-.036c1.167-1 1.814-2.967 2-3.834.214-1 .303-1.3-.5-1.96-.31-.253-.677-.196-1.04-.476-.246-.19-.356-.59-.606-.73-.594-.337-1.107.11-1.954.223a2.666 2.666 0 0 1-1.15-.123c-.007 0-.007 0-.013-.004l-.083-.03c-.164-.082-.077-.206.006-.36h-.006c.086-.17.086-.376-.05-.529-.19-.214-.54-.214-.804-.224-.106-.003-.21 0-.313.004l-.003-.004c-.04 0-.084.004-.124.004h-.037c-.323.007-.666-.034-.893-.314-.263-.353-.29-.733.097-1.09.28-.26.863-.8 1.807-.22.603.37 1.166.667 1.666.5.33-.11.48-.303.094-.87a1.128 1.128 0 0 1-.214-.73c.067-.776.687-.84 1.164-1.2.466-.356.68-.943.546-1.457-.106-.413-.51-.873-1.28-1.01a7.49 7.49 0 0 1 6.524 7.434\" transform=\"translate(354 143.5)\"></path><path d=\"M104.107 415.696A7.498 7.498 0 0 1 94.5 408.5a7.48 7.48 0 0 1 3.407-6.283 5.474 5.474 0 0 0-1.653 2.334c-.753 2.217-.217 4.075 2.29 4.075.833 0 1.4.561 1.333 2.375-.013.403.52 1.78 2.45 1.89.7.04 1.184 1.053 1.33 1.74.06.29.127.65.257.97a.174.174 0 0 0 .193.096\" transform=\"translate(354 143.5)\"></path><path d=\"M110 408.5a8 8 0 1 1-16 0 8 8 0 0 1 16 0zm-1 0a7 7 0 1 0-14 0 7 7 0 0 0 14 0z\" fill-rule=\"nonzero\" transform=\"translate(354 143.5)\"></path></g></g></svg></span></span></span></span></span></div></div></div></div></div><div><div class=\"\" dir=\"auto\"><div class=\"dati1w0a ihqw7lf3 hv4rvrfc ecm0bbzt\" id=\"jsc_c_y\"><span class=\"d2edcug0 hpfvmrgz qv66sw1b c1et5uql oi732d6d ik7dh3pa ht8s03o8 a8c37x1j fe6kdd0r mau55g9w c8b282yb keod5gw0 nxhoafnm aigsh9s9 d9wwppkn iv3no6db jq4qci2q a3bd9o3v b1v8xokw oo9gr5id\" dir=\"auto\"><h3 class=\"gmql0nx0 l94mrbxd p1ri9a11 lzcic4wl n851cfcs\"><span class=\"d2edcug0 hpfvmrgz qv66sw1b c1et5uql oi732d6d ik7dh3pa ht8s03o8 o3w64lxj b2s5l15y b1v8xokw oo9gr5id\">架構模式 - Event Driven Pattern</span></h3><h4 class=\"gmql0nx0 l94mrbxd p1ri9a11 lzcic4wl oud54xpy sqxagodl ku2m03ct\"><span class=\"d2edcug0 hpfvmrgz qv66sw1b c1et5uql oi732d6d ik7dh3pa ht8s03o8 jq4qci2q a3bd9o3v hnhda86s m9osqain\">What is Event-Driven Architecture Pattern ?</span></h4><div class=\"bi6gxh9e\"><span class=\"d2edcug0 hpfvmrgz qv66sw1b c1et5uql oi732d6d ik7dh3pa ht8s03o8 jq4qci2q a3bd9o3v b1v8xokw oo9gr5id\">一個事件驅動的架構 (event-driven architecture, EDA) 提升並回應事件。事件生產者 (producer) 觸發事件，這些事件通過事件通道 (event channel) 作為訊息 (message) 到達感興趣的消費者 (consumer)。生產者與異步 (asynchronously) 處理訊息的事件接受者 (event recipients) 是寬鬆耦合 (loosely coupled) 的，或完全解耦合 (decoupled)。</span></div><div class=\"bi6gxh9e\"><span class=\"d2edcug0 hpfvmrgz qv66sw1b c1et5uql oi732d6d ik7dh3pa ht8s03o8 jq4qci2q a3bd9o3v b1v8xokw oo9gr5id\"></span></div><div class=\"bi6gxh9e\"><span class=\"d2edcug0 hpfvmrgz qv66sw1b c1et5uql oi732d6d ik7dh3pa ht8s03o8 jq4qci2q a3bd9o3v b1v8xokw oo9gr5id\">參考附圖，一個基本的事件驅動架構由產生事件流 (event stream) 的事件生產者、事件通道 (event channel)，也可稱之為「bus (匯流排)」或「broker (代理者)」和監聽 (listen) 事件的事件消費者所組成。</span></div><div class=\"oajrlxb2 g5ia77u1 qu0x051f esr5mh6w e9989ue4 r7d6kgcz rq0escxv nhd2j8a9 nc684nl6 p7hjln8o kvgmc6g5 cxmmr5t8 oygrvhab hcukyx3x jb3vyjys rz4wbd8a qt6c0cv9 a8nywdso i1ao9s8h esuyzwwr f1sip0of lzcic4wl gpro0wi8 oo9gr5id lrazzd5p\" role=\"button\" tabindex=\"0\">顯示更多</div></span></div></div><div class=\"l9j0dhe7\" id=\"jsc_c_z\"><div class=\"l9j0dhe7\"><div><a class=\"oajrlxb2 gs1a9yip g5ia77u1 mtkw9kbi tlpljxtp qensuy8j ppp5ayq2 goun2846 ccm00jje s44p3ltw mk2mc5f4 rt8b4zig n8ej3o3l agehan2d sk4xxmp2 rq0escxv nhd2j8a9 mg4g778l pfnyh3mw p7hjln8o kvgmc6g5 cxmmr5t8 oygrvhab hcukyx3x tgvbjcpo hpfvmrgz jb3vyjys rz4wbd8a qt6c0cv9 a8nywdso l9j0dhe7 i1ao9s8h esuyzwwr f1sip0of du4w35lb n00je7tq arfg74bv qs9ysxi8 k77z8yql btwxx1t3 abiwlrkh p8dawk7l lzcic4wl a8c37x1j tm8avpzi\" href=\"https://www.facebook.com/photo/?fbid=4925755050846290&amp;set=gm.1812839358921626&amp;__cft__[0]=AZVoXp0SDGKlKlOHv2BeljZapdIhQA_Sxuf2PK29K7Z5oQ4WWCXB54F5H4U4JW_PELUK29tPvdj743o6KRp5AXvDqD34urNW-ykONqH5nd0xMPl84gf5M0hu0FiaG5eia5aPtPFnpAS8PpZ6FbswQKc1iHzzzwjJW-wtgmj_Z91knxBHMmW4OmjlwJOzY3zjnlXA-hEyS3h5R9JhQwckt050&amp;__tn__=EH-R\" role=\"link\" tabindex=\"0\"><div class=\"bp9cbjyn cwj9ozl2 j83agx80 cbu4d94t ni8dbmo4 stjgntxs l9j0dhe7 k4urcfbm\" style=\"background-color: rgb(255, 255, 255);\"><div style=\"max-width: 100%; min-width: 500px; width: calc((100vh + -325px) * 1.29815);\"><div class=\"do00u71z ni8dbmo4 stjgntxs l9j0dhe7\" style=\"padding-top: 77.0328%;\"><div class=\"pmk7jnqg kr520xx4\" style=\"height: 100%; left: 0%; width: calc(100%);\"><img alt=\"可能是顯示的文字是「 Event Producer Event Producer Event bus/broker Event Consumer Event Consumer Event Consumer 」的圖像\" class=\"i09qtzwb n7fi1qx3 datstx6m pmk7jnqg j9ispegn kr520xx4 k4urcfbm bixrwtb6\" height=\"540\" referrerpolicy=\"origin-when-cross-origin\" src=\"https://scontent.ftpe12-2.fna.fbcdn.net/v/t39.30808-6/275390191_4925755044179624_4661909318420659393_n.jpg?stp=dst-jpg_p180x540&amp;_nc_cat=109&amp;ccb=1-5&amp;_nc_sid=5cd70e&amp;_nc_ohc=yrV8XN3O7rcAX8fCW6b&amp;_nc_ht=scontent.ftpe12-2.fna&amp;oh=00_AT9MP2lDvnRtVctI2U9SuCzZRN-yyxmB2iwSAHQEZJ0ogQ&amp;oe=623AEB06\" width=\"701\"/></div></div></div></div><div class=\"linmgsc8 opwvks06 i09qtzwb n7fi1qx3 hzruof5a pmk7jnqg j9ispegn kr520xx4\"></div><div class=\"n00je7tq arfg74bv qs9ysxi8 k77z8yql i09qtzwb n7fi1qx3 b5wmifdl hzruof5a pmk7jnqg j9ispegn kr520xx4 c5ndavph art1omkt ot9fgl3s\" data-visualcompletion=\"ignore\"></div></a></div></div><div class=\"stjgntxs ni8dbmo4\"></div></div></div><div><div class=\"stjgntxs ni8dbmo4 l82x9zwi uo3d90p7 h905i5nu monazrh9\" data-visualcompletion=\"ignore-dynamic\"><div><div><div><div class=\"l9j0dhe7\"><div class=\"bp9cbjyn m9osqain j83agx80 jq4qci2q bkfpd7mw a3bd9o3v kvgmc6g5 wkznzc2l oygrvhab dhix69tm jktsbyx5 rz4wbd8a osnr6wyh a8nywdso s1tcr66n\"><div class=\"bp9cbjyn j83agx80 buofh1pr ni8dbmo4 stjgntxs\"><span aria-label=\"看看誰對這個傳達了心情\" class=\"du4w35lb\" role=\"toolbar\"><span class=\"bp9cbjyn j83agx80 b3onmgus\" id=\"jsc_c_11\"><span class=\"np69z8it et4y5ytx j7g94pet b74d5cxt qw6c0r16 kb8x4rkr ed597pkb omcyoz59 goun2846 ccm00jje s44p3ltw mk2mc5f4 qxh1up0x qtyiw8t4 tpcyxxvw k0bpgpbk hm271qws rl04r1d5 l9j0dhe7 ov9facns kavbgo14\"><span class=\"t0qjyqq4 jos75b7i j6sty90h kv0toi1t q9uorilb hm271qws ov9facns\"><span class=\"tojvnm2t a6sixzi8 abs2jz4q a8s20v7p t1p8iaqh k5wvi7nf q3lfd5jv pk4s997a bipmatt0 cebpdrjk qowsmv63 owwhemhu dp1hu0rb dhp61c6y iyyx5f41\"><div aria-label=\"讚：25人\" class=\"oajrlxb2 gs1a9yip g5ia77u1 mtkw9kbi tlpljxtp qensuy8j ppp5ayq2 goun2846 ccm00jje s44p3ltw mk2mc5f4 rt8b4zig n8ej3o3l agehan2d sk4xxmp2 rq0escxv nhd2j8a9 mg4g778l pfnyh3mw p7hjln8o kvgmc6g5 cxmmr5t8 oygrvhab hcukyx3x tgvbjcpo hpfvmrgz jb3vyjys rz4wbd8a qt6c0cv9 a8nywdso l9j0dhe7 i1ao9s8h esuyzwwr f1sip0of du4w35lb n00je7tq arfg74bv qs9ysxi8 k77z8yql pq6dq46d btwxx1t3 abiwlrkh p8dawk7l lzcic4wl\" role=\"button\" tabindex=\"0\"><img class=\"j1lvzwm4\" height=\"18\" role=\"presentation\" src=\"data:image/svg+xml,%3csvg xmlns='http://www.w3.org/2000/svg' xmlns:xlink='http://www.w3.org/1999/xlink' viewBox='0 0 16 16'%3e%3cdefs%3e%3clinearGradient id='a' x1='50%25' x2='50%25' y1='0%25' y2='100%25'%3e%3cstop offset='0%25' stop-color='%2318AFFF'/%3e%3cstop offset='100%25' stop-color='%230062DF'/%3e%3c/linearGradient%3e%3cfilter id='c' width='118.8%25' height='118.8%25' x='-9.4%25' y='-9.4%25' filterUnits='objectBoundingBox'%3e%3cfeGaussianBlur in='SourceAlpha' result='shadowBlurInner1' stdDeviation='1'/%3e%3cfeOffset dy='-1' in='shadowBlurInner1' result='shadowOffsetInner1'/%3e%3cfeComposite in='shadowOffsetInner1' in2='SourceAlpha' k2='-1' k3='1' operator='arithmetic' result='shadowInnerInner1'/%3e%3cfeColorMatrix in='shadowInnerInner1' values='0 0 0 0 0 0 0 0 0 0.299356041 0 0 0 0 0.681187726 0 0 0 0.3495684 0'/%3e%3c/filter%3e%3cpath id='b' d='M8 0a8 8 0 00-8 8 8 8 0 1016 0 8 8 0 00-8-8z'/%3e%3c/defs%3e%3cg fill='none'%3e%3cuse fill='url(%23a)' xlink:href='%23b'/%3e%3cuse fill='black' filter='url(%23c)' xlink:href='%23b'/%3e%3cpath fill='white' d='M12.162 7.338c.176.123.338.245.338.674 0 .43-.229.604-.474.725a.73.73 0 01.089.546c-.077.344-.392.611-.672.69.121.194.159.385.015.62-.185.295-.346.407-1.058.407H7.5c-.988 0-1.5-.546-1.5-1V7.665c0-1.23 1.467-2.275 1.467-3.13L7.361 3.47c-.005-.065.008-.224.058-.27.08-.079.301-.2.635-.2.218 0 .363.041.534.123.581.277.732.978.732 1.542 0 .271-.414 1.083-.47 1.364 0 0 .867-.192 1.879-.199 1.061-.006 1.749.19 1.749.842 0 .261-.219.523-.316.666zM3.6 7h.8a.6.6 0 01.6.6v3.8a.6.6 0 01-.6.6h-.8a.6.6 0 01-.6-.6V7.6a.6.6 0 01.6-.6z'/%3e%3c/g%3e%3c/svg%3e\" width=\"18\"/></div></span></span></span></span></span><span aria-hidden=\"true\" class=\"bzsjyuwj ni8dbmo4 stjgntxs ltmttdrg gjzvkazv\"><span><span class=\"pcp91wgn\">25</span></span></span></div><div class=\"kb5gq1qc pfnyh3mw c0wkt4kp\"></div><div class=\"bp9cbjyn j83agx80 pfnyh3mw p1ueia1e\"><div class=\"gtad4xkn\"><span class=\"tojvnm2t a6sixzi8 abs2jz4q a8s20v7p t1p8iaqh k5wvi7nf q3lfd5jv pk4s997a bipmatt0 cebpdrjk qowsmv63 owwhemhu dp1hu0rb dhp61c6y iyyx5f41\"><div class=\"oajrlxb2 gs1a9yip mtkw9kbi tlpljxtp qensuy8j ppp5ayq2 nhd2j8a9 mg4g778l pfnyh3mw p7hjln8o tgvbjcpo hpfvmrgz esuyzwwr f1sip0of n00je7tq arfg74bv qs9ysxi8 k77z8yql pq6dq46d btwxx1t3 abiwlrkh lzcic4wl dwo3fsh8 g5ia77u1 goun2846 ccm00jje s44p3ltw mk2mc5f4 rt8b4zig n8ej3o3l agehan2d sk4xxmp2 rq0escxv gmql0nx0 kvgmc6g5 cxmmr5t8 oygrvhab hcukyx3x jb3vyjys rz4wbd8a qt6c0cv9 a8nywdso l9j0dhe7 i1ao9s8h du4w35lb gpro0wi8\" role=\"button\" tabindex=\"0\"><span class=\"d2edcug0 hpfvmrgz qv66sw1b c1et5uql oi732d6d ik7dh3pa ht8s03o8 a8c37x1j fe6kdd0r mau55g9w c8b282yb keod5gw0 nxhoafnm aigsh9s9 d9wwppkn iv3no6db jq4qci2q a3bd9o3v b1v8xokw m9osqain\" dir=\"auto\">7次分享</span></div></span></div></div></div></div><div class=\"a8nywdso e5nlhep0 rz4wbd8a ecm0bbzt jklb3kyz dhix69tm oygrvhab wkznzc2l kvgmc6g5 j83agx80\"><div class=\"rq0escxv l9j0dhe7 du4w35lb j83agx80 rj1gh0hx buofh1pr g5gj957u hpfvmrgz i1fnvgqd gs1a9yip owycx6da btwxx1t3 nkwizq5d roh60bw9 mysgfdmx hddg9phg\"><div class=\"rq0escxv l9j0dhe7 du4w35lb j83agx80 cbu4d94t d2edcug0 hpfvmrgz rj1gh0hx buofh1pr g5gj957u n8tt0mok hyh9befq iuny7tx3 ipjc6fyt\"><div class=\"oajrlxb2 gs1a9yip g5ia77u1 mtkw9kbi tlpljxtp qensuy8j ppp5ayq2 goun2846 ccm00jje s44p3ltw mk2mc5f4 rt8b4zig n8ej3o3l agehan2d sk4xxmp2 rq0escxv nhd2j8a9 mg4g778l pfnyh3mw p7hjln8o kvgmc6g5 cxmmr5t8 oygrvhab hcukyx3x tgvbjcpo hpfvmrgz jb3vyjys rz4wbd8a qt6c0cv9 a8nywdso l9j0dhe7 i1ao9s8h esuyzwwr f1sip0of du4w35lb n00je7tq arfg74bv qs9ysxi8 k77z8yql btwxx1t3 abiwlrkh p8dawk7l j83agx80 lzcic4wl\" role=\"button\" tabindex=\"0\"><div class=\"rq0escxv l9j0dhe7 du4w35lb j83agx80 rj1gh0hx buofh1pr g5gj957u hpfvmrgz taijpn5t bp9cbjyn owycx6da btwxx1t3 d1544ag0 tw6a2znq jb3vyjys dlv3wnog rl04r1d5 mysgfdmx hddg9phg qu8okrzs g0qnabr5\"><div class=\"rq0escxv l9j0dhe7 du4w35lb j83agx80 cbu4d94t pfnyh3mw d2edcug0 hpfvmrgz ph5uu5jm b3onmgus iuny7tx3 ipjc6fyt\"><i class=\"hu5pjgll m6k467ps\" data-visualcompletion=\"css-img\" style='background-image: url(\"https://static.xx.fbcdn.net/rsrc.php/v3/yA/r/NPUQ_e0r6lm.png\"); background-position: -103px -153px; background-size: auto; width: 18px; height: 18px; background-repeat: no-repeat; display: inline-block;'></i></div><div class=\"rq0escxv l9j0dhe7 du4w35lb j83agx80 cbu4d94t pfnyh3mw d2edcug0 hpfvmrgz ph5uu5jm b3onmgus iuny7tx3 ipjc6fyt\"><span class=\"d2edcug0 hpfvmrgz qv66sw1b c1et5uql oi732d6d ik7dh3pa ht8s03o8 a8c37x1j fe6kdd0r mau55g9w c8b282yb keod5gw0 nxhoafnm aigsh9s9 d9wwppkn iv3no6db jq4qci2q a3bd9o3v lrazzd5p m9osqain\" dir=\"auto\">讚</span></div></div><div class=\"n00je7tq arfg74bv qs9ysxi8 k77z8yql i09qtzwb n7fi1qx3 b5wmifdl hzruof5a pmk7jnqg j9ispegn kr520xx4 c5ndavph art1omkt ot9fgl3s\" data-visualcompletion=\"ignore\" style=\"border-radius: 4px;\"></div></div></div><div class=\"rq0escxv l9j0dhe7 du4w35lb j83agx80 cbu4d94t d2edcug0 hpfvmrgz rj1gh0hx buofh1pr g5gj957u n8tt0mok hyh9befq iuny7tx3 ipjc6fyt\"><div class=\"oajrlxb2 gs1a9yip g5ia77u1 mtkw9kbi tlpljxtp qensuy8j ppp5ayq2 goun2846 ccm00jje s44p3ltw mk2mc5f4 rt8b4zig n8ej3o3l agehan2d sk4xxmp2 rq0escxv nhd2j8a9 mg4g778l pfnyh3mw p7hjln8o kvgmc6g5 cxmmr5t8 oygrvhab hcukyx3x tgvbjcpo hpfvmrgz jb3vyjys rz4wbd8a qt6c0cv9 a8nywdso l9j0dhe7 i1ao9s8h esuyzwwr f1sip0of du4w35lb n00je7tq arfg74bv qs9ysxi8 k77z8yql btwxx1t3 abiwlrkh p8dawk7l j83agx80 lzcic4wl\" role=\"button\" tabindex=\"0\"><div class=\"rq0escxv l9j0dhe7 du4w35lb j83agx80 rj1gh0hx buofh1pr g5gj957u hpfvmrgz taijpn5t bp9cbjyn owycx6da btwxx1t3 d1544ag0 tw6a2znq jb3vyjys dlv3wnog rl04r1d5 mysgfdmx hddg9phg qu8okrzs g0qnabr5\"><div class=\"rq0escxv l9j0dhe7 du4w35lb j83agx80 cbu4d94t pfnyh3mw d2edcug0 hpfvmrgz ph5uu5jm b3onmgus iuny7tx3 ipjc6fyt\"><i class=\"hu5pjgll m6k467ps\" data-visualcompletion=\"css-img\" style='background-image: url(\"https://static.xx.fbcdn.net/rsrc.php/v3/yA/r/NPUQ_e0r6lm.png\"); background-position: -84px -153px; background-size: auto; width: 18px; height: 18px; background-repeat: no-repeat; display: inline-block;'></i></div><div class=\"rq0escxv l9j0dhe7 du4w35lb j83agx80 cbu4d94t pfnyh3mw d2edcug0 hpfvmrgz ph5uu5jm b3onmgus iuny7tx3 ipjc6fyt\"><span class=\"d2edcug0 hpfvmrgz qv66sw1b c1et5uql oi732d6d ik7dh3pa ht8s03o8 a8c37x1j fe6kdd0r mau55g9w c8b282yb keod5gw0 nxhoafnm aigsh9s9 d9wwppkn iv3no6db jq4qci2q a3bd9o3v lrazzd5p m9osqain\" dir=\"auto\">留言</span></div></div><div class=\"n00je7tq arfg74bv qs9ysxi8 k77z8yql i09qtzwb n7fi1qx3 b5wmifdl hzruof5a pmk7jnqg j9ispegn kr520xx4 c5ndavph art1omkt ot9fgl3s\" data-visualcompletion=\"ignore\" style=\"border-radius: 4px;\"></div></div></div><div class=\"rq0escxv l9j0dhe7 du4w35lb j83agx80 cbu4d94t d2edcug0 hpfvmrgz rj1gh0hx buofh1pr g5gj957u n8tt0mok hyh9befq iuny7tx3 ipjc6fyt\"><div class=\"oajrlxb2 gs1a9yip g5ia77u1 mtkw9kbi tlpljxtp qensuy8j ppp5ayq2 goun2846 ccm00jje s44p3ltw mk2mc5f4 rt8b4zig n8ej3o3l agehan2d sk4xxmp2 rq0escxv nhd2j8a9 mg4g778l pfnyh3mw p7hjln8o kvgmc6g5 cxmmr5t8 oygrvhab hcukyx3x tgvbjcpo hpfvmrgz jb3vyjys rz4wbd8a qt6c0cv9 a8nywdso l9j0dhe7 i1ao9s8h esuyzwwr f1sip0of du4w35lb n00je7tq arfg74bv qs9ysxi8 k77z8yql btwxx1t3 abiwlrkh p8dawk7l j83agx80 lzcic4wl\" role=\"button\" tabindex=\"0\"><div class=\"rq0escxv l9j0dhe7 du4w35lb j83agx80 rj1gh0hx buofh1pr g5gj957u hpfvmrgz taijpn5t bp9cbjyn owycx6da btwxx1t3 d1544ag0 tw6a2znq jb3vyjys dlv3wnog rl04r1d5 mysgfdmx hddg9phg qu8okrzs g0qnabr5\"><div class=\"rq0escxv l9j0dhe7 du4w35lb j83agx80 cbu4d94t pfnyh3mw d2edcug0 hpfvmrgz ph5uu5jm b3onmgus iuny7tx3 ipjc6fyt\"><i class=\"hu5pjgll m6k467ps\" data-visualcompletion=\"css-img\" style='background-image: url(\"https://static.xx.fbcdn.net/rsrc.php/v3/yA/r/NPUQ_e0r6lm.png\"); background-position: -122px -153px; background-size: auto; width: 18px; height: 18px; background-repeat: no-repeat; display: inline-block;'></i></div><div class=\"rq0escxv l9j0dhe7 du4w35lb j83agx80 cbu4d94t pfnyh3mw d2edcug0 hpfvmrgz ph5uu5jm b3onmgus iuny7tx3 ipjc6fyt\"><span class=\"d2edcug0 hpfvmrgz qv66sw1b c1et5uql oi732d6d ik7dh3pa ht8s03o8 a8c37x1j fe6kdd0r mau55g9w c8b282yb keod5gw0 nxhoafnm aigsh9s9 d9wwppkn iv3no6db jq4qci2q a3bd9o3v lrazzd5p m9osqain\" dir=\"auto\">分享</span></div></div><div class=\"n00je7tq arfg74bv qs9ysxi8 k77z8yql i09qtzwb n7fi1qx3 b5wmifdl hzruof5a pmk7jnqg j9ispegn kr520xx4 c5ndavph art1omkt ot9fgl3s\" data-visualcompletion=\"ignore\" style=\"border-radius: 4px;\"></div></div></div></div></div></div></div><div class=\"cwj9ozl2 tvmbv18p\"><h3 class=\"gmql0nx0 l94mrbxd p1ri9a11 lzcic4wl q45zohi1 ema1e40h ay7djpcl ni8dbmo4 stjgntxs pmk7jnqg rfua0xdk\" dir=\"auto\">0則留言</h3><div class=\"j83agx80 bkfpd7mw jb3vyjys hv4rvrfc qt6c0cv9 dati1w0a l9j0dhe7\"></div><div class=\"j83agx80 bkfpd7mw jb3vyjys hv4rvrfc qt6c0cv9 dati1w0a l9j0dhe7\"></div><div class=\"stjgntxs ni8dbmo4\"><div class=\"bp9cbjyn j83agx80 k7cz35w2 jifvfom9 hv4rvrfc dati1w0a qvze9t23 tpo14512\"><div class=\"ggphbty4 wkznzc2l taijpn5t j83agx80\"></div></div></div></div></div></div></div></div></div></div></div>"
      ]
     },
     "execution_count": 31,
     "metadata": {},
     "output_type": "execute_result"
    }
   ],
   "source": [
    "post"
   ]
  },
  {
   "cell_type": "code",
   "execution_count": 112,
   "metadata": {},
   "outputs": [],
   "source": [
    "browser.quit()\n"
   ]
  },
  {
   "cell_type": "code",
   "execution_count": 131,
   "metadata": {},
   "outputs": [
    {
     "data": {
      "text/plain": [
       "['https://buy.yungching.com.tw/house/4291354',\n",
       " 'https://buy.cthouse.com.tw/house/1637213.html',\n",
       " 'https://www.rakuya.com.tw/sell_item/info?ehid=04d3e213291778d',\n",
       " 'https://www.rakuya.com.tw/sell_item/info?ehid=04e216132918229',\n",
       " 'https://www.sinyi.com.tw/buy/house/70810B/?breadcrumb=list',\n",
       " 'https://sale.591.com.tw/home/house/detail/2/10794912.html',\n",
       " 'https://buy.yungching.com.tw/house/5195273',\n",
       " 'https://www.rakuya.com.tw/sell_item/info?ehid=0cd1fd10810319b']"
      ]
     },
     "execution_count": 131,
     "metadata": {},
     "output_type": "execute_result"
    }
   ],
   "source": [
    "ext_url_list"
   ]
  },
  {
   "cell_type": "code",
   "execution_count": 16,
   "metadata": {},
   "outputs": [],
   "source": [
    "browser.quit()\n"
   ]
  },
  {
   "cell_type": "code",
   "execution_count": null,
   "metadata": {},
   "outputs": [],
   "source": []
  },
  {
   "cell_type": "code",
   "execution_count": 49,
   "metadata": {},
   "outputs": [],
   "source": [
    "data = data_soup\n",
    "title = data.find('title').string\n",
    "title\n",
    "\n",
    "items = data.select('#sale-objects-wrap .border-grey-3')\n",
    "sale_items = []\n",
    "for item in items:\n",
    "    floor = item.select_one(\".text-16px\").text\n",
    "    title = item.select_one(\".title-width\").text.replace(\"\\n\",\"\").strip()\n",
    "    link = \"\"\n",
    "    price = item.select(\".items-baseline\")[0].select('span')[0].text.replace(\"\\n\",\"\").strip()\n",
    "    area = item.select(\".items-baseline\")[1].select('span')[0].text.replace(\"\\n\",\"\").strip()\n",
    "\n",
    "    data = {\n",
    "        'floor': floor,\n",
    "        'title': title,\n",
    "        'link': link,\n",
    "        'price': price,\n",
    "        'area': area,\n",
    "    }\n",
    "\n",
    "    sale_items.append(data)\n",
    "    \n",
    "# items"
   ]
  },
  {
   "cell_type": "code",
   "execution_count": 50,
   "metadata": {},
   "outputs": [
    {
     "data": {
      "text/plain": [
       "[{'floor': '9',\n",
       "  'title': '泊樂★稀有高樓面河景',\n",
       "  'link': '',\n",
       "  'price': '1980',\n",
       "  'area': '25.13'},\n",
       " {'floor': '7',\n",
       "  'title': '古亭泊樂崗石７樓',\n",
       "  'link': '',\n",
       "  'price': '1245',\n",
       "  'area': '13.87'},\n",
       " {'floor': '7',\n",
       "  'title': '泊樂7樓小資美宅',\n",
       "  'link': '',\n",
       "  'price': '2288',\n",
       "  'area': '25.45'},\n",
       " {'floor': '7',\n",
       "  'title': '泊樂7樓毛胚屋',\n",
       "  'link': '',\n",
       "  'price': '2588',\n",
       "  'area': '30.05'},\n",
       " {'floor': '4',\n",
       "  'title': '古亭挑高美兩房',\n",
       "  'link': '',\n",
       "  'price': '2118',\n",
       "  'area': '24.05'},\n",
       " {'floor': '3',\n",
       "  'title': '古亭捷運成家優選',\n",
       "  'link': '',\n",
       "  'price': '2488',\n",
       "  'area': '31.99'},\n",
       " {'floor': '1',\n",
       "  'title': '古亭廈門88金店',\n",
       "  'link': '',\n",
       "  'price': '3480',\n",
       "  'area': '31.66'},\n",
       " {'floor': '1',\n",
       "  'title': '中正店面收租首選',\n",
       "  'link': '',\n",
       "  'price': '3480',\n",
       "  'area': '31.66'}]"
      ]
     },
     "execution_count": 50,
     "metadata": {},
     "output_type": "execute_result"
    }
   ],
   "source": [
    "sale_items"
   ]
  },
  {
   "cell_type": "code",
   "execution_count": 50,
   "metadata": {},
   "outputs": [
    {
     "data": {
      "text/plain": [
       "'45.09'"
      ]
     },
     "execution_count": 50,
     "metadata": {},
     "output_type": "execute_result"
    }
   ],
   "source": [
    "items[0].select(\".transaction-info__card__table > div\")[0].select('div span')[0].text"
   ]
  },
  {
   "cell_type": "code",
   "execution_count": 12,
   "metadata": {},
   "outputs": [
    {
     "data": {
      "text/plain": [
       "[]"
      ]
     },
     "execution_count": 12,
     "metadata": {},
     "output_type": "execute_result"
    }
   ],
   "source": [
    "listInfo.findAll(\".vue-list-rent-item .item-style li\")"
   ]
  },
  {
   "cell_type": "code",
   "execution_count": 5,
   "metadata": {},
   "outputs": [
    {
     "ename": "NoSuchWindowException",
     "evalue": "Message: no such window: window was already closed\n  (Session info: chrome=90.0.4430.85)\n",
     "output_type": "error",
     "traceback": [
      "\u001b[0;31m---------------------------------------------------------------------------\u001b[0m",
      "\u001b[0;31mNoSuchWindowException\u001b[0m                     Traceback (most recent call last)",
      "\u001b[0;32m<ipython-input-5-ec286effcd49>\u001b[0m in \u001b[0;36m<module>\u001b[0;34m\u001b[0m\n\u001b[1;32m      2\u001b[0m \u001b[0;34m\u001b[0m\u001b[0m\n\u001b[1;32m      3\u001b[0m \u001b[0murl\u001b[0m \u001b[0;34m=\u001b[0m \u001b[0;34m\"https://rent.591.com.tw/?kind=0&region=1&rentprice=5&shape=2&other=lift,cartplace,cook\"\u001b[0m\u001b[0;34m\u001b[0m\u001b[0;34m\u001b[0m\u001b[0m\n\u001b[0;32m----> 4\u001b[0;31m \u001b[0mbrowser\u001b[0m\u001b[0;34m.\u001b[0m\u001b[0mget\u001b[0m\u001b[0;34m(\u001b[0m\u001b[0murl\u001b[0m\u001b[0;34m)\u001b[0m\u001b[0;34m\u001b[0m\u001b[0;34m\u001b[0m\u001b[0m\n\u001b[0m",
      "\u001b[0;32m~/virtualENV/py3env/lib/python3.8/site-packages/selenium/webdriver/remote/webdriver.py\u001b[0m in \u001b[0;36mget\u001b[0;34m(self, url)\u001b[0m\n\u001b[1;32m    331\u001b[0m         \u001b[0mLoads\u001b[0m \u001b[0ma\u001b[0m \u001b[0mweb\u001b[0m \u001b[0mpage\u001b[0m \u001b[0;32min\u001b[0m \u001b[0mthe\u001b[0m \u001b[0mcurrent\u001b[0m \u001b[0mbrowser\u001b[0m \u001b[0msession\u001b[0m\u001b[0;34m.\u001b[0m\u001b[0;34m\u001b[0m\u001b[0;34m\u001b[0m\u001b[0m\n\u001b[1;32m    332\u001b[0m         \"\"\"\n\u001b[0;32m--> 333\u001b[0;31m         \u001b[0mself\u001b[0m\u001b[0;34m.\u001b[0m\u001b[0mexecute\u001b[0m\u001b[0;34m(\u001b[0m\u001b[0mCommand\u001b[0m\u001b[0;34m.\u001b[0m\u001b[0mGET\u001b[0m\u001b[0;34m,\u001b[0m \u001b[0;34m{\u001b[0m\u001b[0;34m'url'\u001b[0m\u001b[0;34m:\u001b[0m \u001b[0murl\u001b[0m\u001b[0;34m}\u001b[0m\u001b[0;34m)\u001b[0m\u001b[0;34m\u001b[0m\u001b[0;34m\u001b[0m\u001b[0m\n\u001b[0m\u001b[1;32m    334\u001b[0m \u001b[0;34m\u001b[0m\u001b[0m\n\u001b[1;32m    335\u001b[0m     \u001b[0;34m@\u001b[0m\u001b[0mproperty\u001b[0m\u001b[0;34m\u001b[0m\u001b[0;34m\u001b[0m\u001b[0m\n",
      "\u001b[0;32m~/virtualENV/py3env/lib/python3.8/site-packages/selenium/webdriver/remote/webdriver.py\u001b[0m in \u001b[0;36mexecute\u001b[0;34m(self, driver_command, params)\u001b[0m\n\u001b[1;32m    319\u001b[0m         \u001b[0mresponse\u001b[0m \u001b[0;34m=\u001b[0m \u001b[0mself\u001b[0m\u001b[0;34m.\u001b[0m\u001b[0mcommand_executor\u001b[0m\u001b[0;34m.\u001b[0m\u001b[0mexecute\u001b[0m\u001b[0;34m(\u001b[0m\u001b[0mdriver_command\u001b[0m\u001b[0;34m,\u001b[0m \u001b[0mparams\u001b[0m\u001b[0;34m)\u001b[0m\u001b[0;34m\u001b[0m\u001b[0;34m\u001b[0m\u001b[0m\n\u001b[1;32m    320\u001b[0m         \u001b[0;32mif\u001b[0m \u001b[0mresponse\u001b[0m\u001b[0;34m:\u001b[0m\u001b[0;34m\u001b[0m\u001b[0;34m\u001b[0m\u001b[0m\n\u001b[0;32m--> 321\u001b[0;31m             \u001b[0mself\u001b[0m\u001b[0;34m.\u001b[0m\u001b[0merror_handler\u001b[0m\u001b[0;34m.\u001b[0m\u001b[0mcheck_response\u001b[0m\u001b[0;34m(\u001b[0m\u001b[0mresponse\u001b[0m\u001b[0;34m)\u001b[0m\u001b[0;34m\u001b[0m\u001b[0;34m\u001b[0m\u001b[0m\n\u001b[0m\u001b[1;32m    322\u001b[0m             response['value'] = self._unwrap_value(\n\u001b[1;32m    323\u001b[0m                 response.get('value', None))\n",
      "\u001b[0;32m~/virtualENV/py3env/lib/python3.8/site-packages/selenium/webdriver/remote/errorhandler.py\u001b[0m in \u001b[0;36mcheck_response\u001b[0;34m(self, response)\u001b[0m\n\u001b[1;32m    240\u001b[0m                 \u001b[0malert_text\u001b[0m \u001b[0;34m=\u001b[0m \u001b[0mvalue\u001b[0m\u001b[0;34m[\u001b[0m\u001b[0;34m'alert'\u001b[0m\u001b[0;34m]\u001b[0m\u001b[0;34m.\u001b[0m\u001b[0mget\u001b[0m\u001b[0;34m(\u001b[0m\u001b[0;34m'text'\u001b[0m\u001b[0;34m)\u001b[0m\u001b[0;34m\u001b[0m\u001b[0;34m\u001b[0m\u001b[0m\n\u001b[1;32m    241\u001b[0m             \u001b[0;32mraise\u001b[0m \u001b[0mexception_class\u001b[0m\u001b[0;34m(\u001b[0m\u001b[0mmessage\u001b[0m\u001b[0;34m,\u001b[0m \u001b[0mscreen\u001b[0m\u001b[0;34m,\u001b[0m \u001b[0mstacktrace\u001b[0m\u001b[0;34m,\u001b[0m \u001b[0malert_text\u001b[0m\u001b[0;34m)\u001b[0m\u001b[0;34m\u001b[0m\u001b[0;34m\u001b[0m\u001b[0m\n\u001b[0;32m--> 242\u001b[0;31m         \u001b[0;32mraise\u001b[0m \u001b[0mexception_class\u001b[0m\u001b[0;34m(\u001b[0m\u001b[0mmessage\u001b[0m\u001b[0;34m,\u001b[0m \u001b[0mscreen\u001b[0m\u001b[0;34m,\u001b[0m \u001b[0mstacktrace\u001b[0m\u001b[0;34m)\u001b[0m\u001b[0;34m\u001b[0m\u001b[0;34m\u001b[0m\u001b[0m\n\u001b[0m\u001b[1;32m    243\u001b[0m \u001b[0;34m\u001b[0m\u001b[0m\n\u001b[1;32m    244\u001b[0m     \u001b[0;32mdef\u001b[0m \u001b[0m_value_or_default\u001b[0m\u001b[0;34m(\u001b[0m\u001b[0mself\u001b[0m\u001b[0;34m,\u001b[0m \u001b[0mobj\u001b[0m\u001b[0;34m,\u001b[0m \u001b[0mkey\u001b[0m\u001b[0;34m,\u001b[0m \u001b[0mdefault\u001b[0m\u001b[0;34m)\u001b[0m\u001b[0;34m:\u001b[0m\u001b[0;34m\u001b[0m\u001b[0;34m\u001b[0m\u001b[0m\n",
      "\u001b[0;31mNoSuchWindowException\u001b[0m: Message: no such window: window was already closed\n  (Session info: chrome=90.0.4430.85)\n"
     ]
    }
   ],
   "source": [
    "# browser.add_cookie({\"name\": \"foo\", \"value\": \"bar\"})\n",
    "\n",
    "url = \"https://rent.591.com.tw/?kind=0&region=1&rentprice=5&shape=2&other=lift,cartplace,cook\"\n"
   ]
  },
  {
   "cell_type": "code",
   "execution_count": 10,
   "metadata": {},
   "outputs": [
    {
     "name": "stdout",
     "output_type": "stream",
     "text": [
      "===fetch:https://rent.591.com.tw/?kind=0&region=1&rentprice=5&shape=2&other=lift,cartplace,cook===\n",
      "region=1\n",
      "Page loaded\n",
      "Page loaded\n",
      "not the last page\n",
      "not the last page\n",
      "not the last page\n",
      "not the last page\n",
      "not the last page\n",
      "not the last page\n"
     ]
    },
    {
     "ename": "ElementClickInterceptedException",
     "evalue": "Message: element click intercepted: Element <a href=\"javascript:;\" data-first=\"180\" data-total=\"272\" class=\"pageNext\">...</a> is not clickable at point (833, 739). Other element would receive the click: <li class=\"pull-left infoContent\n\n        \n\n        \">...</li>\n  (Session info: chrome=89.0.4389.114)\n",
     "output_type": "error",
     "traceback": [
      "\u001b[0;31m---------------------------------------------------------------------------\u001b[0m",
      "\u001b[0;31mNoSuchElementException\u001b[0m                    Traceback (most recent call last)",
      "\u001b[0;32m<ipython-input-10-b32b219a636d>\u001b[0m in \u001b[0;36m<module>\u001b[0;34m\u001b[0m\n\u001b[1;32m     38\u001b[0m     \u001b[0;32mtry\u001b[0m\u001b[0;34m:\u001b[0m\u001b[0;34m\u001b[0m\u001b[0;34m\u001b[0m\u001b[0m\n\u001b[0;32m---> 39\u001b[0;31m         \u001b[0mbrowser\u001b[0m\u001b[0;34m.\u001b[0m\u001b[0mfind_element_by_css_selector\u001b[0m\u001b[0;34m(\u001b[0m\u001b[0;34m\".pageNext.last\"\u001b[0m\u001b[0;34m)\u001b[0m\u001b[0;34m\u001b[0m\u001b[0;34m\u001b[0m\u001b[0m\n\u001b[0m\u001b[1;32m     40\u001b[0m         \u001b[0mlast_page\u001b[0m \u001b[0;34m=\u001b[0m \u001b[0;32mTrue\u001b[0m\u001b[0;34m\u001b[0m\u001b[0;34m\u001b[0m\u001b[0m\n",
      "\u001b[0;32m~/virtualENV/py3env/lib/python3.8/site-packages/selenium/webdriver/remote/webdriver.py\u001b[0m in \u001b[0;36mfind_element_by_css_selector\u001b[0;34m(self, css_selector)\u001b[0m\n\u001b[1;32m    597\u001b[0m         \"\"\"\n\u001b[0;32m--> 598\u001b[0;31m         \u001b[0;32mreturn\u001b[0m \u001b[0mself\u001b[0m\u001b[0;34m.\u001b[0m\u001b[0mfind_element\u001b[0m\u001b[0;34m(\u001b[0m\u001b[0mby\u001b[0m\u001b[0;34m=\u001b[0m\u001b[0mBy\u001b[0m\u001b[0;34m.\u001b[0m\u001b[0mCSS_SELECTOR\u001b[0m\u001b[0;34m,\u001b[0m \u001b[0mvalue\u001b[0m\u001b[0;34m=\u001b[0m\u001b[0mcss_selector\u001b[0m\u001b[0;34m)\u001b[0m\u001b[0;34m\u001b[0m\u001b[0;34m\u001b[0m\u001b[0m\n\u001b[0m\u001b[1;32m    599\u001b[0m \u001b[0;34m\u001b[0m\u001b[0m\n",
      "\u001b[0;32m~/virtualENV/py3env/lib/python3.8/site-packages/selenium/webdriver/remote/webdriver.py\u001b[0m in \u001b[0;36mfind_element\u001b[0;34m(self, by, value)\u001b[0m\n\u001b[1;32m    975\u001b[0m                 \u001b[0mvalue\u001b[0m \u001b[0;34m=\u001b[0m \u001b[0;34m'[name=\"%s\"]'\u001b[0m \u001b[0;34m%\u001b[0m \u001b[0mvalue\u001b[0m\u001b[0;34m\u001b[0m\u001b[0;34m\u001b[0m\u001b[0m\n\u001b[0;32m--> 976\u001b[0;31m         return self.execute(Command.FIND_ELEMENT, {\n\u001b[0m\u001b[1;32m    977\u001b[0m             \u001b[0;34m'using'\u001b[0m\u001b[0;34m:\u001b[0m \u001b[0mby\u001b[0m\u001b[0;34m,\u001b[0m\u001b[0;34m\u001b[0m\u001b[0;34m\u001b[0m\u001b[0m\n",
      "\u001b[0;32m~/virtualENV/py3env/lib/python3.8/site-packages/selenium/webdriver/remote/webdriver.py\u001b[0m in \u001b[0;36mexecute\u001b[0;34m(self, driver_command, params)\u001b[0m\n\u001b[1;32m    320\u001b[0m         \u001b[0;32mif\u001b[0m \u001b[0mresponse\u001b[0m\u001b[0;34m:\u001b[0m\u001b[0;34m\u001b[0m\u001b[0;34m\u001b[0m\u001b[0m\n\u001b[0;32m--> 321\u001b[0;31m             \u001b[0mself\u001b[0m\u001b[0;34m.\u001b[0m\u001b[0merror_handler\u001b[0m\u001b[0;34m.\u001b[0m\u001b[0mcheck_response\u001b[0m\u001b[0;34m(\u001b[0m\u001b[0mresponse\u001b[0m\u001b[0;34m)\u001b[0m\u001b[0;34m\u001b[0m\u001b[0;34m\u001b[0m\u001b[0m\n\u001b[0m\u001b[1;32m    322\u001b[0m             response['value'] = self._unwrap_value(\n",
      "\u001b[0;32m~/virtualENV/py3env/lib/python3.8/site-packages/selenium/webdriver/remote/errorhandler.py\u001b[0m in \u001b[0;36mcheck_response\u001b[0;34m(self, response)\u001b[0m\n\u001b[1;32m    241\u001b[0m             \u001b[0;32mraise\u001b[0m \u001b[0mexception_class\u001b[0m\u001b[0;34m(\u001b[0m\u001b[0mmessage\u001b[0m\u001b[0;34m,\u001b[0m \u001b[0mscreen\u001b[0m\u001b[0;34m,\u001b[0m \u001b[0mstacktrace\u001b[0m\u001b[0;34m,\u001b[0m \u001b[0malert_text\u001b[0m\u001b[0;34m)\u001b[0m\u001b[0;34m\u001b[0m\u001b[0;34m\u001b[0m\u001b[0m\n\u001b[0;32m--> 242\u001b[0;31m         \u001b[0;32mraise\u001b[0m \u001b[0mexception_class\u001b[0m\u001b[0;34m(\u001b[0m\u001b[0mmessage\u001b[0m\u001b[0;34m,\u001b[0m \u001b[0mscreen\u001b[0m\u001b[0;34m,\u001b[0m \u001b[0mstacktrace\u001b[0m\u001b[0;34m)\u001b[0m\u001b[0;34m\u001b[0m\u001b[0;34m\u001b[0m\u001b[0m\n\u001b[0m\u001b[1;32m    243\u001b[0m \u001b[0;34m\u001b[0m\u001b[0m\n",
      "\u001b[0;31mNoSuchElementException\u001b[0m: Message: no such element: Unable to locate element: {\"method\":\"css selector\",\"selector\":\".pageNext.last\"}\n  (Session info: chrome=89.0.4389.114)\n",
      "\nDuring handling of the above exception, another exception occurred:\n",
      "\u001b[0;31mElementClickInterceptedException\u001b[0m          Traceback (most recent call last)",
      "\u001b[0;32m<ipython-input-10-b32b219a636d>\u001b[0m in \u001b[0;36m<module>\u001b[0;34m\u001b[0m\n\u001b[1;32m     42\u001b[0m     \u001b[0;32mexcept\u001b[0m\u001b[0;34m:\u001b[0m\u001b[0;34m\u001b[0m\u001b[0;34m\u001b[0m\u001b[0m\n\u001b[1;32m     43\u001b[0m         \u001b[0mprint\u001b[0m\u001b[0;34m(\u001b[0m\u001b[0;34m\"not the last page\"\u001b[0m\u001b[0;34m)\u001b[0m\u001b[0;34m\u001b[0m\u001b[0;34m\u001b[0m\u001b[0m\n\u001b[0;32m---> 44\u001b[0;31m         \u001b[0mbrowser\u001b[0m\u001b[0;34m.\u001b[0m\u001b[0mfind_element_by_css_selector\u001b[0m\u001b[0;34m(\u001b[0m\u001b[0;34m\".pageNext\"\u001b[0m\u001b[0;34m)\u001b[0m\u001b[0;34m.\u001b[0m\u001b[0mclick\u001b[0m\u001b[0;34m(\u001b[0m\u001b[0;34m)\u001b[0m\u001b[0;34m\u001b[0m\u001b[0;34m\u001b[0m\u001b[0m\n\u001b[0m\u001b[1;32m     45\u001b[0m         \u001b[0msleep\u001b[0m\u001b[0;34m(\u001b[0m\u001b[0;36m5\u001b[0m\u001b[0;34m)\u001b[0m\u001b[0;34m\u001b[0m\u001b[0;34m\u001b[0m\u001b[0m\n\u001b[1;32m     46\u001b[0m \u001b[0;34m\u001b[0m\u001b[0m\n",
      "\u001b[0;32m~/virtualENV/py3env/lib/python3.8/site-packages/selenium/webdriver/remote/webelement.py\u001b[0m in \u001b[0;36mclick\u001b[0;34m(self)\u001b[0m\n\u001b[1;32m     78\u001b[0m     \u001b[0;32mdef\u001b[0m \u001b[0mclick\u001b[0m\u001b[0;34m(\u001b[0m\u001b[0mself\u001b[0m\u001b[0;34m)\u001b[0m\u001b[0;34m:\u001b[0m\u001b[0;34m\u001b[0m\u001b[0;34m\u001b[0m\u001b[0m\n\u001b[1;32m     79\u001b[0m         \u001b[0;34m\"\"\"Clicks the element.\"\"\"\u001b[0m\u001b[0;34m\u001b[0m\u001b[0;34m\u001b[0m\u001b[0m\n\u001b[0;32m---> 80\u001b[0;31m         \u001b[0mself\u001b[0m\u001b[0;34m.\u001b[0m\u001b[0m_execute\u001b[0m\u001b[0;34m(\u001b[0m\u001b[0mCommand\u001b[0m\u001b[0;34m.\u001b[0m\u001b[0mCLICK_ELEMENT\u001b[0m\u001b[0;34m)\u001b[0m\u001b[0;34m\u001b[0m\u001b[0;34m\u001b[0m\u001b[0m\n\u001b[0m\u001b[1;32m     81\u001b[0m \u001b[0;34m\u001b[0m\u001b[0m\n\u001b[1;32m     82\u001b[0m     \u001b[0;32mdef\u001b[0m \u001b[0msubmit\u001b[0m\u001b[0;34m(\u001b[0m\u001b[0mself\u001b[0m\u001b[0;34m)\u001b[0m\u001b[0;34m:\u001b[0m\u001b[0;34m\u001b[0m\u001b[0;34m\u001b[0m\u001b[0m\n",
      "\u001b[0;32m~/virtualENV/py3env/lib/python3.8/site-packages/selenium/webdriver/remote/webelement.py\u001b[0m in \u001b[0;36m_execute\u001b[0;34m(self, command, params)\u001b[0m\n\u001b[1;32m    631\u001b[0m             \u001b[0mparams\u001b[0m \u001b[0;34m=\u001b[0m \u001b[0;34m{\u001b[0m\u001b[0;34m}\u001b[0m\u001b[0;34m\u001b[0m\u001b[0;34m\u001b[0m\u001b[0m\n\u001b[1;32m    632\u001b[0m         \u001b[0mparams\u001b[0m\u001b[0;34m[\u001b[0m\u001b[0;34m'id'\u001b[0m\u001b[0;34m]\u001b[0m \u001b[0;34m=\u001b[0m \u001b[0mself\u001b[0m\u001b[0;34m.\u001b[0m\u001b[0m_id\u001b[0m\u001b[0;34m\u001b[0m\u001b[0;34m\u001b[0m\u001b[0m\n\u001b[0;32m--> 633\u001b[0;31m         \u001b[0;32mreturn\u001b[0m \u001b[0mself\u001b[0m\u001b[0;34m.\u001b[0m\u001b[0m_parent\u001b[0m\u001b[0;34m.\u001b[0m\u001b[0mexecute\u001b[0m\u001b[0;34m(\u001b[0m\u001b[0mcommand\u001b[0m\u001b[0;34m,\u001b[0m \u001b[0mparams\u001b[0m\u001b[0;34m)\u001b[0m\u001b[0;34m\u001b[0m\u001b[0;34m\u001b[0m\u001b[0m\n\u001b[0m\u001b[1;32m    634\u001b[0m \u001b[0;34m\u001b[0m\u001b[0m\n\u001b[1;32m    635\u001b[0m     \u001b[0;32mdef\u001b[0m \u001b[0mfind_element\u001b[0m\u001b[0;34m(\u001b[0m\u001b[0mself\u001b[0m\u001b[0;34m,\u001b[0m \u001b[0mby\u001b[0m\u001b[0;34m=\u001b[0m\u001b[0mBy\u001b[0m\u001b[0;34m.\u001b[0m\u001b[0mID\u001b[0m\u001b[0;34m,\u001b[0m \u001b[0mvalue\u001b[0m\u001b[0;34m=\u001b[0m\u001b[0;32mNone\u001b[0m\u001b[0;34m)\u001b[0m\u001b[0;34m:\u001b[0m\u001b[0;34m\u001b[0m\u001b[0;34m\u001b[0m\u001b[0m\n",
      "\u001b[0;32m~/virtualENV/py3env/lib/python3.8/site-packages/selenium/webdriver/remote/webdriver.py\u001b[0m in \u001b[0;36mexecute\u001b[0;34m(self, driver_command, params)\u001b[0m\n\u001b[1;32m    319\u001b[0m         \u001b[0mresponse\u001b[0m \u001b[0;34m=\u001b[0m \u001b[0mself\u001b[0m\u001b[0;34m.\u001b[0m\u001b[0mcommand_executor\u001b[0m\u001b[0;34m.\u001b[0m\u001b[0mexecute\u001b[0m\u001b[0;34m(\u001b[0m\u001b[0mdriver_command\u001b[0m\u001b[0;34m,\u001b[0m \u001b[0mparams\u001b[0m\u001b[0;34m)\u001b[0m\u001b[0;34m\u001b[0m\u001b[0;34m\u001b[0m\u001b[0m\n\u001b[1;32m    320\u001b[0m         \u001b[0;32mif\u001b[0m \u001b[0mresponse\u001b[0m\u001b[0;34m:\u001b[0m\u001b[0;34m\u001b[0m\u001b[0;34m\u001b[0m\u001b[0m\n\u001b[0;32m--> 321\u001b[0;31m             \u001b[0mself\u001b[0m\u001b[0;34m.\u001b[0m\u001b[0merror_handler\u001b[0m\u001b[0;34m.\u001b[0m\u001b[0mcheck_response\u001b[0m\u001b[0;34m(\u001b[0m\u001b[0mresponse\u001b[0m\u001b[0;34m)\u001b[0m\u001b[0;34m\u001b[0m\u001b[0;34m\u001b[0m\u001b[0m\n\u001b[0m\u001b[1;32m    322\u001b[0m             response['value'] = self._unwrap_value(\n\u001b[1;32m    323\u001b[0m                 response.get('value', None))\n",
      "\u001b[0;32m~/virtualENV/py3env/lib/python3.8/site-packages/selenium/webdriver/remote/errorhandler.py\u001b[0m in \u001b[0;36mcheck_response\u001b[0;34m(self, response)\u001b[0m\n\u001b[1;32m    240\u001b[0m                 \u001b[0malert_text\u001b[0m \u001b[0;34m=\u001b[0m \u001b[0mvalue\u001b[0m\u001b[0;34m[\u001b[0m\u001b[0;34m'alert'\u001b[0m\u001b[0;34m]\u001b[0m\u001b[0;34m.\u001b[0m\u001b[0mget\u001b[0m\u001b[0;34m(\u001b[0m\u001b[0;34m'text'\u001b[0m\u001b[0;34m)\u001b[0m\u001b[0;34m\u001b[0m\u001b[0;34m\u001b[0m\u001b[0m\n\u001b[1;32m    241\u001b[0m             \u001b[0;32mraise\u001b[0m \u001b[0mexception_class\u001b[0m\u001b[0;34m(\u001b[0m\u001b[0mmessage\u001b[0m\u001b[0;34m,\u001b[0m \u001b[0mscreen\u001b[0m\u001b[0;34m,\u001b[0m \u001b[0mstacktrace\u001b[0m\u001b[0;34m,\u001b[0m \u001b[0malert_text\u001b[0m\u001b[0;34m)\u001b[0m\u001b[0;34m\u001b[0m\u001b[0;34m\u001b[0m\u001b[0m\n\u001b[0;32m--> 242\u001b[0;31m         \u001b[0;32mraise\u001b[0m \u001b[0mexception_class\u001b[0m\u001b[0;34m(\u001b[0m\u001b[0mmessage\u001b[0m\u001b[0;34m,\u001b[0m \u001b[0mscreen\u001b[0m\u001b[0;34m,\u001b[0m \u001b[0mstacktrace\u001b[0m\u001b[0;34m)\u001b[0m\u001b[0;34m\u001b[0m\u001b[0;34m\u001b[0m\u001b[0m\n\u001b[0m\u001b[1;32m    243\u001b[0m \u001b[0;34m\u001b[0m\u001b[0m\n\u001b[1;32m    244\u001b[0m     \u001b[0;32mdef\u001b[0m \u001b[0m_value_or_default\u001b[0m\u001b[0;34m(\u001b[0m\u001b[0mself\u001b[0m\u001b[0;34m,\u001b[0m \u001b[0mobj\u001b[0m\u001b[0;34m,\u001b[0m \u001b[0mkey\u001b[0m\u001b[0;34m,\u001b[0m \u001b[0mdefault\u001b[0m\u001b[0;34m)\u001b[0m\u001b[0;34m:\u001b[0m\u001b[0;34m\u001b[0m\u001b[0;34m\u001b[0m\u001b[0m\n",
      "\u001b[0;31mElementClickInterceptedException\u001b[0m: Message: element click intercepted: Element <a href=\"javascript:;\" data-first=\"180\" data-total=\"272\" class=\"pageNext\">...</a> is not clickable at point (833, 739). Other element would receive the click: <li class=\"pull-left infoContent\n\n        \n\n        \">...</li>\n  (Session info: chrome=89.0.4389.114)\n"
     ]
    }
   ],
   "source": [
    "print(f\"===fetch:{url}===\")\n",
    "\n",
    "pattern = r\".*&region=(\\d).*\"\n",
    "region = re.match(pattern, url).group(1)\n",
    "\n",
    "print(f\"region={region}\")\n",
    "\n",
    "# engine = selenium_engine()\n",
    "# browser = engine.browser\n",
    "browser.get(url)\n",
    "timeout = 3\n",
    "try:\n",
    "    element_present = EC.presence_of_element_located((By.ID, \"area-box-close\"))\n",
    "    WebDriverWait(browser, timeout).until(element_present)\n",
    "    browser.find_element_by_css_selector(f'[data-id=\"{region}\"]').click()\n",
    "except TimeoutException:\n",
    "    print(\"Timed out waiting for page to load\")\n",
    "finally:\n",
    "    print(\"Page loaded\")\n",
    "\n",
    "timeout = 10\n",
    "try:\n",
    "    element_present = EC.presence_of_element_located((By.CLASS_NAME, \"pageBar\"))\n",
    "    WebDriverWait(browser, timeout).until(element_present)\n",
    "except TimeoutException:\n",
    "    print(\"Timed out waiting for page to load\")\n",
    "finally:\n",
    "    print(\"Page loaded\")    \n",
    "\n",
    "sleep(5)    \n",
    "\n",
    "data_soup_list = []\n",
    "last_page = False\n",
    "while last_page is False:\n",
    "    data_soup = BeautifulSoup(browser.page_source, 'html.parser')\n",
    "    data_soup_list.append(data_soup)\n",
    "\n",
    "    try:\n",
    "        browser.find_element_by_css_selector(\".pageNext.last\")\n",
    "        last_page = True\n",
    "        print(\"last page\")\n",
    "    except:\n",
    "        print(\"not the last page\")\n",
    "        browser.find_element_by_css_selector(\".pageNext\").click()\n",
    "        sleep(5)\n",
    "\n",
    "\n",
    "browser.quit()\n",
    "print(f\"===fetch:{url} done===\")"
   ]
  },
  {
   "cell_type": "code",
   "execution_count": null,
   "metadata": {},
   "outputs": [],
   "source": []
  },
  {
   "cell_type": "code",
   "execution_count": 97,
   "metadata": {},
   "outputs": [],
   "source": [
    "class leju_crawler:\n",
    "    def __init__(self):\n",
    "#         software_names = [SoftwareName.CHROME.value]\n",
    "#         operating_systems = [OperatingSystem.WINDOWS.value, OperatingSystem.LINUX.value]\n",
    "#         user_agent_rotator = UserAgent(\n",
    "#             software_names = software_names,\n",
    "#             operating_systems = operating_systems,\n",
    "#             limit = 100\n",
    "#         )\n",
    "\n",
    "#         self.user_agent = user_agent_rotator.get_random_user_agent()\n",
    "#         print(user_agent)\n",
    "\n",
    "        self.user_agent = 'Mozilla/5.0 (X11; Linux x86_64) AppleWebKit/537.36 (KHTML, like Gecko) Chrome/60.0.3112.50 Safari/537.36'\n",
    "\n",
    "        chrome_options = Options()\n",
    "        chrome_options.add_argument('--incognito')\n",
    "        chrome_options.add_argument('headless')\n",
    "        chrome_options.add_argument('--no-sandbox')\n",
    "        chrome_options.add_argument('--window-size=1420,1080')\n",
    "        chrome_options.add_argument(\"--disable-gpu\")\n",
    "        # chrome_options.add_argument(f'user-agent={user_agent}')\n",
    "        # chrome_options.add_experimental_option(\"excludeSwitches\", ['enable-automation'])\n",
    "        # chrome_options.add_argument(\"--disable-blink-features\");\n",
    "        # chrome_options.add_argument(\"--disable-blink-features=AutomationControlled\");\n",
    "        # driver = webdriver.Chrome(options=chrome_options)\n",
    "        executable_path=os.getcwd()+'/chromedriver_6'\n",
    "#         print(executable_path)\n",
    "\n",
    "        self.browser = webdriver.Chrome(executable_path=executable_path, options=chrome_options)\n",
    "    \n",
    "    \n",
    "        \n",
    "    \n",
    "    def fetch_data(self, url):\n",
    "        browser = self.browser\n",
    "        browser.get(url)\n",
    "        sleep(10)\n",
    "        data_soup = BeautifulSoup(browser.page_source, 'html.parser')\n",
    "#         print(data_soup)\n",
    "        browser.quit()\n",
    "        \n",
    "        return data_soup\n",
    "        \n",
    "    def get_title(self, data):\n",
    "        title = data.find('title').string\n",
    "        \n",
    "        return title\n",
    "        \n",
    "    def get_price_info(self, data):\n",
    "        avg_price = data.find('div', class_='avg_house_price_val').text\n",
    "        max_price = data.find('div', class_='max_house_price_val').text\n",
    "        min_price = data.find('div', class_='min_house_price_val').text\n",
    "        this_year_avg_price = data.find('div', class_='avg_date_house_price_val').text\n",
    "        \n",
    "        info = {\n",
    "            'avg_price': avg_price,\n",
    "            'max_price': max_price, \n",
    "            'min_price': min_price,\n",
    "            'this_year_avg_price': this_year_avg_price\n",
    "        }\n",
    "        \n",
    "        return info\n",
    "    \n",
    "    def get_basic_info(self, data):\n",
    "        building_title = data.find('article', class_='building_title').text\n",
    "        households = data.find('article', class_='households').text\n",
    "        house_year = data.find('article', class_='house_year').text\n",
    "        ttotal_floor = data.find('article', class_='ttotal_floor').text\n",
    "        elementary = data.find('article', class_='elementary').text\n",
    "        junior = data.find('article', class_='junior').text\n",
    "        developer1 = data.find('article', class_='developer1').text\n",
    "        \n",
    "        basic_info = {\n",
    "            'building_title': building_title,\n",
    "            'households': households,\n",
    "            'house_year': house_year,\n",
    "            'ttotal_floor': ttotal_floor,\n",
    "            'elementary': elementary,\n",
    "            'junior': junior,\n",
    "            'developer1': developer1,\n",
    "        }\n",
    "        \n",
    "        return basic_info\n",
    "        \n",
    "        \n",
    "    def get_sale_items(self, data):\n",
    "        items = data.find_all('div', class_='sales-item-box')\n",
    "        sale_items = []\n",
    "        for item in items:\n",
    "            floor = item.find('span').text\n",
    "            title = item.find('a').text\n",
    "            link = item.find('a')['href']\n",
    "            price = item.find_all('li')[1].text\n",
    "            area = item.find_all('li')[0].text\n",
    "            \n",
    "            data = {\n",
    "                'floor': floor,\n",
    "                'title': title,\n",
    "                'link': link,\n",
    "                'price': price,\n",
    "                'area': area,\n",
    "            }\n",
    "            \n",
    "            sale_items.append(data)\n",
    "            \n",
    "        return sale_items\n",
    "            \n",
    "        \n",
    "            \n",
    "        \n",
    "    def get_data_json(self, data):\n",
    "        title = self.get_title(data)\n",
    "        price_info = self.get_price_info(data)\n",
    "        basic_info =self.get_basic_info(data)\n",
    "        sale_items = self.get_sale_items(data)\n",
    "        \n",
    "        data_json = {\n",
    "            \"title\": title,\n",
    "            'price_info': price_info,\n",
    "            'basic_info': basic_info,\n",
    "            'sale_items': sale_items\n",
    "        }\n",
    "        \n",
    "        return data_json\n",
    "        \n",
    "        \n",
    "        "
   ]
  },
  {
   "cell_type": "code",
   "execution_count": 106,
   "metadata": {},
   "outputs": [],
   "source": [
    "# import gspread\n",
    "# from oauth2client.service_account import ServiceAccountCredentials\n",
    "# import os\n",
    "\n",
    "\n",
    "# class sheet_worker:\n",
    "#     def get_hash_str(self,data):\n",
    "#         hash_str = abs(hash(data)) % (10 ** 8)\n",
    "#         return hash_str\n",
    "        \n",
    "#     def get_sheet(self, sheet_key):\n",
    "#         scopes = [\"https://spreadsheets.google.com/feeds\"]\n",
    "#         current_path = os.getcwd()\n",
    "#         credentials = ServiceAccountCredentials.from_json_keyfile_name(current_path+\"/cred.json\", scopes)\n",
    "#         gss_client = gspread.authorize(credentials)\n",
    "#         spreadsheet_key_path = sheet_key\n",
    "#         sheet = gss_client.open_by_key(spreadsheet_key_path)\n",
    "#         return sheet\n",
    "    \n",
    "#     def data_to_sheet_value_list(self, data):\n",
    "#         profile = json.loads(data)\n",
    "#         title = profile['title']\n",
    "#         price_info = profile['price_info']\n",
    "#         basic_info = profile['basic_info']\n",
    "\n",
    "#         sale_items = profile['sale_items']\n",
    "#         sheet_value_list = []\n",
    "#         for sale_item in sale_items:\n",
    "#             floor = sale_item['floor']\n",
    "#             sub_title = sale_item['title']\n",
    "#             link = sale_item['link']\n",
    "#             price = sale_item['price']\n",
    "#             area = sale_item['area']\n",
    "\n",
    "#             sheet_value = [\n",
    "#                 str(title),\n",
    "#                 str(price_info),\n",
    "#                 str(basic_info),\n",
    "#                 floor,\n",
    "#                 sub_title,\n",
    "#                 link,\n",
    "#                 price,\n",
    "#                 area\n",
    "#             ]\n",
    "\n",
    "#             sheet_value_str = \"\".join(sheet_value)\n",
    "#             hash_str = self.get_hash_str(sheet_value_str)\n",
    "#             sheet_value.append(hash_str)\n",
    "#             sheet_value_list.append(sheet_value)\n",
    "            \n",
    "#         return sheet_value_list\n",
    "        \n",
    "        \n",
    "#     def run(self, data):\n",
    "#         sheet_key = '15V1XD3p_mD8SSP_TQkY2PwYTM_FjOAXQXD1GuJcrpfI'\n",
    "#         sheet = self.get_sheet(sheet_key)\n",
    "#         sheet_bot = sheet.worksheet('bot')\n",
    "\n",
    "#         profile_list = data['profile']\n",
    "#         for profile in profile_list:\n",
    "#             sheet_value_list = self.data_to_sheet_value_list(profile)\n",
    "#             print(sheet_value_list)\n",
    "        \n",
    "#         sheet_row_cnt = 2\n",
    "#         for sheet_value in sheet_value_list:\n",
    "#             sheet_bot.insert_row(sheet_value, sheet_row_cnt)\n",
    "#             sheet_row_cnt +=1\n",
    "            \n",
    "            \n",
    "            \n",
    "from util.gsheet import gsheet_worker "
   ]
  },
  {
   "cell_type": "code",
   "execution_count": 99,
   "metadata": {},
   "outputs": [
    {
     "name": "stdout",
     "output_type": "stream",
     "text": [
      "{'profile': ['{\"title\": \"麗軒珍寶-7筆交易紀錄，實價登錄平均成交價為52.33萬/坪  \", \"price_info\": {\"avg_price\": \"52.33萬/坪\", \"max_price\": \"56.16萬/坪\", \"min_price\": \"48.96萬/坪\", \"this_year_avg_price\": \"--萬/坪\"}, \"basic_info\": {\"building_title\": \"大同街50巷26號\", \"households\": \"32戶\", \"house_year\": \"19年\", \"ttotal_floor\": \"8\", \"elementary\": \"文聖國小(雙語)\", \"junior\": \"光復國中、江翠國中\", \"developer1\": \"珍寶事業\"}, \"sale_items\": [{\"floor\": \"6樓\", \"title\": \"自售～麗軒珍寶景觀3...\", \"link\": \"https://sale.591.com.tw/home/house/detail/2/8756933.html\", \"price\": \"總價2680萬\", \"area\": \"坪數47坪\"}, {\"floor\": \"2樓\", \"title\": \"江翠捷運珍寶三房\", \"link\": \"https://buy.yungching.com.tw/house/4587875\", \"price\": \"總價2298萬\", \"area\": \"坪數35.61坪\"}]}']}\n"
     ]
    }
   ],
   "source": [
    "url_list = [\n",
    "    \"https://www.leju.com.tw/page_search_result?oid=L37611690f7027\",\n",
    "]\n",
    "body = {'profile':[]}\n",
    "for url in url_list:\n",
    "    crawler = leju_crawler()\n",
    "    data = crawler.fetch_data(url)\n",
    "    data_json = crawler.get_data_json(data)\n",
    "#         data_json = json.loads(data_json)\n",
    "#         data_json = json.dumps(data_json, indent=4, sort_keys=True, ensure_ascii=False).encode('utf8')\n",
    "    data_json = json.dumps(data_json, ensure_ascii=False).encode('utf8')\n",
    "#         print(data_json.decode())\n",
    "    body['profile'].append(data_json.decode())\n",
    "    \n",
    "print(body)"
   ]
  },
  {
   "cell_type": "code",
   "execution_count": 107,
   "metadata": {},
   "outputs": [
    {
     "name": "stdout",
     "output_type": "stream",
     "text": [
      "[['麗軒珍寶-7筆交易紀錄，實價登錄平均成交價為52.33萬/坪  ', \"{'avg_price': '52.33萬/坪', 'max_price': '56.16萬/坪', 'min_price': '48.96萬/坪', 'this_year_avg_price': '--萬/坪'}\", \"{'building_title': '大同街50巷26號', 'households': '32戶', 'house_year': '19年', 'ttotal_floor': '8', 'elementary': '文聖國小(雙語)', 'junior': '光復國中、江翠國中', 'developer1': '珍寶事業'}\", '6樓', '自售～麗軒珍寶景觀3...', 'https://sale.591.com.tw/home/house/detail/2/8756933.html', '總價2680萬', '坪數47坪', 35932627], ['麗軒珍寶-7筆交易紀錄，實價登錄平均成交價為52.33萬/坪  ', \"{'avg_price': '52.33萬/坪', 'max_price': '56.16萬/坪', 'min_price': '48.96萬/坪', 'this_year_avg_price': '--萬/坪'}\", \"{'building_title': '大同街50巷26號', 'households': '32戶', 'house_year': '19年', 'ttotal_floor': '8', 'elementary': '文聖國小(雙語)', 'junior': '光復國中、江翠國中', 'developer1': '珍寶事業'}\", '2樓', '江翠捷運珍寶三房', 'https://buy.yungching.com.tw/house/4587875', '總價2298萬', '坪數35.61坪', 55442021]]\n"
     ]
    }
   ],
   "source": [
    "\n",
    "sht_worker = gsheet_worker()\n",
    "sht_worker.run(body)\n"
   ]
  },
  {
   "cell_type": "code",
   "execution_count": 96,
   "metadata": {},
   "outputs": [],
   "source": [
    "# item = data.find_all('div', class_='sales-item-box')[1]\n",
    "# # print(item)\n",
    "# item.find_all('li')[0].text"
   ]
  },
  {
   "cell_type": "code",
   "execution_count": null,
   "metadata": {},
   "outputs": [],
   "source": []
  },
  {
   "cell_type": "code",
   "execution_count": null,
   "metadata": {},
   "outputs": [],
   "source": []
  }
 ],
 "metadata": {
  "kernelspec": {
   "display_name": "Python 3",
   "language": "python",
   "name": "python3"
  },
  "language_info": {
   "codemirror_mode": {
    "name": "ipython",
    "version": 3
   },
   "file_extension": ".py",
   "mimetype": "text/x-python",
   "name": "python",
   "nbconvert_exporter": "python",
   "pygments_lexer": "ipython3",
   "version": "3.8.2"
  }
 },
 "nbformat": 4,
 "nbformat_minor": 4
}
