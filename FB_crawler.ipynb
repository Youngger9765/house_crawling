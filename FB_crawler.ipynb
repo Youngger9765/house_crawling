{
 "cells": [
  {
   "cell_type": "code",
   "execution_count": 2,
   "metadata": {},
   "outputs": [
    {
     "data": {
      "text/plain": [
       "'/Users/Young/projects/house_crawling'"
      ]
     },
     "execution_count": 2,
     "metadata": {},
     "output_type": "execute_result"
    }
   ],
   "source": [
    "import os\n",
    "os.getcwd()"
   ]
  },
  {
   "cell_type": "code",
   "execution_count": 3,
   "metadata": {},
   "outputs": [
    {
     "name": "stdout",
     "output_type": "stream",
     "text": [
      "Requirement already satisfied: bs4 in /Users/Young/virtualENV/py3env/lib/python3.8/site-packages (0.0.1)\n",
      "Requirement already satisfied: beautifulsoup4 in /Users/Young/virtualENV/py3env/lib/python3.8/site-packages (from bs4) (4.9.3)\n",
      "Requirement already satisfied: soupsieve>1.2 in /Users/Young/virtualENV/py3env/lib/python3.8/site-packages (from beautifulsoup4->bs4) (2.2.1)\n",
      "\u001b[33mWARNING: You are using pip version 21.0.1; however, version 22.0.4 is available.\n",
      "You should consider upgrading via the '/Users/Young/virtualENV/py3env/bin/python -m pip install --upgrade pip' command.\u001b[0m\n",
      "Requirement already satisfied: webdriver_manager in /Users/Young/virtualENV/py3env/lib/python3.8/site-packages (3.3.0)\n",
      "Requirement already satisfied: requests in /Users/Young/virtualENV/py3env/lib/python3.8/site-packages (from webdriver_manager) (2.25.1)\n",
      "Requirement already satisfied: crayons in /Users/Young/virtualENV/py3env/lib/python3.8/site-packages (from webdriver_manager) (0.4.0)\n",
      "Requirement already satisfied: configparser in /Users/Young/virtualENV/py3env/lib/python3.8/site-packages (from webdriver_manager) (5.0.2)\n",
      "Requirement already satisfied: colorama in /Users/Young/virtualENV/py3env/lib/python3.8/site-packages (from crayons->webdriver_manager) (0.4.3)\n",
      "Requirement already satisfied: chardet<5,>=3.0.2 in /Users/Young/virtualENV/py3env/lib/python3.8/site-packages (from requests->webdriver_manager) (4.0.0)\n",
      "Requirement already satisfied: urllib3<1.27,>=1.21.1 in /Users/Young/virtualENV/py3env/lib/python3.8/site-packages (from requests->webdriver_manager) (1.26.4)\n",
      "Requirement already satisfied: idna<3,>=2.5 in /Users/Young/virtualENV/py3env/lib/python3.8/site-packages (from requests->webdriver_manager) (2.10)\n",
      "Requirement already satisfied: certifi>=2017.4.17 in /Users/Young/virtualENV/py3env/lib/python3.8/site-packages (from requests->webdriver_manager) (2020.12.5)\n",
      "\u001b[33mWARNING: You are using pip version 21.0.1; however, version 22.0.4 is available.\n",
      "You should consider upgrading via the '/Users/Young/virtualENV/py3env/bin/python -m pip install --upgrade pip' command.\u001b[0m\n",
      "Requirement already satisfied: selenium in /Users/Young/virtualENV/py3env/lib/python3.8/site-packages (3.141.0)\n",
      "Requirement already satisfied: urllib3 in /Users/Young/virtualENV/py3env/lib/python3.8/site-packages (from selenium) (1.26.4)\n",
      "\u001b[33mWARNING: You are using pip version 21.0.1; however, version 22.0.4 is available.\n",
      "You should consider upgrading via the '/Users/Young/virtualENV/py3env/bin/python -m pip install --upgrade pip' command.\u001b[0m\n",
      "Requirement already satisfied: random_user_agent in /Users/Young/virtualENV/py3env/lib/python3.8/site-packages (1.0.1)\n",
      "\u001b[33mWARNING: You are using pip version 21.0.1; however, version 22.0.4 is available.\n",
      "You should consider upgrading via the '/Users/Young/virtualENV/py3env/bin/python -m pip install --upgrade pip' command.\u001b[0m\n"
     ]
    }
   ],
   "source": [
    "!pip install bs4\n",
    "!pip install webdriver_manager\n",
    "!pip install selenium\n",
    "!pip install random_user_agent"
   ]
  },
  {
   "cell_type": "code",
   "execution_count": 4,
   "metadata": {},
   "outputs": [],
   "source": [
    "from selenium import webdriver\n",
    "import selenium\n",
    "import random_user_agent\n",
    "\n",
    "from selenium.common.exceptions import TimeoutException, WebDriverException\n",
    "from selenium.webdriver.chrome.options import Options\n",
    "from selenium.webdriver.common.by import By\n",
    "from selenium.webdriver.support.ui import WebDriverWait\n",
    "from selenium.webdriver.support import expected_conditions as EC\n",
    "from selenium.webdriver.common.proxy import Proxy, ProxyType \n",
    "\n",
    "from random_user_agent.user_agent import UserAgent\n",
    "from random_user_agent.params import SoftwareName, OperatingSystem\n",
    "\n",
    "from time import sleep\n",
    "from bs4 import BeautifulSoup\n",
    "from webdriver_manager.chrome import ChromeDriverManager\n",
    "import json\n",
    "import re"
   ]
  },
  {
   "cell_type": "code",
   "execution_count": 13,
   "metadata": {},
   "outputs": [
    {
     "name": "stderr",
     "output_type": "stream",
     "text": [
      "[WDM] - ====== WebDriver manager ======\n",
      "[WDM] - Current google-chrome version is 99.0.4844\n",
      "[WDM] - Get LATEST driver version for 99.0.4844\n"
     ]
    },
    {
     "name": "stdout",
     "output_type": "stream",
     "text": [
      "\n",
      "\n"
     ]
    },
    {
     "name": "stderr",
     "output_type": "stream",
     "text": [
      "[WDM] - Driver [/Users/Young/.wdm/drivers/chromedriver/mac64/99.0.4844.51/chromedriver] found in cache\n"
     ]
    }
   ],
   "source": [
    "user_agent = 'Mozilla/5.0 (X11; Linux x86_64) AppleWebKit/537.36 (KHTML, like Gecko) Chrome/60.0.3112.50 Safari/537.36'\n",
    "\n",
    "chrome_options = Options()\n",
    "chrome_options.add_argument('--incognito')\n",
    "# chrome_options.add_argument('headless')\n",
    "chrome_options.add_argument('--no-sandbox')\n",
    "chrome_options.add_argument('--window-size=1420,1080')\n",
    "chrome_options.add_argument(\"--disable-gpu\")\n",
    "\n",
    "from webdriver_manager.utils import ChromeType\n",
    "browser = webdriver.Chrome(ChromeDriverManager(chrome_type=ChromeType.GOOGLE).install(), options=chrome_options)\n"
   ]
  },
  {
   "cell_type": "code",
   "execution_count": 14,
   "metadata": {},
   "outputs": [],
   "source": [
    "# fetch_data\n",
    "url = \"https://www.facebook.com/groups/softthinking\"\n",
    "\n",
    "browser.get(url)\n",
    "sleep(10)"
   ]
  },
  {
   "cell_type": "code",
   "execution_count": 15,
   "metadata": {},
   "outputs": [
    {
     "name": "stdout",
     "output_type": "stream",
     "text": [
      "===fetch:https://www.facebook.com/groups/softthinking done===\n"
     ]
    }
   ],
   "source": [
    "# scroll down\n",
    "for i in range(5):\n",
    "    browser.execute_script(\"window.scrollTo(0, document.body.scrollHeight);\")\n",
    "    sleep(5)\n",
    "\n",
    "data_soup = BeautifulSoup(browser.page_source, 'html.parser')\n",
    "print(f\"===fetch:{url} done===\")"
   ]
  },
  {
   "cell_type": "code",
   "execution_count": 36,
   "metadata": {},
   "outputs": [
    {
     "data": {
      "text/plain": [
       "'What is Event-Driven Architecture Pattern ?'"
      ]
     },
     "execution_count": 36,
     "metadata": {},
     "output_type": "execute_result"
    }
   ],
   "source": [
    "# data_soup\n",
    "post_class_name = \".du4w35lb.k4urcfbm.l9j0dhe7.sjgh65i0 .rq0escxv.rq0escxv.l9j0dhe7.du4w35lb.hybvsw6c.io0zqebd.m5lcvass.fbipl8qg.nwvqtn77.k4urcfbm.ni8dbmo4.stjgntxs.sbcfpzgs\"\n",
    "title_class_name = \"h3\"\n",
    "sub_title_class_name = \"h4\"\n",
    "\n",
    "posts = data_soup.select(post_class_name)\n",
    "\n",
    "# fake\n",
    "post = posts[1]\n",
    "title = post.select_one(title_class_name).text\n",
    "sub_title = post.select_one(sub_title_class_name).text\n",
    "\n",
    "sub_title\n"
   ]
  },
  {
   "cell_type": "code",
   "execution_count": 31,
   "metadata": {},
   "outputs": [
    {
     "data": {
      "text/plain": [
       "<div class=\"rq0escxv l9j0dhe7 du4w35lb hybvsw6c io0zqebd m5lcvass fbipl8qg nwvqtn77 k4urcfbm ni8dbmo4 stjgntxs sbcfpzgs\" style=\"border-radius: max(0px, min(8px, ((100vw - 4px) - 100%) * 9999)) / 8px;\"><div><div></div><div><div><div class=\"\"></div><div><div class=\"ll8tlv6m j83agx80 btwxx1t3 n851cfcs hv4rvrfc dati1w0a pybr56ya\"><div class=\"oi9244e8 do00u71z j83agx80\"><span class=\"nc684nl6\"><a aria-hidden=\"true\" class=\"oajrlxb2 g5ia77u1 qu0x051f esr5mh6w e9989ue4 r7d6kgcz rq0escxv nhd2j8a9 nc684nl6 p7hjln8o kvgmc6g5 cxmmr5t8 oygrvhab hcukyx3x jb3vyjys rz4wbd8a qt6c0cv9 a8nywdso i1ao9s8h esuyzwwr f1sip0of lzcic4wl gpro0wi8 oo9gr5id\" href=\"https://www.facebook.com/gnimnek168?__cft__[0]=AZVoXp0SDGKlKlOHv2BeljZapdIhQA_Sxuf2PK29K7Z5oQ4WWCXB54F5H4U4JW_PELUK29tPvdj743o6KRp5AXvDqD34urNW-ykONqH5nd0xMPl84gf5M0hu0FiaG5eia5aPtPFnpAS8PpZ6FbswQKc1iHzzzwjJW-wtgmj_Z91knxBHMmW4OmjlwJOzY3zjnlXA-hEyS3h5R9JhQwckt050&amp;__tn__=%3C%2CP-R\" role=\"link\" tabindex=\"-1\"><div class=\"q676j6op qypqp5cg\"><object type=\"nested/pressable\"><a aria-label=\"Gnimnek Wang\" class=\"oajrlxb2 gs1a9yip g5ia77u1 mtkw9kbi tlpljxtp qensuy8j ppp5ayq2 goun2846 ccm00jje s44p3ltw mk2mc5f4 rt8b4zig n8ej3o3l agehan2d sk4xxmp2 rq0escxv nhd2j8a9 mg4g778l pfnyh3mw p7hjln8o kvgmc6g5 cxmmr5t8 oygrvhab hcukyx3x tgvbjcpo hpfvmrgz jb3vyjys rz4wbd8a qt6c0cv9 a8nywdso l9j0dhe7 i1ao9s8h esuyzwwr f1sip0of du4w35lb n00je7tq arfg74bv qs9ysxi8 k77z8yql btwxx1t3 abiwlrkh p8dawk7l lzcic4wl oo9gr5id q9uorilb\" href=\"https://www.facebook.com/gnimnek168?__cft__[0]=AZVoXp0SDGKlKlOHv2BeljZapdIhQA_Sxuf2PK29K7Z5oQ4WWCXB54F5H4U4JW_PELUK29tPvdj743o6KRp5AXvDqD34urNW-ykONqH5nd0xMPl84gf5M0hu0FiaG5eia5aPtPFnpAS8PpZ6FbswQKc1iHzzzwjJW-wtgmj_Z91knxBHMmW4OmjlwJOzY3zjnlXA-hEyS3h5R9JhQwckt050&amp;__tn__=%3C%3C%2CP-R\" role=\"link\" tabindex=\"0\"><div class=\"q9uorilb l9j0dhe7 pzggbiyp du4w35lb\"><svg aria-hidden=\"true\" class=\"pzggbiyp\" data-visualcompletion=\"ignore-dynamic\" role=\"none\" style=\"height: 40px; width: 40px;\"><mask id=\"jsc_c_12\"><circle cx=\"20\" cy=\"20\" fill=\"white\" r=\"20\"></circle></mask><g mask=\"url(#jsc_c_12)\"><image height=\"100%\" preserveaspectratio=\"xMidYMid slice\" style=\"height: 40px; width: 40px;\" width=\"100%\" x=\"0\" xlink:href=\"https://scontent.ftpe12-1.fna.fbcdn.net/v/t31.18172-1/12370719_919718594783309_4191783736747537141_o.jpg?stp=cp0_dst-jpg_p40x40&amp;_nc_cat=103&amp;ccb=1-5&amp;_nc_sid=7206a8&amp;_nc_ohc=1IbtLHuz2doAX9lGI-A&amp;_nc_ht=scontent.ftpe12-1.fna&amp;oh=00_AT97MHaS1Nx5_fHOzICb12pB-1HAXdyOSu0-3T7tOtfH8A&amp;oe=625A893A\" y=\"0\"/><circle class=\"mlqo0dh0 georvekb s6kb5r3f\" cx=\"20\" cy=\"20\" r=\"20\"></circle></g></svg><div class=\"i09qtzwb n7fi1qx3 b5wmifdl hzruof5a pmk7jnqg j9ispegn kr520xx4 c5ndavph art1omkt ot9fgl3s s45kfl79 emlxlaya bkmhp75w spb7xbtv\" data-visualcompletion=\"ignore\"></div></div></a></object></div></a></span></div><div class=\"buofh1pr\"><div class=\"j83agx80 cbu4d94t ew0dbk1b irj2b8pg\"><div class=\"qzhwtbm6 knvmm38d\"><span class=\"d2edcug0 hpfvmrgz qv66sw1b c1et5uql oi732d6d ik7dh3pa ht8s03o8 a8c37x1j fe6kdd0r mau55g9w c8b282yb keod5gw0 nxhoafnm aigsh9s9 d9wwppkn iv3no6db jq4qci2q a3bd9o3v b1v8xokw m9osqain hzawbc8m\" dir=\"auto\"><h2 class=\"gmql0nx0 l94mrbxd p1ri9a11 lzcic4wl aahdfvyu hzawbc8m\" id=\"jsc_c_w\"><span class=\"nc684nl6\"><a class=\"oajrlxb2 g5ia77u1 qu0x051f esr5mh6w e9989ue4 r7d6kgcz rq0escxv nhd2j8a9 nc684nl6 p7hjln8o kvgmc6g5 cxmmr5t8 oygrvhab hcukyx3x jb3vyjys rz4wbd8a qt6c0cv9 a8nywdso i1ao9s8h esuyzwwr f1sip0of lzcic4wl gpro0wi8 oo9gr5id lrazzd5p\" href=\"https://www.facebook.com/gnimnek168?__cft__[0]=AZVoXp0SDGKlKlOHv2BeljZapdIhQA_Sxuf2PK29K7Z5oQ4WWCXB54F5H4U4JW_PELUK29tPvdj743o6KRp5AXvDqD34urNW-ykONqH5nd0xMPl84gf5M0hu0FiaG5eia5aPtPFnpAS8PpZ6FbswQKc1iHzzzwjJW-wtgmj_Z91knxBHMmW4OmjlwJOzY3zjnlXA-hEyS3h5R9JhQwckt050&amp;__tn__=-UC%2CP-R\" role=\"link\" tabindex=\"0\"><strong><span>Gnimnek Wang</span></strong></a></span></h2></span></div><div class=\"qzhwtbm6 knvmm38d\"><span class=\"d2edcug0 hpfvmrgz qv66sw1b c1et5uql oi732d6d ik7dh3pa ht8s03o8 a8c37x1j fe6kdd0r mau55g9w c8b282yb keod5gw0 nxhoafnm aigsh9s9 d9wwppkn mdeji52x e9vueds3 j5wam9gi b1v8xokw m9osqain hzawbc8m\" dir=\"auto\"><span id=\"jsc_c_x\"><span class=\"jpp8pzdo\"><span><span class=\"rfua0xdk pmk7jnqg stjgntxs ni8dbmo4 ay7djpcl q45zohi1\"> </span><span aria-hidden=\"true\"> · </span></span></span><span><span class=\"tojvnm2t a6sixzi8 abs2jz4q a8s20v7p t1p8iaqh k5wvi7nf q3lfd5jv pk4s997a bipmatt0 cebpdrjk qowsmv63 owwhemhu dp1hu0rb dhp61c6y iyyx5f41\"><a aria-label=\"3月11日下午2:08\" class=\"oajrlxb2 g5ia77u1 qu0x051f esr5mh6w e9989ue4 r7d6kgcz rq0escxv nhd2j8a9 nc684nl6 p7hjln8o kvgmc6g5 cxmmr5t8 oygrvhab hcukyx3x jb3vyjys rz4wbd8a qt6c0cv9 a8nywdso i1ao9s8h esuyzwwr f1sip0of lzcic4wl gmql0nx0 gpro0wi8 b1v8xokw\" href=\"https://www.facebook.com/groups/softthinking/posts/1812839358921626/?__cft__[0]=AZVoXp0SDGKlKlOHv2BeljZapdIhQA_Sxuf2PK29K7Z5oQ4WWCXB54F5H4U4JW_PELUK29tPvdj743o6KRp5AXvDqD34urNW-ykONqH5nd0xMPl84gf5M0hu0FiaG5eia5aPtPFnpAS8PpZ6FbswQKc1iHzzzwjJW-wtgmj_Z91knxBHMmW4OmjlwJOzY3zjnlXA-hEyS3h5R9JhQwckt050&amp;__tn__=%2CO%2CP-R\" role=\"link\" tabindex=\"0\"><span>3月11日下午2:08</span></a></span></span><span class=\"jpp8pzdo\"><span><span class=\"rfua0xdk pmk7jnqg stjgntxs ni8dbmo4 ay7djpcl q45zohi1\"> </span><span aria-hidden=\"true\"> · </span></span></span><span class=\"g0qnabr5\"><span class=\"tojvnm2t a6sixzi8 abs2jz4q a8s20v7p t1p8iaqh k5wvi7nf q3lfd5jv pk4s997a bipmatt0 cebpdrjk qowsmv63 owwhemhu dp1hu0rb dhp61c6y iyyx5f41\"><span class=\"q9uorilb l9j0dhe7 bk00n993\"><svg class=\"a8c37x1j ms05siws hwsy1cff b7h9ocf4 py1f6qlh em6zcovv cyypbtt7 fwizqjfa\" height=\"1em\" title=\"分享對象：公開社團\" viewbox=\"0 0 16 16\" width=\"1em\"><title>分享對象：公開社團</title><g fill-rule=\"evenodd\" transform=\"translate(-448 -544)\"><g><path d=\"M109.5 408.5c0 3.23-2.04 5.983-4.903 7.036l.07-.036c1.167-1 1.814-2.967 2-3.834.214-1 .303-1.3-.5-1.96-.31-.253-.677-.196-1.04-.476-.246-.19-.356-.59-.606-.73-.594-.337-1.107.11-1.954.223a2.666 2.666 0 0 1-1.15-.123c-.007 0-.007 0-.013-.004l-.083-.03c-.164-.082-.077-.206.006-.36h-.006c.086-.17.086-.376-.05-.529-.19-.214-.54-.214-.804-.224-.106-.003-.21 0-.313.004l-.003-.004c-.04 0-.084.004-.124.004h-.037c-.323.007-.666-.034-.893-.314-.263-.353-.29-.733.097-1.09.28-.26.863-.8 1.807-.22.603.37 1.166.667 1.666.5.33-.11.48-.303.094-.87a1.128 1.128 0 0 1-.214-.73c.067-.776.687-.84 1.164-1.2.466-.356.68-.943.546-1.457-.106-.413-.51-.873-1.28-1.01a7.49 7.49 0 0 1 6.524 7.434\" transform=\"translate(354 143.5)\"></path><path d=\"M104.107 415.696A7.498 7.498 0 0 1 94.5 408.5a7.48 7.48 0 0 1 3.407-6.283 5.474 5.474 0 0 0-1.653 2.334c-.753 2.217-.217 4.075 2.29 4.075.833 0 1.4.561 1.333 2.375-.013.403.52 1.78 2.45 1.89.7.04 1.184 1.053 1.33 1.74.06.29.127.65.257.97a.174.174 0 0 0 .193.096\" transform=\"translate(354 143.5)\"></path><path d=\"M110 408.5a8 8 0 1 1-16 0 8 8 0 0 1 16 0zm-1 0a7 7 0 1 0-14 0 7 7 0 0 0 14 0z\" fill-rule=\"nonzero\" transform=\"translate(354 143.5)\"></path></g></g></svg></span></span></span></span></span></div></div></div></div></div><div><div class=\"\" dir=\"auto\"><div class=\"dati1w0a ihqw7lf3 hv4rvrfc ecm0bbzt\" id=\"jsc_c_y\"><span class=\"d2edcug0 hpfvmrgz qv66sw1b c1et5uql oi732d6d ik7dh3pa ht8s03o8 a8c37x1j fe6kdd0r mau55g9w c8b282yb keod5gw0 nxhoafnm aigsh9s9 d9wwppkn iv3no6db jq4qci2q a3bd9o3v b1v8xokw oo9gr5id\" dir=\"auto\"><h3 class=\"gmql0nx0 l94mrbxd p1ri9a11 lzcic4wl n851cfcs\"><span class=\"d2edcug0 hpfvmrgz qv66sw1b c1et5uql oi732d6d ik7dh3pa ht8s03o8 o3w64lxj b2s5l15y b1v8xokw oo9gr5id\">架構模式 - Event Driven Pattern</span></h3><h4 class=\"gmql0nx0 l94mrbxd p1ri9a11 lzcic4wl oud54xpy sqxagodl ku2m03ct\"><span class=\"d2edcug0 hpfvmrgz qv66sw1b c1et5uql oi732d6d ik7dh3pa ht8s03o8 jq4qci2q a3bd9o3v hnhda86s m9osqain\">What is Event-Driven Architecture Pattern ?</span></h4><div class=\"bi6gxh9e\"><span class=\"d2edcug0 hpfvmrgz qv66sw1b c1et5uql oi732d6d ik7dh3pa ht8s03o8 jq4qci2q a3bd9o3v b1v8xokw oo9gr5id\">一個事件驅動的架構 (event-driven architecture, EDA) 提升並回應事件。事件生產者 (producer) 觸發事件，這些事件通過事件通道 (event channel) 作為訊息 (message) 到達感興趣的消費者 (consumer)。生產者與異步 (asynchronously) 處理訊息的事件接受者 (event recipients) 是寬鬆耦合 (loosely coupled) 的，或完全解耦合 (decoupled)。</span></div><div class=\"bi6gxh9e\"><span class=\"d2edcug0 hpfvmrgz qv66sw1b c1et5uql oi732d6d ik7dh3pa ht8s03o8 jq4qci2q a3bd9o3v b1v8xokw oo9gr5id\"></span></div><div class=\"bi6gxh9e\"><span class=\"d2edcug0 hpfvmrgz qv66sw1b c1et5uql oi732d6d ik7dh3pa ht8s03o8 jq4qci2q a3bd9o3v b1v8xokw oo9gr5id\">參考附圖，一個基本的事件驅動架構由產生事件流 (event stream) 的事件生產者、事件通道 (event channel)，也可稱之為「bus (匯流排)」或「broker (代理者)」和監聽 (listen) 事件的事件消費者所組成。</span></div><div class=\"oajrlxb2 g5ia77u1 qu0x051f esr5mh6w e9989ue4 r7d6kgcz rq0escxv nhd2j8a9 nc684nl6 p7hjln8o kvgmc6g5 cxmmr5t8 oygrvhab hcukyx3x jb3vyjys rz4wbd8a qt6c0cv9 a8nywdso i1ao9s8h esuyzwwr f1sip0of lzcic4wl gpro0wi8 oo9gr5id lrazzd5p\" role=\"button\" tabindex=\"0\">顯示更多</div></span></div></div><div class=\"l9j0dhe7\" id=\"jsc_c_z\"><div class=\"l9j0dhe7\"><div><a class=\"oajrlxb2 gs1a9yip g5ia77u1 mtkw9kbi tlpljxtp qensuy8j ppp5ayq2 goun2846 ccm00jje s44p3ltw mk2mc5f4 rt8b4zig n8ej3o3l agehan2d sk4xxmp2 rq0escxv nhd2j8a9 mg4g778l pfnyh3mw p7hjln8o kvgmc6g5 cxmmr5t8 oygrvhab hcukyx3x tgvbjcpo hpfvmrgz jb3vyjys rz4wbd8a qt6c0cv9 a8nywdso l9j0dhe7 i1ao9s8h esuyzwwr f1sip0of du4w35lb n00je7tq arfg74bv qs9ysxi8 k77z8yql btwxx1t3 abiwlrkh p8dawk7l lzcic4wl a8c37x1j tm8avpzi\" href=\"https://www.facebook.com/photo/?fbid=4925755050846290&amp;set=gm.1812839358921626&amp;__cft__[0]=AZVoXp0SDGKlKlOHv2BeljZapdIhQA_Sxuf2PK29K7Z5oQ4WWCXB54F5H4U4JW_PELUK29tPvdj743o6KRp5AXvDqD34urNW-ykONqH5nd0xMPl84gf5M0hu0FiaG5eia5aPtPFnpAS8PpZ6FbswQKc1iHzzzwjJW-wtgmj_Z91knxBHMmW4OmjlwJOzY3zjnlXA-hEyS3h5R9JhQwckt050&amp;__tn__=EH-R\" role=\"link\" tabindex=\"0\"><div class=\"bp9cbjyn cwj9ozl2 j83agx80 cbu4d94t ni8dbmo4 stjgntxs l9j0dhe7 k4urcfbm\" style=\"background-color: rgb(255, 255, 255);\"><div style=\"max-width: 100%; min-width: 500px; width: calc((100vh + -325px) * 1.29815);\"><div class=\"do00u71z ni8dbmo4 stjgntxs l9j0dhe7\" style=\"padding-top: 77.0328%;\"><div class=\"pmk7jnqg kr520xx4\" style=\"height: 100%; left: 0%; width: calc(100%);\"><img alt=\"可能是顯示的文字是「 Event Producer Event Producer Event bus/broker Event Consumer Event Consumer Event Consumer 」的圖像\" class=\"i09qtzwb n7fi1qx3 datstx6m pmk7jnqg j9ispegn kr520xx4 k4urcfbm bixrwtb6\" height=\"540\" referrerpolicy=\"origin-when-cross-origin\" src=\"https://scontent.ftpe12-2.fna.fbcdn.net/v/t39.30808-6/275390191_4925755044179624_4661909318420659393_n.jpg?stp=dst-jpg_p180x540&amp;_nc_cat=109&amp;ccb=1-5&amp;_nc_sid=5cd70e&amp;_nc_ohc=yrV8XN3O7rcAX8fCW6b&amp;_nc_ht=scontent.ftpe12-2.fna&amp;oh=00_AT9MP2lDvnRtVctI2U9SuCzZRN-yyxmB2iwSAHQEZJ0ogQ&amp;oe=623AEB06\" width=\"701\"/></div></div></div></div><div class=\"linmgsc8 opwvks06 i09qtzwb n7fi1qx3 hzruof5a pmk7jnqg j9ispegn kr520xx4\"></div><div class=\"n00je7tq arfg74bv qs9ysxi8 k77z8yql i09qtzwb n7fi1qx3 b5wmifdl hzruof5a pmk7jnqg j9ispegn kr520xx4 c5ndavph art1omkt ot9fgl3s\" data-visualcompletion=\"ignore\"></div></a></div></div><div class=\"stjgntxs ni8dbmo4\"></div></div></div><div><div class=\"stjgntxs ni8dbmo4 l82x9zwi uo3d90p7 h905i5nu monazrh9\" data-visualcompletion=\"ignore-dynamic\"><div><div><div><div class=\"l9j0dhe7\"><div class=\"bp9cbjyn m9osqain j83agx80 jq4qci2q bkfpd7mw a3bd9o3v kvgmc6g5 wkznzc2l oygrvhab dhix69tm jktsbyx5 rz4wbd8a osnr6wyh a8nywdso s1tcr66n\"><div class=\"bp9cbjyn j83agx80 buofh1pr ni8dbmo4 stjgntxs\"><span aria-label=\"看看誰對這個傳達了心情\" class=\"du4w35lb\" role=\"toolbar\"><span class=\"bp9cbjyn j83agx80 b3onmgus\" id=\"jsc_c_11\"><span class=\"np69z8it et4y5ytx j7g94pet b74d5cxt qw6c0r16 kb8x4rkr ed597pkb omcyoz59 goun2846 ccm00jje s44p3ltw mk2mc5f4 qxh1up0x qtyiw8t4 tpcyxxvw k0bpgpbk hm271qws rl04r1d5 l9j0dhe7 ov9facns kavbgo14\"><span class=\"t0qjyqq4 jos75b7i j6sty90h kv0toi1t q9uorilb hm271qws ov9facns\"><span class=\"tojvnm2t a6sixzi8 abs2jz4q a8s20v7p t1p8iaqh k5wvi7nf q3lfd5jv pk4s997a bipmatt0 cebpdrjk qowsmv63 owwhemhu dp1hu0rb dhp61c6y iyyx5f41\"><div aria-label=\"讚：25人\" class=\"oajrlxb2 gs1a9yip g5ia77u1 mtkw9kbi tlpljxtp qensuy8j ppp5ayq2 goun2846 ccm00jje s44p3ltw mk2mc5f4 rt8b4zig n8ej3o3l agehan2d sk4xxmp2 rq0escxv nhd2j8a9 mg4g778l pfnyh3mw p7hjln8o kvgmc6g5 cxmmr5t8 oygrvhab hcukyx3x tgvbjcpo hpfvmrgz jb3vyjys rz4wbd8a qt6c0cv9 a8nywdso l9j0dhe7 i1ao9s8h esuyzwwr f1sip0of du4w35lb n00je7tq arfg74bv qs9ysxi8 k77z8yql pq6dq46d btwxx1t3 abiwlrkh p8dawk7l lzcic4wl\" role=\"button\" tabindex=\"0\"><img class=\"j1lvzwm4\" height=\"18\" role=\"presentation\" src=\"data:image/svg+xml,%3csvg xmlns='http://www.w3.org/2000/svg' xmlns:xlink='http://www.w3.org/1999/xlink' viewBox='0 0 16 16'%3e%3cdefs%3e%3clinearGradient id='a' x1='50%25' x2='50%25' y1='0%25' y2='100%25'%3e%3cstop offset='0%25' stop-color='%2318AFFF'/%3e%3cstop offset='100%25' stop-color='%230062DF'/%3e%3c/linearGradient%3e%3cfilter id='c' width='118.8%25' height='118.8%25' x='-9.4%25' y='-9.4%25' filterUnits='objectBoundingBox'%3e%3cfeGaussianBlur in='SourceAlpha' result='shadowBlurInner1' stdDeviation='1'/%3e%3cfeOffset dy='-1' in='shadowBlurInner1' result='shadowOffsetInner1'/%3e%3cfeComposite in='shadowOffsetInner1' in2='SourceAlpha' k2='-1' k3='1' operator='arithmetic' result='shadowInnerInner1'/%3e%3cfeColorMatrix in='shadowInnerInner1' values='0 0 0 0 0 0 0 0 0 0.299356041 0 0 0 0 0.681187726 0 0 0 0.3495684 0'/%3e%3c/filter%3e%3cpath id='b' d='M8 0a8 8 0 00-8 8 8 8 0 1016 0 8 8 0 00-8-8z'/%3e%3c/defs%3e%3cg fill='none'%3e%3cuse fill='url(%23a)' xlink:href='%23b'/%3e%3cuse fill='black' filter='url(%23c)' xlink:href='%23b'/%3e%3cpath fill='white' d='M12.162 7.338c.176.123.338.245.338.674 0 .43-.229.604-.474.725a.73.73 0 01.089.546c-.077.344-.392.611-.672.69.121.194.159.385.015.62-.185.295-.346.407-1.058.407H7.5c-.988 0-1.5-.546-1.5-1V7.665c0-1.23 1.467-2.275 1.467-3.13L7.361 3.47c-.005-.065.008-.224.058-.27.08-.079.301-.2.635-.2.218 0 .363.041.534.123.581.277.732.978.732 1.542 0 .271-.414 1.083-.47 1.364 0 0 .867-.192 1.879-.199 1.061-.006 1.749.19 1.749.842 0 .261-.219.523-.316.666zM3.6 7h.8a.6.6 0 01.6.6v3.8a.6.6 0 01-.6.6h-.8a.6.6 0 01-.6-.6V7.6a.6.6 0 01.6-.6z'/%3e%3c/g%3e%3c/svg%3e\" width=\"18\"/></div></span></span></span></span></span><span aria-hidden=\"true\" class=\"bzsjyuwj ni8dbmo4 stjgntxs ltmttdrg gjzvkazv\"><span><span class=\"pcp91wgn\">25</span></span></span></div><div class=\"kb5gq1qc pfnyh3mw c0wkt4kp\"></div><div class=\"bp9cbjyn j83agx80 pfnyh3mw p1ueia1e\"><div class=\"gtad4xkn\"><span class=\"tojvnm2t a6sixzi8 abs2jz4q a8s20v7p t1p8iaqh k5wvi7nf q3lfd5jv pk4s997a bipmatt0 cebpdrjk qowsmv63 owwhemhu dp1hu0rb dhp61c6y iyyx5f41\"><div class=\"oajrlxb2 gs1a9yip mtkw9kbi tlpljxtp qensuy8j ppp5ayq2 nhd2j8a9 mg4g778l pfnyh3mw p7hjln8o tgvbjcpo hpfvmrgz esuyzwwr f1sip0of n00je7tq arfg74bv qs9ysxi8 k77z8yql pq6dq46d btwxx1t3 abiwlrkh lzcic4wl dwo3fsh8 g5ia77u1 goun2846 ccm00jje s44p3ltw mk2mc5f4 rt8b4zig n8ej3o3l agehan2d sk4xxmp2 rq0escxv gmql0nx0 kvgmc6g5 cxmmr5t8 oygrvhab hcukyx3x jb3vyjys rz4wbd8a qt6c0cv9 a8nywdso l9j0dhe7 i1ao9s8h du4w35lb gpro0wi8\" role=\"button\" tabindex=\"0\"><span class=\"d2edcug0 hpfvmrgz qv66sw1b c1et5uql oi732d6d ik7dh3pa ht8s03o8 a8c37x1j fe6kdd0r mau55g9w c8b282yb keod5gw0 nxhoafnm aigsh9s9 d9wwppkn iv3no6db jq4qci2q a3bd9o3v b1v8xokw m9osqain\" dir=\"auto\">7次分享</span></div></span></div></div></div></div><div class=\"a8nywdso e5nlhep0 rz4wbd8a ecm0bbzt jklb3kyz dhix69tm oygrvhab wkznzc2l kvgmc6g5 j83agx80\"><div class=\"rq0escxv l9j0dhe7 du4w35lb j83agx80 rj1gh0hx buofh1pr g5gj957u hpfvmrgz i1fnvgqd gs1a9yip owycx6da btwxx1t3 nkwizq5d roh60bw9 mysgfdmx hddg9phg\"><div class=\"rq0escxv l9j0dhe7 du4w35lb j83agx80 cbu4d94t d2edcug0 hpfvmrgz rj1gh0hx buofh1pr g5gj957u n8tt0mok hyh9befq iuny7tx3 ipjc6fyt\"><div class=\"oajrlxb2 gs1a9yip g5ia77u1 mtkw9kbi tlpljxtp qensuy8j ppp5ayq2 goun2846 ccm00jje s44p3ltw mk2mc5f4 rt8b4zig n8ej3o3l agehan2d sk4xxmp2 rq0escxv nhd2j8a9 mg4g778l pfnyh3mw p7hjln8o kvgmc6g5 cxmmr5t8 oygrvhab hcukyx3x tgvbjcpo hpfvmrgz jb3vyjys rz4wbd8a qt6c0cv9 a8nywdso l9j0dhe7 i1ao9s8h esuyzwwr f1sip0of du4w35lb n00je7tq arfg74bv qs9ysxi8 k77z8yql btwxx1t3 abiwlrkh p8dawk7l j83agx80 lzcic4wl\" role=\"button\" tabindex=\"0\"><div class=\"rq0escxv l9j0dhe7 du4w35lb j83agx80 rj1gh0hx buofh1pr g5gj957u hpfvmrgz taijpn5t bp9cbjyn owycx6da btwxx1t3 d1544ag0 tw6a2znq jb3vyjys dlv3wnog rl04r1d5 mysgfdmx hddg9phg qu8okrzs g0qnabr5\"><div class=\"rq0escxv l9j0dhe7 du4w35lb j83agx80 cbu4d94t pfnyh3mw d2edcug0 hpfvmrgz ph5uu5jm b3onmgus iuny7tx3 ipjc6fyt\"><i class=\"hu5pjgll m6k467ps\" data-visualcompletion=\"css-img\" style='background-image: url(\"https://static.xx.fbcdn.net/rsrc.php/v3/yA/r/NPUQ_e0r6lm.png\"); background-position: -103px -153px; background-size: auto; width: 18px; height: 18px; background-repeat: no-repeat; display: inline-block;'></i></div><div class=\"rq0escxv l9j0dhe7 du4w35lb j83agx80 cbu4d94t pfnyh3mw d2edcug0 hpfvmrgz ph5uu5jm b3onmgus iuny7tx3 ipjc6fyt\"><span class=\"d2edcug0 hpfvmrgz qv66sw1b c1et5uql oi732d6d ik7dh3pa ht8s03o8 a8c37x1j fe6kdd0r mau55g9w c8b282yb keod5gw0 nxhoafnm aigsh9s9 d9wwppkn iv3no6db jq4qci2q a3bd9o3v lrazzd5p m9osqain\" dir=\"auto\">讚</span></div></div><div class=\"n00je7tq arfg74bv qs9ysxi8 k77z8yql i09qtzwb n7fi1qx3 b5wmifdl hzruof5a pmk7jnqg j9ispegn kr520xx4 c5ndavph art1omkt ot9fgl3s\" data-visualcompletion=\"ignore\" style=\"border-radius: 4px;\"></div></div></div><div class=\"rq0escxv l9j0dhe7 du4w35lb j83agx80 cbu4d94t d2edcug0 hpfvmrgz rj1gh0hx buofh1pr g5gj957u n8tt0mok hyh9befq iuny7tx3 ipjc6fyt\"><div class=\"oajrlxb2 gs1a9yip g5ia77u1 mtkw9kbi tlpljxtp qensuy8j ppp5ayq2 goun2846 ccm00jje s44p3ltw mk2mc5f4 rt8b4zig n8ej3o3l agehan2d sk4xxmp2 rq0escxv nhd2j8a9 mg4g778l pfnyh3mw p7hjln8o kvgmc6g5 cxmmr5t8 oygrvhab hcukyx3x tgvbjcpo hpfvmrgz jb3vyjys rz4wbd8a qt6c0cv9 a8nywdso l9j0dhe7 i1ao9s8h esuyzwwr f1sip0of du4w35lb n00je7tq arfg74bv qs9ysxi8 k77z8yql btwxx1t3 abiwlrkh p8dawk7l j83agx80 lzcic4wl\" role=\"button\" tabindex=\"0\"><div class=\"rq0escxv l9j0dhe7 du4w35lb j83agx80 rj1gh0hx buofh1pr g5gj957u hpfvmrgz taijpn5t bp9cbjyn owycx6da btwxx1t3 d1544ag0 tw6a2znq jb3vyjys dlv3wnog rl04r1d5 mysgfdmx hddg9phg qu8okrzs g0qnabr5\"><div class=\"rq0escxv l9j0dhe7 du4w35lb j83agx80 cbu4d94t pfnyh3mw d2edcug0 hpfvmrgz ph5uu5jm b3onmgus iuny7tx3 ipjc6fyt\"><i class=\"hu5pjgll m6k467ps\" data-visualcompletion=\"css-img\" style='background-image: url(\"https://static.xx.fbcdn.net/rsrc.php/v3/yA/r/NPUQ_e0r6lm.png\"); background-position: -84px -153px; background-size: auto; width: 18px; height: 18px; background-repeat: no-repeat; display: inline-block;'></i></div><div class=\"rq0escxv l9j0dhe7 du4w35lb j83agx80 cbu4d94t pfnyh3mw d2edcug0 hpfvmrgz ph5uu5jm b3onmgus iuny7tx3 ipjc6fyt\"><span class=\"d2edcug0 hpfvmrgz qv66sw1b c1et5uql oi732d6d ik7dh3pa ht8s03o8 a8c37x1j fe6kdd0r mau55g9w c8b282yb keod5gw0 nxhoafnm aigsh9s9 d9wwppkn iv3no6db jq4qci2q a3bd9o3v lrazzd5p m9osqain\" dir=\"auto\">留言</span></div></div><div class=\"n00je7tq arfg74bv qs9ysxi8 k77z8yql i09qtzwb n7fi1qx3 b5wmifdl hzruof5a pmk7jnqg j9ispegn kr520xx4 c5ndavph art1omkt ot9fgl3s\" data-visualcompletion=\"ignore\" style=\"border-radius: 4px;\"></div></div></div><div class=\"rq0escxv l9j0dhe7 du4w35lb j83agx80 cbu4d94t d2edcug0 hpfvmrgz rj1gh0hx buofh1pr g5gj957u n8tt0mok hyh9befq iuny7tx3 ipjc6fyt\"><div class=\"oajrlxb2 gs1a9yip g5ia77u1 mtkw9kbi tlpljxtp qensuy8j ppp5ayq2 goun2846 ccm00jje s44p3ltw mk2mc5f4 rt8b4zig n8ej3o3l agehan2d sk4xxmp2 rq0escxv nhd2j8a9 mg4g778l pfnyh3mw p7hjln8o kvgmc6g5 cxmmr5t8 oygrvhab hcukyx3x tgvbjcpo hpfvmrgz jb3vyjys rz4wbd8a qt6c0cv9 a8nywdso l9j0dhe7 i1ao9s8h esuyzwwr f1sip0of du4w35lb n00je7tq arfg74bv qs9ysxi8 k77z8yql btwxx1t3 abiwlrkh p8dawk7l j83agx80 lzcic4wl\" role=\"button\" tabindex=\"0\"><div class=\"rq0escxv l9j0dhe7 du4w35lb j83agx80 rj1gh0hx buofh1pr g5gj957u hpfvmrgz taijpn5t bp9cbjyn owycx6da btwxx1t3 d1544ag0 tw6a2znq jb3vyjys dlv3wnog rl04r1d5 mysgfdmx hddg9phg qu8okrzs g0qnabr5\"><div class=\"rq0escxv l9j0dhe7 du4w35lb j83agx80 cbu4d94t pfnyh3mw d2edcug0 hpfvmrgz ph5uu5jm b3onmgus iuny7tx3 ipjc6fyt\"><i class=\"hu5pjgll m6k467ps\" data-visualcompletion=\"css-img\" style='background-image: url(\"https://static.xx.fbcdn.net/rsrc.php/v3/yA/r/NPUQ_e0r6lm.png\"); background-position: -122px -153px; background-size: auto; width: 18px; height: 18px; background-repeat: no-repeat; display: inline-block;'></i></div><div class=\"rq0escxv l9j0dhe7 du4w35lb j83agx80 cbu4d94t pfnyh3mw d2edcug0 hpfvmrgz ph5uu5jm b3onmgus iuny7tx3 ipjc6fyt\"><span class=\"d2edcug0 hpfvmrgz qv66sw1b c1et5uql oi732d6d ik7dh3pa ht8s03o8 a8c37x1j fe6kdd0r mau55g9w c8b282yb keod5gw0 nxhoafnm aigsh9s9 d9wwppkn iv3no6db jq4qci2q a3bd9o3v lrazzd5p m9osqain\" dir=\"auto\">分享</span></div></div><div class=\"n00je7tq arfg74bv qs9ysxi8 k77z8yql i09qtzwb n7fi1qx3 b5wmifdl hzruof5a pmk7jnqg j9ispegn kr520xx4 c5ndavph art1omkt ot9fgl3s\" data-visualcompletion=\"ignore\" style=\"border-radius: 4px;\"></div></div></div></div></div></div></div><div class=\"cwj9ozl2 tvmbv18p\"><h3 class=\"gmql0nx0 l94mrbxd p1ri9a11 lzcic4wl q45zohi1 ema1e40h ay7djpcl ni8dbmo4 stjgntxs pmk7jnqg rfua0xdk\" dir=\"auto\">0則留言</h3><div class=\"j83agx80 bkfpd7mw jb3vyjys hv4rvrfc qt6c0cv9 dati1w0a l9j0dhe7\"></div><div class=\"j83agx80 bkfpd7mw jb3vyjys hv4rvrfc qt6c0cv9 dati1w0a l9j0dhe7\"></div><div class=\"stjgntxs ni8dbmo4\"><div class=\"bp9cbjyn j83agx80 k7cz35w2 jifvfom9 hv4rvrfc dati1w0a qvze9t23 tpo14512\"><div class=\"ggphbty4 wkznzc2l taijpn5t j83agx80\"></div></div></div></div></div></div></div></div></div></div></div>"
      ]
     },
     "execution_count": 31,
     "metadata": {},
     "output_type": "execute_result"
    }
   ],
   "source": [
    "post"
   ]
  },
  {
   "cell_type": "code",
   "execution_count": 12,
   "metadata": {},
   "outputs": [],
   "source": [
    "browser.quit()\n"
   ]
  },
  {
   "cell_type": "code",
   "execution_count": 131,
   "metadata": {},
   "outputs": [
    {
     "data": {
      "text/plain": [
       "['https://buy.yungching.com.tw/house/4291354',\n",
       " 'https://buy.cthouse.com.tw/house/1637213.html',\n",
       " 'https://www.rakuya.com.tw/sell_item/info?ehid=04d3e213291778d',\n",
       " 'https://www.rakuya.com.tw/sell_item/info?ehid=04e216132918229',\n",
       " 'https://www.sinyi.com.tw/buy/house/70810B/?breadcrumb=list',\n",
       " 'https://sale.591.com.tw/home/house/detail/2/10794912.html',\n",
       " 'https://buy.yungching.com.tw/house/5195273',\n",
       " 'https://www.rakuya.com.tw/sell_item/info?ehid=0cd1fd10810319b']"
      ]
     },
     "execution_count": 131,
     "metadata": {},
     "output_type": "execute_result"
    }
   ],
   "source": [
    "ext_url_list"
   ]
  },
  {
   "cell_type": "code",
   "execution_count": 16,
   "metadata": {},
   "outputs": [],
   "source": [
    "browser.quit()\n"
   ]
  },
  {
   "cell_type": "code",
   "execution_count": null,
   "metadata": {},
   "outputs": [],
   "source": []
  },
  {
   "cell_type": "code",
   "execution_count": 49,
   "metadata": {},
   "outputs": [],
   "source": [
    "data = data_soup\n",
    "title = data.find('title').string\n",
    "title\n",
    "\n",
    "items = data.select('#sale-objects-wrap .border-grey-3')\n",
    "sale_items = []\n",
    "for item in items:\n",
    "    floor = item.select_one(\".text-16px\").text\n",
    "    title = item.select_one(\".title-width\").text.replace(\"\\n\",\"\").strip()\n",
    "    link = \"\"\n",
    "    price = item.select(\".items-baseline\")[0].select('span')[0].text.replace(\"\\n\",\"\").strip()\n",
    "    area = item.select(\".items-baseline\")[1].select('span')[0].text.replace(\"\\n\",\"\").strip()\n",
    "\n",
    "    data = {\n",
    "        'floor': floor,\n",
    "        'title': title,\n",
    "        'link': link,\n",
    "        'price': price,\n",
    "        'area': area,\n",
    "    }\n",
    "\n",
    "    sale_items.append(data)\n",
    "    \n",
    "# items"
   ]
  },
  {
   "cell_type": "code",
   "execution_count": 50,
   "metadata": {},
   "outputs": [
    {
     "data": {
      "text/plain": [
       "[{'floor': '9',\n",
       "  'title': '泊樂★稀有高樓面河景',\n",
       "  'link': '',\n",
       "  'price': '1980',\n",
       "  'area': '25.13'},\n",
       " {'floor': '7',\n",
       "  'title': '古亭泊樂崗石７樓',\n",
       "  'link': '',\n",
       "  'price': '1245',\n",
       "  'area': '13.87'},\n",
       " {'floor': '7',\n",
       "  'title': '泊樂7樓小資美宅',\n",
       "  'link': '',\n",
       "  'price': '2288',\n",
       "  'area': '25.45'},\n",
       " {'floor': '7',\n",
       "  'title': '泊樂7樓毛胚屋',\n",
       "  'link': '',\n",
       "  'price': '2588',\n",
       "  'area': '30.05'},\n",
       " {'floor': '4',\n",
       "  'title': '古亭挑高美兩房',\n",
       "  'link': '',\n",
       "  'price': '2118',\n",
       "  'area': '24.05'},\n",
       " {'floor': '3',\n",
       "  'title': '古亭捷運成家優選',\n",
       "  'link': '',\n",
       "  'price': '2488',\n",
       "  'area': '31.99'},\n",
       " {'floor': '1',\n",
       "  'title': '古亭廈門88金店',\n",
       "  'link': '',\n",
       "  'price': '3480',\n",
       "  'area': '31.66'},\n",
       " {'floor': '1',\n",
       "  'title': '中正店面收租首選',\n",
       "  'link': '',\n",
       "  'price': '3480',\n",
       "  'area': '31.66'}]"
      ]
     },
     "execution_count": 50,
     "metadata": {},
     "output_type": "execute_result"
    }
   ],
   "source": [
    "sale_items"
   ]
  },
  {
   "cell_type": "code",
   "execution_count": 50,
   "metadata": {},
   "outputs": [
    {
     "data": {
      "text/plain": [
       "'45.09'"
      ]
     },
     "execution_count": 50,
     "metadata": {},
     "output_type": "execute_result"
    }
   ],
   "source": [
    "items[0].select(\".transaction-info__card__table > div\")[0].select('div span')[0].text"
   ]
  },
  {
   "cell_type": "code",
   "execution_count": 12,
   "metadata": {},
   "outputs": [
    {
     "data": {
      "text/plain": [
       "[]"
      ]
     },
     "execution_count": 12,
     "metadata": {},
     "output_type": "execute_result"
    }
   ],
   "source": [
    "listInfo.findAll(\".vue-list-rent-item .item-style li\")"
   ]
  },
  {
   "cell_type": "code",
   "execution_count": 5,
   "metadata": {},
   "outputs": [
    {
     "ename": "NoSuchWindowException",
     "evalue": "Message: no such window: window was already closed\n  (Session info: chrome=90.0.4430.85)\n",
     "output_type": "error",
     "traceback": [
      "\u001b[0;31m---------------------------------------------------------------------------\u001b[0m",
      "\u001b[0;31mNoSuchWindowException\u001b[0m                     Traceback (most recent call last)",
      "\u001b[0;32m<ipython-input-5-ec286effcd49>\u001b[0m in \u001b[0;36m<module>\u001b[0;34m\u001b[0m\n\u001b[1;32m      2\u001b[0m \u001b[0;34m\u001b[0m\u001b[0m\n\u001b[1;32m      3\u001b[0m \u001b[0murl\u001b[0m \u001b[0;34m=\u001b[0m \u001b[0;34m\"https://rent.591.com.tw/?kind=0&region=1&rentprice=5&shape=2&other=lift,cartplace,cook\"\u001b[0m\u001b[0;34m\u001b[0m\u001b[0;34m\u001b[0m\u001b[0m\n\u001b[0;32m----> 4\u001b[0;31m \u001b[0mbrowser\u001b[0m\u001b[0;34m.\u001b[0m\u001b[0mget\u001b[0m\u001b[0;34m(\u001b[0m\u001b[0murl\u001b[0m\u001b[0;34m)\u001b[0m\u001b[0;34m\u001b[0m\u001b[0;34m\u001b[0m\u001b[0m\n\u001b[0m",
      "\u001b[0;32m~/virtualENV/py3env/lib/python3.8/site-packages/selenium/webdriver/remote/webdriver.py\u001b[0m in \u001b[0;36mget\u001b[0;34m(self, url)\u001b[0m\n\u001b[1;32m    331\u001b[0m         \u001b[0mLoads\u001b[0m \u001b[0ma\u001b[0m \u001b[0mweb\u001b[0m \u001b[0mpage\u001b[0m \u001b[0;32min\u001b[0m \u001b[0mthe\u001b[0m \u001b[0mcurrent\u001b[0m \u001b[0mbrowser\u001b[0m \u001b[0msession\u001b[0m\u001b[0;34m.\u001b[0m\u001b[0;34m\u001b[0m\u001b[0;34m\u001b[0m\u001b[0m\n\u001b[1;32m    332\u001b[0m         \"\"\"\n\u001b[0;32m--> 333\u001b[0;31m         \u001b[0mself\u001b[0m\u001b[0;34m.\u001b[0m\u001b[0mexecute\u001b[0m\u001b[0;34m(\u001b[0m\u001b[0mCommand\u001b[0m\u001b[0;34m.\u001b[0m\u001b[0mGET\u001b[0m\u001b[0;34m,\u001b[0m \u001b[0;34m{\u001b[0m\u001b[0;34m'url'\u001b[0m\u001b[0;34m:\u001b[0m \u001b[0murl\u001b[0m\u001b[0;34m}\u001b[0m\u001b[0;34m)\u001b[0m\u001b[0;34m\u001b[0m\u001b[0;34m\u001b[0m\u001b[0m\n\u001b[0m\u001b[1;32m    334\u001b[0m \u001b[0;34m\u001b[0m\u001b[0m\n\u001b[1;32m    335\u001b[0m     \u001b[0;34m@\u001b[0m\u001b[0mproperty\u001b[0m\u001b[0;34m\u001b[0m\u001b[0;34m\u001b[0m\u001b[0m\n",
      "\u001b[0;32m~/virtualENV/py3env/lib/python3.8/site-packages/selenium/webdriver/remote/webdriver.py\u001b[0m in \u001b[0;36mexecute\u001b[0;34m(self, driver_command, params)\u001b[0m\n\u001b[1;32m    319\u001b[0m         \u001b[0mresponse\u001b[0m \u001b[0;34m=\u001b[0m \u001b[0mself\u001b[0m\u001b[0;34m.\u001b[0m\u001b[0mcommand_executor\u001b[0m\u001b[0;34m.\u001b[0m\u001b[0mexecute\u001b[0m\u001b[0;34m(\u001b[0m\u001b[0mdriver_command\u001b[0m\u001b[0;34m,\u001b[0m \u001b[0mparams\u001b[0m\u001b[0;34m)\u001b[0m\u001b[0;34m\u001b[0m\u001b[0;34m\u001b[0m\u001b[0m\n\u001b[1;32m    320\u001b[0m         \u001b[0;32mif\u001b[0m \u001b[0mresponse\u001b[0m\u001b[0;34m:\u001b[0m\u001b[0;34m\u001b[0m\u001b[0;34m\u001b[0m\u001b[0m\n\u001b[0;32m--> 321\u001b[0;31m             \u001b[0mself\u001b[0m\u001b[0;34m.\u001b[0m\u001b[0merror_handler\u001b[0m\u001b[0;34m.\u001b[0m\u001b[0mcheck_response\u001b[0m\u001b[0;34m(\u001b[0m\u001b[0mresponse\u001b[0m\u001b[0;34m)\u001b[0m\u001b[0;34m\u001b[0m\u001b[0;34m\u001b[0m\u001b[0m\n\u001b[0m\u001b[1;32m    322\u001b[0m             response['value'] = self._unwrap_value(\n\u001b[1;32m    323\u001b[0m                 response.get('value', None))\n",
      "\u001b[0;32m~/virtualENV/py3env/lib/python3.8/site-packages/selenium/webdriver/remote/errorhandler.py\u001b[0m in \u001b[0;36mcheck_response\u001b[0;34m(self, response)\u001b[0m\n\u001b[1;32m    240\u001b[0m                 \u001b[0malert_text\u001b[0m \u001b[0;34m=\u001b[0m \u001b[0mvalue\u001b[0m\u001b[0;34m[\u001b[0m\u001b[0;34m'alert'\u001b[0m\u001b[0;34m]\u001b[0m\u001b[0;34m.\u001b[0m\u001b[0mget\u001b[0m\u001b[0;34m(\u001b[0m\u001b[0;34m'text'\u001b[0m\u001b[0;34m)\u001b[0m\u001b[0;34m\u001b[0m\u001b[0;34m\u001b[0m\u001b[0m\n\u001b[1;32m    241\u001b[0m             \u001b[0;32mraise\u001b[0m \u001b[0mexception_class\u001b[0m\u001b[0;34m(\u001b[0m\u001b[0mmessage\u001b[0m\u001b[0;34m,\u001b[0m \u001b[0mscreen\u001b[0m\u001b[0;34m,\u001b[0m \u001b[0mstacktrace\u001b[0m\u001b[0;34m,\u001b[0m \u001b[0malert_text\u001b[0m\u001b[0;34m)\u001b[0m\u001b[0;34m\u001b[0m\u001b[0;34m\u001b[0m\u001b[0m\n\u001b[0;32m--> 242\u001b[0;31m         \u001b[0;32mraise\u001b[0m \u001b[0mexception_class\u001b[0m\u001b[0;34m(\u001b[0m\u001b[0mmessage\u001b[0m\u001b[0;34m,\u001b[0m \u001b[0mscreen\u001b[0m\u001b[0;34m,\u001b[0m \u001b[0mstacktrace\u001b[0m\u001b[0;34m)\u001b[0m\u001b[0;34m\u001b[0m\u001b[0;34m\u001b[0m\u001b[0m\n\u001b[0m\u001b[1;32m    243\u001b[0m \u001b[0;34m\u001b[0m\u001b[0m\n\u001b[1;32m    244\u001b[0m     \u001b[0;32mdef\u001b[0m \u001b[0m_value_or_default\u001b[0m\u001b[0;34m(\u001b[0m\u001b[0mself\u001b[0m\u001b[0;34m,\u001b[0m \u001b[0mobj\u001b[0m\u001b[0;34m,\u001b[0m \u001b[0mkey\u001b[0m\u001b[0;34m,\u001b[0m \u001b[0mdefault\u001b[0m\u001b[0;34m)\u001b[0m\u001b[0;34m:\u001b[0m\u001b[0;34m\u001b[0m\u001b[0;34m\u001b[0m\u001b[0m\n",
      "\u001b[0;31mNoSuchWindowException\u001b[0m: Message: no such window: window was already closed\n  (Session info: chrome=90.0.4430.85)\n"
     ]
    }
   ],
   "source": [
    "# browser.add_cookie({\"name\": \"foo\", \"value\": \"bar\"})\n",
    "\n",
    "url = \"https://rent.591.com.tw/?kind=0&region=1&rentprice=5&shape=2&other=lift,cartplace,cook\"\n"
   ]
  },
  {
   "cell_type": "code",
   "execution_count": 10,
   "metadata": {},
   "outputs": [
    {
     "name": "stdout",
     "output_type": "stream",
     "text": [
      "===fetch:https://rent.591.com.tw/?kind=0&region=1&rentprice=5&shape=2&other=lift,cartplace,cook===\n",
      "region=1\n",
      "Page loaded\n",
      "Page loaded\n",
      "not the last page\n",
      "not the last page\n",
      "not the last page\n",
      "not the last page\n",
      "not the last page\n",
      "not the last page\n"
     ]
    },
    {
     "ename": "ElementClickInterceptedException",
     "evalue": "Message: element click intercepted: Element <a href=\"javascript:;\" data-first=\"180\" data-total=\"272\" class=\"pageNext\">...</a> is not clickable at point (833, 739). Other element would receive the click: <li class=\"pull-left infoContent\n\n        \n\n        \">...</li>\n  (Session info: chrome=89.0.4389.114)\n",
     "output_type": "error",
     "traceback": [
      "\u001b[0;31m---------------------------------------------------------------------------\u001b[0m",
      "\u001b[0;31mNoSuchElementException\u001b[0m                    Traceback (most recent call last)",
      "\u001b[0;32m<ipython-input-10-b32b219a636d>\u001b[0m in \u001b[0;36m<module>\u001b[0;34m\u001b[0m\n\u001b[1;32m     38\u001b[0m     \u001b[0;32mtry\u001b[0m\u001b[0;34m:\u001b[0m\u001b[0;34m\u001b[0m\u001b[0;34m\u001b[0m\u001b[0m\n\u001b[0;32m---> 39\u001b[0;31m         \u001b[0mbrowser\u001b[0m\u001b[0;34m.\u001b[0m\u001b[0mfind_element_by_css_selector\u001b[0m\u001b[0;34m(\u001b[0m\u001b[0;34m\".pageNext.last\"\u001b[0m\u001b[0;34m)\u001b[0m\u001b[0;34m\u001b[0m\u001b[0;34m\u001b[0m\u001b[0m\n\u001b[0m\u001b[1;32m     40\u001b[0m         \u001b[0mlast_page\u001b[0m \u001b[0;34m=\u001b[0m \u001b[0;32mTrue\u001b[0m\u001b[0;34m\u001b[0m\u001b[0;34m\u001b[0m\u001b[0m\n",
      "\u001b[0;32m~/virtualENV/py3env/lib/python3.8/site-packages/selenium/webdriver/remote/webdriver.py\u001b[0m in \u001b[0;36mfind_element_by_css_selector\u001b[0;34m(self, css_selector)\u001b[0m\n\u001b[1;32m    597\u001b[0m         \"\"\"\n\u001b[0;32m--> 598\u001b[0;31m         \u001b[0;32mreturn\u001b[0m \u001b[0mself\u001b[0m\u001b[0;34m.\u001b[0m\u001b[0mfind_element\u001b[0m\u001b[0;34m(\u001b[0m\u001b[0mby\u001b[0m\u001b[0;34m=\u001b[0m\u001b[0mBy\u001b[0m\u001b[0;34m.\u001b[0m\u001b[0mCSS_SELECTOR\u001b[0m\u001b[0;34m,\u001b[0m \u001b[0mvalue\u001b[0m\u001b[0;34m=\u001b[0m\u001b[0mcss_selector\u001b[0m\u001b[0;34m)\u001b[0m\u001b[0;34m\u001b[0m\u001b[0;34m\u001b[0m\u001b[0m\n\u001b[0m\u001b[1;32m    599\u001b[0m \u001b[0;34m\u001b[0m\u001b[0m\n",
      "\u001b[0;32m~/virtualENV/py3env/lib/python3.8/site-packages/selenium/webdriver/remote/webdriver.py\u001b[0m in \u001b[0;36mfind_element\u001b[0;34m(self, by, value)\u001b[0m\n\u001b[1;32m    975\u001b[0m                 \u001b[0mvalue\u001b[0m \u001b[0;34m=\u001b[0m \u001b[0;34m'[name=\"%s\"]'\u001b[0m \u001b[0;34m%\u001b[0m \u001b[0mvalue\u001b[0m\u001b[0;34m\u001b[0m\u001b[0;34m\u001b[0m\u001b[0m\n\u001b[0;32m--> 976\u001b[0;31m         return self.execute(Command.FIND_ELEMENT, {\n\u001b[0m\u001b[1;32m    977\u001b[0m             \u001b[0;34m'using'\u001b[0m\u001b[0;34m:\u001b[0m \u001b[0mby\u001b[0m\u001b[0;34m,\u001b[0m\u001b[0;34m\u001b[0m\u001b[0;34m\u001b[0m\u001b[0m\n",
      "\u001b[0;32m~/virtualENV/py3env/lib/python3.8/site-packages/selenium/webdriver/remote/webdriver.py\u001b[0m in \u001b[0;36mexecute\u001b[0;34m(self, driver_command, params)\u001b[0m\n\u001b[1;32m    320\u001b[0m         \u001b[0;32mif\u001b[0m \u001b[0mresponse\u001b[0m\u001b[0;34m:\u001b[0m\u001b[0;34m\u001b[0m\u001b[0;34m\u001b[0m\u001b[0m\n\u001b[0;32m--> 321\u001b[0;31m             \u001b[0mself\u001b[0m\u001b[0;34m.\u001b[0m\u001b[0merror_handler\u001b[0m\u001b[0;34m.\u001b[0m\u001b[0mcheck_response\u001b[0m\u001b[0;34m(\u001b[0m\u001b[0mresponse\u001b[0m\u001b[0;34m)\u001b[0m\u001b[0;34m\u001b[0m\u001b[0;34m\u001b[0m\u001b[0m\n\u001b[0m\u001b[1;32m    322\u001b[0m             response['value'] = self._unwrap_value(\n",
      "\u001b[0;32m~/virtualENV/py3env/lib/python3.8/site-packages/selenium/webdriver/remote/errorhandler.py\u001b[0m in \u001b[0;36mcheck_response\u001b[0;34m(self, response)\u001b[0m\n\u001b[1;32m    241\u001b[0m             \u001b[0;32mraise\u001b[0m \u001b[0mexception_class\u001b[0m\u001b[0;34m(\u001b[0m\u001b[0mmessage\u001b[0m\u001b[0;34m,\u001b[0m \u001b[0mscreen\u001b[0m\u001b[0;34m,\u001b[0m \u001b[0mstacktrace\u001b[0m\u001b[0;34m,\u001b[0m \u001b[0malert_text\u001b[0m\u001b[0;34m)\u001b[0m\u001b[0;34m\u001b[0m\u001b[0;34m\u001b[0m\u001b[0m\n\u001b[0;32m--> 242\u001b[0;31m         \u001b[0;32mraise\u001b[0m \u001b[0mexception_class\u001b[0m\u001b[0;34m(\u001b[0m\u001b[0mmessage\u001b[0m\u001b[0;34m,\u001b[0m \u001b[0mscreen\u001b[0m\u001b[0;34m,\u001b[0m \u001b[0mstacktrace\u001b[0m\u001b[0;34m)\u001b[0m\u001b[0;34m\u001b[0m\u001b[0;34m\u001b[0m\u001b[0m\n\u001b[0m\u001b[1;32m    243\u001b[0m \u001b[0;34m\u001b[0m\u001b[0m\n",
      "\u001b[0;31mNoSuchElementException\u001b[0m: Message: no such element: Unable to locate element: {\"method\":\"css selector\",\"selector\":\".pageNext.last\"}\n  (Session info: chrome=89.0.4389.114)\n",
      "\nDuring handling of the above exception, another exception occurred:\n",
      "\u001b[0;31mElementClickInterceptedException\u001b[0m          Traceback (most recent call last)",
      "\u001b[0;32m<ipython-input-10-b32b219a636d>\u001b[0m in \u001b[0;36m<module>\u001b[0;34m\u001b[0m\n\u001b[1;32m     42\u001b[0m     \u001b[0;32mexcept\u001b[0m\u001b[0;34m:\u001b[0m\u001b[0;34m\u001b[0m\u001b[0;34m\u001b[0m\u001b[0m\n\u001b[1;32m     43\u001b[0m         \u001b[0mprint\u001b[0m\u001b[0;34m(\u001b[0m\u001b[0;34m\"not the last page\"\u001b[0m\u001b[0;34m)\u001b[0m\u001b[0;34m\u001b[0m\u001b[0;34m\u001b[0m\u001b[0m\n\u001b[0;32m---> 44\u001b[0;31m         \u001b[0mbrowser\u001b[0m\u001b[0;34m.\u001b[0m\u001b[0mfind_element_by_css_selector\u001b[0m\u001b[0;34m(\u001b[0m\u001b[0;34m\".pageNext\"\u001b[0m\u001b[0;34m)\u001b[0m\u001b[0;34m.\u001b[0m\u001b[0mclick\u001b[0m\u001b[0;34m(\u001b[0m\u001b[0;34m)\u001b[0m\u001b[0;34m\u001b[0m\u001b[0;34m\u001b[0m\u001b[0m\n\u001b[0m\u001b[1;32m     45\u001b[0m         \u001b[0msleep\u001b[0m\u001b[0;34m(\u001b[0m\u001b[0;36m5\u001b[0m\u001b[0;34m)\u001b[0m\u001b[0;34m\u001b[0m\u001b[0;34m\u001b[0m\u001b[0m\n\u001b[1;32m     46\u001b[0m \u001b[0;34m\u001b[0m\u001b[0m\n",
      "\u001b[0;32m~/virtualENV/py3env/lib/python3.8/site-packages/selenium/webdriver/remote/webelement.py\u001b[0m in \u001b[0;36mclick\u001b[0;34m(self)\u001b[0m\n\u001b[1;32m     78\u001b[0m     \u001b[0;32mdef\u001b[0m \u001b[0mclick\u001b[0m\u001b[0;34m(\u001b[0m\u001b[0mself\u001b[0m\u001b[0;34m)\u001b[0m\u001b[0;34m:\u001b[0m\u001b[0;34m\u001b[0m\u001b[0;34m\u001b[0m\u001b[0m\n\u001b[1;32m     79\u001b[0m         \u001b[0;34m\"\"\"Clicks the element.\"\"\"\u001b[0m\u001b[0;34m\u001b[0m\u001b[0;34m\u001b[0m\u001b[0m\n\u001b[0;32m---> 80\u001b[0;31m         \u001b[0mself\u001b[0m\u001b[0;34m.\u001b[0m\u001b[0m_execute\u001b[0m\u001b[0;34m(\u001b[0m\u001b[0mCommand\u001b[0m\u001b[0;34m.\u001b[0m\u001b[0mCLICK_ELEMENT\u001b[0m\u001b[0;34m)\u001b[0m\u001b[0;34m\u001b[0m\u001b[0;34m\u001b[0m\u001b[0m\n\u001b[0m\u001b[1;32m     81\u001b[0m \u001b[0;34m\u001b[0m\u001b[0m\n\u001b[1;32m     82\u001b[0m     \u001b[0;32mdef\u001b[0m \u001b[0msubmit\u001b[0m\u001b[0;34m(\u001b[0m\u001b[0mself\u001b[0m\u001b[0;34m)\u001b[0m\u001b[0;34m:\u001b[0m\u001b[0;34m\u001b[0m\u001b[0;34m\u001b[0m\u001b[0m\n",
      "\u001b[0;32m~/virtualENV/py3env/lib/python3.8/site-packages/selenium/webdriver/remote/webelement.py\u001b[0m in \u001b[0;36m_execute\u001b[0;34m(self, command, params)\u001b[0m\n\u001b[1;32m    631\u001b[0m             \u001b[0mparams\u001b[0m \u001b[0;34m=\u001b[0m \u001b[0;34m{\u001b[0m\u001b[0;34m}\u001b[0m\u001b[0;34m\u001b[0m\u001b[0;34m\u001b[0m\u001b[0m\n\u001b[1;32m    632\u001b[0m         \u001b[0mparams\u001b[0m\u001b[0;34m[\u001b[0m\u001b[0;34m'id'\u001b[0m\u001b[0;34m]\u001b[0m \u001b[0;34m=\u001b[0m \u001b[0mself\u001b[0m\u001b[0;34m.\u001b[0m\u001b[0m_id\u001b[0m\u001b[0;34m\u001b[0m\u001b[0;34m\u001b[0m\u001b[0m\n\u001b[0;32m--> 633\u001b[0;31m         \u001b[0;32mreturn\u001b[0m \u001b[0mself\u001b[0m\u001b[0;34m.\u001b[0m\u001b[0m_parent\u001b[0m\u001b[0;34m.\u001b[0m\u001b[0mexecute\u001b[0m\u001b[0;34m(\u001b[0m\u001b[0mcommand\u001b[0m\u001b[0;34m,\u001b[0m \u001b[0mparams\u001b[0m\u001b[0;34m)\u001b[0m\u001b[0;34m\u001b[0m\u001b[0;34m\u001b[0m\u001b[0m\n\u001b[0m\u001b[1;32m    634\u001b[0m \u001b[0;34m\u001b[0m\u001b[0m\n\u001b[1;32m    635\u001b[0m     \u001b[0;32mdef\u001b[0m \u001b[0mfind_element\u001b[0m\u001b[0;34m(\u001b[0m\u001b[0mself\u001b[0m\u001b[0;34m,\u001b[0m \u001b[0mby\u001b[0m\u001b[0;34m=\u001b[0m\u001b[0mBy\u001b[0m\u001b[0;34m.\u001b[0m\u001b[0mID\u001b[0m\u001b[0;34m,\u001b[0m \u001b[0mvalue\u001b[0m\u001b[0;34m=\u001b[0m\u001b[0;32mNone\u001b[0m\u001b[0;34m)\u001b[0m\u001b[0;34m:\u001b[0m\u001b[0;34m\u001b[0m\u001b[0;34m\u001b[0m\u001b[0m\n",
      "\u001b[0;32m~/virtualENV/py3env/lib/python3.8/site-packages/selenium/webdriver/remote/webdriver.py\u001b[0m in \u001b[0;36mexecute\u001b[0;34m(self, driver_command, params)\u001b[0m\n\u001b[1;32m    319\u001b[0m         \u001b[0mresponse\u001b[0m \u001b[0;34m=\u001b[0m \u001b[0mself\u001b[0m\u001b[0;34m.\u001b[0m\u001b[0mcommand_executor\u001b[0m\u001b[0;34m.\u001b[0m\u001b[0mexecute\u001b[0m\u001b[0;34m(\u001b[0m\u001b[0mdriver_command\u001b[0m\u001b[0;34m,\u001b[0m \u001b[0mparams\u001b[0m\u001b[0;34m)\u001b[0m\u001b[0;34m\u001b[0m\u001b[0;34m\u001b[0m\u001b[0m\n\u001b[1;32m    320\u001b[0m         \u001b[0;32mif\u001b[0m \u001b[0mresponse\u001b[0m\u001b[0;34m:\u001b[0m\u001b[0;34m\u001b[0m\u001b[0;34m\u001b[0m\u001b[0m\n\u001b[0;32m--> 321\u001b[0;31m             \u001b[0mself\u001b[0m\u001b[0;34m.\u001b[0m\u001b[0merror_handler\u001b[0m\u001b[0;34m.\u001b[0m\u001b[0mcheck_response\u001b[0m\u001b[0;34m(\u001b[0m\u001b[0mresponse\u001b[0m\u001b[0;34m)\u001b[0m\u001b[0;34m\u001b[0m\u001b[0;34m\u001b[0m\u001b[0m\n\u001b[0m\u001b[1;32m    322\u001b[0m             response['value'] = self._unwrap_value(\n\u001b[1;32m    323\u001b[0m                 response.get('value', None))\n",
      "\u001b[0;32m~/virtualENV/py3env/lib/python3.8/site-packages/selenium/webdriver/remote/errorhandler.py\u001b[0m in \u001b[0;36mcheck_response\u001b[0;34m(self, response)\u001b[0m\n\u001b[1;32m    240\u001b[0m                 \u001b[0malert_text\u001b[0m \u001b[0;34m=\u001b[0m \u001b[0mvalue\u001b[0m\u001b[0;34m[\u001b[0m\u001b[0;34m'alert'\u001b[0m\u001b[0;34m]\u001b[0m\u001b[0;34m.\u001b[0m\u001b[0mget\u001b[0m\u001b[0;34m(\u001b[0m\u001b[0;34m'text'\u001b[0m\u001b[0;34m)\u001b[0m\u001b[0;34m\u001b[0m\u001b[0;34m\u001b[0m\u001b[0m\n\u001b[1;32m    241\u001b[0m             \u001b[0;32mraise\u001b[0m \u001b[0mexception_class\u001b[0m\u001b[0;34m(\u001b[0m\u001b[0mmessage\u001b[0m\u001b[0;34m,\u001b[0m \u001b[0mscreen\u001b[0m\u001b[0;34m,\u001b[0m \u001b[0mstacktrace\u001b[0m\u001b[0;34m,\u001b[0m \u001b[0malert_text\u001b[0m\u001b[0;34m)\u001b[0m\u001b[0;34m\u001b[0m\u001b[0;34m\u001b[0m\u001b[0m\n\u001b[0;32m--> 242\u001b[0;31m         \u001b[0;32mraise\u001b[0m \u001b[0mexception_class\u001b[0m\u001b[0;34m(\u001b[0m\u001b[0mmessage\u001b[0m\u001b[0;34m,\u001b[0m \u001b[0mscreen\u001b[0m\u001b[0;34m,\u001b[0m \u001b[0mstacktrace\u001b[0m\u001b[0;34m)\u001b[0m\u001b[0;34m\u001b[0m\u001b[0;34m\u001b[0m\u001b[0m\n\u001b[0m\u001b[1;32m    243\u001b[0m \u001b[0;34m\u001b[0m\u001b[0m\n\u001b[1;32m    244\u001b[0m     \u001b[0;32mdef\u001b[0m \u001b[0m_value_or_default\u001b[0m\u001b[0;34m(\u001b[0m\u001b[0mself\u001b[0m\u001b[0;34m,\u001b[0m \u001b[0mobj\u001b[0m\u001b[0;34m,\u001b[0m \u001b[0mkey\u001b[0m\u001b[0;34m,\u001b[0m \u001b[0mdefault\u001b[0m\u001b[0;34m)\u001b[0m\u001b[0;34m:\u001b[0m\u001b[0;34m\u001b[0m\u001b[0;34m\u001b[0m\u001b[0m\n",
      "\u001b[0;31mElementClickInterceptedException\u001b[0m: Message: element click intercepted: Element <a href=\"javascript:;\" data-first=\"180\" data-total=\"272\" class=\"pageNext\">...</a> is not clickable at point (833, 739). Other element would receive the click: <li class=\"pull-left infoContent\n\n        \n\n        \">...</li>\n  (Session info: chrome=89.0.4389.114)\n"
     ]
    }
   ],
   "source": [
    "print(f\"===fetch:{url}===\")\n",
    "\n",
    "pattern = r\".*&region=(\\d).*\"\n",
    "region = re.match(pattern, url).group(1)\n",
    "\n",
    "print(f\"region={region}\")\n",
    "\n",
    "# engine = selenium_engine()\n",
    "# browser = engine.browser\n",
    "browser.get(url)\n",
    "timeout = 3\n",
    "try:\n",
    "    element_present = EC.presence_of_element_located((By.ID, \"area-box-close\"))\n",
    "    WebDriverWait(browser, timeout).until(element_present)\n",
    "    browser.find_element_by_css_selector(f'[data-id=\"{region}\"]').click()\n",
    "except TimeoutException:\n",
    "    print(\"Timed out waiting for page to load\")\n",
    "finally:\n",
    "    print(\"Page loaded\")\n",
    "\n",
    "timeout = 10\n",
    "try:\n",
    "    element_present = EC.presence_of_element_located((By.CLASS_NAME, \"pageBar\"))\n",
    "    WebDriverWait(browser, timeout).until(element_present)\n",
    "except TimeoutException:\n",
    "    print(\"Timed out waiting for page to load\")\n",
    "finally:\n",
    "    print(\"Page loaded\")    \n",
    "\n",
    "sleep(5)    \n",
    "\n",
    "data_soup_list = []\n",
    "last_page = False\n",
    "while last_page is False:\n",
    "    data_soup = BeautifulSoup(browser.page_source, 'html.parser')\n",
    "    data_soup_list.append(data_soup)\n",
    "\n",
    "    try:\n",
    "        browser.find_element_by_css_selector(\".pageNext.last\")\n",
    "        last_page = True\n",
    "        print(\"last page\")\n",
    "    except:\n",
    "        print(\"not the last page\")\n",
    "        browser.find_element_by_css_selector(\".pageNext\").click()\n",
    "        sleep(5)\n",
    "\n",
    "\n",
    "browser.quit()\n",
    "print(f\"===fetch:{url} done===\")"
   ]
  },
  {
   "cell_type": "code",
   "execution_count": null,
   "metadata": {},
   "outputs": [],
   "source": []
  },
  {
   "cell_type": "code",
   "execution_count": 97,
   "metadata": {},
   "outputs": [],
   "source": [
    "class leju_crawler:\n",
    "    def __init__(self):\n",
    "#         software_names = [SoftwareName.CHROME.value]\n",
    "#         operating_systems = [OperatingSystem.WINDOWS.value, OperatingSystem.LINUX.value]\n",
    "#         user_agent_rotator = UserAgent(\n",
    "#             software_names = software_names,\n",
    "#             operating_systems = operating_systems,\n",
    "#             limit = 100\n",
    "#         )\n",
    "\n",
    "#         self.user_agent = user_agent_rotator.get_random_user_agent()\n",
    "#         print(user_agent)\n",
    "\n",
    "        self.user_agent = 'Mozilla/5.0 (X11; Linux x86_64) AppleWebKit/537.36 (KHTML, like Gecko) Chrome/60.0.3112.50 Safari/537.36'\n",
    "\n",
    "        chrome_options = Options()\n",
    "        chrome_options.add_argument('--incognito')\n",
    "        chrome_options.add_argument('headless')\n",
    "        chrome_options.add_argument('--no-sandbox')\n",
    "        chrome_options.add_argument('--window-size=1420,1080')\n",
    "        chrome_options.add_argument(\"--disable-gpu\")\n",
    "        # chrome_options.add_argument(f'user-agent={user_agent}')\n",
    "        # chrome_options.add_experimental_option(\"excludeSwitches\", ['enable-automation'])\n",
    "        # chrome_options.add_argument(\"--disable-blink-features\");\n",
    "        # chrome_options.add_argument(\"--disable-blink-features=AutomationControlled\");\n",
    "        # driver = webdriver.Chrome(options=chrome_options)\n",
    "        executable_path=os.getcwd()+'/chromedriver_6'\n",
    "#         print(executable_path)\n",
    "\n",
    "        self.browser = webdriver.Chrome(executable_path=executable_path, options=chrome_options)\n",
    "    \n",
    "    \n",
    "        \n",
    "    \n",
    "    def fetch_data(self, url):\n",
    "        browser = self.browser\n",
    "        browser.get(url)\n",
    "        sleep(10)\n",
    "        data_soup = BeautifulSoup(browser.page_source, 'html.parser')\n",
    "#         print(data_soup)\n",
    "        browser.quit()\n",
    "        \n",
    "        return data_soup\n",
    "        \n",
    "    def get_title(self, data):\n",
    "        title = data.find('title').string\n",
    "        \n",
    "        return title\n",
    "        \n",
    "    def get_price_info(self, data):\n",
    "        avg_price = data.find('div', class_='avg_house_price_val').text\n",
    "        max_price = data.find('div', class_='max_house_price_val').text\n",
    "        min_price = data.find('div', class_='min_house_price_val').text\n",
    "        this_year_avg_price = data.find('div', class_='avg_date_house_price_val').text\n",
    "        \n",
    "        info = {\n",
    "            'avg_price': avg_price,\n",
    "            'max_price': max_price, \n",
    "            'min_price': min_price,\n",
    "            'this_year_avg_price': this_year_avg_price\n",
    "        }\n",
    "        \n",
    "        return info\n",
    "    \n",
    "    def get_basic_info(self, data):\n",
    "        building_title = data.find('article', class_='building_title').text\n",
    "        households = data.find('article', class_='households').text\n",
    "        house_year = data.find('article', class_='house_year').text\n",
    "        ttotal_floor = data.find('article', class_='ttotal_floor').text\n",
    "        elementary = data.find('article', class_='elementary').text\n",
    "        junior = data.find('article', class_='junior').text\n",
    "        developer1 = data.find('article', class_='developer1').text\n",
    "        \n",
    "        basic_info = {\n",
    "            'building_title': building_title,\n",
    "            'households': households,\n",
    "            'house_year': house_year,\n",
    "            'ttotal_floor': ttotal_floor,\n",
    "            'elementary': elementary,\n",
    "            'junior': junior,\n",
    "            'developer1': developer1,\n",
    "        }\n",
    "        \n",
    "        return basic_info\n",
    "        \n",
    "        \n",
    "    def get_sale_items(self, data):\n",
    "        items = data.find_all('div', class_='sales-item-box')\n",
    "        sale_items = []\n",
    "        for item in items:\n",
    "            floor = item.find('span').text\n",
    "            title = item.find('a').text\n",
    "            link = item.find('a')['href']\n",
    "            price = item.find_all('li')[1].text\n",
    "            area = item.find_all('li')[0].text\n",
    "            \n",
    "            data = {\n",
    "                'floor': floor,\n",
    "                'title': title,\n",
    "                'link': link,\n",
    "                'price': price,\n",
    "                'area': area,\n",
    "            }\n",
    "            \n",
    "            sale_items.append(data)\n",
    "            \n",
    "        return sale_items\n",
    "            \n",
    "        \n",
    "            \n",
    "        \n",
    "    def get_data_json(self, data):\n",
    "        title = self.get_title(data)\n",
    "        price_info = self.get_price_info(data)\n",
    "        basic_info =self.get_basic_info(data)\n",
    "        sale_items = self.get_sale_items(data)\n",
    "        \n",
    "        data_json = {\n",
    "            \"title\": title,\n",
    "            'price_info': price_info,\n",
    "            'basic_info': basic_info,\n",
    "            'sale_items': sale_items\n",
    "        }\n",
    "        \n",
    "        return data_json\n",
    "        \n",
    "        \n",
    "        "
   ]
  },
  {
   "cell_type": "code",
   "execution_count": 106,
   "metadata": {},
   "outputs": [],
   "source": [
    "# import gspread\n",
    "# from oauth2client.service_account import ServiceAccountCredentials\n",
    "# import os\n",
    "\n",
    "\n",
    "# class sheet_worker:\n",
    "#     def get_hash_str(self,data):\n",
    "#         hash_str = abs(hash(data)) % (10 ** 8)\n",
    "#         return hash_str\n",
    "        \n",
    "#     def get_sheet(self, sheet_key):\n",
    "#         scopes = [\"https://spreadsheets.google.com/feeds\"]\n",
    "#         current_path = os.getcwd()\n",
    "#         credentials = ServiceAccountCredentials.from_json_keyfile_name(current_path+\"/cred.json\", scopes)\n",
    "#         gss_client = gspread.authorize(credentials)\n",
    "#         spreadsheet_key_path = sheet_key\n",
    "#         sheet = gss_client.open_by_key(spreadsheet_key_path)\n",
    "#         return sheet\n",
    "    \n",
    "#     def data_to_sheet_value_list(self, data):\n",
    "#         profile = json.loads(data)\n",
    "#         title = profile['title']\n",
    "#         price_info = profile['price_info']\n",
    "#         basic_info = profile['basic_info']\n",
    "\n",
    "#         sale_items = profile['sale_items']\n",
    "#         sheet_value_list = []\n",
    "#         for sale_item in sale_items:\n",
    "#             floor = sale_item['floor']\n",
    "#             sub_title = sale_item['title']\n",
    "#             link = sale_item['link']\n",
    "#             price = sale_item['price']\n",
    "#             area = sale_item['area']\n",
    "\n",
    "#             sheet_value = [\n",
    "#                 str(title),\n",
    "#                 str(price_info),\n",
    "#                 str(basic_info),\n",
    "#                 floor,\n",
    "#                 sub_title,\n",
    "#                 link,\n",
    "#                 price,\n",
    "#                 area\n",
    "#             ]\n",
    "\n",
    "#             sheet_value_str = \"\".join(sheet_value)\n",
    "#             hash_str = self.get_hash_str(sheet_value_str)\n",
    "#             sheet_value.append(hash_str)\n",
    "#             sheet_value_list.append(sheet_value)\n",
    "            \n",
    "#         return sheet_value_list\n",
    "        \n",
    "        \n",
    "#     def run(self, data):\n",
    "#         sheet_key = '15V1XD3p_mD8SSP_TQkY2PwYTM_FjOAXQXD1GuJcrpfI'\n",
    "#         sheet = self.get_sheet(sheet_key)\n",
    "#         sheet_bot = sheet.worksheet('bot')\n",
    "\n",
    "#         profile_list = data['profile']\n",
    "#         for profile in profile_list:\n",
    "#             sheet_value_list = self.data_to_sheet_value_list(profile)\n",
    "#             print(sheet_value_list)\n",
    "        \n",
    "#         sheet_row_cnt = 2\n",
    "#         for sheet_value in sheet_value_list:\n",
    "#             sheet_bot.insert_row(sheet_value, sheet_row_cnt)\n",
    "#             sheet_row_cnt +=1\n",
    "            \n",
    "            \n",
    "            \n",
    "from util.gsheet import gsheet_worker "
   ]
  },
  {
   "cell_type": "code",
   "execution_count": 99,
   "metadata": {},
   "outputs": [
    {
     "name": "stdout",
     "output_type": "stream",
     "text": [
      "{'profile': ['{\"title\": \"麗軒珍寶-7筆交易紀錄，實價登錄平均成交價為52.33萬/坪  \", \"price_info\": {\"avg_price\": \"52.33萬/坪\", \"max_price\": \"56.16萬/坪\", \"min_price\": \"48.96萬/坪\", \"this_year_avg_price\": \"--萬/坪\"}, \"basic_info\": {\"building_title\": \"大同街50巷26號\", \"households\": \"32戶\", \"house_year\": \"19年\", \"ttotal_floor\": \"8\", \"elementary\": \"文聖國小(雙語)\", \"junior\": \"光復國中、江翠國中\", \"developer1\": \"珍寶事業\"}, \"sale_items\": [{\"floor\": \"6樓\", \"title\": \"自售～麗軒珍寶景觀3...\", \"link\": \"https://sale.591.com.tw/home/house/detail/2/8756933.html\", \"price\": \"總價2680萬\", \"area\": \"坪數47坪\"}, {\"floor\": \"2樓\", \"title\": \"江翠捷運珍寶三房\", \"link\": \"https://buy.yungching.com.tw/house/4587875\", \"price\": \"總價2298萬\", \"area\": \"坪數35.61坪\"}]}']}\n"
     ]
    }
   ],
   "source": [
    "url_list = [\n",
    "    \"https://www.leju.com.tw/page_search_result?oid=L37611690f7027\",\n",
    "]\n",
    "body = {'profile':[]}\n",
    "for url in url_list:\n",
    "    crawler = leju_crawler()\n",
    "    data = crawler.fetch_data(url)\n",
    "    data_json = crawler.get_data_json(data)\n",
    "#         data_json = json.loads(data_json)\n",
    "#         data_json = json.dumps(data_json, indent=4, sort_keys=True, ensure_ascii=False).encode('utf8')\n",
    "    data_json = json.dumps(data_json, ensure_ascii=False).encode('utf8')\n",
    "#         print(data_json.decode())\n",
    "    body['profile'].append(data_json.decode())\n",
    "    \n",
    "print(body)"
   ]
  },
  {
   "cell_type": "code",
   "execution_count": 107,
   "metadata": {},
   "outputs": [
    {
     "name": "stdout",
     "output_type": "stream",
     "text": [
      "[['麗軒珍寶-7筆交易紀錄，實價登錄平均成交價為52.33萬/坪  ', \"{'avg_price': '52.33萬/坪', 'max_price': '56.16萬/坪', 'min_price': '48.96萬/坪', 'this_year_avg_price': '--萬/坪'}\", \"{'building_title': '大同街50巷26號', 'households': '32戶', 'house_year': '19年', 'ttotal_floor': '8', 'elementary': '文聖國小(雙語)', 'junior': '光復國中、江翠國中', 'developer1': '珍寶事業'}\", '6樓', '自售～麗軒珍寶景觀3...', 'https://sale.591.com.tw/home/house/detail/2/8756933.html', '總價2680萬', '坪數47坪', 35932627], ['麗軒珍寶-7筆交易紀錄，實價登錄平均成交價為52.33萬/坪  ', \"{'avg_price': '52.33萬/坪', 'max_price': '56.16萬/坪', 'min_price': '48.96萬/坪', 'this_year_avg_price': '--萬/坪'}\", \"{'building_title': '大同街50巷26號', 'households': '32戶', 'house_year': '19年', 'ttotal_floor': '8', 'elementary': '文聖國小(雙語)', 'junior': '光復國中、江翠國中', 'developer1': '珍寶事業'}\", '2樓', '江翠捷運珍寶三房', 'https://buy.yungching.com.tw/house/4587875', '總價2298萬', '坪數35.61坪', 55442021]]\n"
     ]
    }
   ],
   "source": [
    "\n",
    "sht_worker = gsheet_worker()\n",
    "sht_worker.run(body)\n"
   ]
  },
  {
   "cell_type": "code",
   "execution_count": 96,
   "metadata": {},
   "outputs": [],
   "source": [
    "# item = data.find_all('div', class_='sales-item-box')[1]\n",
    "# # print(item)\n",
    "# item.find_all('li')[0].text"
   ]
  },
  {
   "cell_type": "code",
   "execution_count": null,
   "metadata": {},
   "outputs": [],
   "source": []
  },
  {
   "cell_type": "code",
   "execution_count": null,
   "metadata": {},
   "outputs": [],
   "source": []
  }
 ],
 "metadata": {
  "kernelspec": {
   "display_name": "Python 3",
   "language": "python",
   "name": "python3"
  },
  "language_info": {
   "codemirror_mode": {
    "name": "ipython",
    "version": 3
   },
   "file_extension": ".py",
   "mimetype": "text/x-python",
   "name": "python",
   "nbconvert_exporter": "python",
   "pygments_lexer": "ipython3",
   "version": "3.8.2"
  }
 },
 "nbformat": 4,
 "nbformat_minor": 4
}
