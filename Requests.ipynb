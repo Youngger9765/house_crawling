{
 "cells": [
  {
   "cell_type": "code",
   "execution_count": 1,
   "id": "23bf1f59",
   "metadata": {},
   "outputs": [],
   "source": [
    "import requests\n",
    "import re\n",
    "from bs4 import BeautifulSoup\n",
    "import json"
   ]
  },
  {
   "cell_type": "code",
   "execution_count": 2,
   "id": "b294e203",
   "metadata": {},
   "outputs": [],
   "source": [
    "url = \"https://www.youtube.com/channel/UCLNBEt_42kYuX7fgZiubgXQ\"\n",
    "playlists_url = url + \"/playlists\"\n",
    "resp = requests.get(playlists_url)\n",
    "data_soup = BeautifulSoup(resp.text, 'html.parser')\n",
    "\n",
    "channel_url = url\n",
    "channel_name = data_soup.select_one('link[itemprop=\"name\"]')[\"content\"]\n",
    "channel_id = url.replace(\"https://www.youtube.com/channel/\",\"\")\n",
    "\n",
    "playlistId_pattern = r'playlistId\":\"(.*?)\",'\n",
    "playlistId_list = re.findall(playlistId_pattern, resp.text)\n",
    "playlistId_list = list(set(playlistId_list))\n",
    "\n",
    "# data_soup\n",
    "# \"#header #channel-name #text.ytd-channel-name\""
   ]
  },
  {
   "cell_type": "code",
   "execution_count": 3,
   "id": "134f7e8f",
   "metadata": {},
   "outputs": [],
   "source": [
    "playlistId = \"PLI6pJZaOCtF0T_pQ3gv37BmdZabLA9xVX\"\n",
    "yt_list_url = f\"https://www.youtube.com/playlist?list={playlistId}\"\n",
    "resp = requests.get(yt_list_url)\n"
   ]
  },
  {
   "cell_type": "code",
   "execution_count": 16,
   "id": "15171ddd",
   "metadata": {},
   "outputs": [
    {
     "name": "stdout",
     "output_type": "stream",
     "text": [
      "['8DcJxx5jpFQ', 'E_x4al5INak', 'gZQjUrFW948', 'd3O3ju1l6vI', 'FFFFzEUdsX8', 'T3b8btc6zwM', 'Fd6AMP0YU3k', 'vtg0oqllKtI', 'L-Pv7uROcac', 'sNDoLXorAKg', 'FRgC0mKiu9c', '_v1Rv1oIEWk', 'CMIvqyokTbw', 'tVeXZ7TRzwk', '7lMtei_3Cp4', 'zqEM-HmAhvk', '-ImSbzXWMA4', 'JLkYTc6U-g0']\n",
      "https://www.youtube.com/watch?v=8DcJxx5jpFQ\n"
     ]
    }
   ],
   "source": [
    "\n",
    "\n",
    "\n",
    "data_dict_list = []\n",
    "for playlist_id in playlistId_list[:1]:\n",
    "    yt_list_url = f\"https://www.youtube.com/playlist?list={playlist_id}\"\n",
    "    resp = requests.get(yt_list_url)\n",
    "    data_soup = BeautifulSoup(resp.text, 'html.parser')\n",
    "    playlist_title = data_soup.select_one('meta[property=\"og:title\"]')[\"content\"]\n",
    "\n",
    "    videoId_pattern = r'\"videoId\":\"(.*?)\",'\n",
    "    videoId_list = re.findall(videoId_pattern, resp.text)\n",
    "    video_id_list = list(set(videoId_list))\n",
    "    print(video_id_list)\n",
    "\n",
    "    data_soup_video_list = []\n",
    "    for video_id in video_id_list[:1]:\n",
    "        video_url = f\"https://www.youtube.com/watch?v={video_id}\"\n",
    "        print(video_url)\n",
    "        resp = requests.get(video_url)\n",
    "        resp.text\n",
    "        data_soup = BeautifulSoup(resp.text, 'html.parser')\n",
    "        data_soup_video_list.append(data_soup)\n",
    "\n",
    "        data_dict = {\n",
    "            \"channel_name\": channel_name,\n",
    "            \"channel_url\": channel_url,\n",
    "            \"channel_id\": channel_id,\n",
    "            \"playlist_id\": playlist_id,\n",
    "            \"playlist_title\": playlist_title,\n",
    "            \"data_soup_video_list\": data_soup_video_list\n",
    "        }\n",
    "        data_dict_list.append(data_dict)\n",
    "\n",
    "# print(data_dict_list)"
   ]
  },
  {
   "cell_type": "code",
   "execution_count": 5,
   "id": "05d1810c",
   "metadata": {},
   "outputs": [
    {
     "ename": "IndexError",
     "evalue": "list index out of range",
     "output_type": "error",
     "traceback": [
      "\u001b[0;31m---------------------------------------------------------------------------\u001b[0m",
      "\u001b[0;31mIndexError\u001b[0m                                Traceback (most recent call last)",
      "Input \u001b[0;32mIn [5]\u001b[0m, in \u001b[0;36m<cell line: 15>\u001b[0;34m()\u001b[0m\n\u001b[1;32m     13\u001b[0m tag_pattern \u001b[38;5;241m=\u001b[39m \u001b[38;5;124mr\u001b[39m\u001b[38;5;124m'\u001b[39m\u001b[38;5;124m\"\u001b[39m\u001b[38;5;124mshortDescription\u001b[39m\u001b[38;5;124m\"\u001b[39m\u001b[38;5;124m:\u001b[39m\u001b[38;5;124m\"\u001b[39m\u001b[38;5;124m(#.*?)\u001b[39m\u001b[38;5;130;01m\\\\\u001b[39;00m\u001b[38;5;124mn\u001b[39m\u001b[38;5;124m'\u001b[39m\n\u001b[1;32m     14\u001b[0m data_soup_str \u001b[38;5;241m=\u001b[39m \u001b[38;5;28mstr\u001b[39m(data_soup)\n\u001b[0;32m---> 15\u001b[0m tag_list \u001b[38;5;241m=\u001b[39m \u001b[43mre\u001b[49m\u001b[38;5;241;43m.\u001b[39;49m\u001b[43mfindall\u001b[49m\u001b[43m(\u001b[49m\u001b[43mtag_pattern\u001b[49m\u001b[43m,\u001b[49m\u001b[43m \u001b[49m\u001b[43mdata_soup_str\u001b[49m\u001b[43m)\u001b[49m\u001b[43m[\u001b[49m\u001b[38;5;241;43m0\u001b[39;49m\u001b[43m]\u001b[49m\n\u001b[1;32m     16\u001b[0m tag_list \u001b[38;5;241m=\u001b[39m tag_list\u001b[38;5;241m.\u001b[39msplit(\u001b[38;5;124m\"\u001b[39m\u001b[38;5;124m#\u001b[39m\u001b[38;5;124m\"\u001b[39m)\n\u001b[1;32m     17\u001b[0m tag_list\u001b[38;5;241m.\u001b[39mremove(\u001b[38;5;124m\"\u001b[39m\u001b[38;5;124m\"\u001b[39m)\n",
      "\u001b[0;31mIndexError\u001b[0m: list index out of range"
     ]
    }
   ],
   "source": [
    "data_dict = data_dict_list[0]\n",
    "data_soup = data_dict[\"data_soup_video_list\"][0]\n",
    "\n",
    "video_id = data_soup.select_one('meta[itemprop=\"videoId\"]')[\"content\"]\n",
    "video_url = data_soup.select_one('[name=\"twitter:url\"]')[\"content\"]\n",
    "published = data_soup.select_one('meta[itemprop=\"uploadDate\"]')[\"content\"]\n",
    "title = data_soup.select_one('meta[itemprop=\"name\"]')[\"content\"]\n",
    "img_link = data_soup.select_one('link[itemprop=\"thumbnailUrl\"]')[\"href\"]\n",
    "description = data_soup.select_one('meta[itemprop=\"description\"]')[\"content\"]\n",
    "playlist_id = data_dict[\"playlist_id\"]\n",
    "playlist_title = data_dict[\"playlist_title\"]\n",
    "\n",
    "tag_pattern = r'\"shortDescription\":\"(#.*?)\\\\n'\n",
    "data_soup_str = str(data_soup)\n",
    "try:\n",
    "    tag_list = re.findall(tag_pattern, data_soup_str)[0]\n",
    "    tag_list = tag_list.split(\"#\")\n",
    "    tag_list.remove(\"\")\n",
    "except:\n",
    "    tag_list = []\n",
    "\n",
    "data = {\n",
    "    \"channel_name\":channel_name,\n",
    "    \"channel_url\": channel_url,\n",
    "    \"channel_id\": channel_id,\n",
    "    \"video_id\": video_id,\n",
    "    \"video_url\": video_url,\n",
    "    \"published\": published,\n",
    "    \"title\": title,\n",
    "    \"img_link\": img_link,\n",
    "    \"description\": description,\n",
    "    \"tag_list\": tag_list,\n",
    "    \"playlist_id\": playlist_id,\n",
    "    \"playlist_title\": \"\"\n",
    "}\n",
    "\n",
    "data"
   ]
  },
  {
   "cell_type": "code",
   "execution_count": null,
   "id": "a31722f2",
   "metadata": {},
   "outputs": [],
   "source": [
    "data_soup"
   ]
  },
  {
   "cell_type": "code",
   "execution_count": 23,
   "id": "f88579bb",
   "metadata": {},
   "outputs": [
    {
     "data": {
      "text/plain": [
       "'PLl-MS2zMZDrNMYUlZQmJ3NVu4BWZwAtkb'"
      ]
     },
     "execution_count": 23,
     "metadata": {},
     "output_type": "execute_result"
    }
   ],
   "source": [
    "url = \"https://www.youtube.com/watch?v=i5R3kXZ2QZA\"\n",
    "resp = requests.get(url, channel_name)\n",
    "resp.text\n",
    "data_soup = BeautifulSoup(resp.text, 'html.parser')\n",
    "video_title = data_soup.select_one('meta[name=\"title\"]')[\"content\"]\n",
    "query_url = f\"https://www.youtube.com/results?sp=mAEB&search_query={video_title}+{channel_name}\"\n",
    "resp = requests.get(query_url)\n",
    "data_soup = BeautifulSoup(resp.text, 'html.parser')\n",
    "data_soup_str = str(data_soup)\n",
    "playlist_pattern = r'{\"playlistRenderer\":{\"playlistId\":\"(.*?)\"'\n",
    "playlist_id = re.findall(playlist_pattern, data_soup_str)[0]\n",
    "playlist_id"
   ]
  },
  {
   "cell_type": "code",
   "execution_count": 73,
   "id": "358ec275",
   "metadata": {},
   "outputs": [],
   "source": [
    "class RequestsCrawler:\n",
    "    def __init__(self):\n",
    "        print(\"===crawler init ===\")\n",
    "\n",
    "    def get_yt_playlist(self, url, channel_name):\n",
    "        resp = requests.get(url)\n",
    "        data_soup = BeautifulSoup(resp.text, 'html.parser')\n",
    "        video_title = data_soup.select_one('meta[name=\"title\"]')[\"content\"]\n",
    "        query_url = f\"https://www.youtube.com/results?sp=mAEB&search_query={video_title}+{channel_name}\"\n",
    "        resp = requests.get(query_url)\n",
    "        data_soup = BeautifulSoup(resp.text, 'html.parser')\n",
    "        data_soup_str = str(data_soup)\n",
    "        playlist_pattern = r'{\"playlistRenderer\":{\"playlistId\":\"(.*?)\"'\n",
    "        playlist_id = re.findall(playlist_pattern, data_soup_str)[0]\n",
    "        \n",
    "        return playlist_id\n",
    "    \n",
    "    def get_yt_channel_info(self, channel_id):\n",
    "        url = f\"https://www.youtube.com/feeds/videos.xml?channel_id={channel_id}\"\n",
    "        resp = requests.get(url)\n",
    "        data_soup = BeautifulSoup(resp.content, 'xml')\n",
    "        channel_name = data_soup.select_one(\"feed > title\").text\n",
    "        channel_url = data_soup.select_one('feed > link[rel=\"alternate\"]')[\"href\"]\n",
    "        channel_feeds_url = url\n",
    "        channel_author_name = data_soup.select_one('author > name').text\n",
    "        channel_published = data_soup.select_one('feed > published').text\n",
    "\n",
    "        channel_data = {\n",
    "            \"channel_id\": channel_id,\n",
    "            \"channel_name\": channel_name,\n",
    "            \"channel_url\": channel_url,\n",
    "            \"channel_author_name\": channel_author_name,\n",
    "            \"channel_feeds_url\": channel_feeds_url,\n",
    "            \"channel_published\": channel_published\n",
    "        }\n",
    "        \n",
    "        return channel_data\n",
    "    \n",
    "    def get_yt_playlist_info(self, playlist_id):\n",
    "        url = f\"https://www.youtube.com/watch?v=&list={playlist_id}\"\n",
    "        resp = requests.get(url)\n",
    "        data_soup = BeautifulSoup(resp.text, 'html.parser')\n",
    "        data_soup_str = str(data_soup)\n",
    "        playlist_title_pattern = r'\"titleText\":{\"runs\":\\[{\"text\":\"(.*?)\"'\n",
    "        playlist_title = re.findall(playlist_title_pattern, data_soup_str)[0]\n",
    "        \n",
    "        playlist_data = {\n",
    "            \"playlist_id\": playlist_id,\n",
    "            \"playlist_title\": playlist_title\n",
    "        }\n",
    "        \n",
    "        return playlist_data"
   ]
  },
  {
   "cell_type": "code",
   "execution_count": 74,
   "id": "1a738d96",
   "metadata": {},
   "outputs": [
    {
     "name": "stdout",
     "output_type": "stream",
     "text": [
      "===crawler init ===\n"
     ]
    },
    {
     "data": {
      "text/plain": [
       "{'playlist_id': 'PLl-MS2zMZDrN2n5kLC0hLNl33je28GAtV',\n",
       " 'playlist_title': '【活動教學影片】菁鷹特務學院-皇家的祕寶'}"
      ]
     },
     "execution_count": 74,
     "metadata": {},
     "output_type": "execute_result"
    }
   ],
   "source": [
    "crawler = RequestsCrawler()\n",
    "playlist_id = \"PLl-MS2zMZDrN2n5kLC0hLNl33je28GAtV\"\n",
    "crawler.get_yt_playlist_info(playlist_id)"
   ]
  },
  {
   "cell_type": "code",
   "execution_count": 76,
   "id": "c7fc2593",
   "metadata": {},
   "outputs": [
    {
     "name": "stdout",
     "output_type": "stream",
     "text": [
      "===crawler init ===\n"
     ]
    },
    {
     "ename": "IndexError",
     "evalue": "list index out of range",
     "output_type": "error",
     "traceback": [
      "\u001b[0;31m---------------------------------------------------------------------------\u001b[0m",
      "\u001b[0;31mIndexError\u001b[0m                                Traceback (most recent call last)",
      "Input \u001b[0;32mIn [76]\u001b[0m, in \u001b[0;36m<cell line: 4>\u001b[0;34m()\u001b[0m\n\u001b[1;32m      2\u001b[0m video_url \u001b[38;5;241m=\u001b[39m \u001b[38;5;124m\"\u001b[39m\u001b[38;5;124mhttps://www.youtube.com/watch?v=WoLjMZ-d9a8\u001b[39m\u001b[38;5;124m\"\u001b[39m\n\u001b[1;32m      3\u001b[0m channel_name \u001b[38;5;241m=\u001b[39m \u001b[38;5;124m\"\u001b[39m\u001b[38;5;124mLIS情境科學教材\u001b[39m\u001b[38;5;124m\"\u001b[39m\n\u001b[0;32m----> 4\u001b[0m playlist_id \u001b[38;5;241m=\u001b[39m \u001b[43mreq_crawler\u001b[49m\u001b[38;5;241;43m.\u001b[39;49m\u001b[43mget_yt_playlist\u001b[49m\u001b[43m(\u001b[49m\u001b[43mvideo_url\u001b[49m\u001b[43m,\u001b[49m\u001b[43mchannel_name\u001b[49m\u001b[43m)\u001b[49m\n",
      "Input \u001b[0;32mIn [73]\u001b[0m, in \u001b[0;36mRequestsCrawler.get_yt_playlist\u001b[0;34m(self, url, channel_name)\u001b[0m\n\u001b[1;32m     12\u001b[0m data_soup_str \u001b[38;5;241m=\u001b[39m \u001b[38;5;28mstr\u001b[39m(data_soup)\n\u001b[1;32m     13\u001b[0m playlist_pattern \u001b[38;5;241m=\u001b[39m \u001b[38;5;124mr\u001b[39m\u001b[38;5;124m'\u001b[39m\u001b[38;5;124m{\u001b[39m\u001b[38;5;124m\"\u001b[39m\u001b[38;5;124mplaylistRenderer\u001b[39m\u001b[38;5;124m\"\u001b[39m\u001b[38;5;124m:\u001b[39m\u001b[38;5;124m{\u001b[39m\u001b[38;5;124m\"\u001b[39m\u001b[38;5;124mplaylistId\u001b[39m\u001b[38;5;124m\"\u001b[39m\u001b[38;5;124m:\u001b[39m\u001b[38;5;124m\"\u001b[39m\u001b[38;5;124m(.*?)\u001b[39m\u001b[38;5;124m\"\u001b[39m\u001b[38;5;124m'\u001b[39m\n\u001b[0;32m---> 14\u001b[0m playlist_id \u001b[38;5;241m=\u001b[39m \u001b[43mre\u001b[49m\u001b[38;5;241;43m.\u001b[39;49m\u001b[43mfindall\u001b[49m\u001b[43m(\u001b[49m\u001b[43mplaylist_pattern\u001b[49m\u001b[43m,\u001b[49m\u001b[43m \u001b[49m\u001b[43mdata_soup_str\u001b[49m\u001b[43m)\u001b[49m\u001b[43m[\u001b[49m\u001b[38;5;241;43m0\u001b[39;49m\u001b[43m]\u001b[49m\n\u001b[1;32m     16\u001b[0m \u001b[38;5;28;01mreturn\u001b[39;00m playlist_id\n",
      "\u001b[0;31mIndexError\u001b[0m: list index out of range"
     ]
    }
   ],
   "source": [
    "req_crawler = RequestsCrawler()\n",
    "video_url = \"https://www.youtube.com/watch?v=WoLjMZ-d9a8\"\n",
    "channel_name = \"LIS情境科學教材\"\n",
    "playlist_id = req_crawler.get_yt_playlist(video_url,channel_name)"
   ]
  },
  {
   "cell_type": "code",
   "execution_count": null,
   "id": "9826c1e7",
   "metadata": {},
   "outputs": [],
   "source": []
  }
 ],
 "metadata": {
  "kernelspec": {
   "display_name": "Python 3 (ipykernel)",
   "language": "python",
   "name": "python3"
  },
  "language_info": {
   "codemirror_mode": {
    "name": "ipython",
    "version": 3
   },
   "file_extension": ".py",
   "mimetype": "text/x-python",
   "name": "python",
   "nbconvert_exporter": "python",
   "pygments_lexer": "ipython3",
   "version": "3.8.9"
  }
 },
 "nbformat": 4,
 "nbformat_minor": 5
}
