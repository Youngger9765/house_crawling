{
 "cells": [
  {
   "cell_type": "code",
   "execution_count": 1,
   "metadata": {},
   "outputs": [
    {
     "data": {
      "text/plain": [
       "'/Users/Young/projects/house_crawling'"
      ]
     },
     "execution_count": 1,
     "metadata": {},
     "output_type": "execute_result"
    }
   ],
   "source": [
    "import os\n",
    "os.getcwd()"
   ]
  },
  {
   "cell_type": "code",
   "execution_count": 2,
   "metadata": {},
   "outputs": [
    {
     "name": "stdout",
     "output_type": "stream",
     "text": [
      "Requirement already satisfied: bs4 in /Users/Young/virtualENV/py3env/lib/python3.8/site-packages (0.0.1)\n",
      "Requirement already satisfied: beautifulsoup4 in /Users/Young/virtualENV/py3env/lib/python3.8/site-packages (from bs4) (4.9.3)\n",
      "Requirement already satisfied: soupsieve>1.2 in /Users/Young/virtualENV/py3env/lib/python3.8/site-packages (from beautifulsoup4->bs4) (2.2.1)\n",
      "Requirement already satisfied: webdriver_manager in /Users/Young/virtualENV/py3env/lib/python3.8/site-packages (3.3.0)\n",
      "Requirement already satisfied: crayons in /Users/Young/virtualENV/py3env/lib/python3.8/site-packages (from webdriver_manager) (0.4.0)\n",
      "Requirement already satisfied: configparser in /Users/Young/virtualENV/py3env/lib/python3.8/site-packages (from webdriver_manager) (5.0.2)\n",
      "Requirement already satisfied: requests in /Users/Young/virtualENV/py3env/lib/python3.8/site-packages (from webdriver_manager) (2.25.1)\n",
      "Requirement already satisfied: colorama in /Users/Young/virtualENV/py3env/lib/python3.8/site-packages (from crayons->webdriver_manager) (0.4.3)\n",
      "Requirement already satisfied: chardet<5,>=3.0.2 in /Users/Young/virtualENV/py3env/lib/python3.8/site-packages (from requests->webdriver_manager) (4.0.0)\n",
      "Requirement already satisfied: certifi>=2017.4.17 in /Users/Young/virtualENV/py3env/lib/python3.8/site-packages (from requests->webdriver_manager) (2020.12.5)\n",
      "Requirement already satisfied: urllib3<1.27,>=1.21.1 in /Users/Young/virtualENV/py3env/lib/python3.8/site-packages (from requests->webdriver_manager) (1.26.4)\n",
      "Requirement already satisfied: idna<3,>=2.5 in /Users/Young/virtualENV/py3env/lib/python3.8/site-packages (from requests->webdriver_manager) (2.10)\n",
      "Requirement already satisfied: selenium in /Users/Young/virtualENV/py3env/lib/python3.8/site-packages (3.141.0)\n",
      "Requirement already satisfied: urllib3 in /Users/Young/virtualENV/py3env/lib/python3.8/site-packages (from selenium) (1.26.4)\n",
      "Requirement already satisfied: random_user_agent in /Users/Young/virtualENV/py3env/lib/python3.8/site-packages (1.0.1)\n"
     ]
    }
   ],
   "source": [
    "!pip install bs4\n",
    "!pip install webdriver_manager\n",
    "!pip install selenium\n",
    "!pip install random_user_agent\n",
    "\n"
   ]
  },
  {
   "cell_type": "code",
   "execution_count": 3,
   "metadata": {},
   "outputs": [],
   "source": [
    "from selenium import webdriver\n",
    "import selenium\n",
    "import random_user_agent\n",
    "\n",
    "from selenium.common.exceptions import TimeoutException, WebDriverException\n",
    "from selenium.webdriver.chrome.options import Options\n",
    "from selenium.webdriver.common.by import By\n",
    "from selenium.webdriver.support.ui import WebDriverWait\n",
    "from selenium.webdriver.support import expected_conditions as EC\n",
    "from selenium.webdriver.common.proxy import Proxy, ProxyType \n",
    "\n",
    "from random_user_agent.user_agent import UserAgent\n",
    "from random_user_agent.params import SoftwareName, OperatingSystem\n",
    "\n",
    "from time import sleep\n",
    "from bs4 import BeautifulSoup\n",
    "from webdriver_manager.chrome import ChromeDriverManager\n",
    "import json\n",
    "import re\n",
    "\n",
    "\n"
   ]
  },
  {
   "cell_type": "code",
   "execution_count": 55,
   "metadata": {},
   "outputs": [
    {
     "name": "stderr",
     "output_type": "stream",
     "text": [
      "[WDM] - ====== WebDriver manager ======\n",
      "[WDM] - Current google-chrome version is 90.0.4430\n",
      "[WDM] - Get LATEST driver version for 90.0.4430\n"
     ]
    },
    {
     "name": "stdout",
     "output_type": "stream",
     "text": [
      "\n",
      "\n"
     ]
    },
    {
     "name": "stderr",
     "output_type": "stream",
     "text": [
      "[WDM] - Driver [/Users/Young/.wdm/drivers/chromedriver/mac64/90.0.4430.24/chromedriver] found in cache\n"
     ]
    }
   ],
   "source": [
    "user_agent = 'Mozilla/5.0 (X11; Linux x86_64) AppleWebKit/537.36 (KHTML, like Gecko) Chrome/60.0.3112.50 Safari/537.36'\n",
    "\n",
    "chrome_options = Options()\n",
    "chrome_options.add_argument('--incognito')\n",
    "# chrome_options.add_argument('headless')\n",
    "chrome_options.add_argument('--no-sandbox')\n",
    "chrome_options.add_argument('--window-size=1420,1080')\n",
    "chrome_options.add_argument(\"--disable-gpu\")\n",
    "# chrome_options.add_argument(f'user-agent={user_agent}')\n",
    "# chrome_options.add_experimental_option(\"excludeSwitches\", ['enable-automation'])\n",
    "# chrome_options.add_argument(\"--disable-blink-features\");\n",
    "# chrome_options.add_argument(\"--disable-blink-features=AutomationControlled\");\n",
    "# driver = webdriver.Chrome(options=chrome_options)\n",
    "executable_path=os.getcwd()+'/chromedriver'\n",
    "#         print(executable_path)\n",
    "# browser = webdriver.Chrome(executable_path=executable_path, options=chrome_options)\n",
    "# browser = webdriver.Chrome(executable_path=\"./chromedriver\", options=chrome_options)\n",
    "\n",
    "\n",
    "# browser = webdriver.Chrome(ChromeDriverManager().install(),options=chrome_options)\n",
    "\n",
    "from webdriver_manager.utils import ChromeType\n",
    "browser = webdriver.Chrome(ChromeDriverManager(chrome_type=ChromeType.GOOGLE).install(), options=chrome_options)\n",
    "\n",
    "\n",
    "# from webdriver_manager.chrome import ChromeDriverManager\n",
    "# from webdriver_manager.utils import ChromeType\n",
    "\n",
    "\n",
    "# browser = webdriver.Chrome(ChromeDriverManager(chrome_type=ChromeType.GOOGLE).install())\n"
   ]
  },
  {
   "cell_type": "code",
   "execution_count": 56,
   "metadata": {},
   "outputs": [],
   "source": [
    "# url = \"https://adl.edu.tw/modules.php?op=modload&name=assignMission&file=ks_viewlist&seme=109&subject=28&subjectG=2#parentHorizontalTab1\"\n",
    "\n",
    "url = \"https://adl.edu.tw/\"\n",
    "\n",
    "# _ga=GA1.3.1985953389.1619174961; \n",
    "# _gid=GA1.3.1303494072.1619174961; \n",
    "# G_ENABLED_IDPS=google; \n",
    "# set_school0=%E8%8B%97%E6%A0%97%E7%B8%A3; \n",
    "# set_school1=358-%E8%8B%91%E8%A3%A1%E9%8E%AE; \n",
    "# set_school2=054510-%E8%87%B4%E6%B0%91%E5%9C%8B%E4%B8%AD; \n",
    "# PHPSESSID=089a4f4a7e7fc248ac07012d471d3051; \n",
    "# id_level=1; \n",
    "# school0=%E8%8B%97%E6%A0%97%E7%B8%A3; \n",
    "# school1=358-%E8%8B%91%E8%A3%A1%E9%8E%AE; \n",
    "# school2=054510-%E8%87%B4%E6%B0%91%E5%9C%8B%E4%B8%AD; \n",
    "# username=054510-1638601; \n",
    "# captcha_code=4565; \n",
    "# authchallenge=20e91cea651b564b713dce622c7edf52; \n",
    "# user_enter=NoshowDescription; \n",
    "# _gat_gtag_UA_108376301_1=1\n",
    "\n",
    "browser.get(url)\n",
    "# browser.add_cookie({\"name\": \"_ga\", \"value\": \"GA1.3.1985953389.1619174961\"})\n",
    "# browser.add_cookie({\"name\": \"_gid\", \"value\": \"GA1.3.1303494072.1619174961\"})\n",
    "browser.add_cookie({\"name\": \"G_ENABLED_IDPS\", \"value\": \"google\"})\n",
    "# browser.add_cookie({\"name\": \"set_school0\", \"value\": \"%E8%8B%97%E6%A0%97%E7%B8%A3\"})\n",
    "# browser.add_cookie({\"name\": \"set_school1\", \"value\": \"358-%E8%8B%91%E8%A3%A1%E9%8E%AE\"})\n",
    "# browser.add_cookie({\"name\": \"set_school2\", \"value\": \"054510-%E8%87%B4%E6%B0%91%E5%9C%8B%E4%B8%AD\"})\n",
    "browser.add_cookie({\"name\": \"PHPSESSID\", \"value\": \"089a4f4a7e7fc248ac07012d471d3051\"})\n",
    "# browser.add_cookie({\"name\": \"id_level\", \"value\": \"1\"})\n",
    "# browser.add_cookie({\"name\": \"school0\", \"value\": \"%E8%8B%97%E6%A0%97%E7%B8%A3\"})\n",
    "# browser.add_cookie({\"name\": \"school1\", \"value\": \"358-%E8%8B%91%E8%A3%A1%E9%8E%AE\"})\n",
    "# browser.add_cookie({\"name\": \"school2\", \"value\": \"054510-%E8%87%B4%E6%B0%91%E5%9C%8B%E4%B8%AD\"})\n",
    "# browser.add_cookie({\"name\": \"username\", \"value\": \"054510-1638601\"})\n",
    "browser.add_cookie({\"name\": \"authchallenge\", \"value\": \"20e91cea651b564b713dce622c7edf52\"})\n",
    "# browser.add_cookie({\"name\": \"user_enter\", \"value\": \"NoshowDescription\"})\n",
    "# browser.add_cookie({\"name\": \"_gat_gtag_UA_108376301_1\", \"value\": \"1\"})\n"
   ]
  },
  {
   "cell_type": "code",
   "execution_count": 54,
   "metadata": {},
   "outputs": [
    {
     "name": "stdout",
     "output_type": "stream",
     "text": [
      "[{'domain': 'adl.edu.tw', 'httpOnly': False, 'name': '_gat_gtag_UA_108376301_1', 'path': '/', 'secure': True, 'value': '1'}, {'domain': 'adl.edu.tw', 'httpOnly': False, 'name': 'user_enter', 'path': '/', 'secure': True, 'value': 'NoshowDescription'}, {'domain': 'adl.edu.tw', 'httpOnly': False, 'name': 'authchallenge', 'path': '/', 'secure': True, 'value': '20e91cea651b564b713dce622c7edf52'}, {'domain': 'adl.edu.tw', 'httpOnly': False, 'name': 'school2', 'path': '/', 'secure': True, 'value': '054510-%E8%87%B4%E6%B0%91%E5%9C%8B%E4%B8%AD'}, {'domain': 'adl.edu.tw', 'httpOnly': False, 'name': 'username', 'path': '/', 'secure': True, 'value': '054510-1638601'}, {'domain': 'adl.edu.tw', 'httpOnly': False, 'name': 'school1', 'path': '/', 'secure': True, 'value': '358-%E8%8B%91%E8%A3%A1%E9%8E%AE'}, {'domain': '.adl.edu.tw', 'expiry': 1619427285, 'httpOnly': False, 'name': '_gid', 'path': '/', 'secure': False, 'value': 'GA1.3.652978620.1619340886'}, {'domain': '.adl.edu.tw', 'expiry': 1619340945, 'httpOnly': False, 'name': '_gat_gtag_UA_108376301_1', 'path': '/', 'secure': False, 'value': '1'}, {'domain': 'adl.edu.tw', 'httpOnly': False, 'name': 'set_school2', 'path': '/', 'secure': True, 'value': '054510-%E8%87%B4%E6%B0%91%E5%9C%8B%E4%B8%AD'}, {'domain': 'adl.edu.tw', 'httpOnly': False, 'name': 'set_school1', 'path': '/', 'secure': True, 'value': '358-%E8%8B%91%E8%A3%A1%E9%8E%AE'}, {'domain': 'adl.edu.tw', 'httpOnly': False, 'name': 'id_level', 'path': '/', 'secure': True, 'value': '1'}, {'domain': 'adl.edu.tw', 'httpOnly': False, 'name': 'G_ENABLED_IDPS', 'path': '/', 'secure': True, 'value': 'google'}, {'domain': 'adl.edu.tw', 'httpOnly': False, 'name': 'set_school0', 'path': '/', 'secure': True, 'value': '%E8%8B%97%E6%A0%97%E7%B8%A3'}, {'domain': 'adl.edu.tw', 'httpOnly': False, 'name': '_gid', 'path': '/', 'secure': True, 'value': 'GA1.3.1303494072.1619174961'}, {'domain': 'adl.edu.tw', 'httpOnly': False, 'name': 'PHPSESSID', 'path': '/', 'secure': True, 'value': '089a4f4a7e7fc248ac07012d471d3051'}, {'domain': 'adl.edu.tw', 'httpOnly': False, 'name': '_ga', 'path': '/', 'secure': True, 'value': 'GA1.3.1985953389.1619174961'}, {'domain': 'adl.edu.tw', 'httpOnly': False, 'name': 'school0', 'path': '/', 'secure': True, 'value': '%E8%8B%97%E6%A0%97%E7%B8%A3'}, {'domain': '.adl.edu.tw', 'expiry': 1682412885, 'httpOnly': False, 'name': '_ga', 'path': '/', 'secure': False, 'value': 'GA1.3.361670704.1619340886'}]\n"
     ]
    }
   ],
   "source": [
    "print(browser.get_cookies())\n",
    "# print(browser.get_cookie(\"foo\"))\n"
   ]
  },
  {
   "cell_type": "code",
   "execution_count": null,
   "metadata": {},
   "outputs": [],
   "source": []
  },
  {
   "cell_type": "code",
   "execution_count": null,
   "metadata": {},
   "outputs": [],
   "source": []
  },
  {
   "cell_type": "code",
   "execution_count": null,
   "metadata": {},
   "outputs": [],
   "source": []
  },
  {
   "cell_type": "code",
   "execution_count": 5,
   "metadata": {},
   "outputs": [
    {
     "ename": "NoSuchWindowException",
     "evalue": "Message: no such window: window was already closed\n  (Session info: chrome=90.0.4430.85)\n",
     "output_type": "error",
     "traceback": [
      "\u001b[0;31m---------------------------------------------------------------------------\u001b[0m",
      "\u001b[0;31mNoSuchWindowException\u001b[0m                     Traceback (most recent call last)",
      "\u001b[0;32m<ipython-input-5-ec286effcd49>\u001b[0m in \u001b[0;36m<module>\u001b[0;34m\u001b[0m\n\u001b[1;32m      2\u001b[0m \u001b[0;34m\u001b[0m\u001b[0m\n\u001b[1;32m      3\u001b[0m \u001b[0murl\u001b[0m \u001b[0;34m=\u001b[0m \u001b[0;34m\"https://rent.591.com.tw/?kind=0&region=1&rentprice=5&shape=2&other=lift,cartplace,cook\"\u001b[0m\u001b[0;34m\u001b[0m\u001b[0;34m\u001b[0m\u001b[0m\n\u001b[0;32m----> 4\u001b[0;31m \u001b[0mbrowser\u001b[0m\u001b[0;34m.\u001b[0m\u001b[0mget\u001b[0m\u001b[0;34m(\u001b[0m\u001b[0murl\u001b[0m\u001b[0;34m)\u001b[0m\u001b[0;34m\u001b[0m\u001b[0;34m\u001b[0m\u001b[0m\n\u001b[0m",
      "\u001b[0;32m~/virtualENV/py3env/lib/python3.8/site-packages/selenium/webdriver/remote/webdriver.py\u001b[0m in \u001b[0;36mget\u001b[0;34m(self, url)\u001b[0m\n\u001b[1;32m    331\u001b[0m         \u001b[0mLoads\u001b[0m \u001b[0ma\u001b[0m \u001b[0mweb\u001b[0m \u001b[0mpage\u001b[0m \u001b[0;32min\u001b[0m \u001b[0mthe\u001b[0m \u001b[0mcurrent\u001b[0m \u001b[0mbrowser\u001b[0m \u001b[0msession\u001b[0m\u001b[0;34m.\u001b[0m\u001b[0;34m\u001b[0m\u001b[0;34m\u001b[0m\u001b[0m\n\u001b[1;32m    332\u001b[0m         \"\"\"\n\u001b[0;32m--> 333\u001b[0;31m         \u001b[0mself\u001b[0m\u001b[0;34m.\u001b[0m\u001b[0mexecute\u001b[0m\u001b[0;34m(\u001b[0m\u001b[0mCommand\u001b[0m\u001b[0;34m.\u001b[0m\u001b[0mGET\u001b[0m\u001b[0;34m,\u001b[0m \u001b[0;34m{\u001b[0m\u001b[0;34m'url'\u001b[0m\u001b[0;34m:\u001b[0m \u001b[0murl\u001b[0m\u001b[0;34m}\u001b[0m\u001b[0;34m)\u001b[0m\u001b[0;34m\u001b[0m\u001b[0;34m\u001b[0m\u001b[0m\n\u001b[0m\u001b[1;32m    334\u001b[0m \u001b[0;34m\u001b[0m\u001b[0m\n\u001b[1;32m    335\u001b[0m     \u001b[0;34m@\u001b[0m\u001b[0mproperty\u001b[0m\u001b[0;34m\u001b[0m\u001b[0;34m\u001b[0m\u001b[0m\n",
      "\u001b[0;32m~/virtualENV/py3env/lib/python3.8/site-packages/selenium/webdriver/remote/webdriver.py\u001b[0m in \u001b[0;36mexecute\u001b[0;34m(self, driver_command, params)\u001b[0m\n\u001b[1;32m    319\u001b[0m         \u001b[0mresponse\u001b[0m \u001b[0;34m=\u001b[0m \u001b[0mself\u001b[0m\u001b[0;34m.\u001b[0m\u001b[0mcommand_executor\u001b[0m\u001b[0;34m.\u001b[0m\u001b[0mexecute\u001b[0m\u001b[0;34m(\u001b[0m\u001b[0mdriver_command\u001b[0m\u001b[0;34m,\u001b[0m \u001b[0mparams\u001b[0m\u001b[0;34m)\u001b[0m\u001b[0;34m\u001b[0m\u001b[0;34m\u001b[0m\u001b[0m\n\u001b[1;32m    320\u001b[0m         \u001b[0;32mif\u001b[0m \u001b[0mresponse\u001b[0m\u001b[0;34m:\u001b[0m\u001b[0;34m\u001b[0m\u001b[0;34m\u001b[0m\u001b[0m\n\u001b[0;32m--> 321\u001b[0;31m             \u001b[0mself\u001b[0m\u001b[0;34m.\u001b[0m\u001b[0merror_handler\u001b[0m\u001b[0;34m.\u001b[0m\u001b[0mcheck_response\u001b[0m\u001b[0;34m(\u001b[0m\u001b[0mresponse\u001b[0m\u001b[0;34m)\u001b[0m\u001b[0;34m\u001b[0m\u001b[0;34m\u001b[0m\u001b[0m\n\u001b[0m\u001b[1;32m    322\u001b[0m             response['value'] = self._unwrap_value(\n\u001b[1;32m    323\u001b[0m                 response.get('value', None))\n",
      "\u001b[0;32m~/virtualENV/py3env/lib/python3.8/site-packages/selenium/webdriver/remote/errorhandler.py\u001b[0m in \u001b[0;36mcheck_response\u001b[0;34m(self, response)\u001b[0m\n\u001b[1;32m    240\u001b[0m                 \u001b[0malert_text\u001b[0m \u001b[0;34m=\u001b[0m \u001b[0mvalue\u001b[0m\u001b[0;34m[\u001b[0m\u001b[0;34m'alert'\u001b[0m\u001b[0;34m]\u001b[0m\u001b[0;34m.\u001b[0m\u001b[0mget\u001b[0m\u001b[0;34m(\u001b[0m\u001b[0;34m'text'\u001b[0m\u001b[0;34m)\u001b[0m\u001b[0;34m\u001b[0m\u001b[0;34m\u001b[0m\u001b[0m\n\u001b[1;32m    241\u001b[0m             \u001b[0;32mraise\u001b[0m \u001b[0mexception_class\u001b[0m\u001b[0;34m(\u001b[0m\u001b[0mmessage\u001b[0m\u001b[0;34m,\u001b[0m \u001b[0mscreen\u001b[0m\u001b[0;34m,\u001b[0m \u001b[0mstacktrace\u001b[0m\u001b[0;34m,\u001b[0m \u001b[0malert_text\u001b[0m\u001b[0;34m)\u001b[0m\u001b[0;34m\u001b[0m\u001b[0;34m\u001b[0m\u001b[0m\n\u001b[0;32m--> 242\u001b[0;31m         \u001b[0;32mraise\u001b[0m \u001b[0mexception_class\u001b[0m\u001b[0;34m(\u001b[0m\u001b[0mmessage\u001b[0m\u001b[0;34m,\u001b[0m \u001b[0mscreen\u001b[0m\u001b[0;34m,\u001b[0m \u001b[0mstacktrace\u001b[0m\u001b[0;34m)\u001b[0m\u001b[0;34m\u001b[0m\u001b[0;34m\u001b[0m\u001b[0m\n\u001b[0m\u001b[1;32m    243\u001b[0m \u001b[0;34m\u001b[0m\u001b[0m\n\u001b[1;32m    244\u001b[0m     \u001b[0;32mdef\u001b[0m \u001b[0m_value_or_default\u001b[0m\u001b[0;34m(\u001b[0m\u001b[0mself\u001b[0m\u001b[0;34m,\u001b[0m \u001b[0mobj\u001b[0m\u001b[0;34m,\u001b[0m \u001b[0mkey\u001b[0m\u001b[0;34m,\u001b[0m \u001b[0mdefault\u001b[0m\u001b[0;34m)\u001b[0m\u001b[0;34m:\u001b[0m\u001b[0;34m\u001b[0m\u001b[0;34m\u001b[0m\u001b[0m\n",
      "\u001b[0;31mNoSuchWindowException\u001b[0m: Message: no such window: window was already closed\n  (Session info: chrome=90.0.4430.85)\n"
     ]
    }
   ],
   "source": [
    "# browser.add_cookie({\"name\": \"foo\", \"value\": \"bar\"})\n",
    "\n",
    "url = \"https://rent.591.com.tw/?kind=0&region=1&rentprice=5&shape=2&other=lift,cartplace,cook\"\n"
   ]
  },
  {
   "cell_type": "code",
   "execution_count": 10,
   "metadata": {},
   "outputs": [
    {
     "name": "stdout",
     "output_type": "stream",
     "text": [
      "===fetch:https://rent.591.com.tw/?kind=0&region=1&rentprice=5&shape=2&other=lift,cartplace,cook===\n",
      "region=1\n",
      "Page loaded\n",
      "Page loaded\n",
      "not the last page\n",
      "not the last page\n",
      "not the last page\n",
      "not the last page\n",
      "not the last page\n",
      "not the last page\n"
     ]
    },
    {
     "ename": "ElementClickInterceptedException",
     "evalue": "Message: element click intercepted: Element <a href=\"javascript:;\" data-first=\"180\" data-total=\"272\" class=\"pageNext\">...</a> is not clickable at point (833, 739). Other element would receive the click: <li class=\"pull-left infoContent\n\n        \n\n        \">...</li>\n  (Session info: chrome=89.0.4389.114)\n",
     "output_type": "error",
     "traceback": [
      "\u001b[0;31m---------------------------------------------------------------------------\u001b[0m",
      "\u001b[0;31mNoSuchElementException\u001b[0m                    Traceback (most recent call last)",
      "\u001b[0;32m<ipython-input-10-b32b219a636d>\u001b[0m in \u001b[0;36m<module>\u001b[0;34m\u001b[0m\n\u001b[1;32m     38\u001b[0m     \u001b[0;32mtry\u001b[0m\u001b[0;34m:\u001b[0m\u001b[0;34m\u001b[0m\u001b[0;34m\u001b[0m\u001b[0m\n\u001b[0;32m---> 39\u001b[0;31m         \u001b[0mbrowser\u001b[0m\u001b[0;34m.\u001b[0m\u001b[0mfind_element_by_css_selector\u001b[0m\u001b[0;34m(\u001b[0m\u001b[0;34m\".pageNext.last\"\u001b[0m\u001b[0;34m)\u001b[0m\u001b[0;34m\u001b[0m\u001b[0;34m\u001b[0m\u001b[0m\n\u001b[0m\u001b[1;32m     40\u001b[0m         \u001b[0mlast_page\u001b[0m \u001b[0;34m=\u001b[0m \u001b[0;32mTrue\u001b[0m\u001b[0;34m\u001b[0m\u001b[0;34m\u001b[0m\u001b[0m\n",
      "\u001b[0;32m~/virtualENV/py3env/lib/python3.8/site-packages/selenium/webdriver/remote/webdriver.py\u001b[0m in \u001b[0;36mfind_element_by_css_selector\u001b[0;34m(self, css_selector)\u001b[0m\n\u001b[1;32m    597\u001b[0m         \"\"\"\n\u001b[0;32m--> 598\u001b[0;31m         \u001b[0;32mreturn\u001b[0m \u001b[0mself\u001b[0m\u001b[0;34m.\u001b[0m\u001b[0mfind_element\u001b[0m\u001b[0;34m(\u001b[0m\u001b[0mby\u001b[0m\u001b[0;34m=\u001b[0m\u001b[0mBy\u001b[0m\u001b[0;34m.\u001b[0m\u001b[0mCSS_SELECTOR\u001b[0m\u001b[0;34m,\u001b[0m \u001b[0mvalue\u001b[0m\u001b[0;34m=\u001b[0m\u001b[0mcss_selector\u001b[0m\u001b[0;34m)\u001b[0m\u001b[0;34m\u001b[0m\u001b[0;34m\u001b[0m\u001b[0m\n\u001b[0m\u001b[1;32m    599\u001b[0m \u001b[0;34m\u001b[0m\u001b[0m\n",
      "\u001b[0;32m~/virtualENV/py3env/lib/python3.8/site-packages/selenium/webdriver/remote/webdriver.py\u001b[0m in \u001b[0;36mfind_element\u001b[0;34m(self, by, value)\u001b[0m\n\u001b[1;32m    975\u001b[0m                 \u001b[0mvalue\u001b[0m \u001b[0;34m=\u001b[0m \u001b[0;34m'[name=\"%s\"]'\u001b[0m \u001b[0;34m%\u001b[0m \u001b[0mvalue\u001b[0m\u001b[0;34m\u001b[0m\u001b[0;34m\u001b[0m\u001b[0m\n\u001b[0;32m--> 976\u001b[0;31m         return self.execute(Command.FIND_ELEMENT, {\n\u001b[0m\u001b[1;32m    977\u001b[0m             \u001b[0;34m'using'\u001b[0m\u001b[0;34m:\u001b[0m \u001b[0mby\u001b[0m\u001b[0;34m,\u001b[0m\u001b[0;34m\u001b[0m\u001b[0;34m\u001b[0m\u001b[0m\n",
      "\u001b[0;32m~/virtualENV/py3env/lib/python3.8/site-packages/selenium/webdriver/remote/webdriver.py\u001b[0m in \u001b[0;36mexecute\u001b[0;34m(self, driver_command, params)\u001b[0m\n\u001b[1;32m    320\u001b[0m         \u001b[0;32mif\u001b[0m \u001b[0mresponse\u001b[0m\u001b[0;34m:\u001b[0m\u001b[0;34m\u001b[0m\u001b[0;34m\u001b[0m\u001b[0m\n\u001b[0;32m--> 321\u001b[0;31m             \u001b[0mself\u001b[0m\u001b[0;34m.\u001b[0m\u001b[0merror_handler\u001b[0m\u001b[0;34m.\u001b[0m\u001b[0mcheck_response\u001b[0m\u001b[0;34m(\u001b[0m\u001b[0mresponse\u001b[0m\u001b[0;34m)\u001b[0m\u001b[0;34m\u001b[0m\u001b[0;34m\u001b[0m\u001b[0m\n\u001b[0m\u001b[1;32m    322\u001b[0m             response['value'] = self._unwrap_value(\n",
      "\u001b[0;32m~/virtualENV/py3env/lib/python3.8/site-packages/selenium/webdriver/remote/errorhandler.py\u001b[0m in \u001b[0;36mcheck_response\u001b[0;34m(self, response)\u001b[0m\n\u001b[1;32m    241\u001b[0m             \u001b[0;32mraise\u001b[0m \u001b[0mexception_class\u001b[0m\u001b[0;34m(\u001b[0m\u001b[0mmessage\u001b[0m\u001b[0;34m,\u001b[0m \u001b[0mscreen\u001b[0m\u001b[0;34m,\u001b[0m \u001b[0mstacktrace\u001b[0m\u001b[0;34m,\u001b[0m \u001b[0malert_text\u001b[0m\u001b[0;34m)\u001b[0m\u001b[0;34m\u001b[0m\u001b[0;34m\u001b[0m\u001b[0m\n\u001b[0;32m--> 242\u001b[0;31m         \u001b[0;32mraise\u001b[0m \u001b[0mexception_class\u001b[0m\u001b[0;34m(\u001b[0m\u001b[0mmessage\u001b[0m\u001b[0;34m,\u001b[0m \u001b[0mscreen\u001b[0m\u001b[0;34m,\u001b[0m \u001b[0mstacktrace\u001b[0m\u001b[0;34m)\u001b[0m\u001b[0;34m\u001b[0m\u001b[0;34m\u001b[0m\u001b[0m\n\u001b[0m\u001b[1;32m    243\u001b[0m \u001b[0;34m\u001b[0m\u001b[0m\n",
      "\u001b[0;31mNoSuchElementException\u001b[0m: Message: no such element: Unable to locate element: {\"method\":\"css selector\",\"selector\":\".pageNext.last\"}\n  (Session info: chrome=89.0.4389.114)\n",
      "\nDuring handling of the above exception, another exception occurred:\n",
      "\u001b[0;31mElementClickInterceptedException\u001b[0m          Traceback (most recent call last)",
      "\u001b[0;32m<ipython-input-10-b32b219a636d>\u001b[0m in \u001b[0;36m<module>\u001b[0;34m\u001b[0m\n\u001b[1;32m     42\u001b[0m     \u001b[0;32mexcept\u001b[0m\u001b[0;34m:\u001b[0m\u001b[0;34m\u001b[0m\u001b[0;34m\u001b[0m\u001b[0m\n\u001b[1;32m     43\u001b[0m         \u001b[0mprint\u001b[0m\u001b[0;34m(\u001b[0m\u001b[0;34m\"not the last page\"\u001b[0m\u001b[0;34m)\u001b[0m\u001b[0;34m\u001b[0m\u001b[0;34m\u001b[0m\u001b[0m\n\u001b[0;32m---> 44\u001b[0;31m         \u001b[0mbrowser\u001b[0m\u001b[0;34m.\u001b[0m\u001b[0mfind_element_by_css_selector\u001b[0m\u001b[0;34m(\u001b[0m\u001b[0;34m\".pageNext\"\u001b[0m\u001b[0;34m)\u001b[0m\u001b[0;34m.\u001b[0m\u001b[0mclick\u001b[0m\u001b[0;34m(\u001b[0m\u001b[0;34m)\u001b[0m\u001b[0;34m\u001b[0m\u001b[0;34m\u001b[0m\u001b[0m\n\u001b[0m\u001b[1;32m     45\u001b[0m         \u001b[0msleep\u001b[0m\u001b[0;34m(\u001b[0m\u001b[0;36m5\u001b[0m\u001b[0;34m)\u001b[0m\u001b[0;34m\u001b[0m\u001b[0;34m\u001b[0m\u001b[0m\n\u001b[1;32m     46\u001b[0m \u001b[0;34m\u001b[0m\u001b[0m\n",
      "\u001b[0;32m~/virtualENV/py3env/lib/python3.8/site-packages/selenium/webdriver/remote/webelement.py\u001b[0m in \u001b[0;36mclick\u001b[0;34m(self)\u001b[0m\n\u001b[1;32m     78\u001b[0m     \u001b[0;32mdef\u001b[0m \u001b[0mclick\u001b[0m\u001b[0;34m(\u001b[0m\u001b[0mself\u001b[0m\u001b[0;34m)\u001b[0m\u001b[0;34m:\u001b[0m\u001b[0;34m\u001b[0m\u001b[0;34m\u001b[0m\u001b[0m\n\u001b[1;32m     79\u001b[0m         \u001b[0;34m\"\"\"Clicks the element.\"\"\"\u001b[0m\u001b[0;34m\u001b[0m\u001b[0;34m\u001b[0m\u001b[0m\n\u001b[0;32m---> 80\u001b[0;31m         \u001b[0mself\u001b[0m\u001b[0;34m.\u001b[0m\u001b[0m_execute\u001b[0m\u001b[0;34m(\u001b[0m\u001b[0mCommand\u001b[0m\u001b[0;34m.\u001b[0m\u001b[0mCLICK_ELEMENT\u001b[0m\u001b[0;34m)\u001b[0m\u001b[0;34m\u001b[0m\u001b[0;34m\u001b[0m\u001b[0m\n\u001b[0m\u001b[1;32m     81\u001b[0m \u001b[0;34m\u001b[0m\u001b[0m\n\u001b[1;32m     82\u001b[0m     \u001b[0;32mdef\u001b[0m \u001b[0msubmit\u001b[0m\u001b[0;34m(\u001b[0m\u001b[0mself\u001b[0m\u001b[0;34m)\u001b[0m\u001b[0;34m:\u001b[0m\u001b[0;34m\u001b[0m\u001b[0;34m\u001b[0m\u001b[0m\n",
      "\u001b[0;32m~/virtualENV/py3env/lib/python3.8/site-packages/selenium/webdriver/remote/webelement.py\u001b[0m in \u001b[0;36m_execute\u001b[0;34m(self, command, params)\u001b[0m\n\u001b[1;32m    631\u001b[0m             \u001b[0mparams\u001b[0m \u001b[0;34m=\u001b[0m \u001b[0;34m{\u001b[0m\u001b[0;34m}\u001b[0m\u001b[0;34m\u001b[0m\u001b[0;34m\u001b[0m\u001b[0m\n\u001b[1;32m    632\u001b[0m         \u001b[0mparams\u001b[0m\u001b[0;34m[\u001b[0m\u001b[0;34m'id'\u001b[0m\u001b[0;34m]\u001b[0m \u001b[0;34m=\u001b[0m \u001b[0mself\u001b[0m\u001b[0;34m.\u001b[0m\u001b[0m_id\u001b[0m\u001b[0;34m\u001b[0m\u001b[0;34m\u001b[0m\u001b[0m\n\u001b[0;32m--> 633\u001b[0;31m         \u001b[0;32mreturn\u001b[0m \u001b[0mself\u001b[0m\u001b[0;34m.\u001b[0m\u001b[0m_parent\u001b[0m\u001b[0;34m.\u001b[0m\u001b[0mexecute\u001b[0m\u001b[0;34m(\u001b[0m\u001b[0mcommand\u001b[0m\u001b[0;34m,\u001b[0m \u001b[0mparams\u001b[0m\u001b[0;34m)\u001b[0m\u001b[0;34m\u001b[0m\u001b[0;34m\u001b[0m\u001b[0m\n\u001b[0m\u001b[1;32m    634\u001b[0m \u001b[0;34m\u001b[0m\u001b[0m\n\u001b[1;32m    635\u001b[0m     \u001b[0;32mdef\u001b[0m \u001b[0mfind_element\u001b[0m\u001b[0;34m(\u001b[0m\u001b[0mself\u001b[0m\u001b[0;34m,\u001b[0m \u001b[0mby\u001b[0m\u001b[0;34m=\u001b[0m\u001b[0mBy\u001b[0m\u001b[0;34m.\u001b[0m\u001b[0mID\u001b[0m\u001b[0;34m,\u001b[0m \u001b[0mvalue\u001b[0m\u001b[0;34m=\u001b[0m\u001b[0;32mNone\u001b[0m\u001b[0;34m)\u001b[0m\u001b[0;34m:\u001b[0m\u001b[0;34m\u001b[0m\u001b[0;34m\u001b[0m\u001b[0m\n",
      "\u001b[0;32m~/virtualENV/py3env/lib/python3.8/site-packages/selenium/webdriver/remote/webdriver.py\u001b[0m in \u001b[0;36mexecute\u001b[0;34m(self, driver_command, params)\u001b[0m\n\u001b[1;32m    319\u001b[0m         \u001b[0mresponse\u001b[0m \u001b[0;34m=\u001b[0m \u001b[0mself\u001b[0m\u001b[0;34m.\u001b[0m\u001b[0mcommand_executor\u001b[0m\u001b[0;34m.\u001b[0m\u001b[0mexecute\u001b[0m\u001b[0;34m(\u001b[0m\u001b[0mdriver_command\u001b[0m\u001b[0;34m,\u001b[0m \u001b[0mparams\u001b[0m\u001b[0;34m)\u001b[0m\u001b[0;34m\u001b[0m\u001b[0;34m\u001b[0m\u001b[0m\n\u001b[1;32m    320\u001b[0m         \u001b[0;32mif\u001b[0m \u001b[0mresponse\u001b[0m\u001b[0;34m:\u001b[0m\u001b[0;34m\u001b[0m\u001b[0;34m\u001b[0m\u001b[0m\n\u001b[0;32m--> 321\u001b[0;31m             \u001b[0mself\u001b[0m\u001b[0;34m.\u001b[0m\u001b[0merror_handler\u001b[0m\u001b[0;34m.\u001b[0m\u001b[0mcheck_response\u001b[0m\u001b[0;34m(\u001b[0m\u001b[0mresponse\u001b[0m\u001b[0;34m)\u001b[0m\u001b[0;34m\u001b[0m\u001b[0;34m\u001b[0m\u001b[0m\n\u001b[0m\u001b[1;32m    322\u001b[0m             response['value'] = self._unwrap_value(\n\u001b[1;32m    323\u001b[0m                 response.get('value', None))\n",
      "\u001b[0;32m~/virtualENV/py3env/lib/python3.8/site-packages/selenium/webdriver/remote/errorhandler.py\u001b[0m in \u001b[0;36mcheck_response\u001b[0;34m(self, response)\u001b[0m\n\u001b[1;32m    240\u001b[0m                 \u001b[0malert_text\u001b[0m \u001b[0;34m=\u001b[0m \u001b[0mvalue\u001b[0m\u001b[0;34m[\u001b[0m\u001b[0;34m'alert'\u001b[0m\u001b[0;34m]\u001b[0m\u001b[0;34m.\u001b[0m\u001b[0mget\u001b[0m\u001b[0;34m(\u001b[0m\u001b[0;34m'text'\u001b[0m\u001b[0;34m)\u001b[0m\u001b[0;34m\u001b[0m\u001b[0;34m\u001b[0m\u001b[0m\n\u001b[1;32m    241\u001b[0m             \u001b[0;32mraise\u001b[0m \u001b[0mexception_class\u001b[0m\u001b[0;34m(\u001b[0m\u001b[0mmessage\u001b[0m\u001b[0;34m,\u001b[0m \u001b[0mscreen\u001b[0m\u001b[0;34m,\u001b[0m \u001b[0mstacktrace\u001b[0m\u001b[0;34m,\u001b[0m \u001b[0malert_text\u001b[0m\u001b[0;34m)\u001b[0m\u001b[0;34m\u001b[0m\u001b[0;34m\u001b[0m\u001b[0m\n\u001b[0;32m--> 242\u001b[0;31m         \u001b[0;32mraise\u001b[0m \u001b[0mexception_class\u001b[0m\u001b[0;34m(\u001b[0m\u001b[0mmessage\u001b[0m\u001b[0;34m,\u001b[0m \u001b[0mscreen\u001b[0m\u001b[0;34m,\u001b[0m \u001b[0mstacktrace\u001b[0m\u001b[0;34m)\u001b[0m\u001b[0;34m\u001b[0m\u001b[0;34m\u001b[0m\u001b[0m\n\u001b[0m\u001b[1;32m    243\u001b[0m \u001b[0;34m\u001b[0m\u001b[0m\n\u001b[1;32m    244\u001b[0m     \u001b[0;32mdef\u001b[0m \u001b[0m_value_or_default\u001b[0m\u001b[0;34m(\u001b[0m\u001b[0mself\u001b[0m\u001b[0;34m,\u001b[0m \u001b[0mobj\u001b[0m\u001b[0;34m,\u001b[0m \u001b[0mkey\u001b[0m\u001b[0;34m,\u001b[0m \u001b[0mdefault\u001b[0m\u001b[0;34m)\u001b[0m\u001b[0;34m:\u001b[0m\u001b[0;34m\u001b[0m\u001b[0;34m\u001b[0m\u001b[0m\n",
      "\u001b[0;31mElementClickInterceptedException\u001b[0m: Message: element click intercepted: Element <a href=\"javascript:;\" data-first=\"180\" data-total=\"272\" class=\"pageNext\">...</a> is not clickable at point (833, 739). Other element would receive the click: <li class=\"pull-left infoContent\n\n        \n\n        \">...</li>\n  (Session info: chrome=89.0.4389.114)\n"
     ]
    }
   ],
   "source": [
    "print(f\"===fetch:{url}===\")\n",
    "\n",
    "pattern = r\".*&region=(\\d).*\"\n",
    "region = re.match(pattern, url).group(1)\n",
    "\n",
    "print(f\"region={region}\")\n",
    "\n",
    "# engine = selenium_engine()\n",
    "# browser = engine.browser\n",
    "browser.get(url)\n",
    "timeout = 3\n",
    "try:\n",
    "    element_present = EC.presence_of_element_located((By.ID, \"area-box-close\"))\n",
    "    WebDriverWait(browser, timeout).until(element_present)\n",
    "    browser.find_element_by_css_selector(f'[data-id=\"{region}\"]').click()\n",
    "except TimeoutException:\n",
    "    print(\"Timed out waiting for page to load\")\n",
    "finally:\n",
    "    print(\"Page loaded\")\n",
    "\n",
    "timeout = 10\n",
    "try:\n",
    "    element_present = EC.presence_of_element_located((By.CLASS_NAME, \"pageBar\"))\n",
    "    WebDriverWait(browser, timeout).until(element_present)\n",
    "except TimeoutException:\n",
    "    print(\"Timed out waiting for page to load\")\n",
    "finally:\n",
    "    print(\"Page loaded\")    \n",
    "\n",
    "sleep(5)    \n",
    "\n",
    "data_soup_list = []\n",
    "last_page = False\n",
    "while last_page is False:\n",
    "    data_soup = BeautifulSoup(browser.page_source, 'html.parser')\n",
    "    data_soup_list.append(data_soup)\n",
    "\n",
    "    try:\n",
    "        browser.find_element_by_css_selector(\".pageNext.last\")\n",
    "        last_page = True\n",
    "        print(\"last page\")\n",
    "    except:\n",
    "        print(\"not the last page\")\n",
    "        browser.find_element_by_css_selector(\".pageNext\").click()\n",
    "        sleep(5)\n",
    "\n",
    "\n",
    "browser.quit()\n",
    "print(f\"===fetch:{url} done===\")"
   ]
  },
  {
   "cell_type": "code",
   "execution_count": null,
   "metadata": {},
   "outputs": [],
   "source": []
  },
  {
   "cell_type": "code",
   "execution_count": 97,
   "metadata": {},
   "outputs": [],
   "source": [
    "class leju_crawler:\n",
    "    def __init__(self):\n",
    "#         software_names = [SoftwareName.CHROME.value]\n",
    "#         operating_systems = [OperatingSystem.WINDOWS.value, OperatingSystem.LINUX.value]\n",
    "#         user_agent_rotator = UserAgent(\n",
    "#             software_names = software_names,\n",
    "#             operating_systems = operating_systems,\n",
    "#             limit = 100\n",
    "#         )\n",
    "\n",
    "#         self.user_agent = user_agent_rotator.get_random_user_agent()\n",
    "#         print(user_agent)\n",
    "\n",
    "        self.user_agent = 'Mozilla/5.0 (X11; Linux x86_64) AppleWebKit/537.36 (KHTML, like Gecko) Chrome/60.0.3112.50 Safari/537.36'\n",
    "\n",
    "        chrome_options = Options()\n",
    "        chrome_options.add_argument('--incognito')\n",
    "        chrome_options.add_argument('headless')\n",
    "        chrome_options.add_argument('--no-sandbox')\n",
    "        chrome_options.add_argument('--window-size=1420,1080')\n",
    "        chrome_options.add_argument(\"--disable-gpu\")\n",
    "        # chrome_options.add_argument(f'user-agent={user_agent}')\n",
    "        # chrome_options.add_experimental_option(\"excludeSwitches\", ['enable-automation'])\n",
    "        # chrome_options.add_argument(\"--disable-blink-features\");\n",
    "        # chrome_options.add_argument(\"--disable-blink-features=AutomationControlled\");\n",
    "        # driver = webdriver.Chrome(options=chrome_options)\n",
    "        executable_path=os.getcwd()+'/chromedriver_6'\n",
    "#         print(executable_path)\n",
    "\n",
    "        self.browser = webdriver.Chrome(executable_path=executable_path, options=chrome_options)\n",
    "    \n",
    "    \n",
    "        \n",
    "    \n",
    "    def fetch_data(self, url):\n",
    "        browser = self.browser\n",
    "        browser.get(url)\n",
    "        sleep(10)\n",
    "        data_soup = BeautifulSoup(browser.page_source, 'html.parser')\n",
    "#         print(data_soup)\n",
    "        browser.quit()\n",
    "        \n",
    "        return data_soup\n",
    "        \n",
    "    def get_title(self, data):\n",
    "        title = data.find('title').string\n",
    "        \n",
    "        return title\n",
    "        \n",
    "    def get_price_info(self, data):\n",
    "        avg_price = data.find('div', class_='avg_house_price_val').text\n",
    "        max_price = data.find('div', class_='max_house_price_val').text\n",
    "        min_price = data.find('div', class_='min_house_price_val').text\n",
    "        this_year_avg_price = data.find('div', class_='avg_date_house_price_val').text\n",
    "        \n",
    "        info = {\n",
    "            'avg_price': avg_price,\n",
    "            'max_price': max_price, \n",
    "            'min_price': min_price,\n",
    "            'this_year_avg_price': this_year_avg_price\n",
    "        }\n",
    "        \n",
    "        return info\n",
    "    \n",
    "    def get_basic_info(self, data):\n",
    "        building_title = data.find('article', class_='building_title').text\n",
    "        households = data.find('article', class_='households').text\n",
    "        house_year = data.find('article', class_='house_year').text\n",
    "        ttotal_floor = data.find('article', class_='ttotal_floor').text\n",
    "        elementary = data.find('article', class_='elementary').text\n",
    "        junior = data.find('article', class_='junior').text\n",
    "        developer1 = data.find('article', class_='developer1').text\n",
    "        \n",
    "        basic_info = {\n",
    "            'building_title': building_title,\n",
    "            'households': households,\n",
    "            'house_year': house_year,\n",
    "            'ttotal_floor': ttotal_floor,\n",
    "            'elementary': elementary,\n",
    "            'junior': junior,\n",
    "            'developer1': developer1,\n",
    "        }\n",
    "        \n",
    "        return basic_info\n",
    "        \n",
    "        \n",
    "    def get_sale_items(self, data):\n",
    "        items = data.find_all('div', class_='sales-item-box')\n",
    "        sale_items = []\n",
    "        for item in items:\n",
    "            floor = item.find('span').text\n",
    "            title = item.find('a').text\n",
    "            link = item.find('a')['href']\n",
    "            price = item.find_all('li')[1].text\n",
    "            area = item.find_all('li')[0].text\n",
    "            \n",
    "            data = {\n",
    "                'floor': floor,\n",
    "                'title': title,\n",
    "                'link': link,\n",
    "                'price': price,\n",
    "                'area': area,\n",
    "            }\n",
    "            \n",
    "            sale_items.append(data)\n",
    "            \n",
    "        return sale_items\n",
    "            \n",
    "        \n",
    "            \n",
    "        \n",
    "    def get_data_json(self, data):\n",
    "        title = self.get_title(data)\n",
    "        price_info = self.get_price_info(data)\n",
    "        basic_info =self.get_basic_info(data)\n",
    "        sale_items = self.get_sale_items(data)\n",
    "        \n",
    "        data_json = {\n",
    "            \"title\": title,\n",
    "            'price_info': price_info,\n",
    "            'basic_info': basic_info,\n",
    "            'sale_items': sale_items\n",
    "        }\n",
    "        \n",
    "        return data_json\n",
    "        \n",
    "        \n",
    "        "
   ]
  },
  {
   "cell_type": "code",
   "execution_count": 106,
   "metadata": {},
   "outputs": [],
   "source": [
    "# import gspread\n",
    "# from oauth2client.service_account import ServiceAccountCredentials\n",
    "# import os\n",
    "\n",
    "\n",
    "# class sheet_worker:\n",
    "#     def get_hash_str(self,data):\n",
    "#         hash_str = abs(hash(data)) % (10 ** 8)\n",
    "#         return hash_str\n",
    "        \n",
    "#     def get_sheet(self, sheet_key):\n",
    "#         scopes = [\"https://spreadsheets.google.com/feeds\"]\n",
    "#         current_path = os.getcwd()\n",
    "#         credentials = ServiceAccountCredentials.from_json_keyfile_name(current_path+\"/cred.json\", scopes)\n",
    "#         gss_client = gspread.authorize(credentials)\n",
    "#         spreadsheet_key_path = sheet_key\n",
    "#         sheet = gss_client.open_by_key(spreadsheet_key_path)\n",
    "#         return sheet\n",
    "    \n",
    "#     def data_to_sheet_value_list(self, data):\n",
    "#         profile = json.loads(data)\n",
    "#         title = profile['title']\n",
    "#         price_info = profile['price_info']\n",
    "#         basic_info = profile['basic_info']\n",
    "\n",
    "#         sale_items = profile['sale_items']\n",
    "#         sheet_value_list = []\n",
    "#         for sale_item in sale_items:\n",
    "#             floor = sale_item['floor']\n",
    "#             sub_title = sale_item['title']\n",
    "#             link = sale_item['link']\n",
    "#             price = sale_item['price']\n",
    "#             area = sale_item['area']\n",
    "\n",
    "#             sheet_value = [\n",
    "#                 str(title),\n",
    "#                 str(price_info),\n",
    "#                 str(basic_info),\n",
    "#                 floor,\n",
    "#                 sub_title,\n",
    "#                 link,\n",
    "#                 price,\n",
    "#                 area\n",
    "#             ]\n",
    "\n",
    "#             sheet_value_str = \"\".join(sheet_value)\n",
    "#             hash_str = self.get_hash_str(sheet_value_str)\n",
    "#             sheet_value.append(hash_str)\n",
    "#             sheet_value_list.append(sheet_value)\n",
    "            \n",
    "#         return sheet_value_list\n",
    "        \n",
    "        \n",
    "#     def run(self, data):\n",
    "#         sheet_key = '15V1XD3p_mD8SSP_TQkY2PwYTM_FjOAXQXD1GuJcrpfI'\n",
    "#         sheet = self.get_sheet(sheet_key)\n",
    "#         sheet_bot = sheet.worksheet('bot')\n",
    "\n",
    "#         profile_list = data['profile']\n",
    "#         for profile in profile_list:\n",
    "#             sheet_value_list = self.data_to_sheet_value_list(profile)\n",
    "#             print(sheet_value_list)\n",
    "        \n",
    "#         sheet_row_cnt = 2\n",
    "#         for sheet_value in sheet_value_list:\n",
    "#             sheet_bot.insert_row(sheet_value, sheet_row_cnt)\n",
    "#             sheet_row_cnt +=1\n",
    "            \n",
    "            \n",
    "            \n",
    "from util.gsheet import gsheet_worker "
   ]
  },
  {
   "cell_type": "code",
   "execution_count": 99,
   "metadata": {},
   "outputs": [
    {
     "name": "stdout",
     "output_type": "stream",
     "text": [
      "{'profile': ['{\"title\": \"麗軒珍寶-7筆交易紀錄，實價登錄平均成交價為52.33萬/坪  \", \"price_info\": {\"avg_price\": \"52.33萬/坪\", \"max_price\": \"56.16萬/坪\", \"min_price\": \"48.96萬/坪\", \"this_year_avg_price\": \"--萬/坪\"}, \"basic_info\": {\"building_title\": \"大同街50巷26號\", \"households\": \"32戶\", \"house_year\": \"19年\", \"ttotal_floor\": \"8\", \"elementary\": \"文聖國小(雙語)\", \"junior\": \"光復國中、江翠國中\", \"developer1\": \"珍寶事業\"}, \"sale_items\": [{\"floor\": \"6樓\", \"title\": \"自售～麗軒珍寶景觀3...\", \"link\": \"https://sale.591.com.tw/home/house/detail/2/8756933.html\", \"price\": \"總價2680萬\", \"area\": \"坪數47坪\"}, {\"floor\": \"2樓\", \"title\": \"江翠捷運珍寶三房\", \"link\": \"https://buy.yungching.com.tw/house/4587875\", \"price\": \"總價2298萬\", \"area\": \"坪數35.61坪\"}]}']}\n"
     ]
    }
   ],
   "source": [
    "url_list = [\n",
    "    \"https://www.leju.com.tw/page_search_result?oid=L37611690f7027\",\n",
    "]\n",
    "body = {'profile':[]}\n",
    "for url in url_list:\n",
    "    crawler = leju_crawler()\n",
    "    data = crawler.fetch_data(url)\n",
    "    data_json = crawler.get_data_json(data)\n",
    "#         data_json = json.loads(data_json)\n",
    "#         data_json = json.dumps(data_json, indent=4, sort_keys=True, ensure_ascii=False).encode('utf8')\n",
    "    data_json = json.dumps(data_json, ensure_ascii=False).encode('utf8')\n",
    "#         print(data_json.decode())\n",
    "    body['profile'].append(data_json.decode())\n",
    "    \n",
    "print(body)"
   ]
  },
  {
   "cell_type": "code",
   "execution_count": 107,
   "metadata": {},
   "outputs": [
    {
     "name": "stdout",
     "output_type": "stream",
     "text": [
      "[['麗軒珍寶-7筆交易紀錄，實價登錄平均成交價為52.33萬/坪  ', \"{'avg_price': '52.33萬/坪', 'max_price': '56.16萬/坪', 'min_price': '48.96萬/坪', 'this_year_avg_price': '--萬/坪'}\", \"{'building_title': '大同街50巷26號', 'households': '32戶', 'house_year': '19年', 'ttotal_floor': '8', 'elementary': '文聖國小(雙語)', 'junior': '光復國中、江翠國中', 'developer1': '珍寶事業'}\", '6樓', '自售～麗軒珍寶景觀3...', 'https://sale.591.com.tw/home/house/detail/2/8756933.html', '總價2680萬', '坪數47坪', 35932627], ['麗軒珍寶-7筆交易紀錄，實價登錄平均成交價為52.33萬/坪  ', \"{'avg_price': '52.33萬/坪', 'max_price': '56.16萬/坪', 'min_price': '48.96萬/坪', 'this_year_avg_price': '--萬/坪'}\", \"{'building_title': '大同街50巷26號', 'households': '32戶', 'house_year': '19年', 'ttotal_floor': '8', 'elementary': '文聖國小(雙語)', 'junior': '光復國中、江翠國中', 'developer1': '珍寶事業'}\", '2樓', '江翠捷運珍寶三房', 'https://buy.yungching.com.tw/house/4587875', '總價2298萬', '坪數35.61坪', 55442021]]\n"
     ]
    }
   ],
   "source": [
    "\n",
    "sht_worker = gsheet_worker()\n",
    "sht_worker.run(body)\n"
   ]
  },
  {
   "cell_type": "code",
   "execution_count": 96,
   "metadata": {},
   "outputs": [],
   "source": [
    "# item = data.find_all('div', class_='sales-item-box')[1]\n",
    "# # print(item)\n",
    "# item.find_all('li')[0].text"
   ]
  },
  {
   "cell_type": "code",
   "execution_count": null,
   "metadata": {},
   "outputs": [],
   "source": []
  },
  {
   "cell_type": "code",
   "execution_count": null,
   "metadata": {},
   "outputs": [],
   "source": []
  }
 ],
 "metadata": {
  "kernelspec": {
   "display_name": "Python 3",
   "language": "python",
   "name": "python3"
  },
  "language_info": {
   "codemirror_mode": {
    "name": "ipython",
    "version": 3
   },
   "file_extension": ".py",
   "mimetype": "text/x-python",
   "name": "python",
   "nbconvert_exporter": "python",
   "pygments_lexer": "ipython3",
   "version": "3.8.2"
  }
 },
 "nbformat": 4,
 "nbformat_minor": 4
}
