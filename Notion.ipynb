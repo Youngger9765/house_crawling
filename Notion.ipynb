{
 "cells": [
  {
   "cell_type": "code",
   "execution_count": null,
   "id": "de91149c",
   "metadata": {},
   "outputs": [],
   "source": [
    "頻道：https://www.notion.so/youngtsai/a6ab6e3b595d41edb1c465c1b6192c78?v=208dff5d9e0c430994d67acb5858664e\n",
    "爬蟲：https://www.notion.so/youngtsai/7892a7ac1c464232abd8f1c31dfb15f6?v=ef5a5864f69246b99dabad9d4752e08d"
   ]
  },
  {
   "cell_type": "code",
   "execution_count": 2,
   "id": "fc0a723b",
   "metadata": {},
   "outputs": [],
   "source": [
    "import requests\n",
    "import json\n",
    "import os\n",
    "\n",
    "# database_id = \"a6ab6e3b595d41edb1c465c1b6192c78\" \n",
    "# secret = \"secret_1JLORs3Og1S6bMvMNBcrLH0A9G1xHcLkDFJDepMT45i\"\n",
    "\n",
    "current_path = os.getcwd()\n",
    "notion_secret_name = \"notion_secret.json\"\n",
    "data_path = current_path + \"/\" + notion_secret_name\n",
    "file = open(data_path)\n",
    "file_dict = json.load(file)\n",
    "secret_token = file_dict[\"secret_token\"]\n",
    "channel_database_id = file_dict[\"channel_database_id\"]\n",
    "content_database_id = file_dict[\"content_database_id\"]\n"
   ]
  },
  {
   "cell_type": "code",
   "execution_count": 410,
   "id": "b6344d10",
   "metadata": {},
   "outputs": [],
   "source": [
    "def query_db(database_id, db_filter=None):\n",
    "    url = f\"https://api.notion.com/v1/databases/{database_id}/query\"\n",
    "    payload = {\n",
    "        \"page_size\": 100\n",
    "    }\n",
    "    if db_filter:\n",
    "        payload[\"filter\"] = db_filter\n",
    "    \n",
    "    headers = {\n",
    "        \"Authorization\": \"Bearer \" + secret_token,\n",
    "        \"Accept\": \"application/json\",\n",
    "        \"Notion-Version\": \"2022-02-22\",\n",
    "        \"Content-Type\": \"application/json\"\n",
    "    }\n",
    "\n",
    "    response = requests.post(url, json=payload, headers=headers)\n",
    "    db_json = json.loads(response.text)\n",
    "    \n",
    "    return db_json\n",
    "\n"
   ]
  },
  {
   "cell_type": "code",
   "execution_count": 411,
   "id": "65bccb3b",
   "metadata": {},
   "outputs": [
    {
     "ename": "TypeError",
     "evalue": "query_db() got multiple values for argument 'db_filter'",
     "output_type": "error",
     "traceback": [
      "\u001b[0;31m---------------------------------------------------------------------------\u001b[0m",
      "\u001b[0;31mTypeError\u001b[0m                                 Traceback (most recent call last)",
      "Input \u001b[0;32mIn [411]\u001b[0m, in \u001b[0;36m<cell line: 1>\u001b[0;34m()\u001b[0m\n\u001b[0;32m----> 1\u001b[0m djson \u001b[38;5;241m=\u001b[39m \u001b[43mquery_db\u001b[49m\u001b[43m(\u001b[49m\u001b[43msecret_token\u001b[49m\u001b[43m,\u001b[49m\u001b[43m \u001b[49m\u001b[43mcontent_database_id\u001b[49m\u001b[43m,\u001b[49m\u001b[43m \u001b[49m\u001b[43mdb_filter\u001b[49m\u001b[38;5;241;43m=\u001b[39;49m\u001b[38;5;28;43;01mNone\u001b[39;49;00m\u001b[43m)\u001b[49m\n\u001b[1;32m      2\u001b[0m djson[\u001b[38;5;124m\"\u001b[39m\u001b[38;5;124mresults\u001b[39m\u001b[38;5;124m\"\u001b[39m][\u001b[38;5;241m0\u001b[39m]\n",
      "\u001b[0;31mTypeError\u001b[0m: query_db() got multiple values for argument 'db_filter'"
     ]
    }
   ],
   "source": [
    "djson = query_db(secret_token, content_database_id, db_filter=None)\n",
    "djson[\"results\"][0]"
   ]
  },
  {
   "cell_type": "code",
   "execution_count": 412,
   "id": "1ef6534a",
   "metadata": {},
   "outputs": [],
   "source": [
    "def get_channel_list(db_json):\n",
    "    results_list = db_json[\"results\"]\n",
    "    channel_list = []\n",
    "    for result in results_list:\n",
    "        kind = result[\"properties\"][\"Kind\"][\"select\"][\"name\"]\n",
    "        url = result[\"properties\"][\"URL\"][\"url\"]\n",
    "        title = result[\"properties\"][\"Name\"][\"title\"][0][\"text\"][\"content\"]\n",
    "        subscribers = result[\"properties\"][\"subscriber\"][\"people\"]\n",
    "        channel_data_dict = {\n",
    "            \"kind\": kind,\n",
    "            \"url\": url,\n",
    "            \"title\": title,\n",
    "            \"subscribers\": subscribers\n",
    "        }\n",
    "        channel_list.append(channel_data_dict)\n",
    "    \n",
    "    return channel_list\n",
    "    \n",
    "    "
   ]
  },
  {
   "cell_type": "code",
   "execution_count": 413,
   "id": "7f592f30",
   "metadata": {},
   "outputs": [
    {
     "data": {
      "text/plain": [
       "{'object': 'error',\n",
       " 'status': 400,\n",
       " 'code': 'validation_error',\n",
       " 'message': 'body failed validation. Fix one:\\nbody.filter.rich_text.equals should be a string, instead was `{\"rich_text\":[{\"type\":\"text\",\"text\":{\"content\":\"UC291Lv...`.\\nbody.filter.rich_text.does_not_equal should be defined, instead was `undefined`.\\nbody.filter.rich_text.contains should be defined, instead was `undefined`.\\nbody.filter.rich_text.does_not_contain should be defined, instead was `undefined`.\\nbody.filter.rich_text.starts_with should be defined, instead was `undefined`.\\nbody.filter.rich_text.ends_with should be defined, instead was `undefined`.\\nbody.filter.rich_text.is_empty should be defined, instead was `undefined`.\\nbody.filter.rich_text.is_not_empty should be defined, instead was `undefined`.'}"
      ]
     },
     "execution_count": 413,
     "metadata": {},
     "output_type": "execute_result"
    }
   ],
   "source": [
    "# https://www.notion.so/youngtsai/92-6910646c0d5849f9a68231f15868deb9#6c887aa7fda7481b8113c720b7a9a6db\n",
    "\n",
    "# 452413b291884227956466e45788164f\n",
    "\n",
    "# id = \"917c0dca6bb347c5a191730fac885a5c\"\n",
    "# url = f\"https://api.notion.com/v1/pages/{id}\"\n",
    "# #     payload = {\n",
    "# #         \"page_size\": 100\n",
    "# #     }\n",
    "# #     if db_filter:\n",
    "# #         payload[\"filter\"] = db_filter\n",
    "    \n",
    "# headers = {\n",
    "#     \"Authorization\": \"Bearer \" + secret,\n",
    "#     \"Accept\": \"application/json\",\n",
    "#     \"Notion-Version\": \"2022-02-22\",\n",
    "#     \"Content-Type\": \"application/json\"\n",
    "# }\n",
    "\n",
    "# response = requests.get(url, headers=headers)\n",
    "# db_json = json.loads(response.text)\n",
    "\n",
    "# db_json\n",
    "\n",
    "def get_channel_db(channel_id):\n",
    "    db_filter = {\n",
    "        \"property\": \"channel_id\",\n",
    "        \"rich_text\": {\n",
    "            \"equals\": {\n",
    "                \"rich_text\": [\n",
    "                    {\n",
    "                        \"type\": \"text\",\n",
    "                        \"text\": {\n",
    "                            \"content\": channel_id\n",
    "                        }\n",
    "                    },\n",
    "                ],\n",
    "            },\n",
    "        }\n",
    "    }\n",
    "    db_json = query_db(channel_database_id, db_filter)\n",
    "\n",
    "    return db_json\n",
    "\n",
    "channel_id = \"UC291LvruKOnyWPHDrL1U3yw\"\n",
    "get_channel_db(channel_id)"
   ]
  },
  {
   "cell_type": "code",
   "execution_count": null,
   "id": "da703aa9",
   "metadata": {},
   "outputs": [],
   "source": []
  },
  {
   "cell_type": "code",
   "execution_count": 277,
   "id": "c3d164f1",
   "metadata": {},
   "outputs": [
    {
     "data": {
      "text/plain": [
       "'9f643f18-3835-4314-b409-ccfaab218f60'"
      ]
     },
     "execution_count": 277,
     "metadata": {},
     "output_type": "execute_result"
    }
   ],
   "source": [
    "db_json = query_db(secret_token, content_database_id)\n",
    "# channel_list = get_channel_list(db_json)\n",
    "db_json[\"results\"][0][\"id\"]"
   ]
  },
  {
   "cell_type": "code",
   "execution_count": 156,
   "id": "0af66d05",
   "metadata": {},
   "outputs": [],
   "source": [
    "data_list =[\n",
    "    {'channel_id': 'UCo4ie5g9_uat5pjWt2DgCKA', 'channel_url': 'https://www.youtube.com/channel/UCo4ie5g9_uat5pjWt2DgCKA', 'channel_name': '阿駿日常', 'video_id': 'W_1hfaFw_7c', 'video_url': 'https://www.youtube.com/watch?v=W_1hfaFw_7c', 'published': '2022-04-29', 'title': '跳舞吧！麥片~  #科學小實驗 #優質陪伴 #Shorts', 'img_link': 'https://i4.ytimg.com/vi/W_1hfaFw_7c/hqdefault.jpg', 'description': '------------------------------------------\\n【優質陪伴~今天玩什麼】\\n如果你也認同「陪孩子玩」很重要\\n歡迎加入FB社團，互相交流玩法跟心得哦~\\n社團連結： https://www.facebook.com/groups/playwhat0422\\n------------------------------------------\\n影片製作很費心力，如果喜歡影片，歡迎支持阿駿持續創作優質內容哦❤\\n【熱心贊助】\\nhttps://p.ecpay.com.tw/030C834', 'tag_list': ['科學小實驗', '優質陪伴', 'Shorts']},\n",
    "    {'channel_id': 'UC291LvruKOnyWPHDrL1U3yw', 'channel_url': 'https://www.youtube.com/channel/UC291LvruKOnyWPHDrL1U3yw', 'channel_name': '作業本', 'video_id': 'vBhO9LUaPQg', 'video_url': 'https://www.youtube.com/watch?v=vBhO9LUaPQg', 'published': '2022-04-30', 'title': '海賊王1048話情報來了！最後的赤鞘武士上線！傳次郎徹底終結黑炭大蛇？蛋糕島入侵者身份確認', 'img_link': 'https://i3.ytimg.com/vi/vBhO9LUaPQg/hqdefault.jpg', 'description': '#海賊王 #1048話 #傳次郎 #路飛 \\n傳次郎：半年了...你知道我這半年怎麼過來的嗎？\\n\\n🎞️作業本頻道精選，好評更新中！\\n「高燃解說」海賊王每周漫畫解說：https://www.youtube.com/playlist?list=PLu-XhjQUoKECa5odQhsWZNJIDpy3DSlTT\\n「細思極恐」漫畫伏筆細節分析：https://www.youtube.com/playlist?list=PLu-XhjQUoKEDUzxw1r6va4YuIUJhO0kqt\\n「情報速遞」又快又準確的漫畫情報：https://www.youtube.com/playlist?list=PLu-XhjQUoKEDD49bzBq10optECwPi7xEv\\n\\n📫要找作業本一下？\\nWeChat（推薦）：zuoyeben42\\nEmail：zuoyebeen@qq.com', 'tag_list': ['海賊王', '1048話', '傳次郎', '路飛']}\n",
    "]\n"
   ]
  },
  {
   "cell_type": "code",
   "execution_count": 157,
   "id": "1483b5c7",
   "metadata": {},
   "outputs": [],
   "source": [
    "def youtube_data_cleaner(data_list):\n",
    "    content_data_list = []\n",
    "    for data in data_list:\n",
    "        content_data = {}\n",
    "        content_data[\"title\"] = data[\"title\"]\n",
    "        content_data[\"channel_id\"] = data[\"channel_id\"]\n",
    "        content_data[\"channel_url\"] = data[\"channel_url\"]\n",
    "        content_data[\"content_id\"] = data[\"video_id\"]\n",
    "        content_data[\"content_url\"] = data[\"video_url\"]\n",
    "        content_data[\"upload_at\"] = data[\"published\"]\n",
    "        content_data[\"img_link\"] = data[\"img_link\"]\n",
    "        content_data[\"description\"] = data[\"description\"]\n",
    "        content_data[\"tag_list\"] = data[\"tag_list\"]\n",
    "        \n",
    "        content_data_list.append(content_data)\n",
    "\n",
    "    return content_data_list"
   ]
  },
  {
   "cell_type": "code",
   "execution_count": 384,
   "id": "505af778",
   "metadata": {},
   "outputs": [],
   "source": [
    "def notion_property_value_maker(property_type, content):\n",
    "    switcher = {\n",
    "        \"Name\": {\n",
    "            \"title\": [\n",
    "                {\n",
    "                    \"type\": \"text\",\n",
    "                    \"text\": {\n",
    "                      \"content\": content\n",
    "                    }\n",
    "                }\n",
    "            ]\n",
    "        },\n",
    "        \"url\": {\n",
    "            \"url\": content\n",
    "        },\n",
    "        \"rich_text\": {\n",
    "            \"rich_text\": [\n",
    "                {\n",
    "                    \"type\": \"text\",\n",
    "                    \"text\": {\n",
    "                        \"content\": content\n",
    "                    }\n",
    "                },\n",
    "            ],\n",
    "        },\n",
    "        \"date\": {\n",
    "            \"date\": {\n",
    "                \"start\": content\n",
    "            }\n",
    "        },\n",
    "        \"multi_select\": {\n",
    "            \"multi_select\": [{\"name\": tag} for tag in content]\n",
    "        },\n",
    "        \"relation\": {\n",
    "            \"relation\": [\n",
    "                {\n",
    "                    \"id\": content\n",
    "                }\n",
    "            ]\n",
    "        }\n",
    "    }\n",
    "    \n",
    "    return switcher.get(property_type)\n",
    "\n",
    "def get_channel_relation_id(channel_id):\n",
    "    print(channel_id)\n",
    "    db_filter = {\n",
    "        \"property\": \"channel_id\",\n",
    "        \"rich_text\": {\n",
    "            \"equals\": channel_id\n",
    "        }\n",
    "    }\n",
    "    db_json = query_db(secret_token, channel_database_id, db_filter)    \n",
    "    channel_relation_id = db_json[\"results\"][0][\"id\"]\n",
    "    \n",
    "    return channel_relation_id\n",
    "    \n",
    "\n",
    "def make_db_data(database_id, data):\n",
    "    name = notion_property_value_maker(\"Name\", data[\"title\"])\n",
    "    content_url = notion_property_value_maker(\"url\", data[\"content_url\"])\n",
    "    content_id = notion_property_value_maker(\"rich_text\", data[\"content_id\"])\n",
    "    channel_url = notion_property_value_maker(\"url\", data[\"channel_url\"])\n",
    "    channel_id = notion_property_value_maker(\"rich_text\", data[\"channel_id\"])\n",
    "    img_link = notion_property_value_maker(\"url\", data[\"img_link\"])\n",
    "    upload_at = notion_property_value_maker(\"date\", data[\"upload_at\"])\n",
    "    description = notion_property_value_maker(\"rich_text\", data[\"description\"])\n",
    "    tag_list = notion_property_value_maker(\"multi_select\", data[\"tag_list\"])\n",
    "    channel_relation_id = get_channel_relation_id(data[\"channel_id\"])\n",
    "    channel_relation = notion_property_value_maker(\"relation\", channel_relation_id)\n",
    "    \n",
    "    print(channel_relation)\n",
    "    \n",
    "    children = [\n",
    "    {\n",
    "      \"object\": \"block\",\n",
    "      \"type\": \"paragraph\",\n",
    "      \"paragraph\": {\n",
    "        \"rich_text\": [{ \"type\": \"text\", \"text\": { \"content\": \"You made this page using the Notion API. Pretty cool, huh? We hope you enjoy building with us.\" } }]\n",
    "      }\n",
    "    }\n",
    "  ]\n",
    "\n",
    "    \n",
    "    payload = {\n",
    "        \"parent\": {\n",
    "            \"database_id\": database_id,\n",
    "        },\n",
    "        \"properties\": {\n",
    "            \"Name\": name,\n",
    "            \"content_url\": content_url,\n",
    "            \"content_id\": content_id,\n",
    "            \"channel_url\": channel_url,\n",
    "            \"channel_id\": channel_id,\n",
    "            \"img_link\": img_link,\n",
    "            \"upload_at\": upload_at,\n",
    "            \"description\": description,\n",
    "            \"tag_list\": tag_list,\n",
    "            \"channel_relation\": channel_relation,\n",
    "        }\n",
    "    }\n",
    "        \n",
    "    return payload"
   ]
  },
  {
   "cell_type": "code",
   "execution_count": 385,
   "id": "ae5cb7d8",
   "metadata": {},
   "outputs": [],
   "source": [
    "def write_content_data_list_to_db(content_data_list):\n",
    "    db_json = query_db(secret_token, content_database_id)\n",
    "    results = db_json[\"results\"]\n",
    "    exist_link_list = [result[\"properties\"][\"content_url\"][\"url\"] for result in results]\n",
    "    print(exist_link_list)\n",
    "    \n",
    "    for data in content_data_list:\n",
    "        if data[\"content_url\"] in exist_link_list:\n",
    "            print(\"exist!\")\n",
    "        else:\n",
    "            print(data[\"content_url\"])\n",
    "        \n",
    "            payload = make_db_data(content_database_id, data)    \n",
    "            url = \"https://api.notion.com/v1/pages\"\n",
    "            headers = {\n",
    "                \"Authorization\": \"Bearer \" + secret_token,\n",
    "                \"Accept\": \"application/json\",\n",
    "                \"Notion-Version\": \"2022-02-22\",\n",
    "                \"Content-Type\": \"application/json\"\n",
    "            }\n",
    "\n",
    "            response = requests.post(url, json=payload, headers=headers)\n",
    "            print(response.text)\n"
   ]
  },
  {
   "cell_type": "code",
   "execution_count": null,
   "id": "24e07340",
   "metadata": {},
   "outputs": [],
   "source": []
  },
  {
   "cell_type": "code",
   "execution_count": 5,
   "id": "130a19b3",
   "metadata": {},
   "outputs": [
    {
     "name": "stdout",
     "output_type": "stream",
     "text": [
      "{\"object\":\"block\",\"id\":\"634d9385-5529-4454-8dca-405cd43a90f8\",\"created_time\":\"2022-05-03T15:24:00.000Z\",\"last_edited_time\":\"2022-05-03T15:24:00.000Z\",\"created_by\":{\"object\":\"user\",\"id\":\"c79034c0-4317-4445-be77-2068fe7adf24\"},\"last_edited_by\":{\"object\":\"user\",\"id\":\"c79034c0-4317-4445-be77-2068fe7adf24\"},\"has_children\":false,\"archived\":false,\"type\":\"bookmark\",\"bookmark\":{\"caption\":[],\"url\":\"www.facebook.com/1038151940445839\"}}\n"
     ]
    }
   ],
   "source": [
    "import requests\n",
    "\n",
    "# https://www.notion.so/youngtsai/b36e1ac5aa7643059b6de9b719c0b2e6#d8382a3fd25d4da5aeabbee0e63e0554\n",
    "# https://www.notion.so/youngtsai/8-April-27-at-7-00-PM-86fd27d927bf46808263639726111d64#ccebcd5466ad442f8d3ccc75e27e89db\n",
    "# https://www.notion.so/youngtsai/8-April-27-at-7-00-PM-86fd27d927bf46808263639726111d64#634d9385552944548dca405cd43a90f8\n",
    "\n",
    "url = \"https://api.notion.com/v1/blocks/634d9385552944548dca405cd43a90f8\"\n",
    "\n",
    "headers = {\n",
    "        \"Authorization\": \"Bearer \" + secret_token,\n",
    "        \"Accept\": \"application/json\",\n",
    "        \"Notion-Version\": \"2022-02-22\",\n",
    "        \"Content-Type\": \"application/json\"\n",
    "    }\n",
    "response = requests.get(url, headers=headers)\n",
    "\n",
    "print(response.text)"
   ]
  },
  {
   "cell_type": "code",
   "execution_count": 8,
   "id": "8a806c9d",
   "metadata": {},
   "outputs": [
    {
     "name": "stdout",
     "output_type": "stream",
     "text": [
      "{\"object\":\"block\",\"id\":\"15b4f2b7-983c-4db7-a1a6-1cbe11992f33\",\"created_time\":\"2022-05-03T15:32:00.000Z\",\"last_edited_time\":\"2022-05-03T15:43:00.000Z\",\"created_by\":{\"object\":\"user\",\"id\":\"39319c39-2855-4053-a4c6-d4d8cb375555\"},\"last_edited_by\":{\"object\":\"user\",\"id\":\"39319c39-2855-4053-a4c6-d4d8cb375555\"},\"has_children\":false,\"archived\":false,\"type\":\"paragraph\",\"paragraph\":{\"rich_text\":[{\"type\":\"text\",\"text\":{\"content\":\"www.facebook.com/973248716715567\",\"link\":{\"url\":\"http://www.facebook.com/973248716715567\"}},\"annotations\":{\"bold\":false,\"italic\":false,\"strikethrough\":false,\"underline\":false,\"code\":false,\"color\":\"default\"},\"plain_text\":\"www.facebook.com/973248716715567\",\"href\":\"http://www.facebook.com/973248716715567\"}],\"color\":\"default\"}}\n"
     ]
    }
   ],
   "source": [
    "# https://www.notion.so/youngtsai/School-28-Sunny-d3a0e5fbca0f41f593d94d94b5150323#15b4f2b7983c4db7a1a61cbe11992f33\n",
    "    \n",
    "url = \"https://api.notion.com/v1/blocks/15b4f2b7983c4db7a1a61cbe11992f33\"\n",
    "\n",
    "headers = {\n",
    "        \"Authorization\": \"Bearer \" + secret_token,\n",
    "        \"Accept\": \"application/json\",\n",
    "        \"Notion-Version\": \"2022-02-22\",\n",
    "        \"Content-Type\": \"application/json\"\n",
    "    }\n",
    "response = requests.get(url, headers=headers)\n",
    "\n",
    "print(response.text)"
   ]
  },
  {
   "cell_type": "code",
   "execution_count": 12,
   "id": "e0cee628",
   "metadata": {},
   "outputs": [],
   "source": [
    "database_id = \"7892a7ac1c464232abd8f1c31dfb15f6\" \n",
    "secret = \"secret_1JLORs3Og1S6bMvMNBcrLH0A9G1xHcLkDFJDepMT45i\"\n"
   ]
  },
  {
   "cell_type": "code",
   "execution_count": 51,
   "id": "b7209836",
   "metadata": {},
   "outputs": [],
   "source": [
    "def query_db(database_id, db_filter=None, start_cursor=None):\n",
    "    url = f\"https://api.notion.com/v1/databases/{database_id}/query\"\n",
    "    payload = {\"page_size\": 100}\n",
    "\n",
    "    if db_filter:\n",
    "        payload[\"filter\"] = db_filter\n",
    "\n",
    "    if start_cursor:\n",
    "        payload[\"start_cursor\"] = start_cursor\n",
    "\n",
    "    headers = {\n",
    "            \"Authorization\": \"Bearer \" + secret,\n",
    "            \"Accept\": \"application/json\",\n",
    "            \"Notion-Version\": \"2022-02-22\",\n",
    "            \"Content-Type\": \"application/json\"\n",
    "        }\n",
    "    response = requests.post(url, json=payload, headers=headers)\n",
    "    db_json = json.loads(response.text)\n",
    "\n",
    "    return db_json"
   ]
  },
  {
   "cell_type": "code",
   "execution_count": 57,
   "id": "194c1dde",
   "metadata": {},
   "outputs": [
    {
     "data": {
      "text/plain": [
       "True"
      ]
     },
     "execution_count": 57,
     "metadata": {},
     "output_type": "execute_result"
    }
   ],
   "source": [
    "db_json[\"has_more\"]"
   ]
  },
  {
   "cell_type": "code",
   "execution_count": 55,
   "id": "d970a35f",
   "metadata": {},
   "outputs": [
    {
     "data": {
      "text/plain": [
       "['www.facebook.com/544511743701172',\n",
       " 'www.facebook.com/547130290105984',\n",
       " 'www.facebook.com/548295863322760',\n",
       " 'www.facebook.com/550126486473031',\n",
       " 'www.facebook.com/551572566328423',\n",
       " 'www.facebook.com/553515162800830',\n",
       " 'www.facebook.com/555368735948806',\n",
       " None,\n",
       " 'https://www.youtube.com/watch?v=iHZWEPJKFhM',\n",
       " 'https://www.youtube.com/watch?v=T8KOMpPGjSI',\n",
       " 'https://www.youtube.com/watch?v=nh0ffF8uN4c',\n",
       " 'https://www.youtube.com/watch?v=prNh9JHGUiA',\n",
       " 'https://www.youtube.com/watch?v=W_1hfaFw_7c',\n",
       " 'https://www.youtube.com/watch?v=Pts4Mn7onoI',\n",
       " 'www.facebook.com/7519793148062088',\n",
       " 'www.facebook.com/556798772472469',\n",
       " 'www.facebook.com/557539239065089',\n",
       " 'www.facebook.com/537841197710578',\n",
       " 'www.facebook.com/538113777683320',\n",
       " 'www.facebook.com/538391707655527',\n",
       " 'www.facebook.com/538456007649097',\n",
       " 'www.facebook.com/538762790951752',\n",
       " 'www.facebook.com/538846980943333',\n",
       " 'www.facebook.com/539125824248782',\n",
       " 'www.facebook.com/539268100901221',\n",
       " 'www.facebook.com/539404077554290',\n",
       " 'www.facebook.com/539545630873468',\n",
       " 'www.facebook.com/1043542686573431',\n",
       " 'www.facebook.com/7438958516145552',\n",
       " 'www.facebook.com/7445387822169288',\n",
       " 'www.facebook.com/7451788768195860',\n",
       " 'www.facebook.com/7465240323517371',\n",
       " 'www.facebook.com/7474557125919024',\n",
       " 'www.facebook.com/7476797812361622',\n",
       " 'www.facebook.com/7483609191680484',\n",
       " 'www.facebook.com/7496346673740069',\n",
       " 'www.facebook.com/7515482045159865',\n",
       " 'www.facebook.com/549586353192636',\n",
       " 'www.facebook.com/549848383166433',\n",
       " 'www.facebook.com/539314804432105',\n",
       " 'www.facebook.com/539933184370267',\n",
       " 'www.facebook.com/540599987636920',\n",
       " 'www.facebook.com/541178390912413',\n",
       " 'www.facebook.com/541869257509993',\n",
       " 'www.facebook.com/542509874112598',\n",
       " 'www.facebook.com/543199980710254',\n",
       " 'www.facebook.com/543273904036195',\n",
       " 'www.facebook.com/543931300637122',\n",
       " 'www.facebook.com/544687010561551',\n",
       " 'www.facebook.com/1791648077697221',\n",
       " 'www.facebook.com/5627047377309627',\n",
       " 'www.facebook.com/5628261403854891',\n",
       " 'www.facebook.com/5630778120269886',\n",
       " 'www.facebook.com/5632424016771963',\n",
       " 'www.facebook.com/5638204909527207',\n",
       " 'www.facebook.com/5638743866139978',\n",
       " 'www.facebook.com/5639245606089804',\n",
       " 'www.facebook.com/5646482725366092',\n",
       " 'www.facebook.com/5647081418639556',\n",
       " 'www.facebook.com/969957113711394',\n",
       " 'www.facebook.com/974287103278395',\n",
       " 'www.facebook.com/974376863269419',\n",
       " 'www.facebook.com/974352403271865',\n",
       " 'www.facebook.com/974314813275624',\n",
       " 'www.facebook.com/485046179650379',\n",
       " 'www.facebook.com/489217089233288',\n",
       " 'www.facebook.com/493573532130977',\n",
       " 'www.facebook.com/502388807916116',\n",
       " 'www.facebook.com/510868657068131',\n",
       " 'www.facebook.com/515253749962955',\n",
       " 'www.facebook.com/519444606210536',\n",
       " 'www.facebook.com/528315771990086',\n",
       " 'www.facebook.com/532646084890388',\n",
       " 'www.facebook.com/536935127794817',\n",
       " 'www.facebook.com/973181666722272',\n",
       " 'www.facebook.com/973594866680952',\n",
       " 'www.facebook.com/973825943324511',\n",
       " 'www.facebook.com/973952479978524',\n",
       " 'www.facebook.com/954301488610290',\n",
       " 'https://www.youtube.com/watch?v=wH0H1ppY0nY',\n",
       " 'https://www.youtube.com/watch?v=HV1lYTsX99o',\n",
       " 'https://www.youtube.com/watch?v=2q9NFN8NIn8',\n",
       " 'https://www.youtube.com/watch?v=pJFukzF73kI',\n",
       " 'https://www.youtube.com/watch?v=SVLHc2jsH28',\n",
       " 'https://www.youtube.com/watch?v=EM36dAGsnf0',\n",
       " 'https://www.youtube.com/watch?v=Mp0aATJTv0M',\n",
       " 'https://www.youtube.com/watch?v=R5V8WCVRlFY',\n",
       " 'https://www.youtube.com/watch?v=760yOXDkFzo',\n",
       " 'https://www.youtube.com/watch?v=1PJe7xmOii0',\n",
       " 'https://www.youtube.com/watch?v=h5-8VyRFnic',\n",
       " 'https://www.youtube.com/watch?v=vyxm-sxDHuk',\n",
       " 'https://www.youtube.com/watch?v=pqxjQLa-OT8',\n",
       " 'https://www.youtube.com/watch?v=jtkgrGu_eEA',\n",
       " 'https://www.youtube.com/watch?v=2wtc91WGZA4',\n",
       " 'https://www.youtube.com/watch?v=b4wG225hL-c',\n",
       " 'https://www.youtube.com/watch?v=7WInsZiK9Ng',\n",
       " 'https://www.youtube.com/watch?v=xWudzp46oNM',\n",
       " 'https://www.youtube.com/watch?v=gTZcG_hLN8s',\n",
       " 'https://www.youtube.com/watch?v=iHZWEPJKFhM',\n",
       " 'https://www.youtube.com/watch?v=T8KOMpPGjSI']"
      ]
     },
     "execution_count": 55,
     "metadata": {},
     "output_type": "execute_result"
    }
   ],
   "source": [
    "#     \"start_cursor\" : \"%NEXT_CURSOR_FROM_PREV_REQUEST%\" \n",
    "db_json = query_db(database_id)\n",
    "results = db_json[\"results\"]\n",
    "exist_link_list = [result[\"properties\"][\"content_url\"][\"url\"] for result in results]\n",
    "\n",
    "if db_json[\"has_more\"]:\n",
    "    db_json = query_db(database_id)\n",
    "    results = db_json[\"results\"]\n",
    "    exist_link_list += [result[\"properties\"][\"content_url\"][\"url\"] for result in results]\n",
    "\n",
    "lenexist_link_list"
   ]
  },
  {
   "cell_type": "code",
   "execution_count": null,
   "id": "cee5813c",
   "metadata": {},
   "outputs": [],
   "source": [
    "len(db_json[\"results\"])"
   ]
  }
 ],
 "metadata": {
  "kernelspec": {
   "display_name": "Python 3 (ipykernel)",
   "language": "python",
   "name": "python3"
  },
  "language_info": {
   "codemirror_mode": {
    "name": "ipython",
    "version": 3
   },
   "file_extension": ".py",
   "mimetype": "text/x-python",
   "name": "python",
   "nbconvert_exporter": "python",
   "pygments_lexer": "ipython3",
   "version": "3.8.9"
  }
 },
 "nbformat": 4,
 "nbformat_minor": 5
}
