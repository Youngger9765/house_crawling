{
 "cells": [
  {
   "cell_type": "code",
   "execution_count": null,
   "id": "de91149c",
   "metadata": {},
   "outputs": [],
   "source": [
    "頻道：https://www.notion.so/youngtsai/a6ab6e3b595d41edb1c465c1b6192c78?v=208dff5d9e0c430994d67acb5858664e\n",
    "爬蟲：https://www.notion.so/youngtsai/7892a7ac1c464232abd8f1c31dfb15f6?v=ef5a5864f69246b99dabad9d4752e08d"
   ]
  },
  {
   "cell_type": "code",
   "execution_count": 409,
   "id": "fc0a723b",
   "metadata": {},
   "outputs": [],
   "source": [
    "import requests\n",
    "import json\n",
    "import os\n",
    "\n",
    "# database_id = \"a6ab6e3b595d41edb1c465c1b6192c78\" \n",
    "# secret = \"secret_1JLORs3Og1S6bMvMNBcrLH0A9G1xHcLkDFJDepMT45i\"\n",
    "\n",
    "current_path = os.getcwd()\n",
    "notion_secret_name = \"notion_secret.json\"\n",
    "data_path = current_path + \"/\" + notion_secret_name\n",
    "file = open(data_path)\n",
    "file_dict = json.load(file)\n",
    "secret_token = file_dict[\"secret_token\"]\n",
    "channel_database_id = file_dict[\"channel_database_id\"]\n",
    "content_database_id = file_dict[\"content_database_id\"]\n"
   ]
  },
  {
   "cell_type": "code",
   "execution_count": 410,
   "id": "b6344d10",
   "metadata": {},
   "outputs": [],
   "source": [
    "def query_db(database_id, db_filter=None):\n",
    "    url = f\"https://api.notion.com/v1/databases/{database_id}/query\"\n",
    "    payload = {\n",
    "        \"page_size\": 100\n",
    "    }\n",
    "    if db_filter:\n",
    "        payload[\"filter\"] = db_filter\n",
    "    \n",
    "    headers = {\n",
    "        \"Authorization\": \"Bearer \" + secret_token,\n",
    "        \"Accept\": \"application/json\",\n",
    "        \"Notion-Version\": \"2022-02-22\",\n",
    "        \"Content-Type\": \"application/json\"\n",
    "    }\n",
    "\n",
    "    response = requests.post(url, json=payload, headers=headers)\n",
    "    db_json = json.loads(response.text)\n",
    "    \n",
    "    return db_json\n",
    "\n"
   ]
  },
  {
   "cell_type": "code",
   "execution_count": 411,
   "id": "65bccb3b",
   "metadata": {},
   "outputs": [
    {
     "ename": "TypeError",
     "evalue": "query_db() got multiple values for argument 'db_filter'",
     "output_type": "error",
     "traceback": [
      "\u001b[0;31m---------------------------------------------------------------------------\u001b[0m",
      "\u001b[0;31mTypeError\u001b[0m                                 Traceback (most recent call last)",
      "Input \u001b[0;32mIn [411]\u001b[0m, in \u001b[0;36m<cell line: 1>\u001b[0;34m()\u001b[0m\n\u001b[0;32m----> 1\u001b[0m djson \u001b[38;5;241m=\u001b[39m \u001b[43mquery_db\u001b[49m\u001b[43m(\u001b[49m\u001b[43msecret_token\u001b[49m\u001b[43m,\u001b[49m\u001b[43m \u001b[49m\u001b[43mcontent_database_id\u001b[49m\u001b[43m,\u001b[49m\u001b[43m \u001b[49m\u001b[43mdb_filter\u001b[49m\u001b[38;5;241;43m=\u001b[39;49m\u001b[38;5;28;43;01mNone\u001b[39;49;00m\u001b[43m)\u001b[49m\n\u001b[1;32m      2\u001b[0m djson[\u001b[38;5;124m\"\u001b[39m\u001b[38;5;124mresults\u001b[39m\u001b[38;5;124m\"\u001b[39m][\u001b[38;5;241m0\u001b[39m]\n",
      "\u001b[0;31mTypeError\u001b[0m: query_db() got multiple values for argument 'db_filter'"
     ]
    }
   ],
   "source": [
    "djson = query_db(secret_token, content_database_id, db_filter=None)\n",
    "djson[\"results\"][0]"
   ]
  },
  {
   "cell_type": "code",
   "execution_count": 412,
   "id": "1ef6534a",
   "metadata": {},
   "outputs": [],
   "source": [
    "def get_channel_list(db_json):\n",
    "    results_list = db_json[\"results\"]\n",
    "    channel_list = []\n",
    "    for result in results_list:\n",
    "        kind = result[\"properties\"][\"Kind\"][\"select\"][\"name\"]\n",
    "        url = result[\"properties\"][\"URL\"][\"url\"]\n",
    "        title = result[\"properties\"][\"Name\"][\"title\"][0][\"text\"][\"content\"]\n",
    "        subscribers = result[\"properties\"][\"subscriber\"][\"people\"]\n",
    "        channel_data_dict = {\n",
    "            \"kind\": kind,\n",
    "            \"url\": url,\n",
    "            \"title\": title,\n",
    "            \"subscribers\": subscribers\n",
    "        }\n",
    "        channel_list.append(channel_data_dict)\n",
    "    \n",
    "    return channel_list\n",
    "    \n",
    "    "
   ]
  },
  {
   "cell_type": "code",
   "execution_count": 413,
   "id": "7f592f30",
   "metadata": {},
   "outputs": [
    {
     "data": {
      "text/plain": [
       "{'object': 'error',\n",
       " 'status': 400,\n",
       " 'code': 'validation_error',\n",
       " 'message': 'body failed validation. Fix one:\\nbody.filter.rich_text.equals should be a string, instead was `{\"rich_text\":[{\"type\":\"text\",\"text\":{\"content\":\"UC291Lv...`.\\nbody.filter.rich_text.does_not_equal should be defined, instead was `undefined`.\\nbody.filter.rich_text.contains should be defined, instead was `undefined`.\\nbody.filter.rich_text.does_not_contain should be defined, instead was `undefined`.\\nbody.filter.rich_text.starts_with should be defined, instead was `undefined`.\\nbody.filter.rich_text.ends_with should be defined, instead was `undefined`.\\nbody.filter.rich_text.is_empty should be defined, instead was `undefined`.\\nbody.filter.rich_text.is_not_empty should be defined, instead was `undefined`.'}"
      ]
     },
     "execution_count": 413,
     "metadata": {},
     "output_type": "execute_result"
    }
   ],
   "source": [
    "# https://www.notion.so/youngtsai/92-6910646c0d5849f9a68231f15868deb9#6c887aa7fda7481b8113c720b7a9a6db\n",
    "\n",
    "# 452413b291884227956466e45788164f\n",
    "\n",
    "# id = \"917c0dca6bb347c5a191730fac885a5c\"\n",
    "# url = f\"https://api.notion.com/v1/pages/{id}\"\n",
    "# #     payload = {\n",
    "# #         \"page_size\": 100\n",
    "# #     }\n",
    "# #     if db_filter:\n",
    "# #         payload[\"filter\"] = db_filter\n",
    "    \n",
    "# headers = {\n",
    "#     \"Authorization\": \"Bearer \" + secret,\n",
    "#     \"Accept\": \"application/json\",\n",
    "#     \"Notion-Version\": \"2022-02-22\",\n",
    "#     \"Content-Type\": \"application/json\"\n",
    "# }\n",
    "\n",
    "# response = requests.get(url, headers=headers)\n",
    "# db_json = json.loads(response.text)\n",
    "\n",
    "# db_json\n",
    "\n",
    "def get_channel_db(channel_id):\n",
    "    db_filter = {\n",
    "        \"property\": \"channel_id\",\n",
    "        \"rich_text\": {\n",
    "            \"equals\": {\n",
    "                \"rich_text\": [\n",
    "                    {\n",
    "                        \"type\": \"text\",\n",
    "                        \"text\": {\n",
    "                            \"content\": channel_id\n",
    "                        }\n",
    "                    },\n",
    "                ],\n",
    "            },\n",
    "        }\n",
    "    }\n",
    "    db_json = query_db(channel_database_id, db_filter)\n",
    "\n",
    "    return db_json\n",
    "\n",
    "channel_id = \"UC291LvruKOnyWPHDrL1U3yw\"\n",
    "get_channel_db(channel_id)"
   ]
  },
  {
   "cell_type": "code",
   "execution_count": null,
   "id": "da703aa9",
   "metadata": {},
   "outputs": [],
   "source": []
  },
  {
   "cell_type": "code",
   "execution_count": 277,
   "id": "c3d164f1",
   "metadata": {},
   "outputs": [
    {
     "data": {
      "text/plain": [
       "'9f643f18-3835-4314-b409-ccfaab218f60'"
      ]
     },
     "execution_count": 277,
     "metadata": {},
     "output_type": "execute_result"
    }
   ],
   "source": [
    "db_json = query_db(secret_token, content_database_id)\n",
    "# channel_list = get_channel_list(db_json)\n",
    "db_json[\"results\"][0][\"id\"]"
   ]
  },
  {
   "cell_type": "code",
   "execution_count": 156,
   "id": "0af66d05",
   "metadata": {},
   "outputs": [],
   "source": [
    "data_list =[\n",
    "    {'channel_id': 'UCo4ie5g9_uat5pjWt2DgCKA', 'channel_url': 'https://www.youtube.com/channel/UCo4ie5g9_uat5pjWt2DgCKA', 'channel_name': '阿駿日常', 'video_id': 'W_1hfaFw_7c', 'video_url': 'https://www.youtube.com/watch?v=W_1hfaFw_7c', 'published': '2022-04-29', 'title': '跳舞吧！麥片~  #科學小實驗 #優質陪伴 #Shorts', 'img_link': 'https://i4.ytimg.com/vi/W_1hfaFw_7c/hqdefault.jpg', 'description': '------------------------------------------\\n【優質陪伴~今天玩什麼】\\n如果你也認同「陪孩子玩」很重要\\n歡迎加入FB社團，互相交流玩法跟心得哦~\\n社團連結： https://www.facebook.com/groups/playwhat0422\\n------------------------------------------\\n影片製作很費心力，如果喜歡影片，歡迎支持阿駿持續創作優質內容哦❤\\n【熱心贊助】\\nhttps://p.ecpay.com.tw/030C834', 'tag_list': ['科學小實驗', '優質陪伴', 'Shorts']},\n",
    "    {'channel_id': 'UC291LvruKOnyWPHDrL1U3yw', 'channel_url': 'https://www.youtube.com/channel/UC291LvruKOnyWPHDrL1U3yw', 'channel_name': '作業本', 'video_id': 'vBhO9LUaPQg', 'video_url': 'https://www.youtube.com/watch?v=vBhO9LUaPQg', 'published': '2022-04-30', 'title': '海賊王1048話情報來了！最後的赤鞘武士上線！傳次郎徹底終結黑炭大蛇？蛋糕島入侵者身份確認', 'img_link': 'https://i3.ytimg.com/vi/vBhO9LUaPQg/hqdefault.jpg', 'description': '#海賊王 #1048話 #傳次郎 #路飛 \\n傳次郎：半年了...你知道我這半年怎麼過來的嗎？\\n\\n🎞️作業本頻道精選，好評更新中！\\n「高燃解說」海賊王每周漫畫解說：https://www.youtube.com/playlist?list=PLu-XhjQUoKECa5odQhsWZNJIDpy3DSlTT\\n「細思極恐」漫畫伏筆細節分析：https://www.youtube.com/playlist?list=PLu-XhjQUoKEDUzxw1r6va4YuIUJhO0kqt\\n「情報速遞」又快又準確的漫畫情報：https://www.youtube.com/playlist?list=PLu-XhjQUoKEDD49bzBq10optECwPi7xEv\\n\\n📫要找作業本一下？\\nWeChat（推薦）：zuoyeben42\\nEmail：zuoyebeen@qq.com', 'tag_list': ['海賊王', '1048話', '傳次郎', '路飛']}\n",
    "]\n"
   ]
  },
  {
   "cell_type": "code",
   "execution_count": 157,
   "id": "1483b5c7",
   "metadata": {},
   "outputs": [],
   "source": [
    "def youtube_data_cleaner(data_list):\n",
    "    content_data_list = []\n",
    "    for data in data_list:\n",
    "        content_data = {}\n",
    "        content_data[\"title\"] = data[\"title\"]\n",
    "        content_data[\"channel_id\"] = data[\"channel_id\"]\n",
    "        content_data[\"channel_url\"] = data[\"channel_url\"]\n",
    "        content_data[\"content_id\"] = data[\"video_id\"]\n",
    "        content_data[\"content_url\"] = data[\"video_url\"]\n",
    "        content_data[\"upload_at\"] = data[\"published\"]\n",
    "        content_data[\"img_link\"] = data[\"img_link\"]\n",
    "        content_data[\"description\"] = data[\"description\"]\n",
    "        content_data[\"tag_list\"] = data[\"tag_list\"]\n",
    "        \n",
    "        content_data_list.append(content_data)\n",
    "\n",
    "    return content_data_list"
   ]
  },
  {
   "cell_type": "code",
   "execution_count": 384,
   "id": "505af778",
   "metadata": {},
   "outputs": [],
   "source": [
    "def notion_property_value_maker(property_type, content):\n",
    "    switcher = {\n",
    "        \"Name\": {\n",
    "            \"title\": [\n",
    "                {\n",
    "                    \"type\": \"text\",\n",
    "                    \"text\": {\n",
    "                      \"content\": content\n",
    "                    }\n",
    "                }\n",
    "            ]\n",
    "        },\n",
    "        \"url\": {\n",
    "            \"url\": content\n",
    "        },\n",
    "        \"rich_text\": {\n",
    "            \"rich_text\": [\n",
    "                {\n",
    "                    \"type\": \"text\",\n",
    "                    \"text\": {\n",
    "                        \"content\": content\n",
    "                    }\n",
    "                },\n",
    "            ],\n",
    "        },\n",
    "        \"date\": {\n",
    "            \"date\": {\n",
    "                \"start\": content\n",
    "            }\n",
    "        },\n",
    "        \"multi_select\": {\n",
    "            \"multi_select\": [{\"name\": tag} for tag in content]\n",
    "        },\n",
    "        \"relation\": {\n",
    "            \"relation\": [\n",
    "                {\n",
    "                    \"id\": content\n",
    "                }\n",
    "            ]\n",
    "        }\n",
    "    }\n",
    "    \n",
    "    return switcher.get(property_type)\n",
    "\n",
    "def get_channel_relation_id(channel_id):\n",
    "    print(channel_id)\n",
    "    db_filter = {\n",
    "        \"property\": \"channel_id\",\n",
    "        \"rich_text\": {\n",
    "            \"equals\": channel_id\n",
    "        }\n",
    "    }\n",
    "    db_json = query_db(secret_token, channel_database_id, db_filter)    \n",
    "    channel_relation_id = db_json[\"results\"][0][\"id\"]\n",
    "    \n",
    "    return channel_relation_id\n",
    "    \n",
    "\n",
    "def make_db_data(database_id, data):\n",
    "    name = notion_property_value_maker(\"Name\", data[\"title\"])\n",
    "    content_url = notion_property_value_maker(\"url\", data[\"content_url\"])\n",
    "    content_id = notion_property_value_maker(\"rich_text\", data[\"content_id\"])\n",
    "    channel_url = notion_property_value_maker(\"url\", data[\"channel_url\"])\n",
    "    channel_id = notion_property_value_maker(\"rich_text\", data[\"channel_id\"])\n",
    "    img_link = notion_property_value_maker(\"url\", data[\"img_link\"])\n",
    "    upload_at = notion_property_value_maker(\"date\", data[\"upload_at\"])\n",
    "    description = notion_property_value_maker(\"rich_text\", data[\"description\"])\n",
    "    tag_list = notion_property_value_maker(\"multi_select\", data[\"tag_list\"])\n",
    "    channel_relation_id = get_channel_relation_id(data[\"channel_id\"])\n",
    "    channel_relation = notion_property_value_maker(\"relation\", channel_relation_id)\n",
    "    \n",
    "    print(channel_relation)\n",
    "    \n",
    "    children = [\n",
    "    {\n",
    "      \"object\": \"block\",\n",
    "      \"type\": \"paragraph\",\n",
    "      \"paragraph\": {\n",
    "        \"rich_text\": [{ \"type\": \"text\", \"text\": { \"content\": \"You made this page using the Notion API. Pretty cool, huh? We hope you enjoy building with us.\" } }]\n",
    "      }\n",
    "    }\n",
    "  ]\n",
    "\n",
    "    \n",
    "    payload = {\n",
    "        \"parent\": {\n",
    "            \"database_id\": database_id,\n",
    "        },\n",
    "        \"properties\": {\n",
    "            \"Name\": name,\n",
    "            \"content_url\": content_url,\n",
    "            \"content_id\": content_id,\n",
    "            \"channel_url\": channel_url,\n",
    "            \"channel_id\": channel_id,\n",
    "            \"img_link\": img_link,\n",
    "            \"upload_at\": upload_at,\n",
    "            \"description\": description,\n",
    "            \"tag_list\": tag_list,\n",
    "            \"channel_relation\": channel_relation,\n",
    "        }\n",
    "    }\n",
    "        \n",
    "    return payload"
   ]
  },
  {
   "cell_type": "code",
   "execution_count": 385,
   "id": "ae5cb7d8",
   "metadata": {},
   "outputs": [],
   "source": [
    "def write_content_data_list_to_db(content_data_list):\n",
    "    db_json = query_db(secret_token, content_database_id)\n",
    "    results = db_json[\"results\"]\n",
    "    exist_link_list = [result[\"properties\"][\"content_url\"][\"url\"] for result in results]\n",
    "    print(exist_link_list)\n",
    "    \n",
    "    for data in content_data_list:\n",
    "        if data[\"content_url\"] in exist_link_list:\n",
    "            print(\"exist!\")\n",
    "        else:\n",
    "            print(data[\"content_url\"])\n",
    "        \n",
    "            payload = make_db_data(content_database_id, data)    \n",
    "            url = \"https://api.notion.com/v1/pages\"\n",
    "            headers = {\n",
    "                \"Authorization\": \"Bearer \" + secret_token,\n",
    "                \"Accept\": \"application/json\",\n",
    "                \"Notion-Version\": \"2022-02-22\",\n",
    "                \"Content-Type\": \"application/json\"\n",
    "            }\n",
    "\n",
    "            response = requests.post(url, json=payload, headers=headers)\n",
    "            print(response.text)\n"
   ]
  },
  {
   "cell_type": "code",
   "execution_count": null,
   "id": "24e07340",
   "metadata": {},
   "outputs": [],
   "source": []
  },
  {
   "cell_type": "code",
   "execution_count": 416,
   "id": "130a19b3",
   "metadata": {},
   "outputs": [
    {
     "name": "stdout",
     "output_type": "stream",
     "text": [
      "{\"object\":\"block\",\"id\":\"d8382a3f-d25d-4da5-aeab-bee0e63e0554\",\"created_time\":\"2022-05-03T04:22:00.000Z\",\"last_edited_time\":\"2022-05-03T04:22:00.000Z\",\"created_by\":{\"object\":\"user\",\"id\":\"39319c39-2855-4053-a4c6-d4d8cb375555\"},\"last_edited_by\":{\"object\":\"user\",\"id\":\"39319c39-2855-4053-a4c6-d4d8cb375555\"},\"has_children\":false,\"archived\":false,\"type\":\"bookmark\",\"bookmark\":{\"caption\":[],\"url\":\"http://www.facebook.com/970003530373419\"}}\n"
     ]
    }
   ],
   "source": [
    "import requests\n",
    "\n",
    "# https://www.notion.so/youngtsai/b36e1ac5aa7643059b6de9b719c0b2e6#d8382a3fd25d4da5aeabbee0e63e0554\n",
    "\n",
    "url = \"https://api.notion.com/v1/blocks/d8382a3fd25d4da5aeabbee0e63e0554\"\n",
    "\n",
    "headers = {\n",
    "        \"Authorization\": \"Bearer \" + secret_token,\n",
    "        \"Accept\": \"application/json\",\n",
    "        \"Notion-Version\": \"2022-02-22\",\n",
    "        \"Content-Type\": \"application/json\"\n",
    "    }\n",
    "response = requests.get(url, headers=headers)\n",
    "\n",
    "print(response.text)"
   ]
  },
  {
   "cell_type": "code",
   "execution_count": null,
   "id": "8a806c9d",
   "metadata": {},
   "outputs": [],
   "source": []
  },
  {
   "cell_type": "code",
   "execution_count": null,
   "id": "e0cee628",
   "metadata": {},
   "outputs": [],
   "source": []
  },
  {
   "cell_type": "code",
   "execution_count": null,
   "id": "b7209836",
   "metadata": {},
   "outputs": [],
   "source": []
  }
 ],
 "metadata": {
  "kernelspec": {
   "display_name": "Python 3 (ipykernel)",
   "language": "python",
   "name": "python3"
  },
  "language_info": {
   "codemirror_mode": {
    "name": "ipython",
    "version": 3
   },
   "file_extension": ".py",
   "mimetype": "text/x-python",
   "name": "python",
   "nbconvert_exporter": "python",
   "pygments_lexer": "ipython3",
   "version": "3.8.9"
  }
 },
 "nbformat": 4,
 "nbformat_minor": 5
}
