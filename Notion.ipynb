{
 "cells": [
  {
   "cell_type": "code",
   "execution_count": null,
   "id": "de91149c",
   "metadata": {},
   "outputs": [],
   "source": [
    "頻道：https://www.notion.so/youngtsai/a6ab6e3b595d41edb1c465c1b6192c78?v=208dff5d9e0c430994d67acb5858664e\n",
    "爬蟲：https://www.notion.so/youngtsai/7892a7ac1c464232abd8f1c31dfb15f6?v=ef5a5864f69246b99dabad9d4752e08d"
   ]
  },
  {
   "cell_type": "code",
   "execution_count": 297,
   "id": "cae36e1b",
   "metadata": {},
   "outputs": [],
   "source": [
    "import requests\n",
    "import json\n",
    "import os\n",
    "\n",
    "# database_id = \"a6ab6e3b595d41edb1c465c1b6192c78\" \n",
    "# secret = \"secret_1JLORs3Og1S6bMvMNBcrLH0A9G1xHcLkDFJDepMT45i\"\n",
    "\n",
    "current_path = os.getcwd()\n",
    "notion_secret_name = \"notion_secret.json\"\n",
    "data_path = current_path + \"/\" + notion_secret_name\n",
    "file = open(data_path)\n",
    "file_dict = json.load(file)\n",
    "secret_token = file_dict[\"secret_token\"]\n",
    "channel_database_id = file_dict[\"chaneel_database_id\"]\n",
    "content_database_id = file_dict[\"content_database_id\"]\n"
   ]
  },
  {
   "cell_type": "code",
   "execution_count": 270,
   "id": "b6344d10",
   "metadata": {},
   "outputs": [],
   "source": [
    "def query_db(secret_token, database_id, db_filter=None):\n",
    "    url = f\"https://api.notion.com/v1/databases/{database_id}/query\"\n",
    "    payload = {\n",
    "        \"page_size\": 100\n",
    "    }\n",
    "    if db_filter:\n",
    "        payload[\"filter\"] = db_filter\n",
    "    \n",
    "    headers = {\n",
    "        \"Authorization\": \"Bearer \" + secret,\n",
    "        \"Accept\": \"application/json\",\n",
    "        \"Notion-Version\": \"2022-02-22\",\n",
    "        \"Content-Type\": \"application/json\"\n",
    "    }\n",
    "\n",
    "    response = requests.post(url, json=payload, headers=headers)\n",
    "    db_json = json.loads(response.text)\n",
    "    \n",
    "    return db_json\n",
    "\n"
   ]
  },
  {
   "cell_type": "code",
   "execution_count": 378,
   "id": "ef3f4382",
   "metadata": {},
   "outputs": [
    {
     "data": {
      "text/plain": [
       "{'object': 'page',\n",
       " 'id': '1fe868fe-9abc-4d3e-8021-d6a3248b4772',\n",
       " 'created_time': '2022-04-30T18:06:00.000Z',\n",
       " 'last_edited_time': '2022-04-30T18:08:00.000Z',\n",
       " 'created_by': {'object': 'user',\n",
       "  'id': 'c79034c0-4317-4445-be77-2068fe7adf24'},\n",
       " 'last_edited_by': {'object': 'user',\n",
       "  'id': '39319c39-2855-4053-a4c6-d4d8cb375555'},\n",
       " 'cover': {'type': 'external',\n",
       "  'external': {'url': 'https://i1.ytimg.com/vi/L7DD3RUqW50/hqdefault.jpg'}},\n",
       " 'icon': None,\n",
       " 'parent': {'type': 'database_id',\n",
       "  'database_id': '7892a7ac-1c46-4232-abd8-f1c31dfb15f6'},\n",
       " 'archived': False,\n",
       " 'properties': {'channel_relation': {'id': '%3EFj_',\n",
       "   'type': 'relation',\n",
       "   'relation': [{'id': '917c0dca-6bb3-47c5-a191-730fac885a5c'}]},\n",
       "  'subsciber': {'id': 'D%5B%3B~',\n",
       "   'type': 'rollup',\n",
       "   'rollup': {'type': 'array', 'array': [], 'function': 'show_original'}},\n",
       "  'content_url': {'id': 'FCt%5D',\n",
       "   'type': 'url',\n",
       "   'url': 'https://www.youtube.com/watch?v=L7DD3RUqW50'},\n",
       "  'tag_list': {'id': 'HzC%5E',\n",
       "   'type': 'multi_select',\n",
       "   'multi_select': [{'id': '4cbf95cb-26da-4a3a-9bee-0849cf85b182',\n",
       "     'name': '92',\n",
       "     'color': 'yellow'},\n",
       "    {'id': '3908c87c-d8cc-4fae-9eed-9b91efe40767',\n",
       "     'name': '走走家具',\n",
       "     'color': 'blue'}]},\n",
       "  'channel_id': {'id': 'LJ%3BO',\n",
       "   'type': 'rich_text',\n",
       "   'rich_text': [{'type': 'text',\n",
       "     'text': {'content': 'UCT3uWFvKLVpRnEealmRwvrw', 'link': None},\n",
       "     'annotations': {'bold': False,\n",
       "      'italic': False,\n",
       "      'strikethrough': False,\n",
       "      'underline': False,\n",
       "      'code': False,\n",
       "      'color': 'default'},\n",
       "     'plain_text': 'UCT3uWFvKLVpRnEealmRwvrw',\n",
       "     'href': None}]},\n",
       "  'content_id': {'id': 'PsaZ',\n",
       "   'type': 'rich_text',\n",
       "   'rich_text': [{'type': 'text',\n",
       "     'text': {'content': 'L7DD3RUqW50', 'link': None},\n",
       "     'annotations': {'bold': False,\n",
       "      'italic': False,\n",
       "      'strikethrough': False,\n",
       "      'underline': False,\n",
       "      'code': False,\n",
       "      'color': 'default'},\n",
       "     'plain_text': 'L7DD3RUqW50',\n",
       "     'href': None}]},\n",
       "  'description': {'id': 'Pti%7C',\n",
       "   'type': 'rich_text',\n",
       "   'rich_text': [{'type': 'text',\n",
       "     'text': {'content': 'Miula 極力推薦的 #走走家具 走走模組沙發 開團囉！\\n為各位爭取到了很划算的折扣，絕對市面最低價（現省 $7000 再送 $500 還有專屬好禮 ）\\nM觀點獨家團購▸ https://gogohome.co/miulabuy\\n---\\n本集主題 - 遊戲顯卡大降價 + 因子投資可行嗎？\\n---\\nM觀點資訊 \\n--- \\n科技巨頭解碼: https://bit.ly/3koflbU\\nM觀點 Telegram - https://t.me/miulaviewpoint\\nM觀點 IG - https://www.instagram.com/miulaviewpoint/\\nM觀點Podcast - https://bit.ly/34fV7so\\nM報: https://bit.ly/345gBbA\\nM觀點YouTube頻道訂閱 https://bit.ly/2nxHnp9\\nM觀點粉絲團 https://www.facebook.com/miulaperspective/\\n任何合作邀約請洽 miula@outlook.com',\n",
       "      'link': None},\n",
       "     'annotations': {'bold': False,\n",
       "      'italic': False,\n",
       "      'strikethrough': False,\n",
       "      'underline': False,\n",
       "      'code': False,\n",
       "      'color': 'default'},\n",
       "     'plain_text': 'Miula 極力推薦的 #走走家具 走走模組沙發 開團囉！\\n為各位爭取到了很划算的折扣，絕對市面最低價（現省 $7000 再送 $500 還有專屬好禮 ）\\nM觀點獨家團購▸ https://gogohome.co/miulabuy\\n---\\n本集主題 - 遊戲顯卡大降價 + 因子投資可行嗎？\\n---\\nM觀點資訊 \\n--- \\n科技巨頭解碼: https://bit.ly/3koflbU\\nM觀點 Telegram - https://t.me/miulaviewpoint\\nM觀點 IG - https://www.instagram.com/miulaviewpoint/\\nM觀點Podcast - https://bit.ly/34fV7so\\nM報: https://bit.ly/345gBbA\\nM觀點YouTube頻道訂閱 https://bit.ly/2nxHnp9\\nM觀點粉絲團 https://www.facebook.com/miulaperspective/\\n任何合作邀約請洽 miula@outlook.com',\n",
       "     'href': None}]},\n",
       "  'channel_kind': {'id': 'WaZb',\n",
       "   'type': 'rollup',\n",
       "   'rollup': {'type': 'array',\n",
       "    'array': [{'type': 'select',\n",
       "      'select': {'id': 'b187bba8-ed14-4243-8685-86fc174b9518',\n",
       "       'name': 'youtube',\n",
       "       'color': 'green'}}],\n",
       "    'function': 'show_original'}},\n",
       "  'channel_url': {'id': 'qRqj',\n",
       "   'type': 'url',\n",
       "   'url': 'https://www.youtube.com/channel/UCT3uWFvKLVpRnEealmRwvrw'},\n",
       "  'upload_at': {'id': 'ugYo',\n",
       "   'type': 'date',\n",
       "   'date': {'start': '2022-03-25', 'end': None, 'time_zone': None}},\n",
       "  'crawl date': {'id': '%7Bb%3D%7D',\n",
       "   'type': 'created_time',\n",
       "   'created_time': '2022-04-30T18:06:00.000Z'},\n",
       "  'img_link': {'id': '~q%60%5D',\n",
       "   'type': 'url',\n",
       "   'url': 'https://i1.ytimg.com/vi/L7DD3RUqW50/hqdefault.jpg'},\n",
       "  'Name': {'id': 'title',\n",
       "   'type': 'title',\n",
       "   'title': [{'type': 'text',\n",
       "     'text': {'content': '【投資好難】#92 遊戲顯卡大降價 + 因子投資可行嗎？', 'link': None},\n",
       "     'annotations': {'bold': False,\n",
       "      'italic': False,\n",
       "      'strikethrough': False,\n",
       "      'underline': False,\n",
       "      'code': False,\n",
       "      'color': 'default'},\n",
       "     'plain_text': '【投資好難】#92 遊戲顯卡大降價 + 因子投資可行嗎？',\n",
       "     'href': None}]}},\n",
       " 'url': 'https://www.notion.so/92-1fe868fe9abc4d3e8021d6a3248b4772'}"
      ]
     },
     "execution_count": 378,
     "metadata": {},
     "output_type": "execute_result"
    }
   ],
   "source": [
    "djson = query_db(secret_token, content_database_id, db_filter=None)\n",
    "djson[\"results\"][0]"
   ]
  },
  {
   "cell_type": "code",
   "execution_count": 154,
   "id": "1ef6534a",
   "metadata": {},
   "outputs": [],
   "source": [
    "def get_channel_list(db_json):\n",
    "    results_list = db_json[\"results\"]\n",
    "    channel_list = []\n",
    "    for result in results_list:\n",
    "        kind = result[\"properties\"][\"Kind\"][\"select\"][\"name\"]\n",
    "        url = result[\"properties\"][\"URL\"][\"url\"]\n",
    "        title = result[\"properties\"][\"Name\"][\"title\"][0][\"text\"][\"content\"]\n",
    "        subscribers = result[\"properties\"][\"subscriber\"][\"people\"]\n",
    "        channel_data_dict = {\n",
    "            \"kind\": kind,\n",
    "            \"url\": url,\n",
    "            \"title\": title,\n",
    "            \"subscribers\": subscribers\n",
    "        }\n",
    "        channel_list.append(channel_data_dict)\n",
    "    \n",
    "    return channel_list\n",
    "    \n",
    "    "
   ]
  },
  {
   "cell_type": "code",
   "execution_count": 392,
   "id": "2fbbd922",
   "metadata": {},
   "outputs": [
    {
     "data": {
      "text/plain": [
       "{'object': 'block',\n",
       " 'id': '452413b2-9188-4227-9564-66e45788164f',\n",
       " 'created_time': '2022-04-30T18:28:00.000Z',\n",
       " 'last_edited_time': '2022-04-30T18:28:00.000Z',\n",
       " 'created_by': {'object': 'user',\n",
       "  'id': '39319c39-2855-4053-a4c6-d4d8cb375555'},\n",
       " 'last_edited_by': {'object': 'user',\n",
       "  'id': '39319c39-2855-4053-a4c6-d4d8cb375555'},\n",
       " 'has_children': False,\n",
       " 'archived': False,\n",
       " 'type': 'video',\n",
       " 'video': {'caption': [],\n",
       "  'type': 'external',\n",
       "  'external': {'url': 'https://www.youtube.com/watch?v=L7DD3RUqW50'}}}"
      ]
     },
     "execution_count": 392,
     "metadata": {},
     "output_type": "execute_result"
    }
   ],
   "source": [
    "# https://www.notion.so/youngtsai/92-6910646c0d5849f9a68231f15868deb9#6c887aa7fda7481b8113c720b7a9a6db\n",
    "\n",
    "# 452413b291884227956466e45788164f\n",
    "\n",
    "block_id = \"452413b291884227956466e45788164f\"\n",
    "url = f\"https://api.notion.com/v1/blocks/{block_id}\"\n",
    "#     payload = {\n",
    "#         \"page_size\": 100\n",
    "#     }\n",
    "#     if db_filter:\n",
    "#         payload[\"filter\"] = db_filter\n",
    "    \n",
    "headers = {\n",
    "    \"Authorization\": \"Bearer \" + secret,\n",
    "    \"Accept\": \"application/json\",\n",
    "    \"Notion-Version\": \"2022-02-22\",\n",
    "    \"Content-Type\": \"application/json\"\n",
    "}\n",
    "\n",
    "response = requests.get(url, headers=headers)\n",
    "db_json = json.loads(response.text)\n",
    "\n",
    "db_json"
   ]
  },
  {
   "cell_type": "code",
   "execution_count": null,
   "id": "9e341729",
   "metadata": {},
   "outputs": [],
   "source": []
  },
  {
   "cell_type": "code",
   "execution_count": 277,
   "id": "18fd1d45",
   "metadata": {},
   "outputs": [
    {
     "data": {
      "text/plain": [
       "'9f643f18-3835-4314-b409-ccfaab218f60'"
      ]
     },
     "execution_count": 277,
     "metadata": {},
     "output_type": "execute_result"
    }
   ],
   "source": [
    "db_json = query_db(secret_token, content_database_id)\n",
    "# channel_list = get_channel_list(db_json)\n",
    "db_json[\"results\"][0][\"id\"]"
   ]
  },
  {
   "cell_type": "code",
   "execution_count": 156,
   "id": "4b0f2385",
   "metadata": {},
   "outputs": [],
   "source": [
    "data_list =[\n",
    "    {'channel_id': 'UCo4ie5g9_uat5pjWt2DgCKA', 'channel_url': 'https://www.youtube.com/channel/UCo4ie5g9_uat5pjWt2DgCKA', 'channel_name': '阿駿日常', 'video_id': 'W_1hfaFw_7c', 'video_url': 'https://www.youtube.com/watch?v=W_1hfaFw_7c', 'published': '2022-04-29', 'title': '跳舞吧！麥片~  #科學小實驗 #優質陪伴 #Shorts', 'img_link': 'https://i4.ytimg.com/vi/W_1hfaFw_7c/hqdefault.jpg', 'description': '------------------------------------------\\n【優質陪伴~今天玩什麼】\\n如果你也認同「陪孩子玩」很重要\\n歡迎加入FB社團，互相交流玩法跟心得哦~\\n社團連結： https://www.facebook.com/groups/playwhat0422\\n------------------------------------------\\n影片製作很費心力，如果喜歡影片，歡迎支持阿駿持續創作優質內容哦❤\\n【熱心贊助】\\nhttps://p.ecpay.com.tw/030C834', 'tag_list': ['科學小實驗', '優質陪伴', 'Shorts']},\n",
    "    {'channel_id': 'UC291LvruKOnyWPHDrL1U3yw', 'channel_url': 'https://www.youtube.com/channel/UC291LvruKOnyWPHDrL1U3yw', 'channel_name': '作業本', 'video_id': 'vBhO9LUaPQg', 'video_url': 'https://www.youtube.com/watch?v=vBhO9LUaPQg', 'published': '2022-04-30', 'title': '海賊王1048話情報來了！最後的赤鞘武士上線！傳次郎徹底終結黑炭大蛇？蛋糕島入侵者身份確認', 'img_link': 'https://i3.ytimg.com/vi/vBhO9LUaPQg/hqdefault.jpg', 'description': '#海賊王 #1048話 #傳次郎 #路飛 \\n傳次郎：半年了...你知道我這半年怎麼過來的嗎？\\n\\n🎞️作業本頻道精選，好評更新中！\\n「高燃解說」海賊王每周漫畫解說：https://www.youtube.com/playlist?list=PLu-XhjQUoKECa5odQhsWZNJIDpy3DSlTT\\n「細思極恐」漫畫伏筆細節分析：https://www.youtube.com/playlist?list=PLu-XhjQUoKEDUzxw1r6va4YuIUJhO0kqt\\n「情報速遞」又快又準確的漫畫情報：https://www.youtube.com/playlist?list=PLu-XhjQUoKEDD49bzBq10optECwPi7xEv\\n\\n📫要找作業本一下？\\nWeChat（推薦）：zuoyeben42\\nEmail：zuoyebeen@qq.com', 'tag_list': ['海賊王', '1048話', '傳次郎', '路飛']}\n",
    "]\n"
   ]
  },
  {
   "cell_type": "code",
   "execution_count": 157,
   "id": "f3fe573d",
   "metadata": {},
   "outputs": [],
   "source": [
    "def youtube_data_cleaner(data_list):\n",
    "    content_data_list = []\n",
    "    for data in data_list:\n",
    "        content_data = {}\n",
    "        content_data[\"title\"] = data[\"title\"]\n",
    "        content_data[\"channel_id\"] = data[\"channel_id\"]\n",
    "        content_data[\"channel_url\"] = data[\"channel_url\"]\n",
    "        content_data[\"content_id\"] = data[\"video_id\"]\n",
    "        content_data[\"content_url\"] = data[\"video_url\"]\n",
    "        content_data[\"upload_at\"] = data[\"published\"]\n",
    "        content_data[\"img_link\"] = data[\"img_link\"]\n",
    "        content_data[\"description\"] = data[\"description\"]\n",
    "        content_data[\"tag_list\"] = data[\"tag_list\"]\n",
    "        \n",
    "        content_data_list.append(content_data)\n",
    "\n",
    "    return content_data_list"
   ]
  },
  {
   "cell_type": "code",
   "execution_count": 384,
   "id": "4c7e9216",
   "metadata": {},
   "outputs": [],
   "source": [
    "def notion_property_value_maker(property_type, content):\n",
    "    switcher = {\n",
    "        \"Name\": {\n",
    "            \"title\": [\n",
    "                {\n",
    "                    \"type\": \"text\",\n",
    "                    \"text\": {\n",
    "                      \"content\": content\n",
    "                    }\n",
    "                }\n",
    "            ]\n",
    "        },\n",
    "        \"url\": {\n",
    "            \"url\": content\n",
    "        },\n",
    "        \"rich_text\": {\n",
    "            \"rich_text\": [\n",
    "                {\n",
    "                    \"type\": \"text\",\n",
    "                    \"text\": {\n",
    "                        \"content\": content\n",
    "                    }\n",
    "                },\n",
    "            ],\n",
    "        },\n",
    "        \"date\": {\n",
    "            \"date\": {\n",
    "                \"start\": content\n",
    "            }\n",
    "        },\n",
    "        \"multi_select\": {\n",
    "            \"multi_select\": [{\"name\": tag} for tag in content]\n",
    "        },\n",
    "        \"relation\": {\n",
    "            \"relation\": [\n",
    "                {\n",
    "                    \"id\": content\n",
    "                }\n",
    "            ]\n",
    "        }\n",
    "    }\n",
    "    \n",
    "    return switcher.get(property_type)\n",
    "\n",
    "def get_channel_relation_id(channel_id):\n",
    "    print(channel_id)\n",
    "    db_filter = {\n",
    "        \"property\": \"channel_id\",\n",
    "        \"rich_text\": {\n",
    "            \"equals\": channel_id\n",
    "        }\n",
    "    }\n",
    "    db_json = query_db(secret_token, channel_database_id, db_filter)    \n",
    "    channel_relation_id = db_json[\"results\"][0][\"id\"]\n",
    "    \n",
    "    return channel_relation_id\n",
    "    \n",
    "\n",
    "def make_db_data(database_id, data):\n",
    "    name = notion_property_value_maker(\"Name\", data[\"title\"])\n",
    "    content_url = notion_property_value_maker(\"url\", data[\"content_url\"])\n",
    "    content_id = notion_property_value_maker(\"rich_text\", data[\"content_id\"])\n",
    "    channel_url = notion_property_value_maker(\"url\", data[\"channel_url\"])\n",
    "    channel_id = notion_property_value_maker(\"rich_text\", data[\"channel_id\"])\n",
    "    img_link = notion_property_value_maker(\"url\", data[\"img_link\"])\n",
    "    upload_at = notion_property_value_maker(\"date\", data[\"upload_at\"])\n",
    "    description = notion_property_value_maker(\"rich_text\", data[\"description\"])\n",
    "    tag_list = notion_property_value_maker(\"multi_select\", data[\"tag_list\"])\n",
    "    channel_relation_id = get_channel_relation_id(data[\"channel_id\"])\n",
    "    channel_relation = notion_property_value_maker(\"relation\", channel_relation_id)\n",
    "    \n",
    "    print(channel_relation)\n",
    "    \n",
    "    children = [\n",
    "    {\n",
    "      \"object\": \"block\",\n",
    "      \"type\": \"paragraph\",\n",
    "      \"paragraph\": {\n",
    "        \"rich_text\": [{ \"type\": \"text\", \"text\": { \"content\": \"You made this page using the Notion API. Pretty cool, huh? We hope you enjoy building with us.\" } }]\n",
    "      }\n",
    "    }\n",
    "  ]\n",
    "\n",
    "    \n",
    "    payload = {\n",
    "        \"parent\": {\n",
    "            \"database_id\": database_id,\n",
    "        },\n",
    "        \"properties\": {\n",
    "            \"Name\": name,\n",
    "            \"content_url\": content_url,\n",
    "            \"content_id\": content_id,\n",
    "            \"channel_url\": channel_url,\n",
    "            \"channel_id\": channel_id,\n",
    "            \"img_link\": img_link,\n",
    "            \"upload_at\": upload_at,\n",
    "            \"description\": description,\n",
    "            \"tag_list\": tag_list,\n",
    "            \"channel_relation\": channel_relation,\n",
    "        }\n",
    "    }\n",
    "        \n",
    "    return payload"
   ]
  },
  {
   "cell_type": "code",
   "execution_count": 385,
   "id": "cbfc1fbf",
   "metadata": {},
   "outputs": [],
   "source": [
    "def write_content_data_list_to_db(content_data_list):\n",
    "    db_json = query_db(secret_token, content_database_id)\n",
    "    results = db_json[\"results\"]\n",
    "    exist_link_list = [result[\"properties\"][\"content_url\"][\"url\"] for result in results]\n",
    "    print(exist_link_list)\n",
    "    \n",
    "    for data in content_data_list:\n",
    "        if data[\"content_url\"] in exist_link_list:\n",
    "            print(\"exist!\")\n",
    "        else:\n",
    "            print(data[\"content_url\"])\n",
    "        \n",
    "            payload = make_db_data(content_database_id, data)    \n",
    "            url = \"https://api.notion.com/v1/pages\"\n",
    "            headers = {\n",
    "                \"Authorization\": \"Bearer \" + secret_token,\n",
    "                \"Accept\": \"application/json\",\n",
    "                \"Notion-Version\": \"2022-02-22\",\n",
    "                \"Content-Type\": \"application/json\"\n",
    "            }\n",
    "\n",
    "            response = requests.post(url, json=payload, headers=headers)\n",
    "            print(response.text)\n"
   ]
  },
  {
   "cell_type": "code",
   "execution_count": 387,
   "id": "82451dbc",
   "metadata": {},
   "outputs": [
    {
     "name": "stdout",
     "output_type": "stream",
     "text": [
      "['https://www.youtube.com/watch?v=2q9NFN8NIn8', 'https://www.youtube.com/watch?v=pJFukzF73kI', 'https://www.youtube.com/watch?v=SVLHc2jsH28', 'https://www.youtube.com/watch?v=EM36dAGsnf0', 'https://www.youtube.com/watch?v=Mp0aATJTv0M', 'https://www.youtube.com/watch?v=R5V8WCVRlFY', 'https://www.youtube.com/watch?v=760yOXDkFzo', 'https://www.youtube.com/watch?v=0OMZrdU5KoA', 'https://www.youtube.com/watch?v=3JRLp6IvJ78', 'https://www.youtube.com/watch?v=kkY3SL6RZNA', 'https://www.youtube.com/watch?v=Vxn1uPLT_KQ', 'https://www.youtube.com/watch?v=PfYvvS8F3OQ', 'https://www.youtube.com/watch?v=bNjgF_pBFNk', 'https://www.youtube.com/watch?v=cDDbMD56LeY', 'https://www.youtube.com/watch?v=F83eFZIZ_Rg', 'https://www.youtube.com/watch?v=9GJzorONiiA', 'https://www.youtube.com/watch?v=HzoVq2W-kmI', 'https://www.youtube.com/watch?v=s4_W6z8vSSU', 'https://www.youtube.com/watch?v=p-zfPRUocBA', 'https://www.youtube.com/watch?v=F83eFZIZ_Rg', 'https://www.youtube.com/watch?v=X087V9FKIU4', 'https://www.youtube.com/watch?v=9GJzorONiiA', 'https://www.youtube.com/watch?v=HzoVq2W-kmI', 'https://www.youtube.com/watch?v=GIfJEXP9k5s', 'https://www.youtube.com/watch?v=s4_W6z8vSSU', 'https://www.youtube.com/watch?v=p-zfPRUocBA', 'https://www.youtube.com/watch?v=NX1quiDNsDk', 'https://www.youtube.com/watch?v=kT7J0hQGIzI', 'https://www.youtube.com/watch?v=X087V9FKIU4', 'https://www.youtube.com/watch?v=SlZwx0Dr8Gg', 'https://www.youtube.com/watch?v=GIfJEXP9k5s', 'https://www.youtube.com/watch?v=DKGrg_crvSI', 'https://www.youtube.com/watch?v=NX1quiDNsDk', 'https://www.youtube.com/watch?v=kT7J0hQGIzI', 'https://www.youtube.com/watch?v=v49L_-o2zI8', 'https://www.youtube.com/watch?v=SlZwx0Dr8Gg', 'https://www.youtube.com/watch?v=DKGrg_crvSI', 'https://www.youtube.com/watch?v=8fYHkYDg6z0', 'https://www.youtube.com/watch?v=v49L_-o2zI8', 'https://www.youtube.com/watch?v=yo43NmKaUHA', 'https://www.youtube.com/watch?v=8fYHkYDg6z0', 'https://www.youtube.com/watch?v=yo43NmKaUHA', 'https://www.youtube.com/watch?v=vBhO9LUaPQg', 'https://www.youtube.com/watch?v=2q9NFN8NIn8', 'https://www.youtube.com/watch?v=pJFukzF73kI', 'https://www.youtube.com/watch?v=vBhO9LUaPQg', 'https://www.youtube.com/watch?v=SVLHc2jsH28', 'https://www.youtube.com/watch?v=EM36dAGsnf0', 'https://www.youtube.com/watch?v=rL2rqmWtAeM', 'https://www.youtube.com/watch?v=Mp0aATJTv0M', 'https://www.youtube.com/watch?v=R5V8WCVRlFY', 'https://www.youtube.com/watch?v=760yOXDkFzo', 'https://www.youtube.com/watch?v=0OMZrdU5KoA', 'https://www.youtube.com/watch?v=3JRLp6IvJ78', 'https://www.youtube.com/watch?v=h5-8VyRFnic', 'https://www.youtube.com/watch?v=vyxm-sxDHuk', 'https://www.youtube.com/watch?v=kkY3SL6RZNA', 'https://www.youtube.com/watch?v=pqxjQLa-OT8', 'https://www.youtube.com/watch?v=Vxn1uPLT_KQ', 'https://www.youtube.com/watch?v=PfYvvS8F3OQ', 'https://www.youtube.com/watch?v=bNjgF_pBFNk', 'https://www.youtube.com/watch?v=jtkgrGu_eEA', 'https://www.youtube.com/watch?v=cDDbMD56LeY', 'https://www.youtube.com/watch?v=rL2rqmWtAeM', 'https://www.youtube.com/watch?v=2wtc91WGZA4', 'https://www.youtube.com/watch?v=h5-8VyRFnic', 'https://www.youtube.com/watch?v=b4wG225hL-c', 'https://www.youtube.com/watch?v=vyxm-sxDHuk', 'https://www.youtube.com/watch?v=7WInsZiK9Ng', 'https://www.youtube.com/watch?v=pqxjQLa-OT8', 'https://www.youtube.com/watch?v=jtkgrGu_eEA', 'https://www.youtube.com/watch?v=xWudzp46oNM', 'https://www.youtube.com/watch?v=2wtc91WGZA4', 'https://www.youtube.com/watch?v=b4wG225hL-c', 'https://www.youtube.com/watch?v=7WInsZiK9Ng', 'https://www.youtube.com/watch?v=gTZcG_hLN8s', 'https://www.youtube.com/watch?v=xWudzp46oNM', 'https://www.youtube.com/watch?v=gTZcG_hLN8s', 'https://www.youtube.com/watch?v=iHZWEPJKFhM', 'https://www.youtube.com/watch?v=iHZWEPJKFhM', 'https://www.youtube.com/watch?v=T8KOMpPGjSI', 'https://www.youtube.com/watch?v=T8KOMpPGjSI', 'https://www.youtube.com/watch?v=nh0ffF8uN4c', 'https://www.youtube.com/watch?v=nh0ffF8uN4c', 'https://www.youtube.com/watch?v=prNh9JHGUiA', 'https://www.youtube.com/watch?v=prNh9JHGUiA', 'https://www.youtube.com/watch?v=W_1hfaFw_7c', 'https://www.youtube.com/watch?v=W_1hfaFw_7c']\n",
      "exist!\n",
      "exist!\n"
     ]
    }
   ],
   "source": [
    "content_data_list = youtube_data_cleaner(data_list)\n",
    "write_content_data_list_to_db(content_data_list)"
   ]
  },
  {
   "cell_type": "code",
   "execution_count": 141,
   "id": "318e78b0",
   "metadata": {},
   "outputs": [
    {
     "data": {
      "text/plain": [
       "[{'channel_id': 'UCo4ie5g9_uat5pjWt2DgCKA',\n",
       "  'channel_url': 'https://www.youtube.com/channel/UCo4ie5g9_uat5pjWt2DgCKA',\n",
       "  'channel_name': '阿駿日常',\n",
       "  'video_id': 'W_1hfaFw_7c',\n",
       "  'video_url': 'https://www.youtube.com/watch?v=W_1hfaFw_7c',\n",
       "  'published': '2022-04-29',\n",
       "  'title': '跳舞吧！麥片~  #科學小實驗 #優質陪伴 #Shorts',\n",
       "  'img_link': 'https://i4.ytimg.com/vi/W_1hfaFw_7c/hqdefault.jpg',\n",
       "  'description': '------------------------------------------\\n【優質陪伴~今天玩什麼】\\n如果你也認同「陪孩子玩」很重要\\n歡迎加入FB社團，互相交流玩法跟心得哦~\\n社團連結： https://www.facebook.com/groups/playwhat0422\\n------------------------------------------\\n影片製作很費心力，如果喜歡影片，歡迎支持阿駿持續創作優質內容哦❤\\n【熱心贊助】\\nhttps://p.ecpay.com.tw/030C834',\n",
       "  'tag_list': ['科學小實驗', '優質陪伴', 'Shorts']}]"
      ]
     },
     "execution_count": 141,
     "metadata": {},
     "output_type": "execute_result"
    }
   ],
   "source": [
    "data_list"
   ]
  },
  {
   "cell_type": "code",
   "execution_count": 150,
   "id": "857cda7a",
   "metadata": {},
   "outputs": [
    {
     "name": "stdout",
     "output_type": "stream",
     "text": [
      "[{'title': '跳舞吧！麥片~  #科學小實驗 #優質陪伴 #Shorts', 'channel_id': 'UCo4ie5g9_uat5pjWt2DgCKA', 'channel_url': 'https://www.youtube.com/channel/UCo4ie5g9_uat5pjWt2DgCKA', 'content_id': 'W_1hfaFw_7c', 'content_url': 'https://www.youtube.com/watch?v=W_1hfaFw_7c', 'upload_at': '2022-04-29', 'img_link': 'https://i4.ytimg.com/vi/W_1hfaFw_7c/hqdefault.jpg', 'description': '------------------------------------------\\n【優質陪伴~今天玩什麼】\\n如果你也認同「陪孩子玩」很重要\\n歡迎加入FB社團，互相交流玩法跟心得哦~\\n社團連結： https://www.facebook.com/groups/playwhat0422\\n------------------------------------------\\n影片製作很費心力，如果喜歡影片，歡迎支持阿駿持續創作優質內容哦❤\\n【熱心贊助】\\nhttps://p.ecpay.com.tw/030C834', 'tag_list': ['科學小實驗', '優質陪伴', 'Shorts']}]\n"
     ]
    }
   ],
   "source": []
  },
  {
   "cell_type": "code",
   "execution_count": 140,
   "id": "fb0dc6a9",
   "metadata": {},
   "outputs": [
    {
     "ename": "TypeError",
     "evalue": "'NoneType' object is not subscriptable",
     "output_type": "error",
     "traceback": [
      "\u001b[0;31m---------------------------------------------------------------------------\u001b[0m",
      "\u001b[0;31mTypeError\u001b[0m                                 Traceback (most recent call last)",
      "Input \u001b[0;32mIn [140]\u001b[0m, in \u001b[0;36m<cell line: 1>\u001b[0;34m()\u001b[0m\n\u001b[0;32m----> 1\u001b[0m results \u001b[38;5;241m=\u001b[39m \u001b[43mdb_json\u001b[49m\u001b[43m[\u001b[49m\u001b[38;5;124;43m\"\u001b[39;49m\u001b[38;5;124;43mresults\u001b[39;49m\u001b[38;5;124;43m\"\u001b[39;49m\u001b[43m]\u001b[49m\n\u001b[1;32m      2\u001b[0m url_list \u001b[38;5;241m=\u001b[39m [result[\u001b[38;5;124m\"\u001b[39m\u001b[38;5;124mproperties\u001b[39m\u001b[38;5;124m\"\u001b[39m][\u001b[38;5;124m\"\u001b[39m\u001b[38;5;124mcontent_url\u001b[39m\u001b[38;5;124m\"\u001b[39m][\u001b[38;5;124m\"\u001b[39m\u001b[38;5;124murl\u001b[39m\u001b[38;5;124m\"\u001b[39m] \u001b[38;5;28;01mfor\u001b[39;00m result \u001b[38;5;129;01min\u001b[39;00m results]\n\u001b[1;32m      3\u001b[0m url_list\n",
      "\u001b[0;31mTypeError\u001b[0m: 'NoneType' object is not subscriptable"
     ]
    }
   ],
   "source": [
    "results = db_json[\"results\"]\n",
    "url_list = [result[\"properties\"][\"content_url\"][\"url\"] for result in results]\n",
    "url_list\n",
    "\n"
   ]
  },
  {
   "cell_type": "code",
   "execution_count": 109,
   "id": "0f843d9d",
   "metadata": {},
   "outputs": [
    {
     "data": {
      "text/plain": [
       "['https://www.youtube.com/channel/UCT3uWFvKLVpRnEealmRwvrw',\n",
       " 'https://www.youtube.com/channel/UCo4ie5g9_uat5pjWt2DgCKA',\n",
       " 'https://www.youtube.com/channel/UC291LvruKOnyWPHDrL1U3yw']"
      ]
     },
     "execution_count": 109,
     "metadata": {},
     "output_type": "execute_result"
    }
   ],
   "source": [
    "to_crawl_url_list =  [channel[\"url\"] for channel in channel_list if channel[\"kind\"]==\"youtube\"]\n",
    "to_crawl_url_list"
   ]
  },
  {
   "cell_type": "code",
   "execution_count": null,
   "id": "d0e2d482",
   "metadata": {},
   "outputs": [],
   "source": []
  }
 ],
 "metadata": {
  "kernelspec": {
   "display_name": "Python 3 (ipykernel)",
   "language": "python",
   "name": "python3"
  },
  "language_info": {
   "codemirror_mode": {
    "name": "ipython",
    "version": 3
   },
   "file_extension": ".py",
   "mimetype": "text/x-python",
   "name": "python",
   "nbconvert_exporter": "python",
   "pygments_lexer": "ipython3",
   "version": "3.8.9"
  }
 },
 "nbformat": 4,
 "nbformat_minor": 5
}
