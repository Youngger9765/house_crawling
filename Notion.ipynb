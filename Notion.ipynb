{
 "cells": [
  {
   "cell_type": "code",
   "execution_count": null,
   "id": "de91149c",
   "metadata": {},
   "outputs": [],
   "source": [
    "頻道：https://www.notion.so/youngtsai/a6ab6e3b595d41edb1c465c1b6192c78?v=208dff5d9e0c430994d67acb5858664e\n",
    "爬蟲：https://www.notion.so/youngtsai/7892a7ac1c464232abd8f1c31dfb15f6?v=ef5a5864f69246b99dabad9d4752e08d"
   ]
  },
  {
   "cell_type": "code",
   "execution_count": 100,
   "id": "542a0355",
   "metadata": {},
   "outputs": [],
   "source": [
    "import requests\n",
    "import json\n",
    "import os\n",
    "\n",
    "# database_id = \"a6ab6e3b595d41edb1c465c1b6192c78\" \n",
    "# secret = \"secret_1JLORs3Og1S6bMvMNBcrLH0A9G1xHcLkDFJDepMT45i\"\n",
    "\n",
    "current_path = os.getcwd()\n",
    "notion_secret_name = \"notion_secret.json\"\n",
    "data_path = current_path + \"/\" + notion_secret_name\n",
    "file = open(data_path)\n",
    "file_dict = json.load(file)\n",
    "secret_token = file_dict[\"secret_token\"]\n",
    "chaneel_database_id = file_dict[\"chaneel_database_id\"]"
   ]
  },
  {
   "cell_type": "code",
   "execution_count": 101,
   "id": "b6344d10",
   "metadata": {},
   "outputs": [],
   "source": [
    "def query_db(secret_token, database_id):\n",
    "    url = f\"https://api.notion.com/v1/databases/{database_id}/query\"\n",
    "    payload = {\"page_size\": 100}\n",
    "    headers = {\n",
    "        \"Authorization\": \"Bearer \" + secret,\n",
    "        \"Accept\": \"application/json\",\n",
    "        \"Notion-Version\": \"2022-02-22\",\n",
    "        \"Content-Type\": \"application/json\"\n",
    "    }\n",
    "\n",
    "    response = requests.post(url, json=payload, headers=headers)\n",
    "    db_json = json.loads(response.text)\n",
    "    \n",
    "    return db_json\n",
    "\n"
   ]
  },
  {
   "cell_type": "code",
   "execution_count": 102,
   "id": "1ef6534a",
   "metadata": {},
   "outputs": [],
   "source": [
    "def get_channel_list(db_json):\n",
    "    results_list = db_json[\"results\"]\n",
    "    channel_list = []\n",
    "    for result in results_list:\n",
    "        kind = result[\"properties\"][\"Kind\"][\"select\"][\"name\"]\n",
    "        url = result[\"properties\"][\"URL\"][\"url\"]\n",
    "        title = result[\"properties\"][\"Name\"][\"title\"][0][\"text\"][\"content\"]\n",
    "        subscribers = result[\"properties\"][\"subscriber\"][\"people\"]\n",
    "        channel_data_dict = {\n",
    "            \"kind\": kind,\n",
    "            \"url\": url,\n",
    "            \"title\": title,\n",
    "            \"subscribers\": subscribers\n",
    "        }\n",
    "        channel_list.append(channel_data_dict)\n",
    "    \n",
    "    return channel_list\n",
    "    \n",
    "    "
   ]
  },
  {
   "cell_type": "code",
   "execution_count": 103,
   "id": "252cff62",
   "metadata": {},
   "outputs": [],
   "source": [
    "db_json = query_db(secret_token, chaneel_database_id)\n",
    "channel_list = get_channel_list(db_json)"
   ]
  },
  {
   "cell_type": "code",
   "execution_count": 104,
   "id": "c9a65e49",
   "metadata": {},
   "outputs": [
    {
     "data": {
      "text/plain": [
       "[{'kind': 'youtube',\n",
       "  'url': 'https://www.youtube.com/channel/UCT3uWFvKLVpRnEealmRwvrw',\n",
       "  'title': 'M觀點',\n",
       "  'subscribers': []},\n",
       " {'kind': 'youtube',\n",
       "  'url': 'https://www.youtube.com/channel/UCo4ie5g9_uat5pjWt2DgCKA',\n",
       "  'title': '阿駿日常',\n",
       "  'subscribers': [{'object': 'user',\n",
       "    'id': '39319c39-2855-4053-a4c6-d4d8cb375555',\n",
       "    'name': 'Young Tsai',\n",
       "    'avatar_url': None,\n",
       "    'type': 'person',\n",
       "    'person': {'email': 'purpleice9765@msn.com'}}]},\n",
       " {'kind': 'youtube',\n",
       "  'url': 'https://www.youtube.com/channel/UC291LvruKOnyWPHDrL1U3yw',\n",
       "  'title': '作業本',\n",
       "  'subscribers': [{'object': 'user',\n",
       "    'id': '5383e642-0cc7-4eb1-872b-4e9bc3f45d2f',\n",
       "    'name': '蔡子揚',\n",
       "    'avatar_url': 'https://lh3.googleusercontent.com/-Lv8PW2yXG-w/AAAAAAAAAAI/AAAAAAAAAAs/IF42ou8u2JI/photo.jpg?sz=50',\n",
       "    'type': 'person',\n",
       "    'person': {'email': 'youngtsai@junyiacademy.org'}},\n",
       "   {'object': 'user',\n",
       "    'id': '39319c39-2855-4053-a4c6-d4d8cb375555',\n",
       "    'name': 'Young Tsai',\n",
       "    'avatar_url': None,\n",
       "    'type': 'person',\n",
       "    'person': {'email': 'purpleice9765@msn.com'}}]}]"
      ]
     },
     "execution_count": 104,
     "metadata": {},
     "output_type": "execute_result"
    }
   ],
   "source": [
    "channel_list"
   ]
  },
  {
   "cell_type": "code",
   "execution_count": 48,
   "id": "c2aeb05b",
   "metadata": {},
   "outputs": [
    {
     "data": {
      "text/plain": [
       "'M觀點'"
      ]
     },
     "execution_count": 48,
     "metadata": {},
     "output_type": "execute_result"
    }
   ],
   "source": [
    "results_list[0][\"properties\"][\"Name\"][\"title\"][0][\"text\"][\"content\"]"
   ]
  },
  {
   "cell_type": "code",
   "execution_count": null,
   "id": "55e5504d",
   "metadata": {},
   "outputs": [],
   "source": []
  }
 ],
 "metadata": {
  "kernelspec": {
   "display_name": "Python 3 (ipykernel)",
   "language": "python",
   "name": "python3"
  },
  "language_info": {
   "codemirror_mode": {
    "name": "ipython",
    "version": 3
   },
   "file_extension": ".py",
   "mimetype": "text/x-python",
   "name": "python",
   "nbconvert_exporter": "python",
   "pygments_lexer": "ipython3",
   "version": "3.8.9"
  }
 },
 "nbformat": 4,
 "nbformat_minor": 5
}
