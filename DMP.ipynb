{
 "cells": [
  {
   "cell_type": "code",
   "execution_count": 195,
   "id": "4685ce81",
   "metadata": {},
   "outputs": [],
   "source": [
    "import requests\n",
    "from util.gsheet_worker import GsheetWorker\n",
    "import re\n",
    "from datetime import datetime, date, time, timezone, timedelta\n",
    "from util.notification import LineWorker\n",
    "import math"
   ]
  },
  {
   "cell_type": "code",
   "execution_count": 182,
   "id": "f076f9aa",
   "metadata": {},
   "outputs": [],
   "source": [
    "# 先抓到全部的時間\n",
    "# 抓出要通知的時間，get row\n",
    "# 抓出未取消的\n",
    "# 定義是否通知 [一天前、今天、三小時內]\n",
    "# 抓出要通知的人，跟內容\n",
    "# 送出通知"
   ]
  },
  {
   "cell_type": "code",
   "execution_count": 265,
   "id": "043bb2c8",
   "metadata": {},
   "outputs": [],
   "source": [
    "class DMP_schedule_worker:\n",
    "    def __init__(self):\n",
    "        self.tz = timezone(timedelta(hours=8))\n",
    "        self.sheet_key = '1zmsEScm3fyDSPo0RgRsgsHsjIWAtmHgDp8nHJUP0ZNQ'\n",
    "        self.appointments_tab_name = 'appointments'\n",
    "        self.name_line_token_map = \"name_line_token_map\"\n",
    "        self.g_worker = GsheetWorker(self.sheet_key)\n",
    "        self.appointments_sheet = self.g_worker.get_sheet(self.sheet_key).worksheet(self.appointments_tab_name)\n",
    "        self.name_line_token_map_sheet = self.g_worker.get_sheet(self.sheet_key).worksheet(self.name_line_token_map)\n",
    "        self.schedule_datetime_col_index = 7\n",
    "    \n",
    "    def get_dt(self, datetime_text):\n",
    "        datetime_patern = r\"(.*) 年 (.*) 月 (.*) 日 (pm|am) (.*):(.*)\"\n",
    "#         datetime_text = '2022 年 6 月 23 日 pm 8:30'\n",
    "        datetime_tuple_list = re.findall(datetime_patern, datetime_text)[0]\n",
    "        year = int(datetime_tuple_list[0])\n",
    "        month = int(datetime_tuple_list[1])\n",
    "        day = int(datetime_tuple_list[2])\n",
    "        am_pm = datetime_tuple_list[3]\n",
    "        hour = int(datetime_tuple_list[4]) + 12 if am_pm == \"pm\" else int(datetime_tuple_list[4])\n",
    "        minute = int(datetime_tuple_list[5])\n",
    "        d = date(year, month, day)\n",
    "        t = time(hour, minute)\n",
    "        dt = datetime.combine(d, t, tzinfo=self.tz)\n",
    "        \n",
    "        return dt\n",
    "    \n",
    "    def get_schedule_datetime_list(self):\n",
    "        appointments_sheet = self.appointments_sheet\n",
    "        schedule_datetime_list = appointments_sheet.col_values(self.schedule_datetime_col_index)\n",
    "        \n",
    "        dt_list = []\n",
    "        for dt_text in schedule_datetime_list:\n",
    "            if dt_text == 'Start Time':\n",
    "                dt_list.append('')\n",
    "            else:\n",
    "                dt = self.get_dt(dt_text)\n",
    "                dt_list.append(dt)\n",
    "            \n",
    "        return dt_list\n",
    "    \n",
    "    def get_alive_row_index_list(self, schedule_datetime_list):\n",
    "        now = datetime.now(tz=self.tz)\n",
    "        available_row_index_list = []\n",
    "        for i, v in enumerate(schedule_datetime_list):\n",
    "            if v == '':\n",
    "                continue\n",
    "            elif v > now:\n",
    "                available_row_index_list.append(i+1)\n",
    "                \n",
    "        return available_row_index_list\n",
    "        \n",
    "    def get_row_values(self, row_index):\n",
    "        appointments_sheet = self.appointments_sheet\n",
    "        return appointments_sheet.row_values(row_index)\n",
    "    \n",
    "    def get_line_token_by_name(self, name):\n",
    "        line_token = \"\"\n",
    "        name_line_token_map_sheet = self.name_line_token_map_sheet\n",
    "        name_list = name_line_token_map_sheet.col_values(2)\n",
    "        for i, v in enumerate(name_list):\n",
    "            if v == name:\n",
    "                line_token = name_line_token_map_sheet.row_values(i+1)[2]\n",
    "        \n",
    "        return line_token\n",
    "    \n",
    "    def handle_scheduler_by_row_value(self, row_value):\n",
    "        customer_name = row_value[1]\n",
    "        employee_name = row_value[4]\n",
    "        service = row_value[5]\n",
    "        start_time = row_value[6]\n",
    "        request_content = row_value[15]\n",
    "\n",
    "        start_time_dt = self.get_dt(start_time)\n",
    "        now = datetime.now(tz=self.tz)\n",
    "        dt_diff_hours = math.ceil((start_time_dt - now).seconds/3600)\n",
    "        \n",
    "        print(dt_diff_hours)\n",
    "\n",
    "        # 一天前提醒\n",
    "        # if dt_diff_days >= 1 and dt_diff_days < 2:\n",
    "        #     for name in [customer_name, employee_name]:\n",
    "        #         try:\n",
    "        #             msg = f\"Hi {name}， \\n\"\n",
    "        #             msg += \"這裡是 Dream More 小幫手 \\n\"\n",
    "        #             msg += \"預約上課提醒，建議設定鬧鈴及行事曆 \\n\"\n",
    "        #             msg += \"\\n\"\n",
    "        #             msg += f\"課堂： {service} \\n\"\n",
    "        #             msg += f\"時間： {start_time} \\n\"\n",
    "        #             msg += f\"需求： {request_content} \\n\"\n",
    "        #             msg += f\"Mentor: {employee_name} \\n\"\n",
    "        #             msg += f\"Mentee: {customer_name} \\n\"\n",
    "        #             self.send_line_notification(name, msg) \n",
    "        #         except:\n",
    "        #             pass\n",
    "\n",
    "        # 六小時內提醒\n",
    "        if dt_diff_hours == 6:\n",
    "            for name in [customer_name, employee_name]:\n",
    "                try:\n",
    "                    msg = f\"Hi {name}， \\n\"\n",
    "                    msg += \"這裡是 Dream More 小幫手 \\n\"\n",
    "                    msg += \"今天上課提醒，建議設定鬧鈴及行事曆，並準時進入教室，感謝你的配合 \\n\"\n",
    "                    msg += \"\\n\"\n",
    "                    msg += f\"課堂： {service} \\n\"\n",
    "                    msg += f\"時間： {start_time} \\n\"\n",
    "                    msg += f\"需求： {request_content} \\n\"\n",
    "                    msg += f\"Mentor: {employee_name} \\n\"\n",
    "                    msg += f\"Mentee: {customer_name} \\n\"\n",
    "                    self.send_line_notification(name, msg)\n",
    "                except:\n",
    "                    pass\n",
    "        \n",
    "    def send_line_notification(self, name, msg):\n",
    "        line_notify_token = self.get_line_token_by_name(name)\n",
    "        line_worker = LineWorker(line_notify_token)\n",
    "        line_worker.send_notification(msg)"
   ]
  },
  {
   "cell_type": "code",
   "execution_count": null,
   "id": "f9235d09",
   "metadata": {},
   "outputs": [],
   "source": [
    "worker = DMP_schedule_worker()\n",
    "schedule_datetime_list = worker.get_schedule_datetime_list()\n",
    "available_row_index_list = worker.get_alive_row_index_list(schedule_datetime_list)\n",
    "\n",
    "for available_row_index in available_row_index_list:\n",
    "    row_value = worker.get_row_values(available_row_index)\n",
    "    status = row_value[13]\n",
    "    if '批准' in status:\n",
    "        worker.handle_scheduler_by_row_value(row_value)"
   ]
  },
  {
   "cell_type": "code",
   "execution_count": 179,
   "id": "8940bc59",
   "metadata": {},
   "outputs": [
    {
     "name": "stdout",
     "output_type": "stream",
     "text": [
      "1\n"
     ]
    },
    {
     "data": {
      "text/plain": [
       "'Fms2ZdnfAf2us7knLNEdfTpb0ABbLHhnDcRbmzz3DQC'"
      ]
     },
     "execution_count": 179,
     "metadata": {},
     "output_type": "execute_result"
    }
   ],
   "source": []
  },
  {
   "cell_type": "raw",
   "id": "9d6d7227",
   "metadata": {},
   "source": [
    "timedelta(days=1).seconds\n"
   ]
  },
  {
   "cell_type": "code",
   "execution_count": 264,
   "id": "b60f6e2a",
   "metadata": {},
   "outputs": [
    {
     "data": {
      "text/plain": [
       "3"
      ]
     },
     "execution_count": 264,
     "metadata": {},
     "output_type": "execute_result"
    }
   ],
   "source": [
    "now = datetime.now()\n",
    "\n",
    "d = date(2022, 6, 26)\n",
    "t = time(3, 00)\n",
    "dt = datetime.combine(d, t)\n",
    "\n",
    "round((dt - now).seconds/3600)"
   ]
  },
  {
   "cell_type": "code",
   "execution_count": 228,
   "id": "c0904159",
   "metadata": {},
   "outputs": [
    {
     "name": "stdout",
     "output_type": "stream",
     "text": [
      "Hi Erin Chen， \n",
      "這裡是 Dream More 小幫手 \n",
      "預約上課提醒，建議設定鬧鈴及行事曆 \n",
      "\n",
      "課堂： 就學經驗談（系所諮詢、系所出路、轉系/轉校心路歷程、留學/交換經驗、研究所申請經驗） \n",
      "時間： 2022 年 6 月 27 日 pm 9:00 \n",
      "需求：  \n",
      "Mentor: Erin Chen \n",
      "Mentee: Young Tsai \n",
      "\n"
     ]
    }
   ],
   "source": [
    "msg = f\"Hi {name}， \\n\"\n",
    "msg += \"這裡是 Dream More 小幫手 \\n\"\n",
    "msg += \"預約上課提醒，建議設定鬧鈴及行事曆 \\n\"\n",
    "msg += \"\\n\"\n",
    "msg += f\"課堂： {service} \\n\"\n",
    "msg += f\"時間： {start_time} \\n\"\n",
    "msg += f\"需求： {request_content} \\n\"\n",
    "msg += f\"Mentor: {employee_name} \\n\"\n",
    "msg += f\"Mentee: {customer_name} \\n\"\n",
    "\n",
    "print(msg)"
   ]
  },
  {
   "cell_type": "code",
   "execution_count": null,
   "id": "166951d8",
   "metadata": {},
   "outputs": [],
   "source": []
  }
 ],
 "metadata": {
  "kernelspec": {
   "display_name": "Python 3 (ipykernel)",
   "language": "python",
   "name": "python3"
  },
  "language_info": {
   "codemirror_mode": {
    "name": "ipython",
    "version": 3
   },
   "file_extension": ".py",
   "mimetype": "text/x-python",
   "name": "python",
   "nbconvert_exporter": "python",
   "pygments_lexer": "ipython3",
   "version": "3.8.9"
  }
 },
 "nbformat": 4,
 "nbformat_minor": 5
}
